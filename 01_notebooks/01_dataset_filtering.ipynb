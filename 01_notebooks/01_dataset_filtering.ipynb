{
 "cells": [
  {
   "cell_type": "markdown",
   "id": "143f154d-fd22-4c92-9a38-4f21bbf2de8a",
   "metadata": {
    "editable": true,
    "slideshow": {
     "slide_type": ""
    },
    "tags": []
   },
   "source": [
    "# BECP: data filtering\n",
    "### *by Jose Correa*"
   ]
  },
  {
   "cell_type": "markdown",
   "id": "a650b58a-e5d4-48e3-aedc-cdbd9d8321f1",
   "metadata": {},
   "source": [
    "<a id='data-intro'></a>"
   ]
  },
  {
   "cell_type": "markdown",
   "id": "82c50ceb-c095-4b44-a724-9a912a3bfe9d",
   "metadata": {},
   "source": [
    "# Introduction\n",
    "\n",
    "This notebook initiates the transformation and structuring of data from its raw form into a preferred format, aiming to enhance data quality and usability for analytics or machine learning purposes. It encompasses tasks such as data loading, cleansing and merging of CSV files.\n",
    "\n",
    "**Analysis steps**\n",
    "\n",
    "We'll use Python in the Jupyter notebook, along with libraries like pandas and numpy for managing data, and matplotlib and seaborn for creating visuals. The main steps are as follows:\n",
    "1. Analyze each CSV, convert them into dataframes, and merging them one at a time until all three CSV files are consolidated into one dataframe.\n",
    "2. \n",
    "Examine the primary use of each building and assess the data distribution to determine the suitable optionsto continue in the capstone  analysis."
   ]
  },
  {
   "cell_type": "markdown",
   "id": "d43f4505-c108-4381-8d36-edbe953bf12b",
   "metadata": {},
   "source": [
    "<a id='toc'></a>"
   ]
  },
  {
   "cell_type": "markdown",
   "id": "b952f9f6-47f0-4748-94dd-8db9bbb6519f",
   "metadata": {},
   "source": [
    "# Table of Contents\n",
    "\n",
    "[Introduction](#data-intro)\\\n",
    "[Data dictionary](#data-d)\n",
    "1. [Basic Data Wrangling](#bdw-0)\n",
    "    1. [Files merging](#bdw-1)\n",
    "    2. [Subset](#bdw-2)"
   ]
  },
  {
   "cell_type": "markdown",
   "id": "f0b197b2-8686-4faa-818b-fe9216203ab3",
   "metadata": {},
   "source": [
    "<a id='data-d'></a>"
   ]
  },
  {
   "cell_type": "markdown",
   "id": "4a8b9503-0013-4dab-b239-95b7deb11cca",
   "metadata": {
    "tags": []
   },
   "source": [
    "# Data dictionary"
   ]
  },
  {
   "cell_type": "markdown",
   "id": "b6ef1acd-1d7b-416b-885f-b0cb58b73bb3",
   "metadata": {},
   "source": [
    "- `building_id`, foreign key for the building metadata.\r",
    "- `meter`, the  meter id code. Read as {0: electricity, 1: chilled water, 2: steam, 3: hot water}.  Not every building has all meter types.\n",
    "- `meter_timestamp`, when the measurement was taken. Same as `weather_timestamp`.\n",
    "- `meter_reading`, the target variable. Energy consumption in kWh (or equivalent).\n",
    "- `site_id`, foreign key for the weather files.\n",
    "- `primary_use`, indicator of the primary category of activities for the building.\n",
    "- `square_feet`, gross floor area of the building in ft2.\n",
    "- `year_built`, year building was opened.\n",
    "- `floor_count`, number of floors of the building.\n",
    "- `weather_timestamp`, when the measurement was taken. Same as `meter_timestamp`.\n",
    "- `air_temperature`, degrees celsius.\n",
    "- `cloud_coverage`, portion of the sky covered in clouds, in oktas.\n",
    "- `dew_temperature`, degrees celsius.\n",
    "- `precip_depth_1_hr`, millimeters.\n",
    "- `sea_level_pressure`, millibar/hectopascals.\n",
    "- `wind_direction`, compass direction (0-360).\n",
    "- `wind_speed`, meters/second (m/s).\n"
   ]
  },
  {
   "cell_type": "markdown",
   "id": "3f2b2a56-0549-4042-8475-299864569d22",
   "metadata": {},
   "source": [
    "<a id='bdw-0'></a>"
   ]
  },
  {
   "cell_type": "markdown",
   "id": "31ea95b2-2b42-4999-94dd-710bc0b1fd5e",
   "metadata": {},
   "source": [
    "[back to TOC](#toc)"
   ]
  },
  {
   "cell_type": "markdown",
   "id": "3b4dab8f-beea-4fda-9c1b-fe3efe4637bb",
   "metadata": {
    "tags": []
   },
   "source": [
    "# 1. Basic Data Wrangling"
   ]
  },
  {
   "cell_type": "markdown",
   "id": "fab5d51c-e224-427e-a589-80f5f6a75306",
   "metadata": {},
   "source": [
    "We will start by importing the basic python packages and then start merging the CSV files."
   ]
  },
  {
   "cell_type": "code",
   "execution_count": 1,
   "id": "308c0c50-2190-4bb2-ba68-99540075007b",
   "metadata": {
    "tags": []
   },
   "outputs": [],
   "source": [
    "# Import Python packages\n",
    "import pandas as pd\n",
    "import numpy as np\n",
    "\n",
    "import matplotlib.pyplot as plt\n",
    "import seaborn as sns\n",
    "\n",
    "# Setting figure size\n",
    "plt.rcParams['figure.figsize']=(8.0,6.0)"
   ]
  },
  {
   "cell_type": "markdown",
   "id": "ce5e7d1b-9b1f-4016-beb4-22a530ed3928",
   "metadata": {},
   "source": [
    "<a id='bdw-1'></a>"
   ]
  },
  {
   "cell_type": "markdown",
   "id": "435b6b75-4ae0-4a95-812b-f0ae13df049f",
   "metadata": {},
   "source": [
    "## 1.1. Files merging\n",
    "Merging CSV files into a single dataset offers numerous benefits. It consolidates diverse sources, providing a comprehensive pool of information for analysis. This unified dataset streamlines processing and analysis, fostering better insights into trends and correlations while improving overall data accuracy. Having all relevant data in one place simplifies decision-making, supporting more informed and comprehensive strategies.\n",
    "\n",
    "The **files merge is DONE LOCALLY**, as the raw files are too large for uploading to GitHub. We'll begin by merging the 'train.csv' and 'building_metadata.csv'."
   ]
  },
  {
   "cell_type": "markdown",
   "id": "9bbe5a74-6a07-46a2-ac73-861ae830cc1e",
   "metadata": {},
   "source": [
    "### 1.1.1. 'train' file analysis\n",
    "\n",
    "This CSV file contains data associated with the time when a meter reading was recorded for a specific meter type within a given building We will start by loading it and familiarizing with its content. ."
   ]
  },
  {
   "cell_type": "code",
   "execution_count": 2,
   "id": "03d2309b-004b-4a43-89a3-5043f44e185e",
   "metadata": {
    "scrolled": true,
    "tags": []
   },
   "outputs": [
    {
     "data": {
      "text/html": [
       "<div>\n",
       "<style scoped>\n",
       "    .dataframe tbody tr th:only-of-type {\n",
       "        vertical-align: middle;\n",
       "    }\n",
       "\n",
       "    .dataframe tbody tr th {\n",
       "        vertical-align: top;\n",
       "    }\n",
       "\n",
       "    .dataframe thead th {\n",
       "        text-align: right;\n",
       "    }\n",
       "</style>\n",
       "<table border=\"1\" class=\"dataframe\">\n",
       "  <thead>\n",
       "    <tr style=\"text-align: right;\">\n",
       "      <th></th>\n",
       "      <th>building_id</th>\n",
       "      <th>meter</th>\n",
       "      <th>timestamp</th>\n",
       "      <th>meter_reading</th>\n",
       "    </tr>\n",
       "  </thead>\n",
       "  <tbody>\n",
       "    <tr>\n",
       "      <th>0</th>\n",
       "      <td>0</td>\n",
       "      <td>0</td>\n",
       "      <td>2016-01-01 00:00:00</td>\n",
       "      <td>0.0</td>\n",
       "    </tr>\n",
       "    <tr>\n",
       "      <th>1</th>\n",
       "      <td>1</td>\n",
       "      <td>0</td>\n",
       "      <td>2016-01-01 00:00:00</td>\n",
       "      <td>0.0</td>\n",
       "    </tr>\n",
       "    <tr>\n",
       "      <th>2</th>\n",
       "      <td>2</td>\n",
       "      <td>0</td>\n",
       "      <td>2016-01-01 00:00:00</td>\n",
       "      <td>0.0</td>\n",
       "    </tr>\n",
       "  </tbody>\n",
       "</table>\n",
       "</div>"
      ],
      "text/plain": [
       "   building_id  meter            timestamp  meter_reading\n",
       "0            0      0  2016-01-01 00:00:00            0.0\n",
       "1            1      0  2016-01-01 00:00:00            0.0\n",
       "2            2      0  2016-01-01 00:00:00            0.0"
      ]
     },
     "metadata": {},
     "output_type": "display_data"
    }
   ],
   "source": [
    "# Data loading, the CSV file is coma (,) separated. \n",
    "# The index is auto generated, since the 'building_id' column doesn't have unique values\n",
    "train_df = pd.read_csv('data/train.csv', sep = ',')\n",
    "display (train_df.head(3))"
   ]
  },
  {
   "cell_type": "code",
   "execution_count": 3,
   "id": "3453f4c4-ffbc-4992-b7be-9ffd64b694a8",
   "metadata": {},
   "outputs": [
    {
     "name": "stdout",
     "output_type": "stream",
     "text": [
      "<class 'pandas.core.frame.DataFrame'>\n",
      "RangeIndex: 20216100 entries, 0 to 20216099\n",
      "Data columns (total 4 columns):\n",
      " #   Column         Dtype  \n",
      "---  ------         -----  \n",
      " 0   building_id    int64  \n",
      " 1   meter          int64  \n",
      " 2   timestamp      object \n",
      " 3   meter_reading  float64\n",
      "dtypes: float64(1), int64(2), object(1)\n",
      "memory usage: 616.9+ MB\n"
     ]
    }
   ],
   "source": [
    "# General info\n",
    "train_df.info()"
   ]
  },
  {
   "cell_type": "markdown",
   "id": "1b3ab1bb-fc6a-4d1c-a8bd-ca81e6bfd556",
   "metadata": {},
   "source": [
    "### 1.1.2. 'building_meta' file analysis\n",
    "This file contains information about the building's characteristics and its primary usage. We will analyze it to understand its data. "
   ]
  },
  {
   "cell_type": "code",
   "execution_count": 4,
   "id": "313ddb9a-b9fb-46cd-8cd7-b9ff21cb7c10",
   "metadata": {},
   "outputs": [
    {
     "data": {
      "text/html": [
       "<div>\n",
       "<style scoped>\n",
       "    .dataframe tbody tr th:only-of-type {\n",
       "        vertical-align: middle;\n",
       "    }\n",
       "\n",
       "    .dataframe tbody tr th {\n",
       "        vertical-align: top;\n",
       "    }\n",
       "\n",
       "    .dataframe thead th {\n",
       "        text-align: right;\n",
       "    }\n",
       "</style>\n",
       "<table border=\"1\" class=\"dataframe\">\n",
       "  <thead>\n",
       "    <tr style=\"text-align: right;\">\n",
       "      <th></th>\n",
       "      <th>site_id</th>\n",
       "      <th>building_id</th>\n",
       "      <th>primary_use</th>\n",
       "      <th>square_feet</th>\n",
       "      <th>year_built</th>\n",
       "      <th>floor_count</th>\n",
       "    </tr>\n",
       "  </thead>\n",
       "  <tbody>\n",
       "    <tr>\n",
       "      <th>0</th>\n",
       "      <td>0</td>\n",
       "      <td>0</td>\n",
       "      <td>Education</td>\n",
       "      <td>7432</td>\n",
       "      <td>2008.0</td>\n",
       "      <td>NaN</td>\n",
       "    </tr>\n",
       "    <tr>\n",
       "      <th>1</th>\n",
       "      <td>0</td>\n",
       "      <td>1</td>\n",
       "      <td>Education</td>\n",
       "      <td>2720</td>\n",
       "      <td>2004.0</td>\n",
       "      <td>NaN</td>\n",
       "    </tr>\n",
       "    <tr>\n",
       "      <th>2</th>\n",
       "      <td>0</td>\n",
       "      <td>2</td>\n",
       "      <td>Education</td>\n",
       "      <td>5376</td>\n",
       "      <td>1991.0</td>\n",
       "      <td>NaN</td>\n",
       "    </tr>\n",
       "  </tbody>\n",
       "</table>\n",
       "</div>"
      ],
      "text/plain": [
       "   site_id  building_id primary_use  square_feet  year_built  floor_count\n",
       "0        0            0   Education         7432      2008.0          NaN\n",
       "1        0            1   Education         2720      2004.0          NaN\n",
       "2        0            2   Education         5376      1991.0          NaN"
      ]
     },
     "metadata": {},
     "output_type": "display_data"
    }
   ],
   "source": [
    "# Data loading, the CSV file is coma (,) separated. \n",
    "# The index is auto generated, since the 'building_id' column doesn't have unique values\n",
    "building_df = pd.read_csv('data/building_metadata.csv', sep = ',')\n",
    "display (building_df.head(3))"
   ]
  },
  {
   "cell_type": "code",
   "execution_count": 5,
   "id": "8f14cf25-d8ec-4925-91a6-dd95be4f1e34",
   "metadata": {},
   "outputs": [
    {
     "name": "stdout",
     "output_type": "stream",
     "text": [
      "<class 'pandas.core.frame.DataFrame'>\n",
      "RangeIndex: 1449 entries, 0 to 1448\n",
      "Data columns (total 6 columns):\n",
      " #   Column       Non-Null Count  Dtype  \n",
      "---  ------       --------------  -----  \n",
      " 0   site_id      1449 non-null   int64  \n",
      " 1   building_id  1449 non-null   int64  \n",
      " 2   primary_use  1449 non-null   object \n",
      " 3   square_feet  1449 non-null   int64  \n",
      " 4   year_built   675 non-null    float64\n",
      " 5   floor_count  355 non-null    float64\n",
      "dtypes: float64(2), int64(3), object(1)\n",
      "memory usage: 68.1+ KB\n"
     ]
    }
   ],
   "source": [
    "# General info\n",
    "building_df.info()"
   ]
  },
  {
   "cell_type": "markdown",
   "id": "62e2aece-ff59-4d65-a9a3-0ab0fd7f9f80",
   "metadata": {},
   "source": [
    "### 1.1.3. Merging 'train_df' and 'building_df'\n",
    "Now that the two CSV files are converted into dataframes, we'll perform a left merge to ensure retention of all the meter readings."
   ]
  },
  {
   "cell_type": "code",
   "execution_count": 6,
   "id": "c0ebaeae-5b0b-437e-ba7d-cf95d163ee9d",
   "metadata": {},
   "outputs": [
    {
     "data": {
      "text/html": [
       "<div>\n",
       "<style scoped>\n",
       "    .dataframe tbody tr th:only-of-type {\n",
       "        vertical-align: middle;\n",
       "    }\n",
       "\n",
       "    .dataframe tbody tr th {\n",
       "        vertical-align: top;\n",
       "    }\n",
       "\n",
       "    .dataframe thead th {\n",
       "        text-align: right;\n",
       "    }\n",
       "</style>\n",
       "<table border=\"1\" class=\"dataframe\">\n",
       "  <thead>\n",
       "    <tr style=\"text-align: right;\">\n",
       "      <th></th>\n",
       "      <th>building_id</th>\n",
       "      <th>meter</th>\n",
       "      <th>timestamp</th>\n",
       "      <th>meter_reading</th>\n",
       "      <th>site_id</th>\n",
       "      <th>primary_use</th>\n",
       "      <th>square_feet</th>\n",
       "      <th>year_built</th>\n",
       "      <th>floor_count</th>\n",
       "    </tr>\n",
       "  </thead>\n",
       "  <tbody>\n",
       "    <tr>\n",
       "      <th>12927674</th>\n",
       "      <td>1055</td>\n",
       "      <td>0</td>\n",
       "      <td>2016-12-13 03:00:00</td>\n",
       "      <td>32.415</td>\n",
       "      <td>12</td>\n",
       "      <td>Education</td>\n",
       "      <td>86714</td>\n",
       "      <td>NaN</td>\n",
       "      <td>4.0</td>\n",
       "    </tr>\n",
       "    <tr>\n",
       "      <th>8605579</th>\n",
       "      <td>787</td>\n",
       "      <td>2</td>\n",
       "      <td>2016-10-12 22:00:00</td>\n",
       "      <td>1075.900</td>\n",
       "      <td>6</td>\n",
       "      <td>Lodging/residential</td>\n",
       "      <td>278795</td>\n",
       "      <td>NaN</td>\n",
       "      <td>NaN</td>\n",
       "    </tr>\n",
       "    <tr>\n",
       "      <th>17928382</th>\n",
       "      <td>1309</td>\n",
       "      <td>0</td>\n",
       "      <td>2016-10-06 22:00:00</td>\n",
       "      <td>65.880</td>\n",
       "      <td>14</td>\n",
       "      <td>Lodging/residential</td>\n",
       "      <td>58041</td>\n",
       "      <td>NaN</td>\n",
       "      <td>NaN</td>\n",
       "    </tr>\n",
       "  </tbody>\n",
       "</table>\n",
       "</div>"
      ],
      "text/plain": [
       "          building_id  meter            timestamp  meter_reading  site_id  \\\n",
       "12927674         1055      0  2016-12-13 03:00:00         32.415       12   \n",
       "8605579           787      2  2016-10-12 22:00:00       1075.900        6   \n",
       "17928382         1309      0  2016-10-06 22:00:00         65.880       14   \n",
       "\n",
       "                  primary_use  square_feet  year_built  floor_count  \n",
       "12927674            Education        86714         NaN          4.0  \n",
       "8605579   Lodging/residential       278795         NaN          NaN  \n",
       "17928382  Lodging/residential        58041         NaN          NaN  "
      ]
     },
     "execution_count": 6,
     "metadata": {},
     "output_type": "execute_result"
    }
   ],
   "source": [
    "# Inner merge of the dataframes 'train_df' and 'building_df' on 'building_id'\n",
    "train_building_df = train_df.merge(building_df, on='building_id', how='inner')\n",
    "train_building_df.sample(3)"
   ]
  },
  {
   "cell_type": "code",
   "execution_count": 7,
   "id": "673faa40-3a07-4074-b98f-749d42f30b86",
   "metadata": {},
   "outputs": [
    {
     "name": "stdout",
     "output_type": "stream",
     "text": [
      "<class 'pandas.core.frame.DataFrame'>\n",
      "RangeIndex: 20216100 entries, 0 to 20216099\n",
      "Data columns (total 9 columns):\n",
      " #   Column         Dtype  \n",
      "---  ------         -----  \n",
      " 0   building_id    int64  \n",
      " 1   meter          int64  \n",
      " 2   timestamp      object \n",
      " 3   meter_reading  float64\n",
      " 4   site_id        int64  \n",
      " 5   primary_use    object \n",
      " 6   square_feet    int64  \n",
      " 7   year_built     float64\n",
      " 8   floor_count    float64\n",
      "dtypes: float64(3), int64(4), object(2)\n",
      "memory usage: 1.4+ GB\n"
     ]
    }
   ],
   "source": [
    "# Review merged dataframe\n",
    "train_building_df.info()"
   ]
  },
  {
   "cell_type": "markdown",
   "id": "00133fed-ef45-438e-a0cb-eaecf6f445f4",
   "metadata": {},
   "source": [
    "### 1.1.4. 'Weather_train' file analysis\n",
    "\n",
    "This is the third and final CSV file to analyze, containing the weather data corresponding to each energy meter reading taken."
   ]
  },
  {
   "cell_type": "code",
   "execution_count": 8,
   "id": "f88cfe34-7c00-4582-a3ed-f0cace88e64e",
   "metadata": {},
   "outputs": [
    {
     "data": {
      "text/html": [
       "<div>\n",
       "<style scoped>\n",
       "    .dataframe tbody tr th:only-of-type {\n",
       "        vertical-align: middle;\n",
       "    }\n",
       "\n",
       "    .dataframe tbody tr th {\n",
       "        vertical-align: top;\n",
       "    }\n",
       "\n",
       "    .dataframe thead th {\n",
       "        text-align: right;\n",
       "    }\n",
       "</style>\n",
       "<table border=\"1\" class=\"dataframe\">\n",
       "  <thead>\n",
       "    <tr style=\"text-align: right;\">\n",
       "      <th></th>\n",
       "      <th>site_id</th>\n",
       "      <th>timestamp</th>\n",
       "      <th>air_temperature</th>\n",
       "      <th>cloud_coverage</th>\n",
       "      <th>dew_temperature</th>\n",
       "      <th>precip_depth_1_hr</th>\n",
       "      <th>sea_level_pressure</th>\n",
       "      <th>wind_direction</th>\n",
       "      <th>wind_speed</th>\n",
       "    </tr>\n",
       "  </thead>\n",
       "  <tbody>\n",
       "    <tr>\n",
       "      <th>137878</th>\n",
       "      <td>15</td>\n",
       "      <td>2016-10-12 19:00:00</td>\n",
       "      <td>20.6</td>\n",
       "      <td>0.0</td>\n",
       "      <td>9.4</td>\n",
       "      <td>NaN</td>\n",
       "      <td>NaN</td>\n",
       "      <td>160.0</td>\n",
       "      <td>6.7</td>\n",
       "    </tr>\n",
       "    <tr>\n",
       "      <th>106711</th>\n",
       "      <td>12</td>\n",
       "      <td>2016-03-12 13:00:00</td>\n",
       "      <td>13.2</td>\n",
       "      <td>7.0</td>\n",
       "      <td>5.1</td>\n",
       "      <td>NaN</td>\n",
       "      <td>1027.3</td>\n",
       "      <td>220.0</td>\n",
       "      <td>7.0</td>\n",
       "    </tr>\n",
       "    <tr>\n",
       "      <th>18217</th>\n",
       "      <td>2</td>\n",
       "      <td>2016-01-28 22:00:00</td>\n",
       "      <td>20.6</td>\n",
       "      <td>NaN</td>\n",
       "      <td>-7.2</td>\n",
       "      <td>0.0</td>\n",
       "      <td>1017.9</td>\n",
       "      <td>0.0</td>\n",
       "      <td>0.0</td>\n",
       "    </tr>\n",
       "  </tbody>\n",
       "</table>\n",
       "</div>"
      ],
      "text/plain": [
       "        site_id            timestamp  air_temperature  cloud_coverage  \\\n",
       "137878       15  2016-10-12 19:00:00             20.6             0.0   \n",
       "106711       12  2016-03-12 13:00:00             13.2             7.0   \n",
       "18217         2  2016-01-28 22:00:00             20.6             NaN   \n",
       "\n",
       "        dew_temperature  precip_depth_1_hr  sea_level_pressure  \\\n",
       "137878              9.4                NaN                 NaN   \n",
       "106711              5.1                NaN              1027.3   \n",
       "18217              -7.2                0.0              1017.9   \n",
       "\n",
       "        wind_direction  wind_speed  \n",
       "137878           160.0         6.7  \n",
       "106711           220.0         7.0  \n",
       "18217              0.0         0.0  "
      ]
     },
     "execution_count": 8,
     "metadata": {},
     "output_type": "execute_result"
    }
   ],
   "source": [
    "# Data loading, the CSV file is coma (,) separated. \n",
    "# The index is auto generated, since the 'site_id' column doesn't have unique values\n",
    "weather_train_df = pd.read_csv('data/weather_train.csv', sep = ',')\n",
    "weather_train_df.sample(3)"
   ]
  },
  {
   "cell_type": "code",
   "execution_count": 9,
   "id": "bfac1662-489d-43d4-830a-c4c7b1aee7b7",
   "metadata": {},
   "outputs": [
    {
     "name": "stdout",
     "output_type": "stream",
     "text": [
      "<class 'pandas.core.frame.DataFrame'>\n",
      "RangeIndex: 139773 entries, 0 to 139772\n",
      "Data columns (total 9 columns):\n",
      " #   Column              Non-Null Count   Dtype  \n",
      "---  ------              --------------   -----  \n",
      " 0   site_id             139773 non-null  int64  \n",
      " 1   timestamp           139773 non-null  object \n",
      " 2   air_temperature     139718 non-null  float64\n",
      " 3   cloud_coverage      70600 non-null   float64\n",
      " 4   dew_temperature     139660 non-null  float64\n",
      " 5   precip_depth_1_hr   89484 non-null   float64\n",
      " 6   sea_level_pressure  129155 non-null  float64\n",
      " 7   wind_direction      133505 non-null  float64\n",
      " 8   wind_speed          139469 non-null  float64\n",
      "dtypes: float64(7), int64(1), object(1)\n",
      "memory usage: 9.6+ MB\n"
     ]
    }
   ],
   "source": [
    "# General info\n",
    "weather_train_df.info()"
   ]
  },
  {
   "cell_type": "markdown",
   "id": "b573ca7e-bc48-4ab4-8677-1d7e5d906887",
   "metadata": {},
   "source": [
    "### 1.1.5. Rename `timestamp` column header \n",
    "For clarity, let's rename the `timestamp` column for each dataframe."
   ]
  },
  {
   "cell_type": "code",
   "execution_count": 10,
   "id": "515daa56-bdba-476c-8c1c-9682d5900d07",
   "metadata": {},
   "outputs": [],
   "source": [
    "# Rename the 'timestamp' column to 'meter_timestamp' to avoid ambiguity\n",
    "train_building_df.rename(columns={'timestamp': 'meter_timestamp'}, inplace=True)"
   ]
  },
  {
   "cell_type": "code",
   "execution_count": 11,
   "id": "9688cbc9-8c02-42ef-9f6e-23c25d1c7921",
   "metadata": {},
   "outputs": [
    {
     "data": {
      "text/html": [
       "<div>\n",
       "<style scoped>\n",
       "    .dataframe tbody tr th:only-of-type {\n",
       "        vertical-align: middle;\n",
       "    }\n",
       "\n",
       "    .dataframe tbody tr th {\n",
       "        vertical-align: top;\n",
       "    }\n",
       "\n",
       "    .dataframe thead th {\n",
       "        text-align: right;\n",
       "    }\n",
       "</style>\n",
       "<table border=\"1\" class=\"dataframe\">\n",
       "  <thead>\n",
       "    <tr style=\"text-align: right;\">\n",
       "      <th></th>\n",
       "      <th>building_id</th>\n",
       "      <th>meter</th>\n",
       "      <th>meter_timestamp</th>\n",
       "      <th>meter_reading</th>\n",
       "      <th>site_id</th>\n",
       "      <th>primary_use</th>\n",
       "      <th>square_feet</th>\n",
       "      <th>year_built</th>\n",
       "      <th>floor_count</th>\n",
       "    </tr>\n",
       "  </thead>\n",
       "  <tbody>\n",
       "    <tr>\n",
       "      <th>0</th>\n",
       "      <td>0</td>\n",
       "      <td>0</td>\n",
       "      <td>2016-01-01 00:00:00</td>\n",
       "      <td>0.0</td>\n",
       "      <td>0</td>\n",
       "      <td>Education</td>\n",
       "      <td>7432</td>\n",
       "      <td>2008.0</td>\n",
       "      <td>NaN</td>\n",
       "    </tr>\n",
       "    <tr>\n",
       "      <th>1</th>\n",
       "      <td>0</td>\n",
       "      <td>0</td>\n",
       "      <td>2016-01-01 01:00:00</td>\n",
       "      <td>0.0</td>\n",
       "      <td>0</td>\n",
       "      <td>Education</td>\n",
       "      <td>7432</td>\n",
       "      <td>2008.0</td>\n",
       "      <td>NaN</td>\n",
       "    </tr>\n",
       "    <tr>\n",
       "      <th>2</th>\n",
       "      <td>0</td>\n",
       "      <td>0</td>\n",
       "      <td>2016-01-01 02:00:00</td>\n",
       "      <td>0.0</td>\n",
       "      <td>0</td>\n",
       "      <td>Education</td>\n",
       "      <td>7432</td>\n",
       "      <td>2008.0</td>\n",
       "      <td>NaN</td>\n",
       "    </tr>\n",
       "  </tbody>\n",
       "</table>\n",
       "</div>"
      ],
      "text/plain": [
       "   building_id  meter      meter_timestamp  meter_reading  site_id  \\\n",
       "0            0      0  2016-01-01 00:00:00            0.0        0   \n",
       "1            0      0  2016-01-01 01:00:00            0.0        0   \n",
       "2            0      0  2016-01-01 02:00:00            0.0        0   \n",
       "\n",
       "  primary_use  square_feet  year_built  floor_count  \n",
       "0   Education         7432      2008.0          NaN  \n",
       "1   Education         7432      2008.0          NaN  \n",
       "2   Education         7432      2008.0          NaN  "
      ]
     },
     "execution_count": 11,
     "metadata": {},
     "output_type": "execute_result"
    }
   ],
   "source": [
    "# Verify renaming\n",
    "train_building_df.head(3)"
   ]
  },
  {
   "cell_type": "code",
   "execution_count": 12,
   "id": "d41de545-f25b-412a-a1c8-8563eeb3e7e3",
   "metadata": {},
   "outputs": [],
   "source": [
    "# For 'weather_train_df' rename the `timestamp` column to `weather_timestamp`\n",
    "weather_train_df.rename(columns={'timestamp': 'weather_timestamp'}, inplace=True)"
   ]
  },
  {
   "cell_type": "code",
   "execution_count": 13,
   "id": "1f95cb2b-86e9-4d64-936f-3ec599f9cd89",
   "metadata": {},
   "outputs": [
    {
     "data": {
      "text/html": [
       "<div>\n",
       "<style scoped>\n",
       "    .dataframe tbody tr th:only-of-type {\n",
       "        vertical-align: middle;\n",
       "    }\n",
       "\n",
       "    .dataframe tbody tr th {\n",
       "        vertical-align: top;\n",
       "    }\n",
       "\n",
       "    .dataframe thead th {\n",
       "        text-align: right;\n",
       "    }\n",
       "</style>\n",
       "<table border=\"1\" class=\"dataframe\">\n",
       "  <thead>\n",
       "    <tr style=\"text-align: right;\">\n",
       "      <th></th>\n",
       "      <th>site_id</th>\n",
       "      <th>weather_timestamp</th>\n",
       "      <th>air_temperature</th>\n",
       "      <th>cloud_coverage</th>\n",
       "      <th>dew_temperature</th>\n",
       "      <th>precip_depth_1_hr</th>\n",
       "      <th>sea_level_pressure</th>\n",
       "      <th>wind_direction</th>\n",
       "      <th>wind_speed</th>\n",
       "    </tr>\n",
       "  </thead>\n",
       "  <tbody>\n",
       "    <tr>\n",
       "      <th>0</th>\n",
       "      <td>0</td>\n",
       "      <td>2016-01-01 00:00:00</td>\n",
       "      <td>25.0</td>\n",
       "      <td>6.0</td>\n",
       "      <td>20.0</td>\n",
       "      <td>NaN</td>\n",
       "      <td>1019.7</td>\n",
       "      <td>0.0</td>\n",
       "      <td>0.0</td>\n",
       "    </tr>\n",
       "    <tr>\n",
       "      <th>1</th>\n",
       "      <td>0</td>\n",
       "      <td>2016-01-01 01:00:00</td>\n",
       "      <td>24.4</td>\n",
       "      <td>NaN</td>\n",
       "      <td>21.1</td>\n",
       "      <td>-1.0</td>\n",
       "      <td>1020.2</td>\n",
       "      <td>70.0</td>\n",
       "      <td>1.5</td>\n",
       "    </tr>\n",
       "    <tr>\n",
       "      <th>2</th>\n",
       "      <td>0</td>\n",
       "      <td>2016-01-01 02:00:00</td>\n",
       "      <td>22.8</td>\n",
       "      <td>2.0</td>\n",
       "      <td>21.1</td>\n",
       "      <td>0.0</td>\n",
       "      <td>1020.2</td>\n",
       "      <td>0.0</td>\n",
       "      <td>0.0</td>\n",
       "    </tr>\n",
       "  </tbody>\n",
       "</table>\n",
       "</div>"
      ],
      "text/plain": [
       "   site_id    weather_timestamp  air_temperature  cloud_coverage  \\\n",
       "0        0  2016-01-01 00:00:00             25.0             6.0   \n",
       "1        0  2016-01-01 01:00:00             24.4             NaN   \n",
       "2        0  2016-01-01 02:00:00             22.8             2.0   \n",
       "\n",
       "   dew_temperature  precip_depth_1_hr  sea_level_pressure  wind_direction  \\\n",
       "0             20.0                NaN              1019.7             0.0   \n",
       "1             21.1               -1.0              1020.2            70.0   \n",
       "2             21.1                0.0              1020.2             0.0   \n",
       "\n",
       "   wind_speed  \n",
       "0         0.0  \n",
       "1         1.5  \n",
       "2         0.0  "
      ]
     },
     "execution_count": 13,
     "metadata": {},
     "output_type": "execute_result"
    }
   ],
   "source": [
    "# Verify renaming\n",
    "weather_train_df.head(3)"
   ]
  },
  {
   "cell_type": "markdown",
   "id": "e57a9289-f5fa-4fc5-b129-686c059ae186",
   "metadata": {},
   "source": [
    "### 1.1.6 Merge 'train_building_df' with 'weather_train.df'\n",
    "The final merge is also a left merge with the weather dataset, ensuring retention of all meter reading records."
   ]
  },
  {
   "cell_type": "code",
   "execution_count": 14,
   "id": "c0cf40e3-2428-4da5-ae41-c56fe600adfb",
   "metadata": {},
   "outputs": [],
   "source": [
    "# Merge the dataframe files on 'site_id' and 'meter_timestamp' equal to 'site_id' and 'weather_timestamp'. Left join to keep all 'train_building_df' records.\n",
    "merged_train_df = train_building_df.merge(weather_train_df, left_on=['site_id', 'meter_timestamp'], right_on=['site_id', 'weather_timestamp'], how='left')"
   ]
  },
  {
   "cell_type": "code",
   "execution_count": 15,
   "id": "84c1ecae-11c6-439a-9413-87ee5c63ee57",
   "metadata": {},
   "outputs": [
    {
     "data": {
      "text/html": [
       "<div>\n",
       "<style scoped>\n",
       "    .dataframe tbody tr th:only-of-type {\n",
       "        vertical-align: middle;\n",
       "    }\n",
       "\n",
       "    .dataframe tbody tr th {\n",
       "        vertical-align: top;\n",
       "    }\n",
       "\n",
       "    .dataframe thead th {\n",
       "        text-align: right;\n",
       "    }\n",
       "</style>\n",
       "<table border=\"1\" class=\"dataframe\">\n",
       "  <thead>\n",
       "    <tr style=\"text-align: right;\">\n",
       "      <th></th>\n",
       "      <th>building_id</th>\n",
       "      <th>meter</th>\n",
       "      <th>meter_timestamp</th>\n",
       "      <th>meter_reading</th>\n",
       "      <th>site_id</th>\n",
       "      <th>primary_use</th>\n",
       "      <th>square_feet</th>\n",
       "      <th>year_built</th>\n",
       "      <th>floor_count</th>\n",
       "      <th>weather_timestamp</th>\n",
       "      <th>air_temperature</th>\n",
       "      <th>cloud_coverage</th>\n",
       "      <th>dew_temperature</th>\n",
       "      <th>precip_depth_1_hr</th>\n",
       "      <th>sea_level_pressure</th>\n",
       "      <th>wind_direction</th>\n",
       "      <th>wind_speed</th>\n",
       "    </tr>\n",
       "  </thead>\n",
       "  <tbody>\n",
       "    <tr>\n",
       "      <th>8207001</th>\n",
       "      <td>760</td>\n",
       "      <td>0</td>\n",
       "      <td>2016-12-30 08:00:00</td>\n",
       "      <td>143.1</td>\n",
       "      <td>6</td>\n",
       "      <td>Office</td>\n",
       "      <td>49990</td>\n",
       "      <td>NaN</td>\n",
       "      <td>NaN</td>\n",
       "      <td>2016-12-30 08:00:00</td>\n",
       "      <td>3.9</td>\n",
       "      <td>0.0</td>\n",
       "      <td>-8.3</td>\n",
       "      <td>0.0</td>\n",
       "      <td>1008.7</td>\n",
       "      <td>280.0</td>\n",
       "      <td>3.6</td>\n",
       "    </tr>\n",
       "    <tr>\n",
       "      <th>19300620</th>\n",
       "      <td>1387</td>\n",
       "      <td>0</td>\n",
       "      <td>2016-07-25 10:00:00</td>\n",
       "      <td>211.4</td>\n",
       "      <td>15</td>\n",
       "      <td>Office</td>\n",
       "      <td>187041</td>\n",
       "      <td>1973.0</td>\n",
       "      <td>NaN</td>\n",
       "      <td>2016-07-25 10:00:00</td>\n",
       "      <td>17.8</td>\n",
       "      <td>0.0</td>\n",
       "      <td>15.6</td>\n",
       "      <td>NaN</td>\n",
       "      <td>1013.5</td>\n",
       "      <td>80.0</td>\n",
       "      <td>2.6</td>\n",
       "    </tr>\n",
       "    <tr>\n",
       "      <th>18719686</th>\n",
       "      <td>1351</td>\n",
       "      <td>0</td>\n",
       "      <td>2016-07-02 06:00:00</td>\n",
       "      <td>14.5</td>\n",
       "      <td>15</td>\n",
       "      <td>Office</td>\n",
       "      <td>40611</td>\n",
       "      <td>NaN</td>\n",
       "      <td>NaN</td>\n",
       "      <td>2016-07-02 06:00:00</td>\n",
       "      <td>14.4</td>\n",
       "      <td>NaN</td>\n",
       "      <td>12.2</td>\n",
       "      <td>NaN</td>\n",
       "      <td>1014.5</td>\n",
       "      <td>300.0</td>\n",
       "      <td>4.1</td>\n",
       "    </tr>\n",
       "  </tbody>\n",
       "</table>\n",
       "</div>"
      ],
      "text/plain": [
       "          building_id  meter      meter_timestamp  meter_reading  site_id  \\\n",
       "8207001           760      0  2016-12-30 08:00:00          143.1        6   \n",
       "19300620         1387      0  2016-07-25 10:00:00          211.4       15   \n",
       "18719686         1351      0  2016-07-02 06:00:00           14.5       15   \n",
       "\n",
       "         primary_use  square_feet  year_built  floor_count  \\\n",
       "8207001       Office        49990         NaN          NaN   \n",
       "19300620      Office       187041      1973.0          NaN   \n",
       "18719686      Office        40611         NaN          NaN   \n",
       "\n",
       "            weather_timestamp  air_temperature  cloud_coverage  \\\n",
       "8207001   2016-12-30 08:00:00              3.9             0.0   \n",
       "19300620  2016-07-25 10:00:00             17.8             0.0   \n",
       "18719686  2016-07-02 06:00:00             14.4             NaN   \n",
       "\n",
       "          dew_temperature  precip_depth_1_hr  sea_level_pressure  \\\n",
       "8207001              -8.3                0.0              1008.7   \n",
       "19300620             15.6                NaN              1013.5   \n",
       "18719686             12.2                NaN              1014.5   \n",
       "\n",
       "          wind_direction  wind_speed  \n",
       "8207001            280.0         3.6  \n",
       "19300620            80.0         2.6  \n",
       "18719686           300.0         4.1  "
      ]
     },
     "execution_count": 15,
     "metadata": {},
     "output_type": "execute_result"
    }
   ],
   "source": [
    "# Visualize new dataframe\n",
    "merged_train_df.sample(3)"
   ]
  },
  {
   "cell_type": "code",
   "execution_count": 16,
   "id": "ebbf5a74-85c4-46d5-8f8b-1d117f0531c9",
   "metadata": {},
   "outputs": [
    {
     "name": "stdout",
     "output_type": "stream",
     "text": [
      "<class 'pandas.core.frame.DataFrame'>\n",
      "RangeIndex: 20216100 entries, 0 to 20216099\n",
      "Data columns (total 17 columns):\n",
      " #   Column              Dtype  \n",
      "---  ------              -----  \n",
      " 0   building_id         int64  \n",
      " 1   meter               int64  \n",
      " 2   meter_timestamp     object \n",
      " 3   meter_reading       float64\n",
      " 4   site_id             int64  \n",
      " 5   primary_use         object \n",
      " 6   square_feet         int64  \n",
      " 7   year_built          float64\n",
      " 8   floor_count         float64\n",
      " 9   weather_timestamp   object \n",
      " 10  air_temperature     float64\n",
      " 11  cloud_coverage      float64\n",
      " 12  dew_temperature     float64\n",
      " 13  precip_depth_1_hr   float64\n",
      " 14  sea_level_pressure  float64\n",
      " 15  wind_direction      float64\n",
      " 16  wind_speed          float64\n",
      "dtypes: float64(10), int64(4), object(3)\n",
      "memory usage: 2.6+ GB\n"
     ]
    }
   ],
   "source": [
    "# Overview of the new dataframe\n",
    "merged_train_df.info()"
   ]
  },
  {
   "cell_type": "code",
   "execution_count": 17,
   "id": "fab1388b-2e73-48dc-88e5-e430e3499bcd",
   "metadata": {},
   "outputs": [
    {
     "data": {
      "text/plain": [
       "(20216100, 17)"
      ]
     },
     "execution_count": 17,
     "metadata": {},
     "output_type": "execute_result"
    }
   ],
   "source": [
    "# Shape\n",
    "merged_train_df.shape"
   ]
  },
  {
   "cell_type": "markdown",
   "id": "eabf2515-063c-475a-9a66-d772c63beb53",
   "metadata": {},
   "source": [
    "[back to TOC](#toc)"
   ]
  },
  {
   "cell_type": "markdown",
   "id": "ddbb7320-e877-49ce-a905-500b886a7dd8",
   "metadata": {},
   "source": [
    "<a id='bdw-2'></a>"
   ]
  },
  {
   "cell_type": "markdown",
   "id": "e7089d1d-0e3a-414c-acc8-31d397a1b6ca",
   "metadata": {},
   "source": [
    "## 1.2. Subset\n",
    "In this section, we'll be selecting a subset of approximately ~400k rows. This reduced size will ease data manipulation and processing time on the PC."
   ]
  },
  {
   "cell_type": "code",
   "execution_count": 23,
   "id": "a757188e-47e4-428b-ab42-69914d461461",
   "metadata": {},
   "outputs": [
    {
     "data": {
      "text/plain": [
       "primary_use\n",
       "Religious worship                  32361\n",
       "Utility                            56203\n",
       "Technology/science                 77627\n",
       "Services                           96519\n",
       "Warehouse/storage                 111861\n",
       "Retail                            112657\n",
       "Food sales and service            114090\n",
       "Manufacturing/industrial          125713\n",
       "Parking                           213796\n",
       "Other                             242222\n",
       "Healthcare                        398527\n",
       "Public services                  1662826\n",
       "Lodging/residential              2146413\n",
       "Entertainment/public assembly    2264917\n",
       "Office                           4394864\n",
       "Education                        8165504\n",
       "Name: primary_use, dtype: int64"
      ]
     },
     "execution_count": 23,
     "metadata": {},
     "output_type": "execute_result"
    }
   ],
   "source": [
    "# Main use buildings records count.\n",
    "# Count by unique values\n",
    "count_by_primary_use = merged_train_df.groupby(['primary_use'])['primary_use'].count()\n",
    "\n",
    "# Sort descending\n",
    "count_by_primary_use = count_by_primary_use.sort_values(ascending=True)\n",
    "count_by_primary_use"
   ]
  },
  {
   "cell_type": "code",
   "execution_count": 31,
   "id": "85c4dcde-a9bf-4d37-bb49-5267c33a3227",
   "metadata": {},
   "outputs": [
    {
     "data": {
      "image/png": "[encoded data removed]",
      "text/plain": [
       "<Figure size 800x600 with 1 Axes>"
      ]
     },
     "metadata": {},
     "output_type": "display_data"
    }
   ],
   "source": [
    "# Chart for 'primary_use'\n",
    "\n",
    "# Create horizontal bar\n",
    "plt.figure(figsize=(8,6))\n",
    "count_by_primary_use.plot(kind='barh', color='skyblue')\n",
    "\n",
    "plt.xlabel('Count')\n",
    "plt.ylabel('Primary Use')\n",
    "plt.title('Count by Primary Use building type')\n",
    "\n",
    "# Adding a dotted vertical line at count = 400000\n",
    "plt.axvline(x=400000, color='orange', linestyle='--')\n",
    "\n",
    "plt.show()"
   ]
  },
  {
   "cell_type": "markdown",
   "id": "4c252c26-aac9-46d9-aaf8-3b54530b81ec",
   "metadata": {},
   "source": [
    "***Insights***\n",
    "- This chart shows healthcare as a strong candidate, however lets analyse other primary use buliding with similar size."
   ]
  },
  {
   "cell_type": "markdown",
   "id": "d206e7b8-fbd2-4d4e-9658-e167b0027c52",
   "metadata": {},
   "source": [
    "### 1.2.1. Data distribution for `meter_reading` for each building type"
   ]
  },
  {
   "cell_type": "code",
   "execution_count": 42,
   "id": "bb5591f1-9870-46af-a4e8-98f5ccb44137",
   "metadata": {},
   "outputs": [
    {
     "data": {
      "text/plain": [
       "<Axes: xlabel='meter_reading', ylabel='Count'>"
      ]
     },
     "execution_count": 42,
     "metadata": {},
     "output_type": "execute_result"
    },
    {
     "data": {
      "image/png": "[encoded data removed]",
      "text/plain": [
       "<Figure size 400x300 with 1 Axes>"
      ]
     },
     "metadata": {},
     "output_type": "display_data"
    }
   ],
   "source": [
    "# Data distribution where 'primary_use' is 'Religious worship'\n",
    "education_data = merged_train_df[merged_train_df['primary_use'] == 'Religious worship']\n",
    "# Create histogram using Seaborn\n",
    "plt.figure(figsize=(4,3))\n",
    "sns.histplot(education_data['meter_reading'], bins=10, color='skyblue')"
   ]
  },
  {
   "cell_type": "code",
   "execution_count": 41,
   "id": "198a5f8a-fbf9-473e-b890-4f419ca26da7",
   "metadata": {},
   "outputs": [
    {
     "data": {
      "text/plain": [
       "<Axes: xlabel='meter_reading', ylabel='Count'>"
      ]
     },
     "execution_count": 41,
     "metadata": {},
     "output_type": "execute_result"
    },
    {
     "data": {
      "image/png": "[encoded data removed]",
      "text/plain": [
       "<Figure size 400x300 with 1 Axes>"
      ]
     },
     "metadata": {},
     "output_type": "display_data"
    }
   ],
   "source": [
    "# Data distribution where 'primary_use' is 'Food sales and service'\n",
    "education_data = merged_train_df[merged_train_df['primary_use'] == 'Food sales and service']\n",
    "# Create histogram using Seaborn\n",
    "plt.figure(figsize=(4,3))\n",
    "sns.histplot(education_data['meter_reading'], bins=10, color='skyblue')"
   ]
  },
  {
   "cell_type": "code",
   "execution_count": 40,
   "id": "d490f45b-17c3-42b2-b930-c299c2ea307e",
   "metadata": {},
   "outputs": [
    {
     "data": {
      "text/plain": [
       "<Axes: xlabel='meter_reading', ylabel='Count'>"
      ]
     },
     "execution_count": 40,
     "metadata": {},
     "output_type": "execute_result"
    },
    {
     "data": {
      "image/png": "[encoded data removed]",
      "text/plain": [
       "<Figure size 400x300 with 1 Axes>"
      ]
     },
     "metadata": {},
     "output_type": "display_data"
    }
   ],
   "source": [
    "# Data distribution where 'primary_use' is 'Warehouse/storage'\n",
    "education_data = merged_train_df[merged_train_df['primary_use'] == 'Warehouse/storage']\n",
    "# Create histogram using Seaborn\n",
    "plt.figure(figsize=(4,3))\n",
    "sns.histplot(education_data['meter_reading'], bins=10, color='skyblue')"
   ]
  },
  {
   "cell_type": "code",
   "execution_count": 37,
   "id": "a59d3524-b659-4397-89e4-908a21e73d37",
   "metadata": {},
   "outputs": [
    {
     "data": {
      "text/plain": [
       "<Axes: xlabel='meter_reading', ylabel='Count'>"
      ]
     },
     "execution_count": 37,
     "metadata": {},
     "output_type": "execute_result"
    },
    {
     "data": {
      "image/png": "[encoded data removed]",
      "text/plain": [
       "<Figure size 400x300 with 1 Axes>"
      ]
     },
     "metadata": {},
     "output_type": "display_data"
    }
   ],
   "source": [
    "# Data distribution where 'primary_use' is 'Retail'\n",
    "education_data = merged_train_df[merged_train_df['primary_use'] == 'Retail']\n",
    "# Create histogram using Seaborn\n",
    "plt.figure(figsize=(4,3))\n",
    "sns.histplot(education_data['meter_reading'], bins=10, color='skyblue')"
   ]
  },
  {
   "cell_type": "code",
   "execution_count": 43,
   "id": "ee2c3a48-03b1-4bc2-8c8e-634325fdc23e",
   "metadata": {},
   "outputs": [
    {
     "data": {
      "text/plain": [
       "<Axes: xlabel='meter_reading', ylabel='Count'>"
      ]
     },
     "execution_count": 43,
     "metadata": {},
     "output_type": "execute_result"
    },
    {
     "data": {
      "image/png": "[encoded data removed]",
      "text/plain": [
       "<Figure size 400x300 with 1 Axes>"
      ]
     },
     "metadata": {},
     "output_type": "display_data"
    }
   ],
   "source": [
    "# Data distribution where 'primary_use' is 'Healthcare'\n",
    "education_data = merged_train_df[merged_train_df['primary_use'] == 'Healthcare']\n",
    "# Create histogram using Seaborn\n",
    "plt.figure(figsize=(4,3))\n",
    "sns.histplot(education_data['meter_reading'], bins=10, color='skyblue')"
   ]
  },
  {
   "cell_type": "code",
   "execution_count": 39,
   "id": "b8025551-3682-4fa1-b0de-86de7f06d3b0",
   "metadata": {},
   "outputs": [
    {
     "data": {
      "text/plain": [
       "<Axes: xlabel='meter_reading', ylabel='Count'>"
      ]
     },
     "execution_count": 39,
     "metadata": {},
     "output_type": "execute_result"
    },
    {
     "data": {
      "image/png": "[encoded data removed]",
      "text/plain": [
       "<Figure size 400x300 with 1 Axes>"
      ]
     },
     "metadata": {},
     "output_type": "display_data"
    }
   ],
   "source": [
    "# Data distribution where 'primary_use' is 'Public services'\n",
    "education_data = merged_train_df[merged_train_df['primary_use'] == 'Public services']\n",
    "# Create histogram using Seaborn\n",
    "plt.figure(figsize=(4,3))\n",
    "sns.histplot(education_data['meter_reading'], bins=10, color='skyblue')"
   ]
  },
  {
   "cell_type": "code",
   "execution_count": 33,
   "id": "92faa1d5-bf04-4920-ab48-918bc8c4bbef",
   "metadata": {},
   "outputs": [
    {
     "data": {
      "text/plain": [
       "<Axes: xlabel='meter_reading', ylabel='Count'>"
      ]
     },
     "execution_count": 33,
     "metadata": {},
     "output_type": "execute_result"
    },
    {
     "data": {
      "image/png": "[encoded data removed]",
      "text/plain": [
       "<Figure size 400x300 with 1 Axes>"
      ]
     },
     "metadata": {},
     "output_type": "display_data"
    }
   ],
   "source": [
    "# Data distribution where 'primary_use' is 'Lodging/residential'\n",
    "education_data = merged_train_df[merged_train_df['primary_use'] == 'Lodging/residential']\n",
    "# Create histogram using Seaborn\n",
    "plt.figure(figsize=(4,3))\n",
    "sns.histplot(education_data['meter_reading'], bins=10, color='skyblue')"
   ]
  },
  {
   "cell_type": "code",
   "execution_count": 36,
   "id": "bf6ea9bd-3c2b-45ff-817b-2025215dcf3d",
   "metadata": {},
   "outputs": [
    {
     "data": {
      "text/plain": [
       "<Axes: xlabel='meter_reading', ylabel='Count'>"
      ]
     },
     "execution_count": 36,
     "metadata": {},
     "output_type": "execute_result"
    },
    {
     "data": {
      "image/png": "[encoded data removed]",
      "text/plain": [
       "<Figure size 400x300 with 1 Axes>"
      ]
     },
     "metadata": {},
     "output_type": "display_data"
    }
   ],
   "source": [
    "# Data distribution where 'primary_use' is 'Entertainment/public assembly'\n",
    "education_data = merged_train_df[merged_train_df['primary_use'] == 'Entertainment/public assembly']\n",
    "# Create histogram using Seaborn\n",
    "plt.figure(figsize=(4,3))\n",
    "sns.histplot(education_data['meter_reading'], bins=10, color='skyblue')"
   ]
  },
  {
   "cell_type": "code",
   "execution_count": 35,
   "id": "163af88d-1ae9-41a4-86e7-f39163ee0a83",
   "metadata": {},
   "outputs": [
    {
     "data": {
      "text/plain": [
       "<Axes: xlabel='meter_reading', ylabel='Count'>"
      ]
     },
     "execution_count": 35,
     "metadata": {},
     "output_type": "execute_result"
    },
    {
     "data": {
      "image/png": "[encoded data removed]",
      "text/plain": [
       "<Figure size 400x300 with 1 Axes>"
      ]
     },
     "metadata": {},
     "output_type": "display_data"
    }
   ],
   "source": [
    "# Data distribution where 'primary_use' is 'Office'\n",
    "education_data = merged_train_df[merged_train_df['primary_use'] == 'Office']\n",
    "# Create histogram using Seaborn\n",
    "plt.figure(figsize=(4,3))\n",
    "sns.histplot(education_data['meter_reading'], bins=10, color='skyblue')"
   ]
  },
  {
   "cell_type": "code",
   "execution_count": 34,
   "id": "c15928c9-4096-48be-a2ac-bdd25282f4f7",
   "metadata": {},
   "outputs": [
    {
     "data": {
      "text/plain": [
       "<Axes: xlabel='meter_reading', ylabel='Count'>"
      ]
     },
     "execution_count": 34,
     "metadata": {},
     "output_type": "execute_result"
    },
    {
     "data": {
      "image/png": "[encoded data removed]",
      "text/plain": [
       "<Figure size 400x300 with 1 Axes>"
      ]
     },
     "metadata": {},
     "output_type": "display_data"
    }
   ],
   "source": [
    "# Filter data where 'primary_use' is 'Education'\n",
    "education_data = merged_train_df[merged_train_df['primary_use'] == 'Education']\n",
    "\n",
    "# Create histogram using Seaborn\n",
    "plt.figure(figsize=(4,3))\n",
    "sns.histplot(education_data['meter_reading'], bins=10, color='skyblue')"
   ]
  },
  {
   "cell_type": "markdown",
   "id": "3c1e06f3-7867-49a4-b00d-f8521df3d414",
   "metadata": {},
   "source": [
    "***Insights***\n",
    "- We will continue the analysis only with the Healthcare primary use, comprising of 397,992 rows."
   ]
  },
  {
   "cell_type": "code",
   "execution_count": 36,
   "id": "58575f0d-91b7-44c0-8d70-5c8ae36fb88f",
   "metadata": {
    "scrolled": true
   },
   "outputs": [
    {
     "data": {
      "text/html": [
       "<div>\n",
       "<style scoped>\n",
       "    .dataframe tbody tr th:only-of-type {\n",
       "        vertical-align: middle;\n",
       "    }\n",
       "\n",
       "    .dataframe tbody tr th {\n",
       "        vertical-align: top;\n",
       "    }\n",
       "\n",
       "    .dataframe thead th {\n",
       "        text-align: right;\n",
       "    }\n",
       "</style>\n",
       "<table border=\"1\" class=\"dataframe\">\n",
       "  <thead>\n",
       "    <tr style=\"text-align: right;\">\n",
       "      <th></th>\n",
       "      <th>building_id</th>\n",
       "      <th>meter</th>\n",
       "      <th>meter_timestamp</th>\n",
       "      <th>meter_reading</th>\n",
       "      <th>site_id</th>\n",
       "      <th>primary_use</th>\n",
       "      <th>square_feet</th>\n",
       "      <th>year_built</th>\n",
       "      <th>floor_count</th>\n",
       "      <th>weather_timestamp</th>\n",
       "      <th>air_temperature</th>\n",
       "      <th>cloud_coverage</th>\n",
       "      <th>dew_temperature</th>\n",
       "      <th>precip_depth_1_hr</th>\n",
       "      <th>sea_level_pressure</th>\n",
       "      <th>wind_direction</th>\n",
       "      <th>wind_speed</th>\n",
       "    </tr>\n",
       "  </thead>\n",
       "  <tbody>\n",
       "    <tr>\n",
       "      <th>2600276</th>\n",
       "      <td>208</td>\n",
       "      <td>0</td>\n",
       "      <td>2016-01-01 00:00:00</td>\n",
       "      <td>77.2900</td>\n",
       "      <td>2</td>\n",
       "      <td>Healthcare</td>\n",
       "      <td>36904</td>\n",
       "      <td>1934.0</td>\n",
       "      <td>NaN</td>\n",
       "      <td>2016-01-01 00:00:00</td>\n",
       "      <td>15.6</td>\n",
       "      <td>6.0</td>\n",
       "      <td>-5.6</td>\n",
       "      <td>NaN</td>\n",
       "      <td>1015.3</td>\n",
       "      <td>270.0</td>\n",
       "      <td>3.6</td>\n",
       "    </tr>\n",
       "    <tr>\n",
       "      <th>2600277</th>\n",
       "      <td>208</td>\n",
       "      <td>1</td>\n",
       "      <td>2016-01-01 00:00:00</td>\n",
       "      <td>0.1055</td>\n",
       "      <td>2</td>\n",
       "      <td>Healthcare</td>\n",
       "      <td>36904</td>\n",
       "      <td>1934.0</td>\n",
       "      <td>NaN</td>\n",
       "      <td>2016-01-01 00:00:00</td>\n",
       "      <td>15.6</td>\n",
       "      <td>6.0</td>\n",
       "      <td>-5.6</td>\n",
       "      <td>NaN</td>\n",
       "      <td>1015.3</td>\n",
       "      <td>270.0</td>\n",
       "      <td>3.6</td>\n",
       "    </tr>\n",
       "    <tr>\n",
       "      <th>2600278</th>\n",
       "      <td>208</td>\n",
       "      <td>0</td>\n",
       "      <td>2016-01-01 01:00:00</td>\n",
       "      <td>87.0900</td>\n",
       "      <td>2</td>\n",
       "      <td>Healthcare</td>\n",
       "      <td>36904</td>\n",
       "      <td>1934.0</td>\n",
       "      <td>NaN</td>\n",
       "      <td>2016-01-01 01:00:00</td>\n",
       "      <td>13.9</td>\n",
       "      <td>NaN</td>\n",
       "      <td>-5.6</td>\n",
       "      <td>0.0</td>\n",
       "      <td>1015.6</td>\n",
       "      <td>270.0</td>\n",
       "      <td>4.1</td>\n",
       "    </tr>\n",
       "    <tr>\n",
       "      <th>2600279</th>\n",
       "      <td>208</td>\n",
       "      <td>1</td>\n",
       "      <td>2016-01-01 01:00:00</td>\n",
       "      <td>0.1407</td>\n",
       "      <td>2</td>\n",
       "      <td>Healthcare</td>\n",
       "      <td>36904</td>\n",
       "      <td>1934.0</td>\n",
       "      <td>NaN</td>\n",
       "      <td>2016-01-01 01:00:00</td>\n",
       "      <td>13.9</td>\n",
       "      <td>NaN</td>\n",
       "      <td>-5.6</td>\n",
       "      <td>0.0</td>\n",
       "      <td>1015.6</td>\n",
       "      <td>270.0</td>\n",
       "      <td>4.1</td>\n",
       "    </tr>\n",
       "    <tr>\n",
       "      <th>2600280</th>\n",
       "      <td>208</td>\n",
       "      <td>0</td>\n",
       "      <td>2016-01-01 02:00:00</td>\n",
       "      <td>90.5100</td>\n",
       "      <td>2</td>\n",
       "      <td>Healthcare</td>\n",
       "      <td>36904</td>\n",
       "      <td>1934.0</td>\n",
       "      <td>NaN</td>\n",
       "      <td>2016-01-01 02:00:00</td>\n",
       "      <td>13.3</td>\n",
       "      <td>2.0</td>\n",
       "      <td>-5.6</td>\n",
       "      <td>0.0</td>\n",
       "      <td>1016.0</td>\n",
       "      <td>270.0</td>\n",
       "      <td>3.1</td>\n",
       "    </tr>\n",
       "    <tr>\n",
       "      <th>...</th>\n",
       "      <td>...</td>\n",
       "      <td>...</td>\n",
       "      <td>...</td>\n",
       "      <td>...</td>\n",
       "      <td>...</td>\n",
       "      <td>...</td>\n",
       "      <td>...</td>\n",
       "      <td>...</td>\n",
       "      <td>...</td>\n",
       "      <td>...</td>\n",
       "      <td>...</td>\n",
       "      <td>...</td>\n",
       "      <td>...</td>\n",
       "      <td>...</td>\n",
       "      <td>...</td>\n",
       "      <td>...</td>\n",
       "      <td>...</td>\n",
       "    </tr>\n",
       "    <tr>\n",
       "      <th>19315319</th>\n",
       "      <td>1388</td>\n",
       "      <td>1</td>\n",
       "      <td>2016-12-31 19:00:00</td>\n",
       "      <td>32.8303</td>\n",
       "      <td>15</td>\n",
       "      <td>Healthcare</td>\n",
       "      <td>45465</td>\n",
       "      <td>1990.0</td>\n",
       "      <td>NaN</td>\n",
       "      <td>2016-12-31 19:00:00</td>\n",
       "      <td>3.0</td>\n",
       "      <td>NaN</td>\n",
       "      <td>-8.0</td>\n",
       "      <td>NaN</td>\n",
       "      <td>NaN</td>\n",
       "      <td>180.0</td>\n",
       "      <td>5.7</td>\n",
       "    </tr>\n",
       "    <tr>\n",
       "      <th>19315320</th>\n",
       "      <td>1388</td>\n",
       "      <td>1</td>\n",
       "      <td>2016-12-31 20:00:00</td>\n",
       "      <td>28.9841</td>\n",
       "      <td>15</td>\n",
       "      <td>Healthcare</td>\n",
       "      <td>45465</td>\n",
       "      <td>1990.0</td>\n",
       "      <td>NaN</td>\n",
       "      <td>2016-12-31 20:00:00</td>\n",
       "      <td>2.8</td>\n",
       "      <td>2.0</td>\n",
       "      <td>-8.9</td>\n",
       "      <td>NaN</td>\n",
       "      <td>1007.4</td>\n",
       "      <td>180.0</td>\n",
       "      <td>7.7</td>\n",
       "    </tr>\n",
       "    <tr>\n",
       "      <th>19315321</th>\n",
       "      <td>1388</td>\n",
       "      <td>1</td>\n",
       "      <td>2016-12-31 21:00:00</td>\n",
       "      <td>25.0044</td>\n",
       "      <td>15</td>\n",
       "      <td>Healthcare</td>\n",
       "      <td>45465</td>\n",
       "      <td>1990.0</td>\n",
       "      <td>NaN</td>\n",
       "      <td>2016-12-31 21:00:00</td>\n",
       "      <td>2.8</td>\n",
       "      <td>NaN</td>\n",
       "      <td>-7.2</td>\n",
       "      <td>NaN</td>\n",
       "      <td>1007.5</td>\n",
       "      <td>180.0</td>\n",
       "      <td>5.1</td>\n",
       "    </tr>\n",
       "    <tr>\n",
       "      <th>19315322</th>\n",
       "      <td>1388</td>\n",
       "      <td>1</td>\n",
       "      <td>2016-12-31 22:00:00</td>\n",
       "      <td>22.3746</td>\n",
       "      <td>15</td>\n",
       "      <td>Healthcare</td>\n",
       "      <td>45465</td>\n",
       "      <td>1990.0</td>\n",
       "      <td>NaN</td>\n",
       "      <td>2016-12-31 22:00:00</td>\n",
       "      <td>2.2</td>\n",
       "      <td>NaN</td>\n",
       "      <td>-6.7</td>\n",
       "      <td>NaN</td>\n",
       "      <td>1008.0</td>\n",
       "      <td>170.0</td>\n",
       "      <td>4.6</td>\n",
       "    </tr>\n",
       "    <tr>\n",
       "      <th>19315323</th>\n",
       "      <td>1388</td>\n",
       "      <td>1</td>\n",
       "      <td>2016-12-31 23:00:00</td>\n",
       "      <td>29.4019</td>\n",
       "      <td>15</td>\n",
       "      <td>Healthcare</td>\n",
       "      <td>45465</td>\n",
       "      <td>1990.0</td>\n",
       "      <td>NaN</td>\n",
       "      <td>2016-12-31 23:00:00</td>\n",
       "      <td>1.7</td>\n",
       "      <td>NaN</td>\n",
       "      <td>-5.6</td>\n",
       "      <td>-1.0</td>\n",
       "      <td>1008.5</td>\n",
       "      <td>180.0</td>\n",
       "      <td>8.8</td>\n",
       "    </tr>\n",
       "  </tbody>\n",
       "</table>\n",
       "<p>398527 rows × 17 columns</p>\n",
       "</div>"
      ],
      "text/plain": [
       "          building_id  meter      meter_timestamp  meter_reading  site_id  \\\n",
       "2600276           208      0  2016-01-01 00:00:00        77.2900        2   \n",
       "2600277           208      1  2016-01-01 00:00:00         0.1055        2   \n",
       "2600278           208      0  2016-01-01 01:00:00        87.0900        2   \n",
       "2600279           208      1  2016-01-01 01:00:00         0.1407        2   \n",
       "2600280           208      0  2016-01-01 02:00:00        90.5100        2   \n",
       "...               ...    ...                  ...            ...      ...   \n",
       "19315319         1388      1  2016-12-31 19:00:00        32.8303       15   \n",
       "19315320         1388      1  2016-12-31 20:00:00        28.9841       15   \n",
       "19315321         1388      1  2016-12-31 21:00:00        25.0044       15   \n",
       "19315322         1388      1  2016-12-31 22:00:00        22.3746       15   \n",
       "19315323         1388      1  2016-12-31 23:00:00        29.4019       15   \n",
       "\n",
       "         primary_use  square_feet  year_built  floor_count  \\\n",
       "2600276   Healthcare        36904      1934.0          NaN   \n",
       "2600277   Healthcare        36904      1934.0          NaN   \n",
       "2600278   Healthcare        36904      1934.0          NaN   \n",
       "2600279   Healthcare        36904      1934.0          NaN   \n",
       "2600280   Healthcare        36904      1934.0          NaN   \n",
       "...              ...          ...         ...          ...   \n",
       "19315319  Healthcare        45465      1990.0          NaN   \n",
       "19315320  Healthcare        45465      1990.0          NaN   \n",
       "19315321  Healthcare        45465      1990.0          NaN   \n",
       "19315322  Healthcare        45465      1990.0          NaN   \n",
       "19315323  Healthcare        45465      1990.0          NaN   \n",
       "\n",
       "            weather_timestamp  air_temperature  cloud_coverage  \\\n",
       "2600276   2016-01-01 00:00:00             15.6             6.0   \n",
       "2600277   2016-01-01 00:00:00             15.6             6.0   \n",
       "2600278   2016-01-01 01:00:00             13.9             NaN   \n",
       "2600279   2016-01-01 01:00:00             13.9             NaN   \n",
       "2600280   2016-01-01 02:00:00             13.3             2.0   \n",
       "...                       ...              ...             ...   \n",
       "19315319  2016-12-31 19:00:00              3.0             NaN   \n",
       "19315320  2016-12-31 20:00:00              2.8             2.0   \n",
       "19315321  2016-12-31 21:00:00              2.8             NaN   \n",
       "19315322  2016-12-31 22:00:00              2.2             NaN   \n",
       "19315323  2016-12-31 23:00:00              1.7             NaN   \n",
       "\n",
       "          dew_temperature  precip_depth_1_hr  sea_level_pressure  \\\n",
       "2600276              -5.6                NaN              1015.3   \n",
       "2600277              -5.6                NaN              1015.3   \n",
       "2600278              -5.6                0.0              1015.6   \n",
       "2600279              -5.6                0.0              1015.6   \n",
       "2600280              -5.6                0.0              1016.0   \n",
       "...                   ...                ...                 ...   \n",
       "19315319             -8.0                NaN                 NaN   \n",
       "19315320             -8.9                NaN              1007.4   \n",
       "19315321             -7.2                NaN              1007.5   \n",
       "19315322             -6.7                NaN              1008.0   \n",
       "19315323             -5.6               -1.0              1008.5   \n",
       "\n",
       "          wind_direction  wind_speed  \n",
       "2600276            270.0         3.6  \n",
       "2600277            270.0         3.6  \n",
       "2600278            270.0         4.1  \n",
       "2600279            270.0         4.1  \n",
       "2600280            270.0         3.1  \n",
       "...                  ...         ...  \n",
       "19315319           180.0         5.7  \n",
       "19315320           180.0         7.7  \n",
       "19315321           180.0         5.1  \n",
       "19315322           170.0         4.6  \n",
       "19315323           180.0         8.8  \n",
       "\n",
       "[398527 rows x 17 columns]"
      ]
     },
     "execution_count": 36,
     "metadata": {},
     "output_type": "execute_result"
    }
   ],
   "source": [
    "# Filter the DataFrame to include only rows where 'primary_use' is 'Healthcare'\n",
    "healthcare_train_df = merged_train_df[merged_train_df['primary_use'] == 'Healthcare']\n",
    "healthcare_train_df"
   ]
  },
  {
   "cell_type": "code",
   "execution_count": 37,
   "id": "864912b4-b4ef-4f94-92f3-9eb79894aaa6",
   "metadata": {},
   "outputs": [],
   "source": [
    "# Export dataframe to a csv file\n",
    "healthcare_train_df.to_csv('data/01_healthcare_train_df.csv', index=False)"
   ]
  },
  {
   "cell_type": "markdown",
   "id": "1d55846b-438a-4fd9-b3fe-773a4a7a0379",
   "metadata": {},
   "source": [
    "[back to TOC](#toc)"
   ]
  },
  {
   "cell_type": "markdown",
   "id": "05c79979-2880-4344-ba89-040d0baeab25",
   "metadata": {},
   "source": [
    "<a id='hea-0'></a>"
   ]
  },
  {
   "cell_type": "markdown",
   "id": "8e5c9f8b-f58d-4815-a833-e3833034a6d9",
   "metadata": {},
   "source": [
    "With the final data subset ready, the next notebook (02_EDA_stats), will delve into exploratory data analysis (EDA) and statistical analysis."
   ]
  }
 ],
 "metadata": {
  "kernelspec": {
   "display_name": "Python 3 (ipykernel)",
   "language": "python",
   "name": "python3"
  },
  "language_info": {
   "codemirror_mode": {
    "name": "ipython",
    "version": 3
   },
   "file_extension": ".py",
   "mimetype": "text/x-python",
   "name": "python",
   "nbconvert_exporter": "python",
   "pygments_lexer": "ipython3",
   "version": "3.11.5"
  }
 },
 "nbformat": 4,
 "nbformat_minor": 5
}
