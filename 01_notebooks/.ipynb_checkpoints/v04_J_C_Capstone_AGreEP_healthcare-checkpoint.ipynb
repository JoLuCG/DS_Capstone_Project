{
 "cells": [
  {
   "cell_type": "markdown",
   "id": "143f154d-fd22-4c92-9a38-4f21bbf2de8a",
   "metadata": {},
   "source": [
    "# ASHRAE Great Energy Predictor\n",
    "### *by Jose Correa*"
   ]
  },
  {
   "cell_type": "markdown",
   "id": "ff5579a4-5758-4366-a40d-4b6ab98f4c1c",
   "metadata": {},
   "source": [
    "# Introduction\n",
    "\n",
    "? Rewrite better\n",
    "\n",
    "How much does it cost to cool a skyscraper in the summer?  A lot! And not just in dollars, but in environmental impact.\r\n",
    "\r\n",
    "Thankfully, significant investments are being made to improve building efficiencies to reduce costs and emissions. The question is, are the improvements workgnn. Under pay-for-performance financing, the building owner makes payments based on the difference between their real energy consumption and what they would have used without any retrofits. The latter values have to come from a mo, however, c. Current methods of estimation are fragmented and do not scale w, s. Some assume a specific meter type or don’t work with different building types.\r\n",
    "\r\n",
    "In machine learning analysisitis beenou’ll deed elop accurate models of metered building energy usage in the following areas: chilled water, electric, hot water, and steam meters. The data comes from over 1,000 buil, at several different sites around the world,dings over a three-year  timeframe. With better estimates of these energy-saving investments, large scale investors and financial institutions will be more inclined to invest in this area to enable progress in building efficien\n",
    "\n",
    "\n",
    "*Dataset Description*\n",
    "\r\n",
    "Assessing the value of energy efficiency improvements can be challenging as there's no way to truly know how much energy a building would have used without the improvements. The best we can do is to build counterfactual models. Once a building is overhauled the new (lower) energy consumption is compared against modeled values for the original building to calculate the savings from the retrofit. More accurate models could support better market incentives and enable lower cost financing.\r\n",
    "\r\n",
    "This competition challenges you to build these counterfactual models across four energy types based on historic usage rates and observed weather. The dataset includes three years of hourly meter readings from over one thousand buildings at several different sites around the world.cies."
   ]
  },
  {
   "cell_type": "markdown",
   "id": "d43f4505-c108-4381-8d36-edbe953bf12b",
   "metadata": {},
   "source": [
    "<a id='toc'></a>"
   ]
  },
  {
   "cell_type": "markdown",
   "id": "c26203c7-ed69-4b59-ad4e-a5375496394f",
   "metadata": {
    "jp-MarkdownHeadingCollapsed": true
   },
   "source": [
    "# Table of Contents\n",
    "\n",
    "1. [Data dictionary](#data-d)\n",
    "2. [Basic Data Wrangling](#bdw-0)\n",
    "    1. [Join files](#bdw-1)\n",
    "    2. [Subset](#bdw-2)\n",
    "    3. [? Numeric and categorical columns distribution](#bdw-3)\n",
    "    4. [? Duplicate values](#bdw-4)\n",
    "    5. [? Null values](#bdw-5)\n",
    "3. [Exploratory Data Analysis (EDA)](#eda-0)\n",
    "    1. [Relationship between..???](#eda-1)\n",
    "4. [Statistical Analysis](#sa-0)\n",
    "    1. [Statistically significant difference..](#sa-1)\n",
    "    2. [Correlation with ??](#sa-2)\n",
    "5. [Advanced Statistical Analysis](#asa-0)\n",
    "    1. [Linear regression for ??](#asa-1)\n",
    "    2. [Logistic regression for ??](#asa-2)\n",
    "6. [Conclusion](#concl)"
   ]
  },
  {
   "cell_type": "code",
   "execution_count": null,
   "id": "ddc66199-d11e-4536-80e7-8d37b93c8a40",
   "metadata": {},
   "outputs": [],
   "source": []
  },
  {
   "cell_type": "markdown",
   "id": "f0b197b2-8686-4faa-818b-fe9216203ab3",
   "metadata": {},
   "source": [
    "<a id='data-d'></a>"
   ]
  },
  {
   "cell_type": "markdown",
   "id": "4a8b9503-0013-4dab-b239-95b7deb11cca",
   "metadata": {
    "tags": []
   },
   "source": [
    "# Data dictionary"
   ]
  },
  {
   "cell_type": "markdown",
   "id": "45627a08-25d5-4e1a-bcff-700b1e888134",
   "metadata": {},
   "source": [
    "<a id='bdw-0'></a>"
   ]
  },
  {
   "cell_type": "markdown",
   "id": "b6ef1acd-1d7b-416b-885f-b0cb58b73bb3",
   "metadata": {},
   "source": [
    "To do...\n",
    "\n",
    "**Variables:**   \n",
    "\n",
    "- `MedInc:` median income in block group\n",
    "- `HouseAge:` median house age in block group\n",
    "- `AveRooms:` average number of rooms per household\n",
    "- `AveBedrms:` average number of bedrooms per household\n",
    "- `Population:` block group population\n",
    "- `AveOccup:` average number of household members\n",
    "- `Latitude:` block group latitude\n",
    "- `Longitude:` block group longitude  \n",
    "\n",
    "**Target:**  \n",
    "- `MedHouseVal`: median house value for California districts, expressed in hundreds of thousands of dollars ($100,000) \n"
   ]
  },
  {
   "cell_type": "markdown",
   "id": "3b4dab8f-beea-4fda-9c1b-fe3efe4637bb",
   "metadata": {
    "tags": []
   },
   "source": [
    "# 1. Basic Data Wrangling"
   ]
  },
  {
   "cell_type": "code",
   "execution_count": 1,
   "id": "308c0c50-2190-4bb2-ba68-99540075007b",
   "metadata": {
    "tags": []
   },
   "outputs": [],
   "source": [
    "# Import Python packages\n",
    "import pandas as pd\n",
    "import numpy as np\n",
    "\n",
    "import matplotlib.pyplot as plt\n",
    "import seaborn as sns\n",
    "\n",
    "# Setting figure size\n",
    "plt.rcParams['figure.figsize']=(8.0,6.0)"
   ]
  },
  {
   "cell_type": "markdown",
   "id": "ce5e7d1b-9b1f-4016-beb4-22a530ed3928",
   "metadata": {},
   "source": [
    "<a id='bdw-1'></a>"
   ]
  },
  {
   "cell_type": "markdown",
   "id": "435b6b75-4ae0-4a95-812b-f0ae13df049f",
   "metadata": {},
   "source": [
    "## 1.1. Join files\n",
    "The interrelated files are: train.csv, building_metadata.csv, weather_train.csv"
   ]
  },
  {
   "cell_type": "markdown",
   "id": "9bbe5a74-6a07-46a2-ac73-861ae830cc1e",
   "metadata": {},
   "source": [
    "#### train file"
   ]
  },
  {
   "cell_type": "code",
   "execution_count": 2,
   "id": "03d2309b-004b-4a43-89a3-5043f44e185e",
   "metadata": {
    "scrolled": true,
    "tags": []
   },
   "outputs": [
    {
     "data": {
      "text/html": [
       "<div>\n",
       "<style scoped>\n",
       "    .dataframe tbody tr th:only-of-type {\n",
       "        vertical-align: middle;\n",
       "    }\n",
       "\n",
       "    .dataframe tbody tr th {\n",
       "        vertical-align: top;\n",
       "    }\n",
       "\n",
       "    .dataframe thead th {\n",
       "        text-align: right;\n",
       "    }\n",
       "</style>\n",
       "<table border=\"1\" class=\"dataframe\">\n",
       "  <thead>\n",
       "    <tr style=\"text-align: right;\">\n",
       "      <th></th>\n",
       "      <th>building_id</th>\n",
       "      <th>meter</th>\n",
       "      <th>timestamp</th>\n",
       "      <th>meter_reading</th>\n",
       "    </tr>\n",
       "  </thead>\n",
       "  <tbody>\n",
       "    <tr>\n",
       "      <th>0</th>\n",
       "      <td>0</td>\n",
       "      <td>0</td>\n",
       "      <td>2016-01-01 00:00:00</td>\n",
       "      <td>0.0</td>\n",
       "    </tr>\n",
       "    <tr>\n",
       "      <th>1</th>\n",
       "      <td>1</td>\n",
       "      <td>0</td>\n",
       "      <td>2016-01-01 00:00:00</td>\n",
       "      <td>0.0</td>\n",
       "    </tr>\n",
       "    <tr>\n",
       "      <th>2</th>\n",
       "      <td>2</td>\n",
       "      <td>0</td>\n",
       "      <td>2016-01-01 00:00:00</td>\n",
       "      <td>0.0</td>\n",
       "    </tr>\n",
       "  </tbody>\n",
       "</table>\n",
       "</div>"
      ],
      "text/plain": [
       "   building_id  meter            timestamp  meter_reading\n",
       "0            0      0  2016-01-01 00:00:00            0.0\n",
       "1            1      0  2016-01-01 00:00:00            0.0\n",
       "2            2      0  2016-01-01 00:00:00            0.0"
      ]
     },
     "metadata": {},
     "output_type": "display_data"
    }
   ],
   "source": [
    "# train file, data loading. The file is coma (,) separated. \n",
    "# The index is auto generated, since the 'building_id' column doesn't have unique values\n",
    "train_df = pd.read_csv('data/train.csv', sep = ',')\n",
    "display (train_df.head(3))"
   ]
  },
  {
   "cell_type": "code",
   "execution_count": 3,
   "id": "3453f4c4-ffbc-4992-b7be-9ffd64b694a8",
   "metadata": {},
   "outputs": [
    {
     "name": "stdout",
     "output_type": "stream",
     "text": [
      "<class 'pandas.core.frame.DataFrame'>\n",
      "RangeIndex: 20216100 entries, 0 to 20216099\n",
      "Data columns (total 4 columns):\n",
      " #   Column         Dtype  \n",
      "---  ------         -----  \n",
      " 0   building_id    int64  \n",
      " 1   meter          int64  \n",
      " 2   timestamp      object \n",
      " 3   meter_reading  float64\n",
      "dtypes: float64(1), int64(2), object(1)\n",
      "memory usage: 616.9+ MB\n"
     ]
    }
   ],
   "source": [
    "# General info\n",
    "train_df.info()"
   ]
  },
  {
   "cell_type": "code",
   "execution_count": null,
   "id": "43311bd3-0fbf-44d2-8266-bcc0349b5f9c",
   "metadata": {},
   "outputs": [],
   "source": []
  },
  {
   "cell_type": "markdown",
   "id": "1b3ab1bb-fc6a-4d1c-a8bd-ca81e6bfd556",
   "metadata": {},
   "source": [
    "#### building_meta file "
   ]
  },
  {
   "cell_type": "code",
   "execution_count": 4,
   "id": "313ddb9a-b9fb-46cd-8cd7-b9ff21cb7c10",
   "metadata": {},
   "outputs": [
    {
     "data": {
      "text/html": [
       "<div>\n",
       "<style scoped>\n",
       "    .dataframe tbody tr th:only-of-type {\n",
       "        vertical-align: middle;\n",
       "    }\n",
       "\n",
       "    .dataframe tbody tr th {\n",
       "        vertical-align: top;\n",
       "    }\n",
       "\n",
       "    .dataframe thead th {\n",
       "        text-align: right;\n",
       "    }\n",
       "</style>\n",
       "<table border=\"1\" class=\"dataframe\">\n",
       "  <thead>\n",
       "    <tr style=\"text-align: right;\">\n",
       "      <th></th>\n",
       "      <th>site_id</th>\n",
       "      <th>building_id</th>\n",
       "      <th>primary_use</th>\n",
       "      <th>square_feet</th>\n",
       "      <th>year_built</th>\n",
       "      <th>floor_count</th>\n",
       "    </tr>\n",
       "  </thead>\n",
       "  <tbody>\n",
       "    <tr>\n",
       "      <th>0</th>\n",
       "      <td>0</td>\n",
       "      <td>0</td>\n",
       "      <td>Education</td>\n",
       "      <td>7432</td>\n",
       "      <td>2008.0</td>\n",
       "      <td>NaN</td>\n",
       "    </tr>\n",
       "    <tr>\n",
       "      <th>1</th>\n",
       "      <td>0</td>\n",
       "      <td>1</td>\n",
       "      <td>Education</td>\n",
       "      <td>2720</td>\n",
       "      <td>2004.0</td>\n",
       "      <td>NaN</td>\n",
       "    </tr>\n",
       "    <tr>\n",
       "      <th>2</th>\n",
       "      <td>0</td>\n",
       "      <td>2</td>\n",
       "      <td>Education</td>\n",
       "      <td>5376</td>\n",
       "      <td>1991.0</td>\n",
       "      <td>NaN</td>\n",
       "    </tr>\n",
       "  </tbody>\n",
       "</table>\n",
       "</div>"
      ],
      "text/plain": [
       "   site_id  building_id primary_use  square_feet  year_built  floor_count\n",
       "0        0            0   Education         7432      2008.0          NaN\n",
       "1        0            1   Education         2720      2004.0          NaN\n",
       "2        0            2   Education         5376      1991.0          NaN"
      ]
     },
     "metadata": {},
     "output_type": "display_data"
    }
   ],
   "source": [
    "# building_meta file, data loading. The file is coma (,) separated. \n",
    "# The index is auto generated, since the 'building_id' column doesn't have unique values\n",
    "building_df = pd.read_csv('data/building_metadata.csv', sep = ',')\n",
    "display (building_df.head(3))"
   ]
  },
  {
   "cell_type": "code",
   "execution_count": 5,
   "id": "8f14cf25-d8ec-4925-91a6-dd95be4f1e34",
   "metadata": {},
   "outputs": [
    {
     "name": "stdout",
     "output_type": "stream",
     "text": [
      "<class 'pandas.core.frame.DataFrame'>\n",
      "RangeIndex: 1449 entries, 0 to 1448\n",
      "Data columns (total 6 columns):\n",
      " #   Column       Non-Null Count  Dtype  \n",
      "---  ------       --------------  -----  \n",
      " 0   site_id      1449 non-null   int64  \n",
      " 1   building_id  1449 non-null   int64  \n",
      " 2   primary_use  1449 non-null   object \n",
      " 3   square_feet  1449 non-null   int64  \n",
      " 4   year_built   675 non-null    float64\n",
      " 5   floor_count  355 non-null    float64\n",
      "dtypes: float64(2), int64(3), object(1)\n",
      "memory usage: 68.1+ KB\n"
     ]
    }
   ],
   "source": [
    "# General info\n",
    "building_df.info()"
   ]
  },
  {
   "cell_type": "code",
   "execution_count": null,
   "id": "8e9f6ffa-6d0c-44af-a743-dc0bda09a0d3",
   "metadata": {},
   "outputs": [],
   "source": []
  },
  {
   "cell_type": "markdown",
   "id": "62e2aece-ff59-4d65-a9a3-0ab0fd7f9f80",
   "metadata": {},
   "source": [
    "#### Join train_df and building_df on 'building_id'"
   ]
  },
  {
   "cell_type": "code",
   "execution_count": 6,
   "id": "c0ebaeae-5b0b-437e-ba7d-cf95d163ee9d",
   "metadata": {},
   "outputs": [
    {
     "data": {
      "text/html": [
       "<div>\n",
       "<style scoped>\n",
       "    .dataframe tbody tr th:only-of-type {\n",
       "        vertical-align: middle;\n",
       "    }\n",
       "\n",
       "    .dataframe tbody tr th {\n",
       "        vertical-align: top;\n",
       "    }\n",
       "\n",
       "    .dataframe thead th {\n",
       "        text-align: right;\n",
       "    }\n",
       "</style>\n",
       "<table border=\"1\" class=\"dataframe\">\n",
       "  <thead>\n",
       "    <tr style=\"text-align: right;\">\n",
       "      <th></th>\n",
       "      <th>building_id</th>\n",
       "      <th>meter</th>\n",
       "      <th>timestamp</th>\n",
       "      <th>meter_reading</th>\n",
       "      <th>site_id</th>\n",
       "      <th>primary_use</th>\n",
       "      <th>square_feet</th>\n",
       "      <th>year_built</th>\n",
       "      <th>floor_count</th>\n",
       "    </tr>\n",
       "  </thead>\n",
       "  <tbody>\n",
       "    <tr>\n",
       "      <th>13031864</th>\n",
       "      <td>1067</td>\n",
       "      <td>0</td>\n",
       "      <td>2016-11-04 11:00:00</td>\n",
       "      <td>439.9650</td>\n",
       "      <td>12</td>\n",
       "      <td>Education</td>\n",
       "      <td>125701</td>\n",
       "      <td>NaN</td>\n",
       "      <td>NaN</td>\n",
       "    </tr>\n",
       "    <tr>\n",
       "      <th>17485231</th>\n",
       "      <td>1293</td>\n",
       "      <td>2</td>\n",
       "      <td>2016-10-21 21:00:00</td>\n",
       "      <td>369.4740</td>\n",
       "      <td>14</td>\n",
       "      <td>Office</td>\n",
       "      <td>51471</td>\n",
       "      <td>NaN</td>\n",
       "      <td>NaN</td>\n",
       "    </tr>\n",
       "    <tr>\n",
       "      <th>18049197</th>\n",
       "      <td>1316</td>\n",
       "      <td>0</td>\n",
       "      <td>2016-02-02 23:00:00</td>\n",
       "      <td>77.6562</td>\n",
       "      <td>14</td>\n",
       "      <td>Entertainment/public assembly</td>\n",
       "      <td>49975</td>\n",
       "      <td>NaN</td>\n",
       "      <td>NaN</td>\n",
       "    </tr>\n",
       "  </tbody>\n",
       "</table>\n",
       "</div>"
      ],
      "text/plain": [
       "          building_id  meter            timestamp  meter_reading  site_id  \\\n",
       "13031864         1067      0  2016-11-04 11:00:00       439.9650       12   \n",
       "17485231         1293      2  2016-10-21 21:00:00       369.4740       14   \n",
       "18049197         1316      0  2016-02-02 23:00:00        77.6562       14   \n",
       "\n",
       "                            primary_use  square_feet  year_built  floor_count  \n",
       "13031864                      Education       125701         NaN          NaN  \n",
       "17485231                         Office        51471         NaN          NaN  \n",
       "18049197  Entertainment/public assembly        49975         NaN          NaN  "
      ]
     },
     "execution_count": 6,
     "metadata": {},
     "output_type": "execute_result"
    }
   ],
   "source": [
    "# Join train_df and building_df on 'building_id'\n",
    "train_building_df = train_df.merge(building_df, on='building_id', how='inner')\n",
    "train_building_df.sample(3)"
   ]
  },
  {
   "cell_type": "code",
   "execution_count": 7,
   "id": "673faa40-3a07-4074-b98f-749d42f30b86",
   "metadata": {},
   "outputs": [
    {
     "name": "stdout",
     "output_type": "stream",
     "text": [
      "<class 'pandas.core.frame.DataFrame'>\n",
      "RangeIndex: 20216100 entries, 0 to 20216099\n",
      "Data columns (total 9 columns):\n",
      " #   Column         Dtype  \n",
      "---  ------         -----  \n",
      " 0   building_id    int64  \n",
      " 1   meter          int64  \n",
      " 2   timestamp      object \n",
      " 3   meter_reading  float64\n",
      " 4   site_id        int64  \n",
      " 5   primary_use    object \n",
      " 6   square_feet    int64  \n",
      " 7   year_built     float64\n",
      " 8   floor_count    float64\n",
      "dtypes: float64(3), int64(4), object(2)\n",
      "memory usage: 1.4+ GB\n"
     ]
    }
   ],
   "source": [
    "# Review merged df\n",
    "train_building_df.info()"
   ]
  },
  {
   "cell_type": "code",
   "execution_count": null,
   "id": "a20d557a-2765-4068-ab8e-c91cb948c679",
   "metadata": {},
   "outputs": [],
   "source": []
  },
  {
   "cell_type": "markdown",
   "id": "00133fed-ef45-438e-a0cb-eaecf6f445f4",
   "metadata": {},
   "source": [
    "#### Weather_train file"
   ]
  },
  {
   "cell_type": "code",
   "execution_count": 8,
   "id": "f88cfe34-7c00-4582-a3ed-f0cace88e64e",
   "metadata": {},
   "outputs": [
    {
     "data": {
      "text/html": [
       "<div>\n",
       "<style scoped>\n",
       "    .dataframe tbody tr th:only-of-type {\n",
       "        vertical-align: middle;\n",
       "    }\n",
       "\n",
       "    .dataframe tbody tr th {\n",
       "        vertical-align: top;\n",
       "    }\n",
       "\n",
       "    .dataframe thead th {\n",
       "        text-align: right;\n",
       "    }\n",
       "</style>\n",
       "<table border=\"1\" class=\"dataframe\">\n",
       "  <thead>\n",
       "    <tr style=\"text-align: right;\">\n",
       "      <th></th>\n",
       "      <th>site_id</th>\n",
       "      <th>timestamp</th>\n",
       "      <th>air_temperature</th>\n",
       "      <th>cloud_coverage</th>\n",
       "      <th>dew_temperature</th>\n",
       "      <th>precip_depth_1_hr</th>\n",
       "      <th>sea_level_pressure</th>\n",
       "      <th>wind_direction</th>\n",
       "      <th>wind_speed</th>\n",
       "    </tr>\n",
       "  </thead>\n",
       "  <tbody>\n",
       "    <tr>\n",
       "      <th>8691</th>\n",
       "      <td>0</td>\n",
       "      <td>2016-12-28 03:00:00</td>\n",
       "      <td>20.6</td>\n",
       "      <td>2.0</td>\n",
       "      <td>19.4</td>\n",
       "      <td>0.0</td>\n",
       "      <td>1022.2</td>\n",
       "      <td>90.0</td>\n",
       "      <td>2.6</td>\n",
       "    </tr>\n",
       "    <tr>\n",
       "      <th>67140</th>\n",
       "      <td>7</td>\n",
       "      <td>2016-08-31 12:00:00</td>\n",
       "      <td>19.6</td>\n",
       "      <td>NaN</td>\n",
       "      <td>16.8</td>\n",
       "      <td>NaN</td>\n",
       "      <td>1011.1</td>\n",
       "      <td>260.0</td>\n",
       "      <td>1.5</td>\n",
       "    </tr>\n",
       "    <tr>\n",
       "      <th>132677</th>\n",
       "      <td>15</td>\n",
       "      <td>2016-03-01 12:00:00</td>\n",
       "      <td>-6.7</td>\n",
       "      <td>NaN</td>\n",
       "      <td>-9.4</td>\n",
       "      <td>-1.0</td>\n",
       "      <td>NaN</td>\n",
       "      <td>240.0</td>\n",
       "      <td>1.5</td>\n",
       "    </tr>\n",
       "  </tbody>\n",
       "</table>\n",
       "</div>"
      ],
      "text/plain": [
       "        site_id            timestamp  air_temperature  cloud_coverage  \\\n",
       "8691          0  2016-12-28 03:00:00             20.6             2.0   \n",
       "67140         7  2016-08-31 12:00:00             19.6             NaN   \n",
       "132677       15  2016-03-01 12:00:00             -6.7             NaN   \n",
       "\n",
       "        dew_temperature  precip_depth_1_hr  sea_level_pressure  \\\n",
       "8691               19.4                0.0              1022.2   \n",
       "67140              16.8                NaN              1011.1   \n",
       "132677             -9.4               -1.0                 NaN   \n",
       "\n",
       "        wind_direction  wind_speed  \n",
       "8691              90.0         2.6  \n",
       "67140            260.0         1.5  \n",
       "132677           240.0         1.5  "
      ]
     },
     "execution_count": 8,
     "metadata": {},
     "output_type": "execute_result"
    }
   ],
   "source": [
    "# weather_train.csv file, data loading. The file is coma (,) separated. \n",
    "# The index is auto generated, since the 'site_id' column doesn't have unique values\n",
    "weather_train_df = pd.read_csv('data/weather_train.csv', sep = ',')\n",
    "weather_train_df.sample(3)"
   ]
  },
  {
   "cell_type": "code",
   "execution_count": 9,
   "id": "bfac1662-489d-43d4-830a-c4c7b1aee7b7",
   "metadata": {},
   "outputs": [
    {
     "name": "stdout",
     "output_type": "stream",
     "text": [
      "<class 'pandas.core.frame.DataFrame'>\n",
      "RangeIndex: 139773 entries, 0 to 139772\n",
      "Data columns (total 9 columns):\n",
      " #   Column              Non-Null Count   Dtype  \n",
      "---  ------              --------------   -----  \n",
      " 0   site_id             139773 non-null  int64  \n",
      " 1   timestamp           139773 non-null  object \n",
      " 2   air_temperature     139718 non-null  float64\n",
      " 3   cloud_coverage      70600 non-null   float64\n",
      " 4   dew_temperature     139660 non-null  float64\n",
      " 5   precip_depth_1_hr   89484 non-null   float64\n",
      " 6   sea_level_pressure  129155 non-null  float64\n",
      " 7   wind_direction      133505 non-null  float64\n",
      " 8   wind_speed          139469 non-null  float64\n",
      "dtypes: float64(7), int64(1), object(1)\n",
      "memory usage: 9.6+ MB\n"
     ]
    }
   ],
   "source": [
    "# General info\n",
    "weather_train_df.info()"
   ]
  },
  {
   "cell_type": "code",
   "execution_count": null,
   "id": "1de6771c-d9aa-4576-a22c-9ffd9a33f921",
   "metadata": {},
   "outputs": [],
   "source": []
  },
  {
   "cell_type": "markdown",
   "id": "b573ca7e-bc48-4ab4-8677-1d7e5d906887",
   "metadata": {},
   "source": [
    "#### Rename column header for timestamp to avoid confusion "
   ]
  },
  {
   "cell_type": "code",
   "execution_count": 10,
   "id": "515daa56-bdba-476c-8c1c-9682d5900d07",
   "metadata": {},
   "outputs": [],
   "source": [
    "# Rename the 'timestamp' column to 'meter_timestamp'\n",
    "train_building_df.rename(columns={'timestamp': 'meter_timestamp'}, inplace=True)"
   ]
  },
  {
   "cell_type": "code",
   "execution_count": 11,
   "id": "9688cbc9-8c02-42ef-9f6e-23c25d1c7921",
   "metadata": {},
   "outputs": [
    {
     "data": {
      "text/html": [
       "<div>\n",
       "<style scoped>\n",
       "    .dataframe tbody tr th:only-of-type {\n",
       "        vertical-align: middle;\n",
       "    }\n",
       "\n",
       "    .dataframe tbody tr th {\n",
       "        vertical-align: top;\n",
       "    }\n",
       "\n",
       "    .dataframe thead th {\n",
       "        text-align: right;\n",
       "    }\n",
       "</style>\n",
       "<table border=\"1\" class=\"dataframe\">\n",
       "  <thead>\n",
       "    <tr style=\"text-align: right;\">\n",
       "      <th></th>\n",
       "      <th>building_id</th>\n",
       "      <th>meter</th>\n",
       "      <th>meter_timestamp</th>\n",
       "      <th>meter_reading</th>\n",
       "      <th>site_id</th>\n",
       "      <th>primary_use</th>\n",
       "      <th>square_feet</th>\n",
       "      <th>year_built</th>\n",
       "      <th>floor_count</th>\n",
       "    </tr>\n",
       "  </thead>\n",
       "  <tbody>\n",
       "    <tr>\n",
       "      <th>0</th>\n",
       "      <td>0</td>\n",
       "      <td>0</td>\n",
       "      <td>2016-01-01 00:00:00</td>\n",
       "      <td>0.0</td>\n",
       "      <td>0</td>\n",
       "      <td>Education</td>\n",
       "      <td>7432</td>\n",
       "      <td>2008.0</td>\n",
       "      <td>NaN</td>\n",
       "    </tr>\n",
       "    <tr>\n",
       "      <th>1</th>\n",
       "      <td>0</td>\n",
       "      <td>0</td>\n",
       "      <td>2016-01-01 01:00:00</td>\n",
       "      <td>0.0</td>\n",
       "      <td>0</td>\n",
       "      <td>Education</td>\n",
       "      <td>7432</td>\n",
       "      <td>2008.0</td>\n",
       "      <td>NaN</td>\n",
       "    </tr>\n",
       "    <tr>\n",
       "      <th>2</th>\n",
       "      <td>0</td>\n",
       "      <td>0</td>\n",
       "      <td>2016-01-01 02:00:00</td>\n",
       "      <td>0.0</td>\n",
       "      <td>0</td>\n",
       "      <td>Education</td>\n",
       "      <td>7432</td>\n",
       "      <td>2008.0</td>\n",
       "      <td>NaN</td>\n",
       "    </tr>\n",
       "  </tbody>\n",
       "</table>\n",
       "</div>"
      ],
      "text/plain": [
       "   building_id  meter      meter_timestamp  meter_reading  site_id  \\\n",
       "0            0      0  2016-01-01 00:00:00            0.0        0   \n",
       "1            0      0  2016-01-01 01:00:00            0.0        0   \n",
       "2            0      0  2016-01-01 02:00:00            0.0        0   \n",
       "\n",
       "  primary_use  square_feet  year_built  floor_count  \n",
       "0   Education         7432      2008.0          NaN  \n",
       "1   Education         7432      2008.0          NaN  \n",
       "2   Education         7432      2008.0          NaN  "
      ]
     },
     "execution_count": 11,
     "metadata": {},
     "output_type": "execute_result"
    }
   ],
   "source": [
    "# Check successful rename\n",
    "train_building_df.head(3)"
   ]
  },
  {
   "cell_type": "code",
   "execution_count": 12,
   "id": "d41de545-f25b-412a-a1c8-8563eeb3e7e3",
   "metadata": {},
   "outputs": [],
   "source": [
    "# For weather_train_df\n",
    "# Rename the 'timestamp' column to 'weather_timestamp'\n",
    "weather_train_df.rename(columns={'timestamp': 'weather_timestamp'}, inplace=True)"
   ]
  },
  {
   "cell_type": "code",
   "execution_count": 13,
   "id": "1f95cb2b-86e9-4d64-936f-3ec599f9cd89",
   "metadata": {},
   "outputs": [
    {
     "data": {
      "text/html": [
       "<div>\n",
       "<style scoped>\n",
       "    .dataframe tbody tr th:only-of-type {\n",
       "        vertical-align: middle;\n",
       "    }\n",
       "\n",
       "    .dataframe tbody tr th {\n",
       "        vertical-align: top;\n",
       "    }\n",
       "\n",
       "    .dataframe thead th {\n",
       "        text-align: right;\n",
       "    }\n",
       "</style>\n",
       "<table border=\"1\" class=\"dataframe\">\n",
       "  <thead>\n",
       "    <tr style=\"text-align: right;\">\n",
       "      <th></th>\n",
       "      <th>site_id</th>\n",
       "      <th>weather_timestamp</th>\n",
       "      <th>air_temperature</th>\n",
       "      <th>cloud_coverage</th>\n",
       "      <th>dew_temperature</th>\n",
       "      <th>precip_depth_1_hr</th>\n",
       "      <th>sea_level_pressure</th>\n",
       "      <th>wind_direction</th>\n",
       "      <th>wind_speed</th>\n",
       "    </tr>\n",
       "  </thead>\n",
       "  <tbody>\n",
       "    <tr>\n",
       "      <th>0</th>\n",
       "      <td>0</td>\n",
       "      <td>2016-01-01 00:00:00</td>\n",
       "      <td>25.0</td>\n",
       "      <td>6.0</td>\n",
       "      <td>20.0</td>\n",
       "      <td>NaN</td>\n",
       "      <td>1019.7</td>\n",
       "      <td>0.0</td>\n",
       "      <td>0.0</td>\n",
       "    </tr>\n",
       "    <tr>\n",
       "      <th>1</th>\n",
       "      <td>0</td>\n",
       "      <td>2016-01-01 01:00:00</td>\n",
       "      <td>24.4</td>\n",
       "      <td>NaN</td>\n",
       "      <td>21.1</td>\n",
       "      <td>-1.0</td>\n",
       "      <td>1020.2</td>\n",
       "      <td>70.0</td>\n",
       "      <td>1.5</td>\n",
       "    </tr>\n",
       "    <tr>\n",
       "      <th>2</th>\n",
       "      <td>0</td>\n",
       "      <td>2016-01-01 02:00:00</td>\n",
       "      <td>22.8</td>\n",
       "      <td>2.0</td>\n",
       "      <td>21.1</td>\n",
       "      <td>0.0</td>\n",
       "      <td>1020.2</td>\n",
       "      <td>0.0</td>\n",
       "      <td>0.0</td>\n",
       "    </tr>\n",
       "  </tbody>\n",
       "</table>\n",
       "</div>"
      ],
      "text/plain": [
       "   site_id    weather_timestamp  air_temperature  cloud_coverage  \\\n",
       "0        0  2016-01-01 00:00:00             25.0             6.0   \n",
       "1        0  2016-01-01 01:00:00             24.4             NaN   \n",
       "2        0  2016-01-01 02:00:00             22.8             2.0   \n",
       "\n",
       "   dew_temperature  precip_depth_1_hr  sea_level_pressure  wind_direction  \\\n",
       "0             20.0                NaN              1019.7             0.0   \n",
       "1             21.1               -1.0              1020.2            70.0   \n",
       "2             21.1                0.0              1020.2             0.0   \n",
       "\n",
       "   wind_speed  \n",
       "0         0.0  \n",
       "1         1.5  \n",
       "2         0.0  "
      ]
     },
     "execution_count": 13,
     "metadata": {},
     "output_type": "execute_result"
    }
   ],
   "source": [
    "# Check successful rename\n",
    "weather_train_df.head(3)"
   ]
  },
  {
   "cell_type": "code",
   "execution_count": null,
   "id": "e9973f1e-e814-48be-a564-81dc06a40646",
   "metadata": {},
   "outputs": [],
   "source": []
  },
  {
   "cell_type": "markdown",
   "id": "e57a9289-f5fa-4fc5-b129-686c059ae186",
   "metadata": {},
   "source": [
    "#### Merge train_building_df with 'weather_train.csv' on 'site_id\n",
    "Without timestamp data type change from object to datetime"
   ]
  },
  {
   "cell_type": "code",
   "execution_count": 14,
   "id": "c0cf40e3-2428-4da5-ae41-c56fe600adfb",
   "metadata": {},
   "outputs": [
    {
     "data": {
      "text/html": [
       "<div>\n",
       "<style scoped>\n",
       "    .dataframe tbody tr th:only-of-type {\n",
       "        vertical-align: middle;\n",
       "    }\n",
       "\n",
       "    .dataframe tbody tr th {\n",
       "        vertical-align: top;\n",
       "    }\n",
       "\n",
       "    .dataframe thead th {\n",
       "        text-align: right;\n",
       "    }\n",
       "</style>\n",
       "<table border=\"1\" class=\"dataframe\">\n",
       "  <thead>\n",
       "    <tr style=\"text-align: right;\">\n",
       "      <th></th>\n",
       "      <th>building_id</th>\n",
       "      <th>meter</th>\n",
       "      <th>meter_timestamp</th>\n",
       "      <th>meter_reading</th>\n",
       "      <th>site_id</th>\n",
       "      <th>primary_use</th>\n",
       "      <th>square_feet</th>\n",
       "      <th>year_built</th>\n",
       "      <th>floor_count</th>\n",
       "      <th>weather_timestamp</th>\n",
       "      <th>air_temperature</th>\n",
       "      <th>cloud_coverage</th>\n",
       "      <th>dew_temperature</th>\n",
       "      <th>precip_depth_1_hr</th>\n",
       "      <th>sea_level_pressure</th>\n",
       "      <th>wind_direction</th>\n",
       "      <th>wind_speed</th>\n",
       "    </tr>\n",
       "  </thead>\n",
       "  <tbody>\n",
       "    <tr>\n",
       "      <th>0</th>\n",
       "      <td>0</td>\n",
       "      <td>0</td>\n",
       "      <td>2016-01-01 00:00:00</td>\n",
       "      <td>0.0000</td>\n",
       "      <td>0</td>\n",
       "      <td>Education</td>\n",
       "      <td>7432</td>\n",
       "      <td>2008.0</td>\n",
       "      <td>NaN</td>\n",
       "      <td>2016-01-01 00:00:00</td>\n",
       "      <td>25.0</td>\n",
       "      <td>6.0</td>\n",
       "      <td>20.0</td>\n",
       "      <td>NaN</td>\n",
       "      <td>1019.7</td>\n",
       "      <td>0.0</td>\n",
       "      <td>0.0</td>\n",
       "    </tr>\n",
       "    <tr>\n",
       "      <th>1</th>\n",
       "      <td>1</td>\n",
       "      <td>0</td>\n",
       "      <td>2016-01-01 00:00:00</td>\n",
       "      <td>0.0000</td>\n",
       "      <td>0</td>\n",
       "      <td>Education</td>\n",
       "      <td>2720</td>\n",
       "      <td>2004.0</td>\n",
       "      <td>NaN</td>\n",
       "      <td>2016-01-01 00:00:00</td>\n",
       "      <td>25.0</td>\n",
       "      <td>6.0</td>\n",
       "      <td>20.0</td>\n",
       "      <td>NaN</td>\n",
       "      <td>1019.7</td>\n",
       "      <td>0.0</td>\n",
       "      <td>0.0</td>\n",
       "    </tr>\n",
       "    <tr>\n",
       "      <th>2</th>\n",
       "      <td>2</td>\n",
       "      <td>0</td>\n",
       "      <td>2016-01-01 00:00:00</td>\n",
       "      <td>0.0000</td>\n",
       "      <td>0</td>\n",
       "      <td>Education</td>\n",
       "      <td>5376</td>\n",
       "      <td>1991.0</td>\n",
       "      <td>NaN</td>\n",
       "      <td>2016-01-01 00:00:00</td>\n",
       "      <td>25.0</td>\n",
       "      <td>6.0</td>\n",
       "      <td>20.0</td>\n",
       "      <td>NaN</td>\n",
       "      <td>1019.7</td>\n",
       "      <td>0.0</td>\n",
       "      <td>0.0</td>\n",
       "    </tr>\n",
       "    <tr>\n",
       "      <th>3</th>\n",
       "      <td>3</td>\n",
       "      <td>0</td>\n",
       "      <td>2016-01-01 00:00:00</td>\n",
       "      <td>0.0000</td>\n",
       "      <td>0</td>\n",
       "      <td>Education</td>\n",
       "      <td>23685</td>\n",
       "      <td>2002.0</td>\n",
       "      <td>NaN</td>\n",
       "      <td>2016-01-01 00:00:00</td>\n",
       "      <td>25.0</td>\n",
       "      <td>6.0</td>\n",
       "      <td>20.0</td>\n",
       "      <td>NaN</td>\n",
       "      <td>1019.7</td>\n",
       "      <td>0.0</td>\n",
       "      <td>0.0</td>\n",
       "    </tr>\n",
       "    <tr>\n",
       "      <th>4</th>\n",
       "      <td>4</td>\n",
       "      <td>0</td>\n",
       "      <td>2016-01-01 00:00:00</td>\n",
       "      <td>0.0000</td>\n",
       "      <td>0</td>\n",
       "      <td>Education</td>\n",
       "      <td>116607</td>\n",
       "      <td>1975.0</td>\n",
       "      <td>NaN</td>\n",
       "      <td>2016-01-01 00:00:00</td>\n",
       "      <td>25.0</td>\n",
       "      <td>6.0</td>\n",
       "      <td>20.0</td>\n",
       "      <td>NaN</td>\n",
       "      <td>1019.7</td>\n",
       "      <td>0.0</td>\n",
       "      <td>0.0</td>\n",
       "    </tr>\n",
       "    <tr>\n",
       "      <th>...</th>\n",
       "      <td>...</td>\n",
       "      <td>...</td>\n",
       "      <td>...</td>\n",
       "      <td>...</td>\n",
       "      <td>...</td>\n",
       "      <td>...</td>\n",
       "      <td>...</td>\n",
       "      <td>...</td>\n",
       "      <td>...</td>\n",
       "      <td>...</td>\n",
       "      <td>...</td>\n",
       "      <td>...</td>\n",
       "      <td>...</td>\n",
       "      <td>...</td>\n",
       "      <td>...</td>\n",
       "      <td>...</td>\n",
       "      <td>...</td>\n",
       "    </tr>\n",
       "    <tr>\n",
       "      <th>20125600</th>\n",
       "      <td>1400</td>\n",
       "      <td>1</td>\n",
       "      <td>2016-03-24 12:00:00</td>\n",
       "      <td>15.3753</td>\n",
       "      <td>15</td>\n",
       "      <td>Lodging/residential</td>\n",
       "      <td>21168</td>\n",
       "      <td>1928.0</td>\n",
       "      <td>NaN</td>\n",
       "      <td>2016-03-24 12:00:00</td>\n",
       "      <td>1.7</td>\n",
       "      <td>NaN</td>\n",
       "      <td>1.7</td>\n",
       "      <td>NaN</td>\n",
       "      <td>1016.8</td>\n",
       "      <td>0.0</td>\n",
       "      <td>0.0</td>\n",
       "    </tr>\n",
       "    <tr>\n",
       "      <th>20125601</th>\n",
       "      <td>1400</td>\n",
       "      <td>1</td>\n",
       "      <td>2016-03-24 13:00:00</td>\n",
       "      <td>25.0848</td>\n",
       "      <td>15</td>\n",
       "      <td>Lodging/residential</td>\n",
       "      <td>21168</td>\n",
       "      <td>1928.0</td>\n",
       "      <td>NaN</td>\n",
       "      <td>2016-03-24 13:00:00</td>\n",
       "      <td>2.8</td>\n",
       "      <td>NaN</td>\n",
       "      <td>2.2</td>\n",
       "      <td>NaN</td>\n",
       "      <td>1016.6</td>\n",
       "      <td>320.0</td>\n",
       "      <td>1.5</td>\n",
       "    </tr>\n",
       "    <tr>\n",
       "      <th>20125602</th>\n",
       "      <td>1400</td>\n",
       "      <td>1</td>\n",
       "      <td>2016-03-24 14:00:00</td>\n",
       "      <td>32.3439</td>\n",
       "      <td>15</td>\n",
       "      <td>Lodging/residential</td>\n",
       "      <td>21168</td>\n",
       "      <td>1928.0</td>\n",
       "      <td>NaN</td>\n",
       "      <td>2016-03-24 14:00:00</td>\n",
       "      <td>5.6</td>\n",
       "      <td>NaN</td>\n",
       "      <td>4.4</td>\n",
       "      <td>NaN</td>\n",
       "      <td>1015.2</td>\n",
       "      <td>110.0</td>\n",
       "      <td>2.1</td>\n",
       "    </tr>\n",
       "    <tr>\n",
       "      <th>20125603</th>\n",
       "      <td>1400</td>\n",
       "      <td>1</td>\n",
       "      <td>2016-03-24 15:00:00</td>\n",
       "      <td>24.2214</td>\n",
       "      <td>15</td>\n",
       "      <td>Lodging/residential</td>\n",
       "      <td>21168</td>\n",
       "      <td>1928.0</td>\n",
       "      <td>NaN</td>\n",
       "      <td>2016-03-24 15:00:00</td>\n",
       "      <td>11.1</td>\n",
       "      <td>NaN</td>\n",
       "      <td>4.4</td>\n",
       "      <td>NaN</td>\n",
       "      <td>1013.9</td>\n",
       "      <td>150.0</td>\n",
       "      <td>5.1</td>\n",
       "    </tr>\n",
       "    <tr>\n",
       "      <th>20125604</th>\n",
       "      <td>1400</td>\n",
       "      <td>1</td>\n",
       "      <td>2016-03-24 16:00:00</td>\n",
       "      <td>16.3553</td>\n",
       "      <td>15</td>\n",
       "      <td>Lodging/residential</td>\n",
       "      <td>21168</td>\n",
       "      <td>1928.0</td>\n",
       "      <td>NaN</td>\n",
       "      <td>2016-03-24 16:00:00</td>\n",
       "      <td>15.0</td>\n",
       "      <td>4.0</td>\n",
       "      <td>4.4</td>\n",
       "      <td>NaN</td>\n",
       "      <td>1012.0</td>\n",
       "      <td>160.0</td>\n",
       "      <td>8.2</td>\n",
       "    </tr>\n",
       "  </tbody>\n",
       "</table>\n",
       "<p>20125605 rows × 17 columns</p>\n",
       "</div>"
      ],
      "text/plain": [
       "          building_id  meter      meter_timestamp  meter_reading  site_id  \\\n",
       "0                   0      0  2016-01-01 00:00:00         0.0000        0   \n",
       "1                   1      0  2016-01-01 00:00:00         0.0000        0   \n",
       "2                   2      0  2016-01-01 00:00:00         0.0000        0   \n",
       "3                   3      0  2016-01-01 00:00:00         0.0000        0   \n",
       "4                   4      0  2016-01-01 00:00:00         0.0000        0   \n",
       "...               ...    ...                  ...            ...      ...   \n",
       "20125600         1400      1  2016-03-24 12:00:00        15.3753       15   \n",
       "20125601         1400      1  2016-03-24 13:00:00        25.0848       15   \n",
       "20125602         1400      1  2016-03-24 14:00:00        32.3439       15   \n",
       "20125603         1400      1  2016-03-24 15:00:00        24.2214       15   \n",
       "20125604         1400      1  2016-03-24 16:00:00        16.3553       15   \n",
       "\n",
       "                  primary_use  square_feet  year_built  floor_count  \\\n",
       "0                   Education         7432      2008.0          NaN   \n",
       "1                   Education         2720      2004.0          NaN   \n",
       "2                   Education         5376      1991.0          NaN   \n",
       "3                   Education        23685      2002.0          NaN   \n",
       "4                   Education       116607      1975.0          NaN   \n",
       "...                       ...          ...         ...          ...   \n",
       "20125600  Lodging/residential        21168      1928.0          NaN   \n",
       "20125601  Lodging/residential        21168      1928.0          NaN   \n",
       "20125602  Lodging/residential        21168      1928.0          NaN   \n",
       "20125603  Lodging/residential        21168      1928.0          NaN   \n",
       "20125604  Lodging/residential        21168      1928.0          NaN   \n",
       "\n",
       "            weather_timestamp  air_temperature  cloud_coverage  \\\n",
       "0         2016-01-01 00:00:00             25.0             6.0   \n",
       "1         2016-01-01 00:00:00             25.0             6.0   \n",
       "2         2016-01-01 00:00:00             25.0             6.0   \n",
       "3         2016-01-01 00:00:00             25.0             6.0   \n",
       "4         2016-01-01 00:00:00             25.0             6.0   \n",
       "...                       ...              ...             ...   \n",
       "20125600  2016-03-24 12:00:00              1.7             NaN   \n",
       "20125601  2016-03-24 13:00:00              2.8             NaN   \n",
       "20125602  2016-03-24 14:00:00              5.6             NaN   \n",
       "20125603  2016-03-24 15:00:00             11.1             NaN   \n",
       "20125604  2016-03-24 16:00:00             15.0             4.0   \n",
       "\n",
       "          dew_temperature  precip_depth_1_hr  sea_level_pressure  \\\n",
       "0                    20.0                NaN              1019.7   \n",
       "1                    20.0                NaN              1019.7   \n",
       "2                    20.0                NaN              1019.7   \n",
       "3                    20.0                NaN              1019.7   \n",
       "4                    20.0                NaN              1019.7   \n",
       "...                   ...                ...                 ...   \n",
       "20125600              1.7                NaN              1016.8   \n",
       "20125601              2.2                NaN              1016.6   \n",
       "20125602              4.4                NaN              1015.2   \n",
       "20125603              4.4                NaN              1013.9   \n",
       "20125604              4.4                NaN              1012.0   \n",
       "\n",
       "          wind_direction  wind_speed  \n",
       "0                    0.0         0.0  \n",
       "1                    0.0         0.0  \n",
       "2                    0.0         0.0  \n",
       "3                    0.0         0.0  \n",
       "4                    0.0         0.0  \n",
       "...                  ...         ...  \n",
       "20125600             0.0         0.0  \n",
       "20125601           320.0         1.5  \n",
       "20125602           110.0         2.1  \n",
       "20125603           150.0         5.1  \n",
       "20125604           160.0         8.2  \n",
       "\n",
       "[20125605 rows x 17 columns]"
      ]
     },
     "execution_count": 14,
     "metadata": {},
     "output_type": "execute_result"
    }
   ],
   "source": [
    "# Merge the DataFrames on 'site_id' and 'meter_timestamp' equal to 'weather_timestamp'\n",
    "# merged_data = \n",
    "train_building_df.merge(weather_train_df, left_on=['site_id', 'meter_timestamp'], right_on=['site_id', 'weather_timestamp'], how='inner')"
   ]
  },
  {
   "cell_type": "markdown",
   "id": "6561b2c1-9125-418e-8ccf-185f1edd6e9e",
   "metadata": {},
   "source": [
    "Rows decreased after merge: 20,125,605 != 20,216,100 "
   ]
  },
  {
   "cell_type": "code",
   "execution_count": null,
   "id": "986fb457-aecf-4a72-a8a3-49e1ffc55fe4",
   "metadata": {},
   "outputs": [],
   "source": []
  },
  {
   "cell_type": "markdown",
   "id": "12f2bc8a-12bd-4c28-85cc-c9671d786226",
   "metadata": {},
   "source": [
    "#### Timestamp data type change from object to datetime"
   ]
  },
  {
   "cell_type": "code",
   "execution_count": 15,
   "id": "c60e70fa-8d5e-4446-a2ec-1387c8b26c7c",
   "metadata": {
    "scrolled": true
   },
   "outputs": [
    {
     "name": "stdout",
     "output_type": "stream",
     "text": [
      "<class 'pandas.core.frame.DataFrame'>\n",
      "RangeIndex: 20216100 entries, 0 to 20216099\n",
      "Data columns (total 9 columns):\n",
      " #   Column           Dtype  \n",
      "---  ------           -----  \n",
      " 0   building_id      int64  \n",
      " 1   meter            int64  \n",
      " 2   meter_timestamp  object \n",
      " 3   meter_reading    float64\n",
      " 4   site_id          int64  \n",
      " 5   primary_use      object \n",
      " 6   square_feet      int64  \n",
      " 7   year_built       float64\n",
      " 8   floor_count      float64\n",
      "dtypes: float64(3), int64(4), object(2)\n",
      "memory usage: 1.4+ GB\n"
     ]
    }
   ],
   "source": [
    "# train_building_df\n",
    "train_building_df.info()"
   ]
  },
  {
   "cell_type": "code",
   "execution_count": 16,
   "id": "7f41ef49-bfad-4688-b4f6-5e43e9553564",
   "metadata": {},
   "outputs": [],
   "source": [
    "# Converting timestamp from 'object' to a data time data type\n",
    "train_building_df['meter_timestamp']=train_building_df['meter_timestamp'].astype('datetime64[ns]')"
   ]
  },
  {
   "cell_type": "code",
   "execution_count": 17,
   "id": "8893cb83-173c-4eb6-aff5-145c11226a79",
   "metadata": {},
   "outputs": [
    {
     "name": "stdout",
     "output_type": "stream",
     "text": [
      "<class 'pandas.core.frame.DataFrame'>\n",
      "RangeIndex: 20216100 entries, 0 to 20216099\n",
      "Data columns (total 9 columns):\n",
      " #   Column           Dtype         \n",
      "---  ------           -----         \n",
      " 0   building_id      int64         \n",
      " 1   meter            int64         \n",
      " 2   meter_timestamp  datetime64[ns]\n",
      " 3   meter_reading    float64       \n",
      " 4   site_id          int64         \n",
      " 5   primary_use      object        \n",
      " 6   square_feet      int64         \n",
      " 7   year_built       float64       \n",
      " 8   floor_count      float64       \n",
      "dtypes: datetime64[ns](1), float64(3), int64(4), object(1)\n",
      "memory usage: 1.4+ GB\n"
     ]
    }
   ],
   "source": [
    "# Verification\n",
    "train_building_df.info()"
   ]
  },
  {
   "cell_type": "code",
   "execution_count": 18,
   "id": "e792507e-cc88-49b8-84ab-b2b592e8fea5",
   "metadata": {
    "scrolled": true
   },
   "outputs": [
    {
     "name": "stdout",
     "output_type": "stream",
     "text": [
      "<class 'pandas.core.frame.DataFrame'>\n",
      "RangeIndex: 139773 entries, 0 to 139772\n",
      "Data columns (total 9 columns):\n",
      " #   Column              Non-Null Count   Dtype  \n",
      "---  ------              --------------   -----  \n",
      " 0   site_id             139773 non-null  int64  \n",
      " 1   weather_timestamp   139773 non-null  object \n",
      " 2   air_temperature     139718 non-null  float64\n",
      " 3   cloud_coverage      70600 non-null   float64\n",
      " 4   dew_temperature     139660 non-null  float64\n",
      " 5   precip_depth_1_hr   89484 non-null   float64\n",
      " 6   sea_level_pressure  129155 non-null  float64\n",
      " 7   wind_direction      133505 non-null  float64\n",
      " 8   wind_speed          139469 non-null  float64\n",
      "dtypes: float64(7), int64(1), object(1)\n",
      "memory usage: 9.6+ MB\n"
     ]
    }
   ],
   "source": [
    "# weather_train_df\n",
    "# timestamp data type change from object to dataframe\n",
    "weather_train_df.info()"
   ]
  },
  {
   "cell_type": "code",
   "execution_count": 19,
   "id": "9163f77e-a113-4838-8ddf-e11672318b2e",
   "metadata": {},
   "outputs": [],
   "source": [
    "# Converting timestamp from 'object' to a data time data type\n",
    "weather_train_df['weather_timestamp']=weather_train_df['weather_timestamp'].astype('datetime64[ns]')"
   ]
  },
  {
   "cell_type": "code",
   "execution_count": 20,
   "id": "c3fe65fc-369b-4edb-90e7-9be685d59a8b",
   "metadata": {},
   "outputs": [
    {
     "name": "stdout",
     "output_type": "stream",
     "text": [
      "<class 'pandas.core.frame.DataFrame'>\n",
      "RangeIndex: 139773 entries, 0 to 139772\n",
      "Data columns (total 9 columns):\n",
      " #   Column              Non-Null Count   Dtype         \n",
      "---  ------              --------------   -----         \n",
      " 0   site_id             139773 non-null  int64         \n",
      " 1   weather_timestamp   139773 non-null  datetime64[ns]\n",
      " 2   air_temperature     139718 non-null  float64       \n",
      " 3   cloud_coverage      70600 non-null   float64       \n",
      " 4   dew_temperature     139660 non-null  float64       \n",
      " 5   precip_depth_1_hr   89484 non-null   float64       \n",
      " 6   sea_level_pressure  129155 non-null  float64       \n",
      " 7   wind_direction      133505 non-null  float64       \n",
      " 8   wind_speed          139469 non-null  float64       \n",
      "dtypes: datetime64[ns](1), float64(7), int64(1)\n",
      "memory usage: 9.6 MB\n"
     ]
    }
   ],
   "source": [
    "# Verification\n",
    "weather_train_df.info()"
   ]
  },
  {
   "cell_type": "code",
   "execution_count": null,
   "id": "2282d1bf-a34d-487a-8288-70dda16e9449",
   "metadata": {},
   "outputs": [],
   "source": []
  },
  {
   "cell_type": "markdown",
   "id": "837102d3-ac8d-4d18-8aee-784800b49220",
   "metadata": {},
   "source": [
    "#### Inner merge between train_building_df and weather_train_df"
   ]
  },
  {
   "cell_type": "code",
   "execution_count": 21,
   "id": "3052e572-305d-41f9-b5c5-a0ae73769086",
   "metadata": {},
   "outputs": [
    {
     "data": {
      "text/html": [
       "<div>\n",
       "<style scoped>\n",
       "    .dataframe tbody tr th:only-of-type {\n",
       "        vertical-align: middle;\n",
       "    }\n",
       "\n",
       "    .dataframe tbody tr th {\n",
       "        vertical-align: top;\n",
       "    }\n",
       "\n",
       "    .dataframe thead th {\n",
       "        text-align: right;\n",
       "    }\n",
       "</style>\n",
       "<table border=\"1\" class=\"dataframe\">\n",
       "  <thead>\n",
       "    <tr style=\"text-align: right;\">\n",
       "      <th></th>\n",
       "      <th>building_id</th>\n",
       "      <th>meter</th>\n",
       "      <th>meter_timestamp</th>\n",
       "      <th>meter_reading</th>\n",
       "      <th>site_id</th>\n",
       "      <th>primary_use</th>\n",
       "      <th>square_feet</th>\n",
       "      <th>year_built</th>\n",
       "      <th>floor_count</th>\n",
       "      <th>weather_timestamp</th>\n",
       "      <th>air_temperature</th>\n",
       "      <th>cloud_coverage</th>\n",
       "      <th>dew_temperature</th>\n",
       "      <th>precip_depth_1_hr</th>\n",
       "      <th>sea_level_pressure</th>\n",
       "      <th>wind_direction</th>\n",
       "      <th>wind_speed</th>\n",
       "    </tr>\n",
       "  </thead>\n",
       "  <tbody>\n",
       "    <tr>\n",
       "      <th>6603703</th>\n",
       "      <td>633</td>\n",
       "      <td>0</td>\n",
       "      <td>2016-02-08 20:00:00</td>\n",
       "      <td>27.713</td>\n",
       "      <td>4</td>\n",
       "      <td>Parking</td>\n",
       "      <td>98539</td>\n",
       "      <td>1989.0</td>\n",
       "      <td>2.0</td>\n",
       "      <td>2016-02-08 20:00:00</td>\n",
       "      <td>18.3</td>\n",
       "      <td>0.0</td>\n",
       "      <td>7.8</td>\n",
       "      <td>0.0</td>\n",
       "      <td>1023.9</td>\n",
       "      <td>180.0</td>\n",
       "      <td>4.1</td>\n",
       "    </tr>\n",
       "    <tr>\n",
       "      <th>15075271</th>\n",
       "      <td>1171</td>\n",
       "      <td>0</td>\n",
       "      <td>2016-09-14 02:00:00</td>\n",
       "      <td>50.223</td>\n",
       "      <td>13</td>\n",
       "      <td>Manufacturing/industrial</td>\n",
       "      <td>56851</td>\n",
       "      <td>NaN</td>\n",
       "      <td>NaN</td>\n",
       "      <td>2016-09-14 02:00:00</td>\n",
       "      <td>15.0</td>\n",
       "      <td>NaN</td>\n",
       "      <td>7.2</td>\n",
       "      <td>-1.0</td>\n",
       "      <td>1023.8</td>\n",
       "      <td>10.0</td>\n",
       "      <td>3.1</td>\n",
       "    </tr>\n",
       "    <tr>\n",
       "      <th>317459</th>\n",
       "      <td>28</td>\n",
       "      <td>0</td>\n",
       "      <td>2016-04-26 04:00:00</td>\n",
       "      <td>0.000</td>\n",
       "      <td>0</td>\n",
       "      <td>Office</td>\n",
       "      <td>52957</td>\n",
       "      <td>2016.0</td>\n",
       "      <td>NaN</td>\n",
       "      <td>2016-04-26 04:00:00</td>\n",
       "      <td>19.4</td>\n",
       "      <td>2.0</td>\n",
       "      <td>15.6</td>\n",
       "      <td>0.0</td>\n",
       "      <td>1016.8</td>\n",
       "      <td>80.0</td>\n",
       "      <td>2.1</td>\n",
       "    </tr>\n",
       "  </tbody>\n",
       "</table>\n",
       "</div>"
      ],
      "text/plain": [
       "          building_id  meter     meter_timestamp  meter_reading  site_id  \\\n",
       "6603703           633      0 2016-02-08 20:00:00         27.713        4   \n",
       "15075271         1171      0 2016-09-14 02:00:00         50.223       13   \n",
       "317459             28      0 2016-04-26 04:00:00          0.000        0   \n",
       "\n",
       "                       primary_use  square_feet  year_built  floor_count  \\\n",
       "6603703                    Parking        98539      1989.0          2.0   \n",
       "15075271  Manufacturing/industrial        56851         NaN          NaN   \n",
       "317459                      Office        52957      2016.0          NaN   \n",
       "\n",
       "           weather_timestamp  air_temperature  cloud_coverage  \\\n",
       "6603703  2016-02-08 20:00:00             18.3             0.0   \n",
       "15075271 2016-09-14 02:00:00             15.0             NaN   \n",
       "317459   2016-04-26 04:00:00             19.4             2.0   \n",
       "\n",
       "          dew_temperature  precip_depth_1_hr  sea_level_pressure  \\\n",
       "6603703               7.8                0.0              1023.9   \n",
       "15075271              7.2               -1.0              1023.8   \n",
       "317459               15.6                0.0              1016.8   \n",
       "\n",
       "          wind_direction  wind_speed  \n",
       "6603703            180.0         4.1  \n",
       "15075271            10.0         3.1  \n",
       "317459              80.0         2.1  "
      ]
     },
     "execution_count": 21,
     "metadata": {},
     "output_type": "execute_result"
    }
   ],
   "source": [
    "# Merge the DataFrames on 'site_id' and 'meter_timestamp' equal to 'weather_timestamp'\n",
    "merged_train_df = train_building_df.merge(weather_train_df, left_on=['site_id', 'meter_timestamp'], right_on=['site_id', 'weather_timestamp'], how='inner')\n",
    "merged_train_df.sample(3)"
   ]
  },
  {
   "cell_type": "markdown",
   "id": "c75586e6-604e-43c3-ba14-8a0fed752b23",
   "metadata": {},
   "source": [
    "Rows decreased after merge: 20,125,605 != 20,216,100. Not all the records satisfy the double merge condition."
   ]
  },
  {
   "cell_type": "code",
   "execution_count": null,
   "id": "bbb13525-fb2b-47a2-92be-7987d42c9028",
   "metadata": {},
   "outputs": [],
   "source": []
  },
  {
   "cell_type": "markdown",
   "id": "8a6c9fc8-76cb-4712-8b4a-fc1236828f53",
   "metadata": {},
   "source": [
    "#### Left merge merge between train_building_df and weather_train_df"
   ]
  },
  {
   "cell_type": "code",
   "execution_count": 22,
   "id": "1f91ad98-1c6b-4ed5-8e41-17b7ef15d936",
   "metadata": {},
   "outputs": [
    {
     "data": {
      "text/html": [
       "<div>\n",
       "<style scoped>\n",
       "    .dataframe tbody tr th:only-of-type {\n",
       "        vertical-align: middle;\n",
       "    }\n",
       "\n",
       "    .dataframe tbody tr th {\n",
       "        vertical-align: top;\n",
       "    }\n",
       "\n",
       "    .dataframe thead th {\n",
       "        text-align: right;\n",
       "    }\n",
       "</style>\n",
       "<table border=\"1\" class=\"dataframe\">\n",
       "  <thead>\n",
       "    <tr style=\"text-align: right;\">\n",
       "      <th></th>\n",
       "      <th>building_id</th>\n",
       "      <th>meter</th>\n",
       "      <th>meter_timestamp</th>\n",
       "      <th>meter_reading</th>\n",
       "      <th>site_id</th>\n",
       "      <th>primary_use</th>\n",
       "      <th>square_feet</th>\n",
       "      <th>year_built</th>\n",
       "      <th>floor_count</th>\n",
       "      <th>weather_timestamp</th>\n",
       "      <th>air_temperature</th>\n",
       "      <th>cloud_coverage</th>\n",
       "      <th>dew_temperature</th>\n",
       "      <th>precip_depth_1_hr</th>\n",
       "      <th>sea_level_pressure</th>\n",
       "      <th>wind_direction</th>\n",
       "      <th>wind_speed</th>\n",
       "    </tr>\n",
       "  </thead>\n",
       "  <tbody>\n",
       "    <tr>\n",
       "      <th>0</th>\n",
       "      <td>0</td>\n",
       "      <td>0</td>\n",
       "      <td>2016-01-01 00:00:00</td>\n",
       "      <td>0.00</td>\n",
       "      <td>0</td>\n",
       "      <td>Education</td>\n",
       "      <td>7432</td>\n",
       "      <td>2008.0</td>\n",
       "      <td>NaN</td>\n",
       "      <td>2016-01-01 00:00:00</td>\n",
       "      <td>25.0</td>\n",
       "      <td>6.0</td>\n",
       "      <td>20.0</td>\n",
       "      <td>NaN</td>\n",
       "      <td>1019.7</td>\n",
       "      <td>0.0</td>\n",
       "      <td>0.0</td>\n",
       "    </tr>\n",
       "    <tr>\n",
       "      <th>1</th>\n",
       "      <td>0</td>\n",
       "      <td>0</td>\n",
       "      <td>2016-01-01 01:00:00</td>\n",
       "      <td>0.00</td>\n",
       "      <td>0</td>\n",
       "      <td>Education</td>\n",
       "      <td>7432</td>\n",
       "      <td>2008.0</td>\n",
       "      <td>NaN</td>\n",
       "      <td>2016-01-01 01:00:00</td>\n",
       "      <td>24.4</td>\n",
       "      <td>NaN</td>\n",
       "      <td>21.1</td>\n",
       "      <td>-1.0</td>\n",
       "      <td>1020.2</td>\n",
       "      <td>70.0</td>\n",
       "      <td>1.5</td>\n",
       "    </tr>\n",
       "    <tr>\n",
       "      <th>2</th>\n",
       "      <td>0</td>\n",
       "      <td>0</td>\n",
       "      <td>2016-01-01 02:00:00</td>\n",
       "      <td>0.00</td>\n",
       "      <td>0</td>\n",
       "      <td>Education</td>\n",
       "      <td>7432</td>\n",
       "      <td>2008.0</td>\n",
       "      <td>NaN</td>\n",
       "      <td>2016-01-01 02:00:00</td>\n",
       "      <td>22.8</td>\n",
       "      <td>2.0</td>\n",
       "      <td>21.1</td>\n",
       "      <td>0.0</td>\n",
       "      <td>1020.2</td>\n",
       "      <td>0.0</td>\n",
       "      <td>0.0</td>\n",
       "    </tr>\n",
       "    <tr>\n",
       "      <th>3</th>\n",
       "      <td>0</td>\n",
       "      <td>0</td>\n",
       "      <td>2016-01-01 03:00:00</td>\n",
       "      <td>0.00</td>\n",
       "      <td>0</td>\n",
       "      <td>Education</td>\n",
       "      <td>7432</td>\n",
       "      <td>2008.0</td>\n",
       "      <td>NaN</td>\n",
       "      <td>2016-01-01 03:00:00</td>\n",
       "      <td>21.1</td>\n",
       "      <td>2.0</td>\n",
       "      <td>20.6</td>\n",
       "      <td>0.0</td>\n",
       "      <td>1020.1</td>\n",
       "      <td>0.0</td>\n",
       "      <td>0.0</td>\n",
       "    </tr>\n",
       "    <tr>\n",
       "      <th>4</th>\n",
       "      <td>0</td>\n",
       "      <td>0</td>\n",
       "      <td>2016-01-01 04:00:00</td>\n",
       "      <td>0.00</td>\n",
       "      <td>0</td>\n",
       "      <td>Education</td>\n",
       "      <td>7432</td>\n",
       "      <td>2008.0</td>\n",
       "      <td>NaN</td>\n",
       "      <td>2016-01-01 04:00:00</td>\n",
       "      <td>20.0</td>\n",
       "      <td>2.0</td>\n",
       "      <td>20.0</td>\n",
       "      <td>-1.0</td>\n",
       "      <td>1020.0</td>\n",
       "      <td>250.0</td>\n",
       "      <td>2.6</td>\n",
       "    </tr>\n",
       "    <tr>\n",
       "      <th>...</th>\n",
       "      <td>...</td>\n",
       "      <td>...</td>\n",
       "      <td>...</td>\n",
       "      <td>...</td>\n",
       "      <td>...</td>\n",
       "      <td>...</td>\n",
       "      <td>...</td>\n",
       "      <td>...</td>\n",
       "      <td>...</td>\n",
       "      <td>...</td>\n",
       "      <td>...</td>\n",
       "      <td>...</td>\n",
       "      <td>...</td>\n",
       "      <td>...</td>\n",
       "      <td>...</td>\n",
       "      <td>...</td>\n",
       "      <td>...</td>\n",
       "    </tr>\n",
       "    <tr>\n",
       "      <th>20216095</th>\n",
       "      <td>403</td>\n",
       "      <td>0</td>\n",
       "      <td>2016-12-31 19:00:00</td>\n",
       "      <td>43.66</td>\n",
       "      <td>3</td>\n",
       "      <td>Education</td>\n",
       "      <td>49500</td>\n",
       "      <td>1962.0</td>\n",
       "      <td>NaN</td>\n",
       "      <td>2016-12-31 19:00:00</td>\n",
       "      <td>9.4</td>\n",
       "      <td>NaN</td>\n",
       "      <td>-6.7</td>\n",
       "      <td>0.0</td>\n",
       "      <td>1016.7</td>\n",
       "      <td>200.0</td>\n",
       "      <td>11.8</td>\n",
       "    </tr>\n",
       "    <tr>\n",
       "      <th>20216096</th>\n",
       "      <td>403</td>\n",
       "      <td>0</td>\n",
       "      <td>2016-12-31 20:00:00</td>\n",
       "      <td>43.64</td>\n",
       "      <td>3</td>\n",
       "      <td>Education</td>\n",
       "      <td>49500</td>\n",
       "      <td>1962.0</td>\n",
       "      <td>NaN</td>\n",
       "      <td>2016-12-31 20:00:00</td>\n",
       "      <td>8.9</td>\n",
       "      <td>NaN</td>\n",
       "      <td>-6.1</td>\n",
       "      <td>0.0</td>\n",
       "      <td>1016.3</td>\n",
       "      <td>200.0</td>\n",
       "      <td>8.2</td>\n",
       "    </tr>\n",
       "    <tr>\n",
       "      <th>20216097</th>\n",
       "      <td>403</td>\n",
       "      <td>0</td>\n",
       "      <td>2016-12-31 21:00:00</td>\n",
       "      <td>43.89</td>\n",
       "      <td>3</td>\n",
       "      <td>Education</td>\n",
       "      <td>49500</td>\n",
       "      <td>1962.0</td>\n",
       "      <td>NaN</td>\n",
       "      <td>2016-12-31 21:00:00</td>\n",
       "      <td>8.9</td>\n",
       "      <td>6.0</td>\n",
       "      <td>-6.1</td>\n",
       "      <td>0.0</td>\n",
       "      <td>1015.4</td>\n",
       "      <td>190.0</td>\n",
       "      <td>7.7</td>\n",
       "    </tr>\n",
       "    <tr>\n",
       "      <th>20216098</th>\n",
       "      <td>403</td>\n",
       "      <td>0</td>\n",
       "      <td>2016-12-31 22:00:00</td>\n",
       "      <td>44.37</td>\n",
       "      <td>3</td>\n",
       "      <td>Education</td>\n",
       "      <td>49500</td>\n",
       "      <td>1962.0</td>\n",
       "      <td>NaN</td>\n",
       "      <td>2016-12-31 22:00:00</td>\n",
       "      <td>8.9</td>\n",
       "      <td>NaN</td>\n",
       "      <td>-6.1</td>\n",
       "      <td>0.0</td>\n",
       "      <td>1015.7</td>\n",
       "      <td>200.0</td>\n",
       "      <td>8.2</td>\n",
       "    </tr>\n",
       "    <tr>\n",
       "      <th>20216099</th>\n",
       "      <td>403</td>\n",
       "      <td>0</td>\n",
       "      <td>2016-12-31 23:00:00</td>\n",
       "      <td>43.71</td>\n",
       "      <td>3</td>\n",
       "      <td>Education</td>\n",
       "      <td>49500</td>\n",
       "      <td>1962.0</td>\n",
       "      <td>NaN</td>\n",
       "      <td>2016-12-31 23:00:00</td>\n",
       "      <td>8.9</td>\n",
       "      <td>NaN</td>\n",
       "      <td>-5.6</td>\n",
       "      <td>0.0</td>\n",
       "      <td>1015.5</td>\n",
       "      <td>200.0</td>\n",
       "      <td>6.2</td>\n",
       "    </tr>\n",
       "  </tbody>\n",
       "</table>\n",
       "<p>20216100 rows × 17 columns</p>\n",
       "</div>"
      ],
      "text/plain": [
       "          building_id  meter     meter_timestamp  meter_reading  site_id  \\\n",
       "0                   0      0 2016-01-01 00:00:00           0.00        0   \n",
       "1                   0      0 2016-01-01 01:00:00           0.00        0   \n",
       "2                   0      0 2016-01-01 02:00:00           0.00        0   \n",
       "3                   0      0 2016-01-01 03:00:00           0.00        0   \n",
       "4                   0      0 2016-01-01 04:00:00           0.00        0   \n",
       "...               ...    ...                 ...            ...      ...   \n",
       "20216095          403      0 2016-12-31 19:00:00          43.66        3   \n",
       "20216096          403      0 2016-12-31 20:00:00          43.64        3   \n",
       "20216097          403      0 2016-12-31 21:00:00          43.89        3   \n",
       "20216098          403      0 2016-12-31 22:00:00          44.37        3   \n",
       "20216099          403      0 2016-12-31 23:00:00          43.71        3   \n",
       "\n",
       "         primary_use  square_feet  year_built  floor_count  \\\n",
       "0          Education         7432      2008.0          NaN   \n",
       "1          Education         7432      2008.0          NaN   \n",
       "2          Education         7432      2008.0          NaN   \n",
       "3          Education         7432      2008.0          NaN   \n",
       "4          Education         7432      2008.0          NaN   \n",
       "...              ...          ...         ...          ...   \n",
       "20216095   Education        49500      1962.0          NaN   \n",
       "20216096   Education        49500      1962.0          NaN   \n",
       "20216097   Education        49500      1962.0          NaN   \n",
       "20216098   Education        49500      1962.0          NaN   \n",
       "20216099   Education        49500      1962.0          NaN   \n",
       "\n",
       "           weather_timestamp  air_temperature  cloud_coverage  \\\n",
       "0        2016-01-01 00:00:00             25.0             6.0   \n",
       "1        2016-01-01 01:00:00             24.4             NaN   \n",
       "2        2016-01-01 02:00:00             22.8             2.0   \n",
       "3        2016-01-01 03:00:00             21.1             2.0   \n",
       "4        2016-01-01 04:00:00             20.0             2.0   \n",
       "...                      ...              ...             ...   \n",
       "20216095 2016-12-31 19:00:00              9.4             NaN   \n",
       "20216096 2016-12-31 20:00:00              8.9             NaN   \n",
       "20216097 2016-12-31 21:00:00              8.9             6.0   \n",
       "20216098 2016-12-31 22:00:00              8.9             NaN   \n",
       "20216099 2016-12-31 23:00:00              8.9             NaN   \n",
       "\n",
       "          dew_temperature  precip_depth_1_hr  sea_level_pressure  \\\n",
       "0                    20.0                NaN              1019.7   \n",
       "1                    21.1               -1.0              1020.2   \n",
       "2                    21.1                0.0              1020.2   \n",
       "3                    20.6                0.0              1020.1   \n",
       "4                    20.0               -1.0              1020.0   \n",
       "...                   ...                ...                 ...   \n",
       "20216095             -6.7                0.0              1016.7   \n",
       "20216096             -6.1                0.0              1016.3   \n",
       "20216097             -6.1                0.0              1015.4   \n",
       "20216098             -6.1                0.0              1015.7   \n",
       "20216099             -5.6                0.0              1015.5   \n",
       "\n",
       "          wind_direction  wind_speed  \n",
       "0                    0.0         0.0  \n",
       "1                   70.0         1.5  \n",
       "2                    0.0         0.0  \n",
       "3                    0.0         0.0  \n",
       "4                  250.0         2.6  \n",
       "...                  ...         ...  \n",
       "20216095           200.0        11.8  \n",
       "20216096           200.0         8.2  \n",
       "20216097           190.0         7.7  \n",
       "20216098           200.0         8.2  \n",
       "20216099           200.0         6.2  \n",
       "\n",
       "[20216100 rows x 17 columns]"
      ]
     },
     "execution_count": 22,
     "metadata": {},
     "output_type": "execute_result"
    }
   ],
   "source": [
    "# Merge the DataFrames on 'site_id' and 'meter_timestamp' equal to 'weather_timestamp'\n",
    "# merged_data = \n",
    "train_building_df.merge(weather_train_df, left_on=['site_id', 'meter_timestamp'], right_on=['site_id', 'weather_timestamp'], how='left')"
   ]
  },
  {
   "cell_type": "markdown",
   "id": "ba4a0e1c-5d13-4223-a103-e3a51bbc15a2",
   "metadata": {},
   "source": [
    "Continue with inner merge since it provides less null values for weather info"
   ]
  },
  {
   "cell_type": "code",
   "execution_count": 23,
   "id": "84c1ecae-11c6-439a-9413-87ee5c63ee57",
   "metadata": {},
   "outputs": [
    {
     "data": {
      "text/html": [
       "<div>\n",
       "<style scoped>\n",
       "    .dataframe tbody tr th:only-of-type {\n",
       "        vertical-align: middle;\n",
       "    }\n",
       "\n",
       "    .dataframe tbody tr th {\n",
       "        vertical-align: top;\n",
       "    }\n",
       "\n",
       "    .dataframe thead th {\n",
       "        text-align: right;\n",
       "    }\n",
       "</style>\n",
       "<table border=\"1\" class=\"dataframe\">\n",
       "  <thead>\n",
       "    <tr style=\"text-align: right;\">\n",
       "      <th></th>\n",
       "      <th>building_id</th>\n",
       "      <th>meter</th>\n",
       "      <th>meter_timestamp</th>\n",
       "      <th>meter_reading</th>\n",
       "      <th>site_id</th>\n",
       "      <th>primary_use</th>\n",
       "      <th>square_feet</th>\n",
       "      <th>year_built</th>\n",
       "      <th>floor_count</th>\n",
       "      <th>weather_timestamp</th>\n",
       "      <th>air_temperature</th>\n",
       "      <th>cloud_coverage</th>\n",
       "      <th>dew_temperature</th>\n",
       "      <th>precip_depth_1_hr</th>\n",
       "      <th>sea_level_pressure</th>\n",
       "      <th>wind_direction</th>\n",
       "      <th>wind_speed</th>\n",
       "    </tr>\n",
       "  </thead>\n",
       "  <tbody>\n",
       "    <tr>\n",
       "      <th>18587316</th>\n",
       "      <td>1376</td>\n",
       "      <td>0</td>\n",
       "      <td>2016-02-09 21:00:00</td>\n",
       "      <td>208.575</td>\n",
       "      <td>15</td>\n",
       "      <td>Public services</td>\n",
       "      <td>240026</td>\n",
       "      <td>1960.0</td>\n",
       "      <td>NaN</td>\n",
       "      <td>2016-02-09 21:00:00</td>\n",
       "      <td>0.6</td>\n",
       "      <td>NaN</td>\n",
       "      <td>-1.1</td>\n",
       "      <td>-1.0</td>\n",
       "      <td>999.3</td>\n",
       "      <td>310.0</td>\n",
       "      <td>3.6</td>\n",
       "    </tr>\n",
       "    <tr>\n",
       "      <th>6603690</th>\n",
       "      <td>619</td>\n",
       "      <td>0</td>\n",
       "      <td>2016-02-08 20:00:00</td>\n",
       "      <td>211.376</td>\n",
       "      <td>4</td>\n",
       "      <td>Education</td>\n",
       "      <td>68146</td>\n",
       "      <td>1948.0</td>\n",
       "      <td>6.0</td>\n",
       "      <td>2016-02-08 20:00:00</td>\n",
       "      <td>18.3</td>\n",
       "      <td>0.0</td>\n",
       "      <td>7.8</td>\n",
       "      <td>0.0</td>\n",
       "      <td>1023.9</td>\n",
       "      <td>180.0</td>\n",
       "      <td>4.1</td>\n",
       "    </tr>\n",
       "    <tr>\n",
       "      <th>7839269</th>\n",
       "      <td>732</td>\n",
       "      <td>0</td>\n",
       "      <td>2016-09-22 11:00:00</td>\n",
       "      <td>91.500</td>\n",
       "      <td>5</td>\n",
       "      <td>Education</td>\n",
       "      <td>66187</td>\n",
       "      <td>1976.0</td>\n",
       "      <td>1.0</td>\n",
       "      <td>2016-09-22 11:00:00</td>\n",
       "      <td>15.0</td>\n",
       "      <td>NaN</td>\n",
       "      <td>9.0</td>\n",
       "      <td>NaN</td>\n",
       "      <td>NaN</td>\n",
       "      <td>290.0</td>\n",
       "      <td>4.6</td>\n",
       "    </tr>\n",
       "  </tbody>\n",
       "</table>\n",
       "</div>"
      ],
      "text/plain": [
       "          building_id  meter     meter_timestamp  meter_reading  site_id  \\\n",
       "18587316         1376      0 2016-02-09 21:00:00        208.575       15   \n",
       "6603690           619      0 2016-02-08 20:00:00        211.376        4   \n",
       "7839269           732      0 2016-09-22 11:00:00         91.500        5   \n",
       "\n",
       "              primary_use  square_feet  year_built  floor_count  \\\n",
       "18587316  Public services       240026      1960.0          NaN   \n",
       "6603690         Education        68146      1948.0          6.0   \n",
       "7839269         Education        66187      1976.0          1.0   \n",
       "\n",
       "           weather_timestamp  air_temperature  cloud_coverage  \\\n",
       "18587316 2016-02-09 21:00:00              0.6             NaN   \n",
       "6603690  2016-02-08 20:00:00             18.3             0.0   \n",
       "7839269  2016-09-22 11:00:00             15.0             NaN   \n",
       "\n",
       "          dew_temperature  precip_depth_1_hr  sea_level_pressure  \\\n",
       "18587316             -1.1               -1.0               999.3   \n",
       "6603690               7.8                0.0              1023.9   \n",
       "7839269               9.0                NaN                 NaN   \n",
       "\n",
       "          wind_direction  wind_speed  \n",
       "18587316           310.0         3.6  \n",
       "6603690            180.0         4.1  \n",
       "7839269            290.0         4.6  "
      ]
     },
     "execution_count": 23,
     "metadata": {},
     "output_type": "execute_result"
    }
   ],
   "source": [
    "merged_train_df.sample(3)"
   ]
  },
  {
   "cell_type": "code",
   "execution_count": 24,
   "id": "ebbf5a74-85c4-46d5-8f8b-1d117f0531c9",
   "metadata": {},
   "outputs": [
    {
     "name": "stdout",
     "output_type": "stream",
     "text": [
      "<class 'pandas.core.frame.DataFrame'>\n",
      "RangeIndex: 20125605 entries, 0 to 20125604\n",
      "Data columns (total 17 columns):\n",
      " #   Column              Dtype         \n",
      "---  ------              -----         \n",
      " 0   building_id         int64         \n",
      " 1   meter               int64         \n",
      " 2   meter_timestamp     datetime64[ns]\n",
      " 3   meter_reading       float64       \n",
      " 4   site_id             int64         \n",
      " 5   primary_use         object        \n",
      " 6   square_feet         int64         \n",
      " 7   year_built          float64       \n",
      " 8   floor_count         float64       \n",
      " 9   weather_timestamp   datetime64[ns]\n",
      " 10  air_temperature     float64       \n",
      " 11  cloud_coverage      float64       \n",
      " 12  dew_temperature     float64       \n",
      " 13  precip_depth_1_hr   float64       \n",
      " 14  sea_level_pressure  float64       \n",
      " 15  wind_direction      float64       \n",
      " 16  wind_speed          float64       \n",
      "dtypes: datetime64[ns](2), float64(10), int64(4), object(1)\n",
      "memory usage: 2.5+ GB\n"
     ]
    }
   ],
   "source": [
    "# Overview\n",
    "merged_train_df.info()"
   ]
  },
  {
   "cell_type": "code",
   "execution_count": 25,
   "id": "fab1388b-2e73-48dc-88e5-e430e3499bcd",
   "metadata": {},
   "outputs": [
    {
     "data": {
      "text/plain": [
       "(20125605, 17)"
      ]
     },
     "execution_count": 25,
     "metadata": {},
     "output_type": "execute_result"
    }
   ],
   "source": [
    "# Shape\n",
    "merged_train_df.shape"
   ]
  },
  {
   "cell_type": "code",
   "execution_count": null,
   "id": "76722770-0a6b-43a3-9b46-157c36d4a99e",
   "metadata": {},
   "outputs": [],
   "source": []
  },
  {
   "cell_type": "code",
   "execution_count": null,
   "id": "86bff36e-0b70-4728-af1f-3c96a67e741b",
   "metadata": {},
   "outputs": [],
   "source": []
  },
  {
   "cell_type": "markdown",
   "id": "ddbb7320-e877-49ce-a905-500b886a7dd8",
   "metadata": {},
   "source": [
    "<a id='bdw-2'></a>"
   ]
  },
  {
   "cell_type": "markdown",
   "id": "e7089d1d-0e3a-414c-acc8-31d397a1b6ca",
   "metadata": {},
   "source": [
    "## 1.2. Subset\n",
    "Take a subset of ~ 400k rows to speed PC process time. Continue analysis only with Healthcare records (397,992 rows)"
   ]
  },
  {
   "cell_type": "code",
   "execution_count": 26,
   "id": "dab82933-bc9d-4601-b5d5-b24f0c63d4ba",
   "metadata": {},
   "outputs": [],
   "source": [
    "# Count by unique values\n",
    "count_by_primary_use = merged_train_df.groupby(['primary_use'])['primary_use'].count()"
   ]
  },
  {
   "cell_type": "code",
   "execution_count": 27,
   "id": "9ba26795-9e1a-4722-9bc0-744de5b64859",
   "metadata": {},
   "outputs": [
    {
     "data": {
      "text/plain": [
       "primary_use\n",
       "Religious worship                  31775\n",
       "Utility                            55016\n",
       "Technology/science                 76713\n",
       "Services                           96493\n",
       "Warehouse/storage                 111838\n",
       "Retail                            112564\n",
       "Food sales and service            114041\n",
       "Manufacturing/industrial          124458\n",
       "Parking                           213777\n",
       "Other                             242163\n",
       "Healthcare                        397992\n",
       "Public services                  1658858\n",
       "Lodging/residential              2130981\n",
       "Entertainment/public assembly    2254880\n",
       "Office                           4379290\n",
       "Education                        8124766\n",
       "Name: primary_use, dtype: int64"
      ]
     },
     "execution_count": 27,
     "metadata": {},
     "output_type": "execute_result"
    }
   ],
   "source": [
    "# Sort ascending\n",
    "count_by_primary_use = count_by_primary_use.sort_values(ascending=True)\n",
    "count_by_primary_use"
   ]
  },
  {
   "cell_type": "markdown",
   "id": "0eae6585-d3ba-4d1f-bb1b-d4115a29f76d",
   "metadata": {},
   "source": [
    "Continue analysis only with Healthcare records (397,992 rows)"
   ]
  },
  {
   "cell_type": "code",
   "execution_count": null,
   "id": "490ee3a8-4b52-442f-95bb-b1358cd2501f",
   "metadata": {},
   "outputs": [],
   "source": []
  },
  {
   "cell_type": "code",
   "execution_count": 28,
   "id": "58575f0d-91b7-44c0-8d70-5c8ae36fb88f",
   "metadata": {},
   "outputs": [
    {
     "data": {
      "text/html": [
       "<div>\n",
       "<style scoped>\n",
       "    .dataframe tbody tr th:only-of-type {\n",
       "        vertical-align: middle;\n",
       "    }\n",
       "\n",
       "    .dataframe tbody tr th {\n",
       "        vertical-align: top;\n",
       "    }\n",
       "\n",
       "    .dataframe thead th {\n",
       "        text-align: right;\n",
       "    }\n",
       "</style>\n",
       "<table border=\"1\" class=\"dataframe\">\n",
       "  <thead>\n",
       "    <tr style=\"text-align: right;\">\n",
       "      <th></th>\n",
       "      <th>building_id</th>\n",
       "      <th>meter</th>\n",
       "      <th>meter_timestamp</th>\n",
       "      <th>meter_reading</th>\n",
       "      <th>site_id</th>\n",
       "      <th>primary_use</th>\n",
       "      <th>square_feet</th>\n",
       "      <th>year_built</th>\n",
       "      <th>floor_count</th>\n",
       "      <th>weather_timestamp</th>\n",
       "      <th>air_temperature</th>\n",
       "      <th>cloud_coverage</th>\n",
       "      <th>dew_temperature</th>\n",
       "      <th>precip_depth_1_hr</th>\n",
       "      <th>sea_level_pressure</th>\n",
       "      <th>wind_direction</th>\n",
       "      <th>wind_speed</th>\n",
       "    </tr>\n",
       "  </thead>\n",
       "  <tbody>\n",
       "    <tr>\n",
       "      <th>1628808</th>\n",
       "      <td>208</td>\n",
       "      <td>0</td>\n",
       "      <td>2016-01-01 00:00:00</td>\n",
       "      <td>77.2900</td>\n",
       "      <td>2</td>\n",
       "      <td>Healthcare</td>\n",
       "      <td>36904</td>\n",
       "      <td>1934.0</td>\n",
       "      <td>NaN</td>\n",
       "      <td>2016-01-01 00:00:00</td>\n",
       "      <td>15.6</td>\n",
       "      <td>6.0</td>\n",
       "      <td>-5.6</td>\n",
       "      <td>NaN</td>\n",
       "      <td>1015.3</td>\n",
       "      <td>270.0</td>\n",
       "      <td>3.6</td>\n",
       "    </tr>\n",
       "    <tr>\n",
       "      <th>1628809</th>\n",
       "      <td>208</td>\n",
       "      <td>1</td>\n",
       "      <td>2016-01-01 00:00:00</td>\n",
       "      <td>0.1055</td>\n",
       "      <td>2</td>\n",
       "      <td>Healthcare</td>\n",
       "      <td>36904</td>\n",
       "      <td>1934.0</td>\n",
       "      <td>NaN</td>\n",
       "      <td>2016-01-01 00:00:00</td>\n",
       "      <td>15.6</td>\n",
       "      <td>6.0</td>\n",
       "      <td>-5.6</td>\n",
       "      <td>NaN</td>\n",
       "      <td>1015.3</td>\n",
       "      <td>270.0</td>\n",
       "      <td>3.6</td>\n",
       "    </tr>\n",
       "    <tr>\n",
       "      <th>1629094</th>\n",
       "      <td>208</td>\n",
       "      <td>0</td>\n",
       "      <td>2016-01-01 01:00:00</td>\n",
       "      <td>87.0900</td>\n",
       "      <td>2</td>\n",
       "      <td>Healthcare</td>\n",
       "      <td>36904</td>\n",
       "      <td>1934.0</td>\n",
       "      <td>NaN</td>\n",
       "      <td>2016-01-01 01:00:00</td>\n",
       "      <td>13.9</td>\n",
       "      <td>NaN</td>\n",
       "      <td>-5.6</td>\n",
       "      <td>0.0</td>\n",
       "      <td>1015.6</td>\n",
       "      <td>270.0</td>\n",
       "      <td>4.1</td>\n",
       "    </tr>\n",
       "    <tr>\n",
       "      <th>1629095</th>\n",
       "      <td>208</td>\n",
       "      <td>1</td>\n",
       "      <td>2016-01-01 01:00:00</td>\n",
       "      <td>0.1407</td>\n",
       "      <td>2</td>\n",
       "      <td>Healthcare</td>\n",
       "      <td>36904</td>\n",
       "      <td>1934.0</td>\n",
       "      <td>NaN</td>\n",
       "      <td>2016-01-01 01:00:00</td>\n",
       "      <td>13.9</td>\n",
       "      <td>NaN</td>\n",
       "      <td>-5.6</td>\n",
       "      <td>0.0</td>\n",
       "      <td>1015.6</td>\n",
       "      <td>270.0</td>\n",
       "      <td>4.1</td>\n",
       "    </tr>\n",
       "    <tr>\n",
       "      <th>1629380</th>\n",
       "      <td>208</td>\n",
       "      <td>0</td>\n",
       "      <td>2016-01-01 02:00:00</td>\n",
       "      <td>90.5100</td>\n",
       "      <td>2</td>\n",
       "      <td>Healthcare</td>\n",
       "      <td>36904</td>\n",
       "      <td>1934.0</td>\n",
       "      <td>NaN</td>\n",
       "      <td>2016-01-01 02:00:00</td>\n",
       "      <td>13.3</td>\n",
       "      <td>2.0</td>\n",
       "      <td>-5.6</td>\n",
       "      <td>0.0</td>\n",
       "      <td>1016.0</td>\n",
       "      <td>270.0</td>\n",
       "      <td>3.1</td>\n",
       "    </tr>\n",
       "    <tr>\n",
       "      <th>...</th>\n",
       "      <td>...</td>\n",
       "      <td>...</td>\n",
       "      <td>...</td>\n",
       "      <td>...</td>\n",
       "      <td>...</td>\n",
       "      <td>...</td>\n",
       "      <td>...</td>\n",
       "      <td>...</td>\n",
       "      <td>...</td>\n",
       "      <td>...</td>\n",
       "      <td>...</td>\n",
       "      <td>...</td>\n",
       "      <td>...</td>\n",
       "      <td>...</td>\n",
       "      <td>...</td>\n",
       "      <td>...</td>\n",
       "      <td>...</td>\n",
       "    </tr>\n",
       "    <tr>\n",
       "      <th>20124314</th>\n",
       "      <td>1388</td>\n",
       "      <td>1</td>\n",
       "      <td>2016-12-06 11:00:00</td>\n",
       "      <td>45.6785</td>\n",
       "      <td>15</td>\n",
       "      <td>Healthcare</td>\n",
       "      <td>45465</td>\n",
       "      <td>1990.0</td>\n",
       "      <td>NaN</td>\n",
       "      <td>2016-12-06 11:00:00</td>\n",
       "      <td>-5.0</td>\n",
       "      <td>0.0</td>\n",
       "      <td>-6.1</td>\n",
       "      <td>NaN</td>\n",
       "      <td>1020.3</td>\n",
       "      <td>70.0</td>\n",
       "      <td>2.1</td>\n",
       "    </tr>\n",
       "    <tr>\n",
       "      <th>20124379</th>\n",
       "      <td>1388</td>\n",
       "      <td>1</td>\n",
       "      <td>2016-12-06 12:00:00</td>\n",
       "      <td>26.1411</td>\n",
       "      <td>15</td>\n",
       "      <td>Healthcare</td>\n",
       "      <td>45465</td>\n",
       "      <td>1990.0</td>\n",
       "      <td>NaN</td>\n",
       "      <td>2016-12-06 12:00:00</td>\n",
       "      <td>-4.4</td>\n",
       "      <td>4.0</td>\n",
       "      <td>-5.6</td>\n",
       "      <td>NaN</td>\n",
       "      <td>1020.4</td>\n",
       "      <td>70.0</td>\n",
       "      <td>2.6</td>\n",
       "    </tr>\n",
       "    <tr>\n",
       "      <th>20124444</th>\n",
       "      <td>1388</td>\n",
       "      <td>1</td>\n",
       "      <td>2016-12-06 13:00:00</td>\n",
       "      <td>22.9406</td>\n",
       "      <td>15</td>\n",
       "      <td>Healthcare</td>\n",
       "      <td>45465</td>\n",
       "      <td>1990.0</td>\n",
       "      <td>NaN</td>\n",
       "      <td>2016-12-06 13:00:00</td>\n",
       "      <td>-3.9</td>\n",
       "      <td>4.0</td>\n",
       "      <td>-4.4</td>\n",
       "      <td>NaN</td>\n",
       "      <td>1020.2</td>\n",
       "      <td>80.0</td>\n",
       "      <td>2.6</td>\n",
       "    </tr>\n",
       "    <tr>\n",
       "      <th>20124509</th>\n",
       "      <td>1388</td>\n",
       "      <td>1</td>\n",
       "      <td>2016-12-06 14:00:00</td>\n",
       "      <td>23.4624</td>\n",
       "      <td>15</td>\n",
       "      <td>Healthcare</td>\n",
       "      <td>45465</td>\n",
       "      <td>1990.0</td>\n",
       "      <td>NaN</td>\n",
       "      <td>2016-12-06 14:00:00</td>\n",
       "      <td>-1.1</td>\n",
       "      <td>0.0</td>\n",
       "      <td>-1.7</td>\n",
       "      <td>NaN</td>\n",
       "      <td>1020.0</td>\n",
       "      <td>70.0</td>\n",
       "      <td>2.1</td>\n",
       "    </tr>\n",
       "    <tr>\n",
       "      <th>20124574</th>\n",
       "      <td>1388</td>\n",
       "      <td>1</td>\n",
       "      <td>2016-12-06 15:00:00</td>\n",
       "      <td>31.7050</td>\n",
       "      <td>15</td>\n",
       "      <td>Healthcare</td>\n",
       "      <td>45465</td>\n",
       "      <td>1990.0</td>\n",
       "      <td>NaN</td>\n",
       "      <td>2016-12-06 15:00:00</td>\n",
       "      <td>0.6</td>\n",
       "      <td>0.0</td>\n",
       "      <td>-0.6</td>\n",
       "      <td>NaN</td>\n",
       "      <td>1019.1</td>\n",
       "      <td>130.0</td>\n",
       "      <td>2.1</td>\n",
       "    </tr>\n",
       "  </tbody>\n",
       "</table>\n",
       "<p>397992 rows × 17 columns</p>\n",
       "</div>"
      ],
      "text/plain": [
       "          building_id  meter     meter_timestamp  meter_reading  site_id  \\\n",
       "1628808           208      0 2016-01-01 00:00:00        77.2900        2   \n",
       "1628809           208      1 2016-01-01 00:00:00         0.1055        2   \n",
       "1629094           208      0 2016-01-01 01:00:00        87.0900        2   \n",
       "1629095           208      1 2016-01-01 01:00:00         0.1407        2   \n",
       "1629380           208      0 2016-01-01 02:00:00        90.5100        2   \n",
       "...               ...    ...                 ...            ...      ...   \n",
       "20124314         1388      1 2016-12-06 11:00:00        45.6785       15   \n",
       "20124379         1388      1 2016-12-06 12:00:00        26.1411       15   \n",
       "20124444         1388      1 2016-12-06 13:00:00        22.9406       15   \n",
       "20124509         1388      1 2016-12-06 14:00:00        23.4624       15   \n",
       "20124574         1388      1 2016-12-06 15:00:00        31.7050       15   \n",
       "\n",
       "         primary_use  square_feet  year_built  floor_count  \\\n",
       "1628808   Healthcare        36904      1934.0          NaN   \n",
       "1628809   Healthcare        36904      1934.0          NaN   \n",
       "1629094   Healthcare        36904      1934.0          NaN   \n",
       "1629095   Healthcare        36904      1934.0          NaN   \n",
       "1629380   Healthcare        36904      1934.0          NaN   \n",
       "...              ...          ...         ...          ...   \n",
       "20124314  Healthcare        45465      1990.0          NaN   \n",
       "20124379  Healthcare        45465      1990.0          NaN   \n",
       "20124444  Healthcare        45465      1990.0          NaN   \n",
       "20124509  Healthcare        45465      1990.0          NaN   \n",
       "20124574  Healthcare        45465      1990.0          NaN   \n",
       "\n",
       "           weather_timestamp  air_temperature  cloud_coverage  \\\n",
       "1628808  2016-01-01 00:00:00             15.6             6.0   \n",
       "1628809  2016-01-01 00:00:00             15.6             6.0   \n",
       "1629094  2016-01-01 01:00:00             13.9             NaN   \n",
       "1629095  2016-01-01 01:00:00             13.9             NaN   \n",
       "1629380  2016-01-01 02:00:00             13.3             2.0   \n",
       "...                      ...              ...             ...   \n",
       "20124314 2016-12-06 11:00:00             -5.0             0.0   \n",
       "20124379 2016-12-06 12:00:00             -4.4             4.0   \n",
       "20124444 2016-12-06 13:00:00             -3.9             4.0   \n",
       "20124509 2016-12-06 14:00:00             -1.1             0.0   \n",
       "20124574 2016-12-06 15:00:00              0.6             0.0   \n",
       "\n",
       "          dew_temperature  precip_depth_1_hr  sea_level_pressure  \\\n",
       "1628808              -5.6                NaN              1015.3   \n",
       "1628809              -5.6                NaN              1015.3   \n",
       "1629094              -5.6                0.0              1015.6   \n",
       "1629095              -5.6                0.0              1015.6   \n",
       "1629380              -5.6                0.0              1016.0   \n",
       "...                   ...                ...                 ...   \n",
       "20124314             -6.1                NaN              1020.3   \n",
       "20124379             -5.6                NaN              1020.4   \n",
       "20124444             -4.4                NaN              1020.2   \n",
       "20124509             -1.7                NaN              1020.0   \n",
       "20124574             -0.6                NaN              1019.1   \n",
       "\n",
       "          wind_direction  wind_speed  \n",
       "1628808            270.0         3.6  \n",
       "1628809            270.0         3.6  \n",
       "1629094            270.0         4.1  \n",
       "1629095            270.0         4.1  \n",
       "1629380            270.0         3.1  \n",
       "...                  ...         ...  \n",
       "20124314            70.0         2.1  \n",
       "20124379            70.0         2.6  \n",
       "20124444            80.0         2.6  \n",
       "20124509            70.0         2.1  \n",
       "20124574           130.0         2.1  \n",
       "\n",
       "[397992 rows x 17 columns]"
      ]
     },
     "execution_count": 28,
     "metadata": {},
     "output_type": "execute_result"
    }
   ],
   "source": [
    "# Filter the DataFrame to include only rows where 'primary_use' is 'Healthcare'\n",
    "healthcare_train_df = merged_train_df[merged_train_df['primary_use'] == 'Healthcare']\n",
    "healthcare_train_df"
   ]
  },
  {
   "cell_type": "code",
   "execution_count": 35,
   "id": "864912b4-b4ef-4f94-92f3-9eb79894aaa6",
   "metadata": {},
   "outputs": [],
   "source": [
    "# Export dataframe to a csv file\n",
    "healthcare_train_df.to_csv('data/healthcare_train_df.csv', index=False)"
   ]
  },
  {
   "cell_type": "code",
   "execution_count": null,
   "id": "3cd40d7c-8a00-404a-aeaf-1579268ffad4",
   "metadata": {},
   "outputs": [],
   "source": []
  },
  {
   "cell_type": "markdown",
   "id": "e91baa68-7106-4496-a030-91ec386bc009",
   "metadata": {},
   "source": [
    "#### Why some primary_use buildings have more records than other\n",
    "'primary_use' has a one to many relation with 'building_id'\\\n",
    "'building_id' has a one to many relation with 'meter'\\\n",
    "'meter' has a one to many relation with 'meter_timestamp'\\\n",
    "For instance, 'primary_use' == Education includes 549 'building_id'. One of those ‘building_id’ == 209 is includes 3 'meter'. Each of the 'meter' includes ~ 450 'meter_timestamp'\n",
    "On the other hand, 'primary_use' == Healthcare includes 23 'building_id'. One of those ‘building_id’ == 208 is includes 2 'meter'. Each of the 'meter' includes ~ 450 'meter_timestamp'"
   ]
  },
  {
   "cell_type": "code",
   "execution_count": null,
   "id": "7f701e80-d839-40de-864b-c74dc82f68aa",
   "metadata": {},
   "outputs": [],
   "source": []
  },
  {
   "cell_type": "code",
   "execution_count": 29,
   "id": "97bf0a02-f115-4f71-b231-27ea4b5b4ecb",
   "metadata": {},
   "outputs": [
    {
     "data": {
      "text/plain": [
       "primary_use        building_id\n",
       "Education          0              8784\n",
       "                   1              8784\n",
       "                   2              8784\n",
       "                   3              8784\n",
       "                   4              8784\n",
       "                                  ... \n",
       "Warehouse/storage  830            8351\n",
       "                   1155           8783\n",
       "                   1182           8783\n",
       "                   1199           8783\n",
       "                   1213           8783\n",
       "Name: building_id, Length: 1449, dtype: int64"
      ]
     },
     "execution_count": 29,
     "metadata": {},
     "output_type": "execute_result"
    }
   ],
   "source": [
    "# Why some primary_use buildings have more records than other\n",
    "merged_train_df.groupby(['primary_use','building_id'])['building_id'].count()"
   ]
  },
  {
   "cell_type": "code",
   "execution_count": 29,
   "id": "c9014476-4c94-49bf-bb49-85d1ab12311f",
   "metadata": {},
   "outputs": [
    {
     "data": {
      "text/plain": [
       "primary_use        building_id\n",
       "Education          0              8784\n",
       "                   1              8784\n",
       "                   2              8784\n",
       "                   3              8784\n",
       "                   4              8784\n",
       "                                  ... \n",
       "Warehouse/storage  830            8351\n",
       "                   1155           8783\n",
       "                   1182           8783\n",
       "                   1199           8783\n",
       "                   1213           8783\n",
       "Name: building_id, Length: 1449, dtype: int64"
      ]
     },
     "execution_count": 29,
     "metadata": {},
     "output_type": "execute_result"
    }
   ],
   "source": [
    "# Why some primary_use buildings have more records than other\n",
    "merged_train_df.groupby(['primary_use','building_id'])['building_id'].count()"
   ]
  },
  {
   "cell_type": "code",
   "execution_count": null,
   "id": "4e602f76-60c5-48e2-8aa5-7097aea2d849",
   "metadata": {},
   "outputs": [],
   "source": []
  },
  {
   "cell_type": "markdown",
   "id": "1d55846b-438a-4fd9-b3fe-773a4a7a0379",
   "metadata": {},
   "source": [
    "[back to TOC](#toc)"
   ]
  },
  {
   "cell_type": "markdown",
   "id": "be10cade-e890-4e6a-a575-68dc7d9a159d",
   "metadata": {},
   "source": [
    "<a id='bdw-3'></a>"
   ]
  },
  {
   "cell_type": "markdown",
   "id": "1367dce5-fe79-47b1-b871-3c5606643d01",
   "metadata": {},
   "source": [
    "## 1.3. Numeric and categorical columns distribution"
   ]
  },
  {
   "cell_type": "code",
   "execution_count": null,
   "id": "35ac02b1-e041-46ee-b960-67b65ae1f455",
   "metadata": {},
   "outputs": [],
   "source": []
  },
  {
   "cell_type": "code",
   "execution_count": null,
   "id": "b8459c58-8660-45b9-8e32-5a76b7881a2e",
   "metadata": {},
   "outputs": [],
   "source": []
  },
  {
   "cell_type": "code",
   "execution_count": null,
   "id": "2c9bc38b-a449-42c2-ac2a-7dab6c540e74",
   "metadata": {
    "jupyter": {
     "source_hidden": true
    }
   },
   "outputs": [],
   "source": []
  },
  {
   "cell_type": "markdown",
   "id": "06f0bbe5-06b8-4a9b-b1b2-bd933fea437f",
   "metadata": {},
   "source": [
    "[back to TOC](#toc)"
   ]
  },
  {
   "cell_type": "markdown",
   "id": "a2f561fc-6397-4382-be41-b88e0e247b3c",
   "metadata": {},
   "source": [
    "<a id='bdw-4'></a>"
   ]
  },
  {
   "cell_type": "markdown",
   "id": "c546503e-77fd-4f7a-a155-592db403268c",
   "metadata": {},
   "source": [
    "## 1.4. Duplicate values"
   ]
  },
  {
   "cell_type": "code",
   "execution_count": null,
   "id": "ace54a29-94f4-4a67-a566-04c5bd6fe91c",
   "metadata": {},
   "outputs": [],
   "source": []
  },
  {
   "cell_type": "code",
   "execution_count": null,
   "id": "5b794586-c8e1-452d-a603-fa15b087f68d",
   "metadata": {},
   "outputs": [],
   "source": []
  },
  {
   "cell_type": "code",
   "execution_count": null,
   "id": "98bd61de-1ad4-490a-b7f2-6542263d5a3d",
   "metadata": {
    "jupyter": {
     "source_hidden": true
    }
   },
   "outputs": [],
   "source": []
  },
  {
   "cell_type": "markdown",
   "id": "761dd4ad-13df-4eb8-86a3-6b484d89d8d3",
   "metadata": {},
   "source": [
    "[back to TOC](#toc)"
   ]
  },
  {
   "cell_type": "markdown",
   "id": "075c0644-3534-401e-b0c2-4272518130da",
   "metadata": {},
   "source": [
    "<a id='bdw-5'></a>"
   ]
  },
  {
   "cell_type": "markdown",
   "id": "cbe6e825-2767-445f-af76-8ce27fa76d5c",
   "metadata": {},
   "source": [
    "## 1.5. Null values"
   ]
  },
  {
   "cell_type": "code",
   "execution_count": null,
   "id": "6c1b3907-5082-4e91-957a-f6b3699f92fb",
   "metadata": {},
   "outputs": [],
   "source": []
  },
  {
   "cell_type": "code",
   "execution_count": null,
   "id": "753c7f0b-8e64-4b06-9abd-962933e3319e",
   "metadata": {},
   "outputs": [],
   "source": []
  },
  {
   "cell_type": "code",
   "execution_count": null,
   "id": "dfe7c61c-bbe6-4fdb-95b7-6b1a0dab0040",
   "metadata": {
    "jupyter": {
     "source_hidden": true
    }
   },
   "outputs": [],
   "source": []
  },
  {
   "cell_type": "markdown",
   "id": "de35e14e-3a79-414a-ab0a-337fd95fac2c",
   "metadata": {},
   "source": [
    "[back to TOC](#toc)"
   ]
  },
  {
   "cell_type": "markdown",
   "id": "511c1acd-2b85-4168-8bd6-8b28a7acafc0",
   "metadata": {},
   "source": [
    "<a id='eda-0'></a>"
   ]
  },
  {
   "cell_type": "markdown",
   "id": "98f04fa0-4b79-47ea-b9e7-313b807f9247",
   "metadata": {},
   "source": [
    "# 2. Exploratory Data Analysis (EDA)"
   ]
  },
  {
   "cell_type": "code",
   "execution_count": 1,
   "id": "44e5895f",
   "metadata": {
    "tags": []
   },
   "outputs": [],
   "source": [
    "# Import Python packages\n",
    "import pandas as pd\n",
    "import numpy as np\n",
    "\n",
    "import matplotlib.pyplot as plt\n",
    "import seaborn as sns\n",
    "\n",
    "# Setting figure size\n",
    "plt.rcParams['figure.figsize']=(8.0,6.0)"
   ]
  },
  {
   "cell_type": "code",
   "execution_count": 36,
   "id": "ed5787f6-2092-4ac7-b837-afe8c5332ba6",
   "metadata": {},
   "outputs": [
    {
     "data": {
      "text/html": [
       "<div>\n",
       "<style scoped>\n",
       "    .dataframe tbody tr th:only-of-type {\n",
       "        vertical-align: middle;\n",
       "    }\n",
       "\n",
       "    .dataframe tbody tr th {\n",
       "        vertical-align: top;\n",
       "    }\n",
       "\n",
       "    .dataframe thead th {\n",
       "        text-align: right;\n",
       "    }\n",
       "</style>\n",
       "<table border=\"1\" class=\"dataframe\">\n",
       "  <thead>\n",
       "    <tr style=\"text-align: right;\">\n",
       "      <th></th>\n",
       "      <th>building_id</th>\n",
       "      <th>meter</th>\n",
       "      <th>meter_timestamp</th>\n",
       "      <th>meter_reading</th>\n",
       "      <th>site_id</th>\n",
       "      <th>primary_use</th>\n",
       "      <th>square_feet</th>\n",
       "      <th>year_built</th>\n",
       "      <th>floor_count</th>\n",
       "      <th>weather_timestamp</th>\n",
       "      <th>air_temperature</th>\n",
       "      <th>cloud_coverage</th>\n",
       "      <th>dew_temperature</th>\n",
       "      <th>precip_depth_1_hr</th>\n",
       "      <th>sea_level_pressure</th>\n",
       "      <th>wind_direction</th>\n",
       "      <th>wind_speed</th>\n",
       "    </tr>\n",
       "  </thead>\n",
       "  <tbody>\n",
       "    <tr>\n",
       "      <th>316928</th>\n",
       "      <td>1303</td>\n",
       "      <td>2</td>\n",
       "      <td>2016-09-06 22:00:00</td>\n",
       "      <td>2100.69</td>\n",
       "      <td>14</td>\n",
       "      <td>Healthcare</td>\n",
       "      <td>200000</td>\n",
       "      <td>NaN</td>\n",
       "      <td>NaN</td>\n",
       "      <td>2016-09-06 22:00:00</td>\n",
       "      <td>27.2</td>\n",
       "      <td>NaN</td>\n",
       "      <td>17.2</td>\n",
       "      <td>0.0</td>\n",
       "      <td>1013.9</td>\n",
       "      <td>10.0</td>\n",
       "      <td>4.1</td>\n",
       "    </tr>\n",
       "    <tr>\n",
       "      <th>54580</th>\n",
       "      <td>365</td>\n",
       "      <td>0</td>\n",
       "      <td>2016-09-15 17:00:00</td>\n",
       "      <td>1710.00</td>\n",
       "      <td>3</td>\n",
       "      <td>Healthcare</td>\n",
       "      <td>819577</td>\n",
       "      <td>1922.0</td>\n",
       "      <td>NaN</td>\n",
       "      <td>2016-09-15 17:00:00</td>\n",
       "      <td>23.3</td>\n",
       "      <td>NaN</td>\n",
       "      <td>15.0</td>\n",
       "      <td>0.0</td>\n",
       "      <td>1024.1</td>\n",
       "      <td>80.0</td>\n",
       "      <td>3.6</td>\n",
       "    </tr>\n",
       "    <tr>\n",
       "      <th>100077</th>\n",
       "      <td>1072</td>\n",
       "      <td>2</td>\n",
       "      <td>2016-04-08 20:00:00</td>\n",
       "      <td>0.00</td>\n",
       "      <td>13</td>\n",
       "      <td>Healthcare</td>\n",
       "      <td>305000</td>\n",
       "      <td>NaN</td>\n",
       "      <td>NaN</td>\n",
       "      <td>2016-04-08 20:00:00</td>\n",
       "      <td>0.6</td>\n",
       "      <td>NaN</td>\n",
       "      <td>-7.2</td>\n",
       "      <td>-1.0</td>\n",
       "      <td>1018.5</td>\n",
       "      <td>310.0</td>\n",
       "      <td>11.3</td>\n",
       "    </tr>\n",
       "  </tbody>\n",
       "</table>\n",
       "</div>"
      ],
      "text/plain": [
       "        building_id  meter      meter_timestamp  meter_reading  site_id  \\\n",
       "316928         1303      2  2016-09-06 22:00:00        2100.69       14   \n",
       "54580           365      0  2016-09-15 17:00:00        1710.00        3   \n",
       "100077         1072      2  2016-04-08 20:00:00           0.00       13   \n",
       "\n",
       "       primary_use  square_feet  year_built  floor_count    weather_timestamp  \\\n",
       "316928  Healthcare       200000         NaN          NaN  2016-09-06 22:00:00   \n",
       "54580   Healthcare       819577      1922.0          NaN  2016-09-15 17:00:00   \n",
       "100077  Healthcare       305000         NaN          NaN  2016-04-08 20:00:00   \n",
       "\n",
       "        air_temperature  cloud_coverage  dew_temperature  precip_depth_1_hr  \\\n",
       "316928             27.2             NaN             17.2                0.0   \n",
       "54580              23.3             NaN             15.0                0.0   \n",
       "100077              0.6             NaN             -7.2               -1.0   \n",
       "\n",
       "        sea_level_pressure  wind_direction  wind_speed  \n",
       "316928              1013.9            10.0         4.1  \n",
       "54580               1024.1            80.0         3.6  \n",
       "100077              1018.5           310.0        11.3  "
      ]
     },
     "execution_count": 36,
     "metadata": {},
     "output_type": "execute_result"
    }
   ],
   "source": [
    "# Data loading for healthcare. The file is coma (,) separated. \n",
    "# The index is auto generated\n",
    "healthcare_train_df=pd.read_csv('data/healthcare_train_df.csv',sep=',')\n",
    "healthcare_train_df.sample(3)"
   ]
  },
  {
   "cell_type": "code",
   "execution_count": null,
   "id": "40df63bc-f444-4f9b-aec3-dfc60aee20d4",
   "metadata": {},
   "outputs": [],
   "source": []
  },
  {
   "cell_type": "markdown",
   "id": "65fc3271-e09c-4887-ac56-4af49d77d739",
   "metadata": {},
   "source": [
    "<a id='eda-1'></a>"
   ]
  },
  {
   "cell_type": "markdown",
   "id": "b1866b3d-048d-4af3-b0a0-e741fc6d13d2",
   "metadata": {},
   "source": [
    "## 2.1. Relationship between ...???"
   ]
  },
  {
   "cell_type": "code",
   "execution_count": null,
   "id": "2433afa5-0718-4d17-a448-ccbfd325ffb0",
   "metadata": {},
   "outputs": [],
   "source": []
  },
  {
   "cell_type": "code",
   "execution_count": null,
   "id": "032acee8-c205-4c08-a13c-913e48ec57a7",
   "metadata": {},
   "outputs": [],
   "source": []
  },
  {
   "cell_type": "code",
   "execution_count": null,
   "id": "5580173c-0ada-4ae7-b565-69591609a917",
   "metadata": {},
   "outputs": [],
   "source": []
  },
  {
   "cell_type": "markdown",
   "id": "1b890949-d819-4302-b88a-a8acdd3d3762",
   "metadata": {},
   "source": [
    "[back to TOC](#toc)"
   ]
  },
  {
   "cell_type": "markdown",
   "id": "335a057c-e1e1-4413-a762-0388174831b7",
   "metadata": {},
   "source": [
    "<a id='sa-0'></a>"
   ]
  },
  {
   "cell_type": "markdown",
   "id": "b5c6317a-e4e3-4016-93d9-b4398f8b1aa1",
   "metadata": {},
   "source": [
    "# 3. Advanced Statistical Analysis"
   ]
  },
  {
   "cell_type": "markdown",
   "id": "31eb3061-6296-4e94-8510-124f3c4f6f0f",
   "metadata": {},
   "source": [
    "<a id='sa-1'></a>"
   ]
  },
  {
   "cell_type": "markdown",
   "id": "d6e641e9-ccae-4d12-baa4-5a281ef61808",
   "metadata": {},
   "source": [
    "## 3.1. Statistically significant difference"
   ]
  },
  {
   "cell_type": "code",
   "execution_count": null,
   "id": "81411f00-0d91-4b55-b0bc-f26c96b71c32",
   "metadata": {},
   "outputs": [],
   "source": []
  },
  {
   "cell_type": "code",
   "execution_count": null,
   "id": "a1f17085-7cea-4d16-ace3-a1ceaae24898",
   "metadata": {},
   "outputs": [],
   "source": []
  },
  {
   "cell_type": "code",
   "execution_count": null,
   "id": "5d743bed-0492-45f2-a80d-f3362f042854",
   "metadata": {},
   "outputs": [],
   "source": []
  },
  {
   "cell_type": "markdown",
   "id": "77cf68ce-c77e-4904-a418-71b1ebf02689",
   "metadata": {},
   "source": [
    "[back to TOC](#toc)"
   ]
  },
  {
   "cell_type": "markdown",
   "id": "45abacdc-7e09-4b32-8a47-a71b9415d5e9",
   "metadata": {},
   "source": [
    "<a id='sa-2'></a>"
   ]
  },
  {
   "cell_type": "markdown",
   "id": "0aa155ea-12a7-4088-bb79-18571d507b8b",
   "metadata": {},
   "source": [
    "## 3.2. Correlation with ??"
   ]
  },
  {
   "cell_type": "code",
   "execution_count": null,
   "id": "4dd58dc4-e726-4650-aab4-53467c79a48d",
   "metadata": {
    "jupyter": {
     "source_hidden": true
    }
   },
   "outputs": [],
   "source": []
  },
  {
   "cell_type": "code",
   "execution_count": null,
   "id": "12be7a89-1793-4a30-b5d9-228dd6dbcb0a",
   "metadata": {},
   "outputs": [],
   "source": []
  },
  {
   "cell_type": "code",
   "execution_count": null,
   "id": "c48c11f8-224c-4212-b37d-52c9f34e6a52",
   "metadata": {},
   "outputs": [],
   "source": []
  },
  {
   "cell_type": "markdown",
   "id": "86654110-8693-4be3-9fef-52d3a83ea153",
   "metadata": {},
   "source": [
    "[back to TOC](#toc)"
   ]
  },
  {
   "cell_type": "markdown",
   "id": "0d1e9f92-0b32-4f50-b107-7790354c2ef9",
   "metadata": {},
   "source": [
    "<a id='asa-0'></a>"
   ]
  },
  {
   "cell_type": "markdown",
   "id": "76189c46-a359-461b-9acf-6e98298d1537",
   "metadata": {},
   "source": [
    "# 4. Advanced Statistical Analysis"
   ]
  },
  {
   "cell_type": "markdown",
   "id": "927ea8a8-e1b5-49d3-a13d-67097ac7c2bc",
   "metadata": {},
   "source": [
    "<a id='asa-1'></a>"
   ]
  },
  {
   "cell_type": "markdown",
   "id": "fc96f5c0-3e4f-49f2-9296-379fa198bbcd",
   "metadata": {},
   "source": [
    "## 4.1. Linear regression for ??"
   ]
  },
  {
   "cell_type": "code",
   "execution_count": null,
   "id": "ad4d5d17-2780-4639-a16d-9bafbf5db6d1",
   "metadata": {},
   "outputs": [],
   "source": []
  },
  {
   "cell_type": "code",
   "execution_count": null,
   "id": "e4c5924c-ec5d-47f9-872c-7ce449af58ea",
   "metadata": {},
   "outputs": [],
   "source": []
  },
  {
   "cell_type": "code",
   "execution_count": null,
   "id": "67be9d6f-34c3-4101-9aa8-6e2ecde070e6",
   "metadata": {},
   "outputs": [],
   "source": []
  },
  {
   "cell_type": "markdown",
   "id": "57db4558-60b8-40d2-851a-3d471a9e7cfb",
   "metadata": {},
   "source": [
    "[back to TOC](#toc)"
   ]
  },
  {
   "cell_type": "markdown",
   "id": "df089f3a-d7f7-40bf-b458-ac91ec11f367",
   "metadata": {},
   "source": [
    "<a id='asa-2'></a>"
   ]
  },
  {
   "cell_type": "markdown",
   "id": "d790413d-aa9d-4d60-9f6e-ed48fe2be922",
   "metadata": {},
   "source": [
    "## 4.2. Logistic regression for ??"
   ]
  },
  {
   "cell_type": "code",
   "execution_count": null,
   "id": "30eccb16-78ad-4eda-a6e1-dc85e907fccd",
   "metadata": {
    "jupyter": {
     "source_hidden": true
    }
   },
   "outputs": [],
   "source": []
  },
  {
   "cell_type": "code",
   "execution_count": null,
   "id": "14ae3d23-7cfa-46c0-bb23-7399caf44629",
   "metadata": {},
   "outputs": [],
   "source": []
  },
  {
   "cell_type": "code",
   "execution_count": null,
   "id": "06d510bf-ec8c-44a4-b463-89ed0e24af2e",
   "metadata": {},
   "outputs": [],
   "source": []
  },
  {
   "cell_type": "markdown",
   "id": "81c238ba-3367-4516-8c98-22dbb9506454",
   "metadata": {},
   "source": [
    "[back to TOC](#toc)"
   ]
  },
  {
   "cell_type": "markdown",
   "id": "76d85d78-b250-49cf-af67-03517b80dfd4",
   "metadata": {},
   "source": [
    "<a id='concl'></a>"
   ]
  },
  {
   "cell_type": "markdown",
   "id": "a114706e-74be-43f3-aaaf-2fd0be8659b4",
   "metadata": {
    "tags": []
   },
   "source": [
    "# Conclusion"
   ]
  },
  {
   "cell_type": "markdown",
   "id": "b8b6586a-a70b-4d2a-843d-35f146aab0b6",
   "metadata": {},
   "source": [
    "In summary, describing the relationship between mosquito species and WNV prevalence involves data analysis and visualization among other techniques. The following insights aim to show that the mosquito species are a significant vector for the virus and contribute to informed decision-making in public health and mosquito control efforts in the City of Chicago:\n",
    "* The mosquito 'Culex Pipiens' require deeper analysis, since it is the most frequent specie with WNV positive.\n",
    "* It is not recommended to continue using OVI traps in the study, since is has a low trapping rate. Give priority to Sentinel and CDC traps, the ones with the highest trap efficacy. \n",
    "* Implement additional safety measures during august to decrease mosquito population, such as:\n",
    "    * Eliminate or regularly empty containers that can collect water, such as buckets, flower pots, and clogged gutters.\n",
    "    * Apply mosquito repellent on exposed skin when spending time outdoors.\n",
    "    * Wear long sleeves and pants when outside.\n",
    "    * Set up more mosquito traps.\n",
    "    * Introduce natural mosquito predators like birds, bats, or dragonflies to your area, if possible.\n",
    "    * Plant mosquito-repelling herbs and flowers in your garden, such as citronella, lavender, and marigolds.on"
   ]
  },
  {
   "cell_type": "markdown",
   "id": "c1c27832-91e9-4e05-b15f-d0296de1bc3a",
   "metadata": {},
   "source": [
    "[back to TOC](#toc)"
   ]
  }
 ],
 "metadata": {
  "kernelspec": {
   "display_name": "Python 3 (ipykernel)",
   "language": "python",
   "name": "python3"
  },
  "language_info": {
   "codemirror_mode": {
    "name": "ipython",
    "version": 3
   },
   "file_extension": ".py",
   "mimetype": "text/x-python",
   "name": "python",
   "nbconvert_exporter": "python",
   "pygments_lexer": "ipython3",
   "version": "3.11.5"
  }
 },
 "nbformat": 4,
 "nbformat_minor": 5
}
