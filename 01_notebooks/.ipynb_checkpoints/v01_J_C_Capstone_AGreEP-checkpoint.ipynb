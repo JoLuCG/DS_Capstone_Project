{
 "cells": [
  {
   "cell_type": "markdown",
   "id": "143f154d-fd22-4c92-9a38-4f21bbf2de8a",
   "metadata": {},
   "source": [
    "# ASHRAE Great Energy Predictor\n",
    "### *by Jose Correa*"
   ]
  },
  {
   "cell_type": "markdown",
   "id": "ff5579a4-5758-4366-a40d-4b6ab98f4c1c",
   "metadata": {},
   "source": [
    "# Introduction\n",
    "\n",
    "? Rewrite better\n",
    "\n",
    "How much does it cost to cool a skyscraper in the summer?  A lot! And not just in dollars, but in environmental impact.\r\n",
    "\r\n",
    "Thankfully, significant investments are being made to improve building efficiencies to reduce costs and emissions. The question is, are the improvements workinn. Under pay-for-performance financing, the building owner makes payments based on the difference between their real energy consumption and what they would have used without any retrofits. The latter values have to come from a mo, however, c. Current methods of estimation are fragmented and do not scale w, s. Some assume a specific meter type or don’t work with different building types.\r\n",
    "\r\n",
    "In machine learning analysisitis beenou’ll deed elop accurate models of metered building energy usage in the following areas: chilled water, electric, hot water, and steam meters. The data comes from over 1,000 buil, at several different sites around the world,dings over a three-year  timeframe. With better estimates of these energy-saving investments, large scale investors and financial institutions will be more inclined to invest in this area to enable progress in building efficien\n",
    "\n",
    "\n",
    "*Dataset Description*\n",
    "\r\n",
    "Assessing the value of energy efficiency improvements can be challenging as there's no way to truly know how much energy a building would have used without the improvements. The best we can do is to build counterfactual models. Once a building is overhauled the new (lower) energy consumption is compared against modeled values for the original building to calculate the savings from the retrofit. More accurate models could support better market incentives and enable lower cost financing.\r\n",
    "\r\n",
    "This competition challenges you to build these counterfactual models across four energy types based on historic usage rates and observed weather. The dataset includes three years of hourly meter readings from over one thousand buildings at several different sites around the world.cies."
   ]
  },
  {
   "cell_type": "markdown",
   "id": "d43f4505-c108-4381-8d36-edbe953bf12b",
   "metadata": {},
   "source": [
    "<a id='toc'></a>"
   ]
  },
  {
   "cell_type": "markdown",
   "id": "c26203c7-ed69-4b59-ad4e-a5375496394f",
   "metadata": {},
   "source": [
    "# Table of Contents\n",
    "1. [Basic Data Wrangling](#bdw-0)\n",
    "    1. [Data processing](#bdw-1)\n",
    "    2. [Shape of the data frame](#bdw-2)\n",
    "    3. [Numeric and categorical columns distribution](#bdw-3)\n",
    "    4. [Duplicate values](#bdw-4)\n",
    "    5. [Null values](#bdw-5)\n",
    "2. [Exploratory Data Analysis (EDA)](#eda-0)\n",
    "    1. [Relationship between..???](#eda-1)\n",
    "3. [Statistical Analysis](#sa-0)\n",
    "    1. [Statistically significant difference..](#sa-1)\n",
    "    2. [Correlation with ??](#sa-2)\n",
    "4. [Advanced Statistical Analysis](#asa-0)\n",
    "    1. [Linear regression for ??](#asa-1)\n",
    "    2. [Logistic regression for ??](#asa-2)\n",
    "5. [Conclusion](#concl)"
   ]
  },
  {
   "cell_type": "markdown",
   "id": "45627a08-25d5-4e1a-bcff-700b1e888134",
   "metadata": {},
   "source": [
    "<a id='bdw-0'></a>"
   ]
  },
  {
   "cell_type": "markdown",
   "id": "3b4dab8f-beea-4fda-9c1b-fe3efe4637bb",
   "metadata": {
    "tags": []
   },
   "source": [
    "# 1. Basic Data Wrangling"
   ]
  },
  {
   "cell_type": "markdown",
   "id": "1c0d68fe-0196-4793-b436-2c9282f8daab",
   "metadata": {},
   "source": [
    "<a id='bdw-1'></a>"
   ]
  },
  {
   "cell_type": "markdown",
   "id": "ce0006d5-fcbd-43c7-a31b-384d1d2fb7fd",
   "metadata": {},
   "source": [
    "## 1.1. Data processing"
   ]
  },
  {
   "cell_type": "code",
   "execution_count": 1,
   "id": "308c0c50-2190-4bb2-ba68-99540075007b",
   "metadata": {
    "tags": []
   },
   "outputs": [],
   "source": [
    "# Import Python packages\n",
    "import pandas as pd\n",
    "import numpy as np\n",
    "\n",
    "import matplotlib.pyplot as plt\n",
    "import seaborn as sns\n",
    "\n",
    "# Setting figure size\n",
    "plt.rcParams['figure.figsize']=(8.0,6.0)"
   ]
  },
  {
   "cell_type": "code",
   "execution_count": 5,
   "id": "03d2309b-004b-4a43-89a3-5043f44e185e",
   "metadata": {
    "scrolled": true,
    "tags": []
   },
   "outputs": [
    {
     "data": {
      "text/html": [
       "<div>\n",
       "<style scoped>\n",
       "    .dataframe tbody tr th:only-of-type {\n",
       "        vertical-align: middle;\n",
       "    }\n",
       "\n",
       "    .dataframe tbody tr th {\n",
       "        vertical-align: top;\n",
       "    }\n",
       "\n",
       "    .dataframe thead th {\n",
       "        text-align: right;\n",
       "    }\n",
       "</style>\n",
       "<table border=\"1\" class=\"dataframe\">\n",
       "  <thead>\n",
       "    <tr style=\"text-align: right;\">\n",
       "      <th></th>\n",
       "      <th>building_id</th>\n",
       "      <th>meter</th>\n",
       "      <th>timestamp</th>\n",
       "      <th>meter_reading</th>\n",
       "    </tr>\n",
       "  </thead>\n",
       "  <tbody>\n",
       "    <tr>\n",
       "      <th>0</th>\n",
       "      <td>0</td>\n",
       "      <td>0</td>\n",
       "      <td>2016-01-01 00:00:00</td>\n",
       "      <td>0.0</td>\n",
       "    </tr>\n",
       "    <tr>\n",
       "      <th>1</th>\n",
       "      <td>1</td>\n",
       "      <td>0</td>\n",
       "      <td>2016-01-01 00:00:00</td>\n",
       "      <td>0.0</td>\n",
       "    </tr>\n",
       "    <tr>\n",
       "      <th>2</th>\n",
       "      <td>2</td>\n",
       "      <td>0</td>\n",
       "      <td>2016-01-01 00:00:00</td>\n",
       "      <td>0.0</td>\n",
       "    </tr>\n",
       "  </tbody>\n",
       "</table>\n",
       "</div>"
      ],
      "text/plain": [
       "   building_id  meter            timestamp  meter_reading\n",
       "0            0      0  2016-01-01 00:00:00            0.0\n",
       "1            1      0  2016-01-01 00:00:00            0.0\n",
       "2            2      0  2016-01-01 00:00:00            0.0"
      ]
     },
     "metadata": {},
     "output_type": "display_data"
    }
   ],
   "source": [
    "# train file, data loading. The file is coma (,) separated. \n",
    "# The index is auto generated, since the 'building_id' column doesn't have unique values\n",
    "df_train = pd.read_csv('data/train.csv', sep = ',')\n",
    "display (df_train.head(3))"
   ]
  },
  {
   "cell_type": "code",
   "execution_count": 14,
   "id": "3453f4c4-ffbc-4992-b7be-9ffd64b694a8",
   "metadata": {},
   "outputs": [
    {
     "name": "stdout",
     "output_type": "stream",
     "text": [
      "<class 'pandas.core.frame.DataFrame'>\n",
      "RangeIndex: 20216100 entries, 0 to 20216099\n",
      "Data columns (total 5 columns):\n",
      " #   Column         Dtype  \n",
      "---  ------         -----  \n",
      " 0   building_id    int64  \n",
      " 1   meter          int64  \n",
      " 2   timestamp      object \n",
      " 3   meter_reading  float64\n",
      " 4   year           int32  \n",
      "dtypes: float64(1), int32(1), int64(2), object(1)\n",
      "memory usage: 694.1+ MB\n"
     ]
    }
   ],
   "source": [
    "# General info\n",
    "df_train.info()"
   ]
  },
  {
   "cell_type": "code",
   "execution_count": 16,
   "id": "ca931dd9-adcc-4909-b8e1-f253b09f927a",
   "metadata": {},
   "outputs": [],
   "source": [
    "# Converting timestamp from 'object' to a data time data type\n",
    "df_train['timestamp']=df_train['timestamp'].astype('datetime64[ns]')"
   ]
  },
  {
   "cell_type": "code",
   "execution_count": 18,
   "id": "22750d41-394f-46b8-94cb-7f9b5e37e3e4",
   "metadata": {},
   "outputs": [
    {
     "name": "stdout",
     "output_type": "stream",
     "text": [
      "<class 'pandas.core.frame.DataFrame'>\n",
      "RangeIndex: 20216100 entries, 0 to 20216099\n",
      "Data columns (total 5 columns):\n",
      " #   Column         Dtype         \n",
      "---  ------         -----         \n",
      " 0   building_id    int64         \n",
      " 1   meter          int64         \n",
      " 2   timestamp      datetime64[ns]\n",
      " 3   meter_reading  float64       \n",
      " 4   year           int32         \n",
      "dtypes: datetime64[ns](1), float64(1), int32(1), int64(2)\n",
      "memory usage: 694.1 MB\n"
     ]
    }
   ],
   "source": [
    "# Confirm timestamp as datatime dtype\n",
    "df_train.info()"
   ]
  },
  {
   "cell_type": "code",
   "execution_count": 21,
   "id": "8eb8f3c0-e35b-48c5-84ee-e93196e8bfb6",
   "metadata": {},
   "outputs": [
    {
     "data": {
      "text/plain": [
       "(20216100, 5)"
      ]
     },
     "execution_count": 21,
     "metadata": {},
     "output_type": "execute_result"
    }
   ],
   "source": [
    "# 20M of rows\n",
    "df_train.shape"
   ]
  },
  {
   "cell_type": "code",
   "execution_count": 12,
   "id": "bcc8554b-8d7a-4851-a610-336da589d75e",
   "metadata": {
    "scrolled": true
   },
   "outputs": [
    {
     "data": {
      "text/html": [
       "<div>\n",
       "<style scoped>\n",
       "    .dataframe tbody tr th:only-of-type {\n",
       "        vertical-align: middle;\n",
       "    }\n",
       "\n",
       "    .dataframe tbody tr th {\n",
       "        vertical-align: top;\n",
       "    }\n",
       "\n",
       "    .dataframe thead th {\n",
       "        text-align: right;\n",
       "    }\n",
       "</style>\n",
       "<table border=\"1\" class=\"dataframe\">\n",
       "  <thead>\n",
       "    <tr style=\"text-align: right;\">\n",
       "      <th></th>\n",
       "      <th>building_id</th>\n",
       "      <th>meter</th>\n",
       "      <th>timestamp</th>\n",
       "      <th>meter_reading</th>\n",
       "      <th>year</th>\n",
       "    </tr>\n",
       "  </thead>\n",
       "  <tbody>\n",
       "    <tr>\n",
       "      <th>0</th>\n",
       "      <td>0</td>\n",
       "      <td>0</td>\n",
       "      <td>2016-01-01 00:00:00</td>\n",
       "      <td>0.0</td>\n",
       "      <td>2016</td>\n",
       "    </tr>\n",
       "    <tr>\n",
       "      <th>1</th>\n",
       "      <td>1</td>\n",
       "      <td>0</td>\n",
       "      <td>2016-01-01 00:00:00</td>\n",
       "      <td>0.0</td>\n",
       "      <td>2016</td>\n",
       "    </tr>\n",
       "    <tr>\n",
       "      <th>2</th>\n",
       "      <td>2</td>\n",
       "      <td>0</td>\n",
       "      <td>2016-01-01 00:00:00</td>\n",
       "      <td>0.0</td>\n",
       "      <td>2016</td>\n",
       "    </tr>\n",
       "  </tbody>\n",
       "</table>\n",
       "</div>"
      ],
      "text/plain": [
       "   building_id  meter            timestamp  meter_reading  year\n",
       "0            0      0  2016-01-01 00:00:00            0.0  2016\n",
       "1            1      0  2016-01-01 00:00:00            0.0  2016\n",
       "2            2      0  2016-01-01 00:00:00            0.0  2016"
      ]
     },
     "execution_count": 12,
     "metadata": {},
     "output_type": "execute_result"
    }
   ],
   "source": [
    "# Find a way to restrict to 300k rows to speed PC process time\n",
    "# Plot a chart to identify records per year\n",
    "# Extract the year from 'timestamp' and create the column 'year'\n",
    "df_train['year']=pd.to_datetime(df_train['timestamp']).dt.year\n",
    "df_train.head(3)"
   ]
  },
  {
   "cell_type": "code",
   "execution_count": 13,
   "id": "001568bf-39af-4f03-8d9c-0abe8f248604",
   "metadata": {},
   "outputs": [
    {
     "data": {
      "text/plain": [
       "year\n",
       "2016    20216100\n",
       "Name: year, dtype: int64"
      ]
     },
     "execution_count": 13,
     "metadata": {},
     "output_type": "execute_result"
    }
   ],
   "source": [
    "# count records per year\n",
    "df_train.groupby(['year'])['year'].count()"
   ]
  },
  {
   "cell_type": "markdown",
   "id": "8c70967e-fd49-4627-b248-005c065d8979",
   "metadata": {},
   "source": [
    "Only records for 2016. Try to filter by 'building_id'"
   ]
  },
  {
   "cell_type": "code",
   "execution_count": 22,
   "id": "2492419e-fddc-4cda-bbe5-cecd8bb03e12",
   "metadata": {},
   "outputs": [
    {
     "data": {
      "text/plain": [
       "8784"
      ]
     },
     "execution_count": 22,
     "metadata": {},
     "output_type": "execute_result"
    }
   ],
   "source": [
    "# How many unique values?\n",
    "df_train['timestamp'].nunique()"
   ]
  },
  {
   "cell_type": "markdown",
   "id": "a5f4d574-b70b-48c7-825d-e95ea431b245",
   "metadata": {},
   "source": [
    "As many unique values as hours per year (8760 hr)"
   ]
  },
  {
   "cell_type": "code",
   "execution_count": 23,
   "id": "7fd4c20f-6aa4-44a0-a649-ac87bff3655a",
   "metadata": {},
   "outputs": [
    {
     "data": {
      "text/plain": [
       "1449"
      ]
     },
     "execution_count": 23,
     "metadata": {},
     "output_type": "execute_result"
    }
   ],
   "source": [
    "# Review 'building_id'\n",
    "# unique values\n",
    "df_train['building_id'].nunique()"
   ]
  },
  {
   "cell_type": "code",
   "execution_count": 30,
   "id": "723363e4-4e88-4493-972e-c4001898d5c6",
   "metadata": {},
   "outputs": [
    {
     "data": {
      "text/plain": [
       "building_id\n",
       "0       8784\n",
       "1       8784\n",
       "2       8784\n",
       "3       8784\n",
       "4       8784\n",
       "        ... \n",
       "1444    7445\n",
       "1445    7449\n",
       "1446    7472\n",
       "1447    7471\n",
       "1448    7452\n",
       "Name: building_id, Length: 1449, dtype: int64"
      ]
     },
     "execution_count": 30,
     "metadata": {},
     "output_type": "execute_result"
    }
   ],
   "source": [
    "# Count by unique values\n",
    "df_train.groupby(['building_id'])['building_id'].count()"
   ]
  },
  {
   "cell_type": "code",
   "execution_count": null,
   "id": "1f7e297e-b0b9-4362-a4b8-3e7fd55d2501",
   "metadata": {},
   "outputs": [],
   "source": [
    "# How many records account for buildings with 8784 equivalent a full year records"
   ]
  },
  {
   "cell_type": "code",
   "execution_count": 31,
   "id": "f94954d3-8c35-4480-b4c6-54628169a089",
   "metadata": {},
   "outputs": [
    {
     "data": {
      "text/html": [
       "<div>\n",
       "<style scoped>\n",
       "    .dataframe tbody tr th:only-of-type {\n",
       "        vertical-align: middle;\n",
       "    }\n",
       "\n",
       "    .dataframe tbody tr th {\n",
       "        vertical-align: top;\n",
       "    }\n",
       "\n",
       "    .dataframe thead th {\n",
       "        text-align: right;\n",
       "    }\n",
       "</style>\n",
       "<table border=\"1\" class=\"dataframe\">\n",
       "  <thead>\n",
       "    <tr style=\"text-align: right;\">\n",
       "      <th></th>\n",
       "      <th>building_id</th>\n",
       "      <th>meter</th>\n",
       "      <th>timestamp</th>\n",
       "      <th>meter_reading</th>\n",
       "      <th>year</th>\n",
       "      <th>record_year</th>\n",
       "    </tr>\n",
       "  </thead>\n",
       "  <tbody>\n",
       "    <tr>\n",
       "      <th>0</th>\n",
       "      <td>0</td>\n",
       "      <td>0</td>\n",
       "      <td>2016-01-01</td>\n",
       "      <td>0.0</td>\n",
       "      <td>2016</td>\n",
       "      <td>8784.0</td>\n",
       "    </tr>\n",
       "    <tr>\n",
       "      <th>1</th>\n",
       "      <td>1</td>\n",
       "      <td>0</td>\n",
       "      <td>2016-01-01</td>\n",
       "      <td>0.0</td>\n",
       "      <td>2016</td>\n",
       "      <td>8784.0</td>\n",
       "    </tr>\n",
       "    <tr>\n",
       "      <th>2</th>\n",
       "      <td>2</td>\n",
       "      <td>0</td>\n",
       "      <td>2016-01-01</td>\n",
       "      <td>0.0</td>\n",
       "      <td>2016</td>\n",
       "      <td>8784.0</td>\n",
       "    </tr>\n",
       "  </tbody>\n",
       "</table>\n",
       "</div>"
      ],
      "text/plain": [
       "   building_id  meter  timestamp  meter_reading  year  record_year\n",
       "0            0      0 2016-01-01            0.0  2016       8784.0\n",
       "1            1      0 2016-01-01            0.0  2016       8784.0\n",
       "2            2      0 2016-01-01            0.0  2016       8784.0"
      ]
     },
     "execution_count": 31,
     "metadata": {},
     "output_type": "execute_result"
    }
   ],
   "source": [
    "# Create a column record_year\n",
    "df_train['record_year']=df_train.groupby(['building_id'])['building_id'].count()\n",
    "df_train.head(3)"
   ]
  },
  {
   "cell_type": "code",
   "execution_count": 40,
   "id": "27605bc7-0380-4af1-9841-0f8b0b3a40bf",
   "metadata": {},
   "outputs": [
    {
     "data": {
      "text/plain": [
       "267"
      ]
     },
     "execution_count": 40,
     "metadata": {},
     "output_type": "execute_result"
    }
   ],
   "source": [
    "# count records per year\n",
    "len(df_train[df_train['record_year']==8784])"
   ]
  },
  {
   "cell_type": "code",
   "execution_count": 41,
   "id": "5eddea6d-f979-4718-b00b-108e6ed1b178",
   "metadata": {},
   "outputs": [
    {
     "data": {
      "text/plain": [
       "2345328"
      ]
     },
     "execution_count": 41,
     "metadata": {},
     "output_type": "execute_result"
    }
   ],
   "source": [
    "# Rows in total\n",
    "267*8784"
   ]
  },
  {
   "cell_type": "markdown",
   "id": "656a046d-618f-4fcb-8f69-23e65e8f089d",
   "metadata": {},
   "source": [
    "Higher than the 300k goal. Try another filter. Merge with building_meta.csv, to explore other criteria"
   ]
  },
  {
   "cell_type": "code",
   "execution_count": 42,
   "id": "313ddb9a-b9fb-46cd-8cd7-b9ff21cb7c10",
   "metadata": {},
   "outputs": [
    {
     "data": {
      "text/html": [
       "<div>\n",
       "<style scoped>\n",
       "    .dataframe tbody tr th:only-of-type {\n",
       "        vertical-align: middle;\n",
       "    }\n",
       "\n",
       "    .dataframe tbody tr th {\n",
       "        vertical-align: top;\n",
       "    }\n",
       "\n",
       "    .dataframe thead th {\n",
       "        text-align: right;\n",
       "    }\n",
       "</style>\n",
       "<table border=\"1\" class=\"dataframe\">\n",
       "  <thead>\n",
       "    <tr style=\"text-align: right;\">\n",
       "      <th></th>\n",
       "      <th>site_id</th>\n",
       "      <th>building_id</th>\n",
       "      <th>primary_use</th>\n",
       "      <th>square_feet</th>\n",
       "      <th>year_built</th>\n",
       "      <th>floor_count</th>\n",
       "    </tr>\n",
       "  </thead>\n",
       "  <tbody>\n",
       "    <tr>\n",
       "      <th>0</th>\n",
       "      <td>0</td>\n",
       "      <td>0</td>\n",
       "      <td>Education</td>\n",
       "      <td>7432</td>\n",
       "      <td>2008.0</td>\n",
       "      <td>NaN</td>\n",
       "    </tr>\n",
       "    <tr>\n",
       "      <th>1</th>\n",
       "      <td>0</td>\n",
       "      <td>1</td>\n",
       "      <td>Education</td>\n",
       "      <td>2720</td>\n",
       "      <td>2004.0</td>\n",
       "      <td>NaN</td>\n",
       "    </tr>\n",
       "    <tr>\n",
       "      <th>2</th>\n",
       "      <td>0</td>\n",
       "      <td>2</td>\n",
       "      <td>Education</td>\n",
       "      <td>5376</td>\n",
       "      <td>1991.0</td>\n",
       "      <td>NaN</td>\n",
       "    </tr>\n",
       "  </tbody>\n",
       "</table>\n",
       "</div>"
      ],
      "text/plain": [
       "   site_id  building_id primary_use  square_feet  year_built  floor_count\n",
       "0        0            0   Education         7432      2008.0          NaN\n",
       "1        0            1   Education         2720      2004.0          NaN\n",
       "2        0            2   Education         5376      1991.0          NaN"
      ]
     },
     "metadata": {},
     "output_type": "display_data"
    }
   ],
   "source": [
    "# building_meta file, data loading. The file is coma (,) separated. \n",
    "# The index is auto generated, since the 'building_id' column doesn't have unique values\n",
    "df_building = pd.read_csv('data/building_metadata.csv', sep = ',')\n",
    "display (df_building.head(3))"
   ]
  },
  {
   "cell_type": "code",
   "execution_count": 43,
   "id": "8f14cf25-d8ec-4925-91a6-dd95be4f1e34",
   "metadata": {},
   "outputs": [
    {
     "name": "stdout",
     "output_type": "stream",
     "text": [
      "<class 'pandas.core.frame.DataFrame'>\n",
      "RangeIndex: 1449 entries, 0 to 1448\n",
      "Data columns (total 6 columns):\n",
      " #   Column       Non-Null Count  Dtype  \n",
      "---  ------       --------------  -----  \n",
      " 0   site_id      1449 non-null   int64  \n",
      " 1   building_id  1449 non-null   int64  \n",
      " 2   primary_use  1449 non-null   object \n",
      " 3   square_feet  1449 non-null   int64  \n",
      " 4   year_built   675 non-null    float64\n",
      " 5   floor_count  355 non-null    float64\n",
      "dtypes: float64(2), int64(3), object(1)\n",
      "memory usage: 68.1+ KB\n"
     ]
    }
   ],
   "source": [
    "df_building.info()"
   ]
  },
  {
   "cell_type": "code",
   "execution_count": 44,
   "id": "c0ebaeae-5b0b-437e-ba7d-cf95d163ee9d",
   "metadata": {},
   "outputs": [],
   "source": [
    "# Join df_train and df_building on 'building_id'"
   ]
  },
  {
   "cell_type": "code",
   "execution_count": null,
   "id": "640eefb7-a135-44c7-aaaa-118aaa7d4a58",
   "metadata": {},
   "outputs": [],
   "source": []
  },
  {
   "cell_type": "code",
   "execution_count": null,
   "id": "bdc346a6-22a1-405a-ab43-ca9173ebb217",
   "metadata": {},
   "outputs": [],
   "source": []
  },
  {
   "cell_type": "code",
   "execution_count": null,
   "id": "13f051f3-5995-4de3-b9c2-b536b26aec8f",
   "metadata": {},
   "outputs": [],
   "source": []
  },
  {
   "cell_type": "code",
   "execution_count": null,
   "id": "2196dc73-5025-44a9-ae61-222aa30b791e",
   "metadata": {},
   "outputs": [],
   "source": []
  },
  {
   "cell_type": "markdown",
   "id": "1d55846b-438a-4fd9-b3fe-773a4a7a0379",
   "metadata": {},
   "source": [
    "[back to TOC](#toc)"
   ]
  },
  {
   "cell_type": "markdown",
   "id": "854bcd81-ddfe-4f56-830e-12129719486f",
   "metadata": {},
   "source": [
    "<a id='bdw-2'></a>"
   ]
  },
  {
   "cell_type": "markdown",
   "id": "aee8d2ed-0160-4c97-9726-fc65f38738b3",
   "metadata": {},
   "source": [
    "## 1.2. Shape of the data frame"
   ]
  },
  {
   "cell_type": "code",
   "execution_count": null,
   "id": "88d04d03-23e8-43de-b460-51e0aa77b2bf",
   "metadata": {},
   "outputs": [],
   "source": []
  },
  {
   "cell_type": "code",
   "execution_count": null,
   "id": "7ac32b2a-4e91-42cf-865c-362e0c917b5a",
   "metadata": {},
   "outputs": [],
   "source": []
  },
  {
   "cell_type": "code",
   "execution_count": null,
   "id": "91b75e46-e983-4bec-8ab1-80bc5311bd70",
   "metadata": {
    "jupyter": {
     "source_hidden": true
    }
   },
   "outputs": [],
   "source": []
  },
  {
   "cell_type": "markdown",
   "id": "b1c4075c-d54f-4003-9020-486327f3055f",
   "metadata": {},
   "source": [
    "[back to TOC](#toc)"
   ]
  },
  {
   "cell_type": "markdown",
   "id": "be10cade-e890-4e6a-a575-68dc7d9a159d",
   "metadata": {},
   "source": [
    "<a id='bdw-3'></a>"
   ]
  },
  {
   "cell_type": "markdown",
   "id": "1367dce5-fe79-47b1-b871-3c5606643d01",
   "metadata": {},
   "source": [
    "## 1.3. Numeric and categorical columns distribution"
   ]
  },
  {
   "cell_type": "code",
   "execution_count": null,
   "id": "35ac02b1-e041-46ee-b960-67b65ae1f455",
   "metadata": {},
   "outputs": [],
   "source": []
  },
  {
   "cell_type": "code",
   "execution_count": null,
   "id": "b8459c58-8660-45b9-8e32-5a76b7881a2e",
   "metadata": {},
   "outputs": [],
   "source": []
  },
  {
   "cell_type": "code",
   "execution_count": null,
   "id": "2c9bc38b-a449-42c2-ac2a-7dab6c540e74",
   "metadata": {
    "jupyter": {
     "source_hidden": true
    }
   },
   "outputs": [],
   "source": []
  },
  {
   "cell_type": "markdown",
   "id": "06f0bbe5-06b8-4a9b-b1b2-bd933fea437f",
   "metadata": {},
   "source": [
    "[back to TOC](#toc)"
   ]
  },
  {
   "cell_type": "markdown",
   "id": "a2f561fc-6397-4382-be41-b88e0e247b3c",
   "metadata": {},
   "source": [
    "<a id='bdw-4'></a>"
   ]
  },
  {
   "cell_type": "markdown",
   "id": "c546503e-77fd-4f7a-a155-592db403268c",
   "metadata": {},
   "source": [
    "## 1.4. Duplicate values"
   ]
  },
  {
   "cell_type": "code",
   "execution_count": null,
   "id": "ace54a29-94f4-4a67-a566-04c5bd6fe91c",
   "metadata": {},
   "outputs": [],
   "source": []
  },
  {
   "cell_type": "code",
   "execution_count": null,
   "id": "5b794586-c8e1-452d-a603-fa15b087f68d",
   "metadata": {},
   "outputs": [],
   "source": []
  },
  {
   "cell_type": "code",
   "execution_count": null,
   "id": "98bd61de-1ad4-490a-b7f2-6542263d5a3d",
   "metadata": {
    "jupyter": {
     "source_hidden": true
    }
   },
   "outputs": [],
   "source": []
  },
  {
   "cell_type": "markdown",
   "id": "761dd4ad-13df-4eb8-86a3-6b484d89d8d3",
   "metadata": {},
   "source": [
    "[back to TOC](#toc)"
   ]
  },
  {
   "cell_type": "markdown",
   "id": "075c0644-3534-401e-b0c2-4272518130da",
   "metadata": {},
   "source": [
    "<a id='bdw-5'></a>"
   ]
  },
  {
   "cell_type": "markdown",
   "id": "cbe6e825-2767-445f-af76-8ce27fa76d5c",
   "metadata": {},
   "source": [
    "## 1.5. Null values"
   ]
  },
  {
   "cell_type": "code",
   "execution_count": null,
   "id": "6c1b3907-5082-4e91-957a-f6b3699f92fb",
   "metadata": {},
   "outputs": [],
   "source": []
  },
  {
   "cell_type": "code",
   "execution_count": null,
   "id": "753c7f0b-8e64-4b06-9abd-962933e3319e",
   "metadata": {},
   "outputs": [],
   "source": []
  },
  {
   "cell_type": "code",
   "execution_count": null,
   "id": "dfe7c61c-bbe6-4fdb-95b7-6b1a0dab0040",
   "metadata": {
    "jupyter": {
     "source_hidden": true
    }
   },
   "outputs": [],
   "source": []
  },
  {
   "cell_type": "markdown",
   "id": "de35e14e-3a79-414a-ab0a-337fd95fac2c",
   "metadata": {},
   "source": [
    "[back to TOC](#toc)"
   ]
  },
  {
   "cell_type": "markdown",
   "id": "511c1acd-2b85-4168-8bd6-8b28a7acafc0",
   "metadata": {},
   "source": [
    "<a id='eda-0'></a>"
   ]
  },
  {
   "cell_type": "markdown",
   "id": "98f04fa0-4b79-47ea-b9e7-313b807f9247",
   "metadata": {},
   "source": [
    "# 2. Exploratory Data Analysis (EDA)"
   ]
  },
  {
   "cell_type": "markdown",
   "id": "65fc3271-e09c-4887-ac56-4af49d77d739",
   "metadata": {},
   "source": [
    "<a id='eda-1'></a>"
   ]
  },
  {
   "cell_type": "markdown",
   "id": "b1866b3d-048d-4af3-b0a0-e741fc6d13d2",
   "metadata": {},
   "source": [
    "## 2.1. Relationship between ...???"
   ]
  },
  {
   "cell_type": "code",
   "execution_count": null,
   "id": "2433afa5-0718-4d17-a448-ccbfd325ffb0",
   "metadata": {},
   "outputs": [],
   "source": []
  },
  {
   "cell_type": "code",
   "execution_count": null,
   "id": "032acee8-c205-4c08-a13c-913e48ec57a7",
   "metadata": {},
   "outputs": [],
   "source": []
  },
  {
   "cell_type": "code",
   "execution_count": null,
   "id": "5580173c-0ada-4ae7-b565-69591609a917",
   "metadata": {},
   "outputs": [],
   "source": []
  },
  {
   "cell_type": "markdown",
   "id": "1b890949-d819-4302-b88a-a8acdd3d3762",
   "metadata": {},
   "source": [
    "[back to TOC](#toc)"
   ]
  },
  {
   "cell_type": "markdown",
   "id": "335a057c-e1e1-4413-a762-0388174831b7",
   "metadata": {},
   "source": [
    "<a id='sa-0'></a>"
   ]
  },
  {
   "cell_type": "markdown",
   "id": "b5c6317a-e4e3-4016-93d9-b4398f8b1aa1",
   "metadata": {},
   "source": [
    "# 3. Advanced Statistical Analysis"
   ]
  },
  {
   "cell_type": "markdown",
   "id": "31eb3061-6296-4e94-8510-124f3c4f6f0f",
   "metadata": {},
   "source": [
    "<a id='sa-1'></a>"
   ]
  },
  {
   "cell_type": "markdown",
   "id": "d6e641e9-ccae-4d12-baa4-5a281ef61808",
   "metadata": {},
   "source": [
    "## 3.1. Statistically significant difference"
   ]
  },
  {
   "cell_type": "code",
   "execution_count": null,
   "id": "81411f00-0d91-4b55-b0bc-f26c96b71c32",
   "metadata": {},
   "outputs": [],
   "source": []
  },
  {
   "cell_type": "code",
   "execution_count": null,
   "id": "a1f17085-7cea-4d16-ace3-a1ceaae24898",
   "metadata": {},
   "outputs": [],
   "source": []
  },
  {
   "cell_type": "code",
   "execution_count": null,
   "id": "5d743bed-0492-45f2-a80d-f3362f042854",
   "metadata": {},
   "outputs": [],
   "source": []
  },
  {
   "cell_type": "markdown",
   "id": "77cf68ce-c77e-4904-a418-71b1ebf02689",
   "metadata": {},
   "source": [
    "[back to TOC](#toc)"
   ]
  },
  {
   "cell_type": "markdown",
   "id": "45abacdc-7e09-4b32-8a47-a71b9415d5e9",
   "metadata": {},
   "source": [
    "<a id='sa-2'></a>"
   ]
  },
  {
   "cell_type": "markdown",
   "id": "0aa155ea-12a7-4088-bb79-18571d507b8b",
   "metadata": {},
   "source": [
    "## 3.2. Correlation with ??"
   ]
  },
  {
   "cell_type": "code",
   "execution_count": null,
   "id": "4dd58dc4-e726-4650-aab4-53467c79a48d",
   "metadata": {
    "jupyter": {
     "source_hidden": true
    }
   },
   "outputs": [],
   "source": []
  },
  {
   "cell_type": "code",
   "execution_count": null,
   "id": "12be7a89-1793-4a30-b5d9-228dd6dbcb0a",
   "metadata": {},
   "outputs": [],
   "source": []
  },
  {
   "cell_type": "code",
   "execution_count": null,
   "id": "c48c11f8-224c-4212-b37d-52c9f34e6a52",
   "metadata": {},
   "outputs": [],
   "source": []
  },
  {
   "cell_type": "markdown",
   "id": "86654110-8693-4be3-9fef-52d3a83ea153",
   "metadata": {},
   "source": [
    "[back to TOC](#toc)"
   ]
  },
  {
   "cell_type": "markdown",
   "id": "0d1e9f92-0b32-4f50-b107-7790354c2ef9",
   "metadata": {},
   "source": [
    "<a id='asa-0'></a>"
   ]
  },
  {
   "cell_type": "markdown",
   "id": "76189c46-a359-461b-9acf-6e98298d1537",
   "metadata": {},
   "source": [
    "# 4. Advanced Statistical Analysis"
   ]
  },
  {
   "cell_type": "markdown",
   "id": "927ea8a8-e1b5-49d3-a13d-67097ac7c2bc",
   "metadata": {},
   "source": [
    "<a id='asa-1'></a>"
   ]
  },
  {
   "cell_type": "markdown",
   "id": "fc96f5c0-3e4f-49f2-9296-379fa198bbcd",
   "metadata": {},
   "source": [
    "## 4.1. Linear regression for ??"
   ]
  },
  {
   "cell_type": "code",
   "execution_count": null,
   "id": "ad4d5d17-2780-4639-a16d-9bafbf5db6d1",
   "metadata": {},
   "outputs": [],
   "source": []
  },
  {
   "cell_type": "code",
   "execution_count": null,
   "id": "e4c5924c-ec5d-47f9-872c-7ce449af58ea",
   "metadata": {},
   "outputs": [],
   "source": []
  },
  {
   "cell_type": "code",
   "execution_count": null,
   "id": "67be9d6f-34c3-4101-9aa8-6e2ecde070e6",
   "metadata": {},
   "outputs": [],
   "source": []
  },
  {
   "cell_type": "markdown",
   "id": "57db4558-60b8-40d2-851a-3d471a9e7cfb",
   "metadata": {},
   "source": [
    "[back to TOC](#toc)"
   ]
  },
  {
   "cell_type": "markdown",
   "id": "df089f3a-d7f7-40bf-b458-ac91ec11f367",
   "metadata": {},
   "source": [
    "<a id='asa-2'></a>"
   ]
  },
  {
   "cell_type": "markdown",
   "id": "d790413d-aa9d-4d60-9f6e-ed48fe2be922",
   "metadata": {},
   "source": [
    "## 4.2. Logistic regression for ??"
   ]
  },
  {
   "cell_type": "code",
   "execution_count": null,
   "id": "30eccb16-78ad-4eda-a6e1-dc85e907fccd",
   "metadata": {
    "jupyter": {
     "source_hidden": true
    }
   },
   "outputs": [],
   "source": []
  },
  {
   "cell_type": "code",
   "execution_count": null,
   "id": "14ae3d23-7cfa-46c0-bb23-7399caf44629",
   "metadata": {},
   "outputs": [],
   "source": []
  },
  {
   "cell_type": "code",
   "execution_count": null,
   "id": "06d510bf-ec8c-44a4-b463-89ed0e24af2e",
   "metadata": {},
   "outputs": [],
   "source": []
  },
  {
   "cell_type": "markdown",
   "id": "81c238ba-3367-4516-8c98-22dbb9506454",
   "metadata": {},
   "source": [
    "[back to TOC](#toc)"
   ]
  },
  {
   "cell_type": "markdown",
   "id": "76d85d78-b250-49cf-af67-03517b80dfd4",
   "metadata": {},
   "source": [
    "<a id='concl'></a>"
   ]
  },
  {
   "cell_type": "markdown",
   "id": "a114706e-74be-43f3-aaaf-2fd0be8659b4",
   "metadata": {
    "tags": []
   },
   "source": [
    "# Conclusion"
   ]
  },
  {
   "cell_type": "markdown",
   "id": "b8b6586a-a70b-4d2a-843d-35f146aab0b6",
   "metadata": {},
   "source": [
    "In summary, describing the relationship between mosquito species and WNV prevalence involves data analysis and visualization among other techniques. The following insights aim to show that the mosquito species are a significant vector for the virus and contribute to informed decision-making in public health and mosquito control efforts in the City of Chicago:\n",
    "* The mosquito 'Culex Pipiens' require deeper analysis, since it is the most frequent specie with WNV positive.\n",
    "* It is not recommended to continue using OVI traps in the study, since is has a low trapping rate. Give priority to Sentinel and CDC traps, the ones with the highest trap efficacy. \n",
    "* Implement additional safety measures during august to decrease mosquito population, such as:\n",
    "    * Eliminate or regularly empty containers that can collect water, such as buckets, flower pots, and clogged gutters.\n",
    "    * Apply mosquito repellent on exposed skin when spending time outdoors.\n",
    "    * Wear long sleeves and pants when outside.\n",
    "    * Set up more mosquito traps.\n",
    "    * Introduce natural mosquito predators like birds, bats, or dragonflies to your area, if possible.\n",
    "    * Plant mosquito-repelling herbs and flowers in your garden, such as citronella, lavender, and marigolds.on"
   ]
  },
  {
   "cell_type": "markdown",
   "id": "c1c27832-91e9-4e05-b15f-d0296de1bc3a",
   "metadata": {},
   "source": [
    "[back to TOC](#toc)"
   ]
  }
 ],
 "metadata": {
  "kernelspec": {
   "display_name": "Python 3 (ipykernel)",
   "language": "python",
   "name": "python3"
  },
  "language_info": {
   "codemirror_mode": {
    "name": "ipython",
    "version": 3
   },
   "file_extension": ".py",
   "mimetype": "text/x-python",
   "name": "python",
   "nbconvert_exporter": "python",
   "pygments_lexer": "ipython3",
   "version": "3.11.5"
  }
 },
 "nbformat": 4,
 "nbformat_minor": 5
}
