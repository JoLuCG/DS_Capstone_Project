{
 "cells": [
  {
   "cell_type": "markdown",
   "id": "143f154d-fd22-4c92-9a38-4f21bbf2de8a",
   "metadata": {},
   "source": [
    "# ASHRAE Great Energy Predictor\n",
    "### *by Jose Correa*"
   ]
  },
  {
   "cell_type": "markdown",
   "id": "ff5579a4-5758-4366-a40d-4b6ab98f4c1c",
   "metadata": {},
   "source": [
    "# Introduction\n",
    "\n",
    "? Rewrite better, copy to README.md\n",
    "\n",
    "How much does it cost to cool a skyscraper in the summer?  A lot! And not just in dollars, but in environmental impact.\r\n",
    "\r\n",
    "Thankfully, significant investments are being made to improve building efficiencies to reduce costs and emissions. The question is, are the improvements workgnn. Under pay-for-performance financing, the building owner makes payments based on the difference between their real energy consumption and what they would have used without any retrofits. The latter values have to come from a mo, however, c. Current methods of estimation are fragmented and do not scale w, s. Some assume a specific meter type or don’t work with different building types.\r\n",
    "\r\n",
    "In machine learning analysisitis beenou’ll deed elop accurate models of metered building energy usage in the following areas: chilled water, electric, hot water, and steam meters. The data comes from over 1,000 buil, at several different sites around the world,dings over a three-year  timeframe. With better estimates of these energy-saving investments, large scale investors and financial institutions will be more inclined to invest in this area to enable progress in building efficien\n",
    "\n",
    "\n",
    "*Dataset Description*\n",
    "\r\n",
    "Assessing the value of energy efficiency improvements can be challenging as there's no way to truly know how much energy a building would have used without the improvements. The best we can do is to build counterfactual models. Once a building is overhauled the new (lower) energy consumption is compared against modeled values for the original building to calculate the savings from the retrofit. More accurate models could support better market incentives and enable lower cost financing.\r\n",
    "\r\n",
    "This competition challenges you to build these counterfactual models across four energy types based on historic usage rates and observed weather. The dataset includes three years of hourly meter readings from over one thousand buildings at several different sites around the world.cies."
   ]
  },
  {
   "cell_type": "markdown",
   "id": "d43f4505-c108-4381-8d36-edbe953bf12b",
   "metadata": {},
   "source": [
    "<a id='toc'></a>"
   ]
  },
  {
   "cell_type": "markdown",
   "id": "c26203c7-ed69-4b59-ad4e-a5375496394f",
   "metadata": {},
   "source": [
    "# Table of Contents\n",
    "\n",
    "1. [Data dictionary](#data-d)\n",
    "2. [Basic Data Wrangling](#bdw-0)\n",
    "    1. [Files merging](#bdw-1)\n",
    "    2. [Subset](#bdw-2)\n",
    "    3. [Healthcare data overview](#bdw-3)\n",
    "    4. [Numeric columns](#bdw-4)\n",
    "    5. [Remove unnecessary and duplicated columns](#bdw-5)\n",
    "    6. [Null values analysis](#bdw-6)\n",
    "3. [Exploratory Data Analysis (EDA)](#eda-0)\n",
    "    1. [Data overview](#eda-1)\n",
    "    2. [Null values](#eda-2)\n",
    "4. [Statistical Analysis](#sa-0)\n",
    "    1. [Statistically significant difference..](#sa-1)\n",
    "    2. [Correlation with ??](#sa-2)\n",
    "5. [Advanced Statistical Analysis](#asa-0)\n",
    "    1. [Linear regression for ??](#asa-1)\n",
    "    2. [Logistic regression for ??](#asa-2)\n",
    "6. [Conclusion](#concl)"
   ]
  },
  {
   "cell_type": "code",
   "execution_count": null,
   "id": "ddc66199-d11e-4536-80e7-8d37b93c8a40",
   "metadata": {},
   "outputs": [],
   "source": []
  },
  {
   "cell_type": "markdown",
   "id": "f0b197b2-8686-4faa-818b-fe9216203ab3",
   "metadata": {},
   "source": [
    "<a id='data-d'></a>"
   ]
  },
  {
   "cell_type": "markdown",
   "id": "4a8b9503-0013-4dab-b239-95b7deb11cca",
   "metadata": {
    "tags": []
   },
   "source": [
    "# Data dictionary"
   ]
  },
  {
   "cell_type": "markdown",
   "id": "b6ef1acd-1d7b-416b-885f-b0cb58b73bb3",
   "metadata": {},
   "source": [
    "- `building_id`, foreign key for the building metadata.\r",
    "- `meter`, the  meter id code. Read as {0: electricity, 1: chilld dwater, 2: steam, : hot water}.  Not every building has all mete types.\n",
    "- `meter_timestamp`, when the measurement was taken. Same as `weather_timestamp`.\n",
    "- `meter_reading`, the target variable. Energy consumption in kWh (or equivalent).\n",
    "- `site_id`, foreign key for the weather files.\n",
    "- `primary_use`, indicator  of the primary category of activities for th building.\n",
    "- `square_feet`, gross floor area of the building in ft2.\n",
    "- `year_built`, year building was opened.\n",
    "- `floor_count`, number of floors of the building.\n",
    "- `weather_timestamp`, when the measurement was taken. Same as `meter_timestamp`.\n",
    "- `air_temperature`, degrees celsius.\n",
    "- `cloud_coverage`, portion of the sky covered in clouds, in oktas.\n",
    "- `dew_temperature`, degrees celsius.\n",
    "- `precip_depth_1_hr`, milimiters.\n",
    "- `sea_level_pressure`, milibar/hectopascals.\n",
    "- `wind_direction`, compass direction (0-360).\n",
    "- `wind_speed`, meters/second (m/s).econd\n",
    "ding) \n"
   ]
  },
  {
   "cell_type": "markdown",
   "id": "3f2b2a56-0549-4042-8475-299864569d22",
   "metadata": {},
   "source": [
    "<a id='bdw-0'></a>"
   ]
  },
  {
   "cell_type": "markdown",
   "id": "31ea95b2-2b42-4999-94dd-710bc0b1fd5e",
   "metadata": {},
   "source": [
    "[back to TOC](#toc)"
   ]
  },
  {
   "cell_type": "markdown",
   "id": "3b4dab8f-beea-4fda-9c1b-fe3efe4637bb",
   "metadata": {
    "tags": []
   },
   "source": [
    "# 1. Basic Data Wrangling"
   ]
  },
  {
   "cell_type": "code",
   "execution_count": 1,
   "id": "308c0c50-2190-4bb2-ba68-99540075007b",
   "metadata": {
    "tags": []
   },
   "outputs": [],
   "source": [
    "# Import Python packages\n",
    "import pandas as pd\n",
    "import numpy as np\n",
    "\n",
    "import matplotlib.pyplot as plt\n",
    "import seaborn as sns\n",
    "\n",
    "# Setting figure size\n",
    "plt.rcParams['figure.figsize']=(8.0,6.0)"
   ]
  },
  {
   "cell_type": "markdown",
   "id": "ce5e7d1b-9b1f-4016-beb4-22a530ed3928",
   "metadata": {},
   "source": [
    "<a id='bdw-1'></a>"
   ]
  },
  {
   "cell_type": "markdown",
   "id": "435b6b75-4ae0-4a95-812b-f0ae13df049f",
   "metadata": {},
   "source": [
    "## 1.1. Files merging\n",
    "The interrelated files are: train.csv, building_metadata.csv, weather_train.csv"
   ]
  },
  {
   "cell_type": "markdown",
   "id": "9bbe5a74-6a07-46a2-ac73-861ae830cc1e",
   "metadata": {},
   "source": [
    "#### train file"
   ]
  },
  {
   "cell_type": "code",
   "execution_count": 2,
   "id": "03d2309b-004b-4a43-89a3-5043f44e185e",
   "metadata": {
    "scrolled": true,
    "tags": []
   },
   "outputs": [
    {
     "data": {
      "text/html": [
       "<div>\n",
       "<style scoped>\n",
       "    .dataframe tbody tr th:only-of-type {\n",
       "        vertical-align: middle;\n",
       "    }\n",
       "\n",
       "    .dataframe tbody tr th {\n",
       "        vertical-align: top;\n",
       "    }\n",
       "\n",
       "    .dataframe thead th {\n",
       "        text-align: right;\n",
       "    }\n",
       "</style>\n",
       "<table border=\"1\" class=\"dataframe\">\n",
       "  <thead>\n",
       "    <tr style=\"text-align: right;\">\n",
       "      <th></th>\n",
       "      <th>building_id</th>\n",
       "      <th>meter</th>\n",
       "      <th>timestamp</th>\n",
       "      <th>meter_reading</th>\n",
       "    </tr>\n",
       "  </thead>\n",
       "  <tbody>\n",
       "    <tr>\n",
       "      <th>0</th>\n",
       "      <td>0</td>\n",
       "      <td>0</td>\n",
       "      <td>2016-01-01 00:00:00</td>\n",
       "      <td>0.0</td>\n",
       "    </tr>\n",
       "    <tr>\n",
       "      <th>1</th>\n",
       "      <td>1</td>\n",
       "      <td>0</td>\n",
       "      <td>2016-01-01 00:00:00</td>\n",
       "      <td>0.0</td>\n",
       "    </tr>\n",
       "    <tr>\n",
       "      <th>2</th>\n",
       "      <td>2</td>\n",
       "      <td>0</td>\n",
       "      <td>2016-01-01 00:00:00</td>\n",
       "      <td>0.0</td>\n",
       "    </tr>\n",
       "  </tbody>\n",
       "</table>\n",
       "</div>"
      ],
      "text/plain": [
       "   building_id  meter            timestamp  meter_reading\n",
       "0            0      0  2016-01-01 00:00:00            0.0\n",
       "1            1      0  2016-01-01 00:00:00            0.0\n",
       "2            2      0  2016-01-01 00:00:00            0.0"
      ]
     },
     "metadata": {},
     "output_type": "display_data"
    }
   ],
   "source": [
    "# train file, data loading. The file is coma (,) separated. \n",
    "# The index is auto generated, since the 'building_id' column doesn't have unique values\n",
    "train_df = pd.read_csv('data/train.csv', sep = ',')\n",
    "display (train_df.head(3))"
   ]
  },
  {
   "cell_type": "code",
   "execution_count": 3,
   "id": "3453f4c4-ffbc-4992-b7be-9ffd64b694a8",
   "metadata": {},
   "outputs": [
    {
     "name": "stdout",
     "output_type": "stream",
     "text": [
      "<class 'pandas.core.frame.DataFrame'>\n",
      "RangeIndex: 20216100 entries, 0 to 20216099\n",
      "Data columns (total 4 columns):\n",
      " #   Column         Dtype  \n",
      "---  ------         -----  \n",
      " 0   building_id    int64  \n",
      " 1   meter          int64  \n",
      " 2   timestamp      object \n",
      " 3   meter_reading  float64\n",
      "dtypes: float64(1), int64(2), object(1)\n",
      "memory usage: 616.9+ MB\n"
     ]
    }
   ],
   "source": [
    "# General info\n",
    "train_df.info()"
   ]
  },
  {
   "cell_type": "code",
   "execution_count": null,
   "id": "43311bd3-0fbf-44d2-8266-bcc0349b5f9c",
   "metadata": {},
   "outputs": [],
   "source": []
  },
  {
   "cell_type": "markdown",
   "id": "1b3ab1bb-fc6a-4d1c-a8bd-ca81e6bfd556",
   "metadata": {},
   "source": [
    "#### building_meta file "
   ]
  },
  {
   "cell_type": "code",
   "execution_count": 4,
   "id": "313ddb9a-b9fb-46cd-8cd7-b9ff21cb7c10",
   "metadata": {},
   "outputs": [
    {
     "data": {
      "text/html": [
       "<div>\n",
       "<style scoped>\n",
       "    .dataframe tbody tr th:only-of-type {\n",
       "        vertical-align: middle;\n",
       "    }\n",
       "\n",
       "    .dataframe tbody tr th {\n",
       "        vertical-align: top;\n",
       "    }\n",
       "\n",
       "    .dataframe thead th {\n",
       "        text-align: right;\n",
       "    }\n",
       "</style>\n",
       "<table border=\"1\" class=\"dataframe\">\n",
       "  <thead>\n",
       "    <tr style=\"text-align: right;\">\n",
       "      <th></th>\n",
       "      <th>site_id</th>\n",
       "      <th>building_id</th>\n",
       "      <th>primary_use</th>\n",
       "      <th>square_feet</th>\n",
       "      <th>year_built</th>\n",
       "      <th>floor_count</th>\n",
       "    </tr>\n",
       "  </thead>\n",
       "  <tbody>\n",
       "    <tr>\n",
       "      <th>0</th>\n",
       "      <td>0</td>\n",
       "      <td>0</td>\n",
       "      <td>Education</td>\n",
       "      <td>7432</td>\n",
       "      <td>2008.0</td>\n",
       "      <td>NaN</td>\n",
       "    </tr>\n",
       "    <tr>\n",
       "      <th>1</th>\n",
       "      <td>0</td>\n",
       "      <td>1</td>\n",
       "      <td>Education</td>\n",
       "      <td>2720</td>\n",
       "      <td>2004.0</td>\n",
       "      <td>NaN</td>\n",
       "    </tr>\n",
       "    <tr>\n",
       "      <th>2</th>\n",
       "      <td>0</td>\n",
       "      <td>2</td>\n",
       "      <td>Education</td>\n",
       "      <td>5376</td>\n",
       "      <td>1991.0</td>\n",
       "      <td>NaN</td>\n",
       "    </tr>\n",
       "  </tbody>\n",
       "</table>\n",
       "</div>"
      ],
      "text/plain": [
       "   site_id  building_id primary_use  square_feet  year_built  floor_count\n",
       "0        0            0   Education         7432      2008.0          NaN\n",
       "1        0            1   Education         2720      2004.0          NaN\n",
       "2        0            2   Education         5376      1991.0          NaN"
      ]
     },
     "metadata": {},
     "output_type": "display_data"
    }
   ],
   "source": [
    "# building_meta file, data loading. The file is coma (,) separated. \n",
    "# The index is auto generated, since the 'building_id' column doesn't have unique values\n",
    "building_df = pd.read_csv('data/building_metadata.csv', sep = ',')\n",
    "display (building_df.head(3))"
   ]
  },
  {
   "cell_type": "code",
   "execution_count": 5,
   "id": "8f14cf25-d8ec-4925-91a6-dd95be4f1e34",
   "metadata": {},
   "outputs": [
    {
     "name": "stdout",
     "output_type": "stream",
     "text": [
      "<class 'pandas.core.frame.DataFrame'>\n",
      "RangeIndex: 1449 entries, 0 to 1448\n",
      "Data columns (total 6 columns):\n",
      " #   Column       Non-Null Count  Dtype  \n",
      "---  ------       --------------  -----  \n",
      " 0   site_id      1449 non-null   int64  \n",
      " 1   building_id  1449 non-null   int64  \n",
      " 2   primary_use  1449 non-null   object \n",
      " 3   square_feet  1449 non-null   int64  \n",
      " 4   year_built   675 non-null    float64\n",
      " 5   floor_count  355 non-null    float64\n",
      "dtypes: float64(2), int64(3), object(1)\n",
      "memory usage: 68.1+ KB\n"
     ]
    }
   ],
   "source": [
    "# General info\n",
    "building_df.info()"
   ]
  },
  {
   "cell_type": "code",
   "execution_count": null,
   "id": "8e9f6ffa-6d0c-44af-a743-dc0bda09a0d3",
   "metadata": {},
   "outputs": [],
   "source": []
  },
  {
   "cell_type": "markdown",
   "id": "62e2aece-ff59-4d65-a9a3-0ab0fd7f9f80",
   "metadata": {},
   "source": [
    "#### Join train_df and building_df on 'building_id'"
   ]
  },
  {
   "cell_type": "code",
   "execution_count": 6,
   "id": "c0ebaeae-5b0b-437e-ba7d-cf95d163ee9d",
   "metadata": {},
   "outputs": [
    {
     "data": {
      "text/html": [
       "<div>\n",
       "<style scoped>\n",
       "    .dataframe tbody tr th:only-of-type {\n",
       "        vertical-align: middle;\n",
       "    }\n",
       "\n",
       "    .dataframe tbody tr th {\n",
       "        vertical-align: top;\n",
       "    }\n",
       "\n",
       "    .dataframe thead th {\n",
       "        text-align: right;\n",
       "    }\n",
       "</style>\n",
       "<table border=\"1\" class=\"dataframe\">\n",
       "  <thead>\n",
       "    <tr style=\"text-align: right;\">\n",
       "      <th></th>\n",
       "      <th>building_id</th>\n",
       "      <th>meter</th>\n",
       "      <th>timestamp</th>\n",
       "      <th>meter_reading</th>\n",
       "      <th>site_id</th>\n",
       "      <th>primary_use</th>\n",
       "      <th>square_feet</th>\n",
       "      <th>year_built</th>\n",
       "      <th>floor_count</th>\n",
       "    </tr>\n",
       "  </thead>\n",
       "  <tbody>\n",
       "    <tr>\n",
       "      <th>13031864</th>\n",
       "      <td>1067</td>\n",
       "      <td>0</td>\n",
       "      <td>2016-11-04 11:00:00</td>\n",
       "      <td>439.9650</td>\n",
       "      <td>12</td>\n",
       "      <td>Education</td>\n",
       "      <td>125701</td>\n",
       "      <td>NaN</td>\n",
       "      <td>NaN</td>\n",
       "    </tr>\n",
       "    <tr>\n",
       "      <th>17485231</th>\n",
       "      <td>1293</td>\n",
       "      <td>2</td>\n",
       "      <td>2016-10-21 21:00:00</td>\n",
       "      <td>369.4740</td>\n",
       "      <td>14</td>\n",
       "      <td>Office</td>\n",
       "      <td>51471</td>\n",
       "      <td>NaN</td>\n",
       "      <td>NaN</td>\n",
       "    </tr>\n",
       "    <tr>\n",
       "      <th>18049197</th>\n",
       "      <td>1316</td>\n",
       "      <td>0</td>\n",
       "      <td>2016-02-02 23:00:00</td>\n",
       "      <td>77.6562</td>\n",
       "      <td>14</td>\n",
       "      <td>Entertainment/public assembly</td>\n",
       "      <td>49975</td>\n",
       "      <td>NaN</td>\n",
       "      <td>NaN</td>\n",
       "    </tr>\n",
       "  </tbody>\n",
       "</table>\n",
       "</div>"
      ],
      "text/plain": [
       "          building_id  meter            timestamp  meter_reading  site_id  \\\n",
       "13031864         1067      0  2016-11-04 11:00:00       439.9650       12   \n",
       "17485231         1293      2  2016-10-21 21:00:00       369.4740       14   \n",
       "18049197         1316      0  2016-02-02 23:00:00        77.6562       14   \n",
       "\n",
       "                            primary_use  square_feet  year_built  floor_count  \n",
       "13031864                      Education       125701         NaN          NaN  \n",
       "17485231                         Office        51471         NaN          NaN  \n",
       "18049197  Entertainment/public assembly        49975         NaN          NaN  "
      ]
     },
     "execution_count": 6,
     "metadata": {},
     "output_type": "execute_result"
    }
   ],
   "source": [
    "# Join train_df and building_df on 'building_id'\n",
    "train_building_df = train_df.merge(building_df, on='building_id', how='inner')\n",
    "train_building_df.sample(3)"
   ]
  },
  {
   "cell_type": "code",
   "execution_count": 7,
   "id": "673faa40-3a07-4074-b98f-749d42f30b86",
   "metadata": {},
   "outputs": [
    {
     "name": "stdout",
     "output_type": "stream",
     "text": [
      "<class 'pandas.core.frame.DataFrame'>\n",
      "RangeIndex: 20216100 entries, 0 to 20216099\n",
      "Data columns (total 9 columns):\n",
      " #   Column         Dtype  \n",
      "---  ------         -----  \n",
      " 0   building_id    int64  \n",
      " 1   meter          int64  \n",
      " 2   timestamp      object \n",
      " 3   meter_reading  float64\n",
      " 4   site_id        int64  \n",
      " 5   primary_use    object \n",
      " 6   square_feet    int64  \n",
      " 7   year_built     float64\n",
      " 8   floor_count    float64\n",
      "dtypes: float64(3), int64(4), object(2)\n",
      "memory usage: 1.4+ GB\n"
     ]
    }
   ],
   "source": [
    "# Review merged df\n",
    "train_building_df.info()"
   ]
  },
  {
   "cell_type": "code",
   "execution_count": null,
   "id": "a20d557a-2765-4068-ab8e-c91cb948c679",
   "metadata": {},
   "outputs": [],
   "source": []
  },
  {
   "cell_type": "markdown",
   "id": "00133fed-ef45-438e-a0cb-eaecf6f445f4",
   "metadata": {},
   "source": [
    "#### Weather_train file"
   ]
  },
  {
   "cell_type": "code",
   "execution_count": 8,
   "id": "f88cfe34-7c00-4582-a3ed-f0cace88e64e",
   "metadata": {},
   "outputs": [
    {
     "data": {
      "text/html": [
       "<div>\n",
       "<style scoped>\n",
       "    .dataframe tbody tr th:only-of-type {\n",
       "        vertical-align: middle;\n",
       "    }\n",
       "\n",
       "    .dataframe tbody tr th {\n",
       "        vertical-align: top;\n",
       "    }\n",
       "\n",
       "    .dataframe thead th {\n",
       "        text-align: right;\n",
       "    }\n",
       "</style>\n",
       "<table border=\"1\" class=\"dataframe\">\n",
       "  <thead>\n",
       "    <tr style=\"text-align: right;\">\n",
       "      <th></th>\n",
       "      <th>site_id</th>\n",
       "      <th>timestamp</th>\n",
       "      <th>air_temperature</th>\n",
       "      <th>cloud_coverage</th>\n",
       "      <th>dew_temperature</th>\n",
       "      <th>precip_depth_1_hr</th>\n",
       "      <th>sea_level_pressure</th>\n",
       "      <th>wind_direction</th>\n",
       "      <th>wind_speed</th>\n",
       "    </tr>\n",
       "  </thead>\n",
       "  <tbody>\n",
       "    <tr>\n",
       "      <th>8691</th>\n",
       "      <td>0</td>\n",
       "      <td>2016-12-28 03:00:00</td>\n",
       "      <td>20.6</td>\n",
       "      <td>2.0</td>\n",
       "      <td>19.4</td>\n",
       "      <td>0.0</td>\n",
       "      <td>1022.2</td>\n",
       "      <td>90.0</td>\n",
       "      <td>2.6</td>\n",
       "    </tr>\n",
       "    <tr>\n",
       "      <th>67140</th>\n",
       "      <td>7</td>\n",
       "      <td>2016-08-31 12:00:00</td>\n",
       "      <td>19.6</td>\n",
       "      <td>NaN</td>\n",
       "      <td>16.8</td>\n",
       "      <td>NaN</td>\n",
       "      <td>1011.1</td>\n",
       "      <td>260.0</td>\n",
       "      <td>1.5</td>\n",
       "    </tr>\n",
       "    <tr>\n",
       "      <th>132677</th>\n",
       "      <td>15</td>\n",
       "      <td>2016-03-01 12:00:00</td>\n",
       "      <td>-6.7</td>\n",
       "      <td>NaN</td>\n",
       "      <td>-9.4</td>\n",
       "      <td>-1.0</td>\n",
       "      <td>NaN</td>\n",
       "      <td>240.0</td>\n",
       "      <td>1.5</td>\n",
       "    </tr>\n",
       "  </tbody>\n",
       "</table>\n",
       "</div>"
      ],
      "text/plain": [
       "        site_id            timestamp  air_temperature  cloud_coverage  \\\n",
       "8691          0  2016-12-28 03:00:00             20.6             2.0   \n",
       "67140         7  2016-08-31 12:00:00             19.6             NaN   \n",
       "132677       15  2016-03-01 12:00:00             -6.7             NaN   \n",
       "\n",
       "        dew_temperature  precip_depth_1_hr  sea_level_pressure  \\\n",
       "8691               19.4                0.0              1022.2   \n",
       "67140              16.8                NaN              1011.1   \n",
       "132677             -9.4               -1.0                 NaN   \n",
       "\n",
       "        wind_direction  wind_speed  \n",
       "8691              90.0         2.6  \n",
       "67140            260.0         1.5  \n",
       "132677           240.0         1.5  "
      ]
     },
     "execution_count": 8,
     "metadata": {},
     "output_type": "execute_result"
    }
   ],
   "source": [
    "# weather_train.csv file, data loading. The file is coma (,) separated. \n",
    "# The index is auto generated, since the 'site_id' column doesn't have unique values\n",
    "weather_train_df = pd.read_csv('data/weather_train.csv', sep = ',')\n",
    "weather_train_df.sample(3)"
   ]
  },
  {
   "cell_type": "code",
   "execution_count": 9,
   "id": "bfac1662-489d-43d4-830a-c4c7b1aee7b7",
   "metadata": {},
   "outputs": [
    {
     "name": "stdout",
     "output_type": "stream",
     "text": [
      "<class 'pandas.core.frame.DataFrame'>\n",
      "RangeIndex: 139773 entries, 0 to 139772\n",
      "Data columns (total 9 columns):\n",
      " #   Column              Non-Null Count   Dtype  \n",
      "---  ------              --------------   -----  \n",
      " 0   site_id             139773 non-null  int64  \n",
      " 1   timestamp           139773 non-null  object \n",
      " 2   air_temperature     139718 non-null  float64\n",
      " 3   cloud_coverage      70600 non-null   float64\n",
      " 4   dew_temperature     139660 non-null  float64\n",
      " 5   precip_depth_1_hr   89484 non-null   float64\n",
      " 6   sea_level_pressure  129155 non-null  float64\n",
      " 7   wind_direction      133505 non-null  float64\n",
      " 8   wind_speed          139469 non-null  float64\n",
      "dtypes: float64(7), int64(1), object(1)\n",
      "memory usage: 9.6+ MB\n"
     ]
    }
   ],
   "source": [
    "# General info\n",
    "weather_train_df.info()"
   ]
  },
  {
   "cell_type": "code",
   "execution_count": null,
   "id": "1de6771c-d9aa-4576-a22c-9ffd9a33f921",
   "metadata": {},
   "outputs": [],
   "source": []
  },
  {
   "cell_type": "markdown",
   "id": "b573ca7e-bc48-4ab4-8677-1d7e5d906887",
   "metadata": {},
   "source": [
    "#### Rename column header for timestamp to avoid confusion "
   ]
  },
  {
   "cell_type": "code",
   "execution_count": 10,
   "id": "515daa56-bdba-476c-8c1c-9682d5900d07",
   "metadata": {},
   "outputs": [],
   "source": [
    "# Rename the 'timestamp' column to 'meter_timestamp'\n",
    "train_building_df.rename(columns={'timestamp': 'meter_timestamp'}, inplace=True)"
   ]
  },
  {
   "cell_type": "code",
   "execution_count": 11,
   "id": "9688cbc9-8c02-42ef-9f6e-23c25d1c7921",
   "metadata": {},
   "outputs": [
    {
     "data": {
      "text/html": [
       "<div>\n",
       "<style scoped>\n",
       "    .dataframe tbody tr th:only-of-type {\n",
       "        vertical-align: middle;\n",
       "    }\n",
       "\n",
       "    .dataframe tbody tr th {\n",
       "        vertical-align: top;\n",
       "    }\n",
       "\n",
       "    .dataframe thead th {\n",
       "        text-align: right;\n",
       "    }\n",
       "</style>\n",
       "<table border=\"1\" class=\"dataframe\">\n",
       "  <thead>\n",
       "    <tr style=\"text-align: right;\">\n",
       "      <th></th>\n",
       "      <th>building_id</th>\n",
       "      <th>meter</th>\n",
       "      <th>meter_timestamp</th>\n",
       "      <th>meter_reading</th>\n",
       "      <th>site_id</th>\n",
       "      <th>primary_use</th>\n",
       "      <th>square_feet</th>\n",
       "      <th>year_built</th>\n",
       "      <th>floor_count</th>\n",
       "    </tr>\n",
       "  </thead>\n",
       "  <tbody>\n",
       "    <tr>\n",
       "      <th>0</th>\n",
       "      <td>0</td>\n",
       "      <td>0</td>\n",
       "      <td>2016-01-01 00:00:00</td>\n",
       "      <td>0.0</td>\n",
       "      <td>0</td>\n",
       "      <td>Education</td>\n",
       "      <td>7432</td>\n",
       "      <td>2008.0</td>\n",
       "      <td>NaN</td>\n",
       "    </tr>\n",
       "    <tr>\n",
       "      <th>1</th>\n",
       "      <td>0</td>\n",
       "      <td>0</td>\n",
       "      <td>2016-01-01 01:00:00</td>\n",
       "      <td>0.0</td>\n",
       "      <td>0</td>\n",
       "      <td>Education</td>\n",
       "      <td>7432</td>\n",
       "      <td>2008.0</td>\n",
       "      <td>NaN</td>\n",
       "    </tr>\n",
       "    <tr>\n",
       "      <th>2</th>\n",
       "      <td>0</td>\n",
       "      <td>0</td>\n",
       "      <td>2016-01-01 02:00:00</td>\n",
       "      <td>0.0</td>\n",
       "      <td>0</td>\n",
       "      <td>Education</td>\n",
       "      <td>7432</td>\n",
       "      <td>2008.0</td>\n",
       "      <td>NaN</td>\n",
       "    </tr>\n",
       "  </tbody>\n",
       "</table>\n",
       "</div>"
      ],
      "text/plain": [
       "   building_id  meter      meter_timestamp  meter_reading  site_id  \\\n",
       "0            0      0  2016-01-01 00:00:00            0.0        0   \n",
       "1            0      0  2016-01-01 01:00:00            0.0        0   \n",
       "2            0      0  2016-01-01 02:00:00            0.0        0   \n",
       "\n",
       "  primary_use  square_feet  year_built  floor_count  \n",
       "0   Education         7432      2008.0          NaN  \n",
       "1   Education         7432      2008.0          NaN  \n",
       "2   Education         7432      2008.0          NaN  "
      ]
     },
     "execution_count": 11,
     "metadata": {},
     "output_type": "execute_result"
    }
   ],
   "source": [
    "# Check successful rename\n",
    "train_building_df.head(3)"
   ]
  },
  {
   "cell_type": "code",
   "execution_count": 12,
   "id": "d41de545-f25b-412a-a1c8-8563eeb3e7e3",
   "metadata": {},
   "outputs": [],
   "source": [
    "# For weather_train_df\n",
    "# Rename the 'timestamp' column to 'weather_timestamp'\n",
    "weather_train_df.rename(columns={'timestamp': 'weather_timestamp'}, inplace=True)"
   ]
  },
  {
   "cell_type": "code",
   "execution_count": 13,
   "id": "1f95cb2b-86e9-4d64-936f-3ec599f9cd89",
   "metadata": {},
   "outputs": [
    {
     "data": {
      "text/html": [
       "<div>\n",
       "<style scoped>\n",
       "    .dataframe tbody tr th:only-of-type {\n",
       "        vertical-align: middle;\n",
       "    }\n",
       "\n",
       "    .dataframe tbody tr th {\n",
       "        vertical-align: top;\n",
       "    }\n",
       "\n",
       "    .dataframe thead th {\n",
       "        text-align: right;\n",
       "    }\n",
       "</style>\n",
       "<table border=\"1\" class=\"dataframe\">\n",
       "  <thead>\n",
       "    <tr style=\"text-align: right;\">\n",
       "      <th></th>\n",
       "      <th>site_id</th>\n",
       "      <th>weather_timestamp</th>\n",
       "      <th>air_temperature</th>\n",
       "      <th>cloud_coverage</th>\n",
       "      <th>dew_temperature</th>\n",
       "      <th>precip_depth_1_hr</th>\n",
       "      <th>sea_level_pressure</th>\n",
       "      <th>wind_direction</th>\n",
       "      <th>wind_speed</th>\n",
       "    </tr>\n",
       "  </thead>\n",
       "  <tbody>\n",
       "    <tr>\n",
       "      <th>0</th>\n",
       "      <td>0</td>\n",
       "      <td>2016-01-01 00:00:00</td>\n",
       "      <td>25.0</td>\n",
       "      <td>6.0</td>\n",
       "      <td>20.0</td>\n",
       "      <td>NaN</td>\n",
       "      <td>1019.7</td>\n",
       "      <td>0.0</td>\n",
       "      <td>0.0</td>\n",
       "    </tr>\n",
       "    <tr>\n",
       "      <th>1</th>\n",
       "      <td>0</td>\n",
       "      <td>2016-01-01 01:00:00</td>\n",
       "      <td>24.4</td>\n",
       "      <td>NaN</td>\n",
       "      <td>21.1</td>\n",
       "      <td>-1.0</td>\n",
       "      <td>1020.2</td>\n",
       "      <td>70.0</td>\n",
       "      <td>1.5</td>\n",
       "    </tr>\n",
       "    <tr>\n",
       "      <th>2</th>\n",
       "      <td>0</td>\n",
       "      <td>2016-01-01 02:00:00</td>\n",
       "      <td>22.8</td>\n",
       "      <td>2.0</td>\n",
       "      <td>21.1</td>\n",
       "      <td>0.0</td>\n",
       "      <td>1020.2</td>\n",
       "      <td>0.0</td>\n",
       "      <td>0.0</td>\n",
       "    </tr>\n",
       "  </tbody>\n",
       "</table>\n",
       "</div>"
      ],
      "text/plain": [
       "   site_id    weather_timestamp  air_temperature  cloud_coverage  \\\n",
       "0        0  2016-01-01 00:00:00             25.0             6.0   \n",
       "1        0  2016-01-01 01:00:00             24.4             NaN   \n",
       "2        0  2016-01-01 02:00:00             22.8             2.0   \n",
       "\n",
       "   dew_temperature  precip_depth_1_hr  sea_level_pressure  wind_direction  \\\n",
       "0             20.0                NaN              1019.7             0.0   \n",
       "1             21.1               -1.0              1020.2            70.0   \n",
       "2             21.1                0.0              1020.2             0.0   \n",
       "\n",
       "   wind_speed  \n",
       "0         0.0  \n",
       "1         1.5  \n",
       "2         0.0  "
      ]
     },
     "execution_count": 13,
     "metadata": {},
     "output_type": "execute_result"
    }
   ],
   "source": [
    "# Check successful rename\n",
    "weather_train_df.head(3)"
   ]
  },
  {
   "cell_type": "code",
   "execution_count": null,
   "id": "e9973f1e-e814-48be-a564-81dc06a40646",
   "metadata": {},
   "outputs": [],
   "source": []
  },
  {
   "cell_type": "markdown",
   "id": "e57a9289-f5fa-4fc5-b129-686c059ae186",
   "metadata": {},
   "source": [
    "#### Merge train_building_df with 'weather_train.csv' on 'site_id\n",
    "Without timestamp data type change from object to datetime"
   ]
  },
  {
   "cell_type": "code",
   "execution_count": 14,
   "id": "c0cf40e3-2428-4da5-ae41-c56fe600adfb",
   "metadata": {},
   "outputs": [
    {
     "data": {
      "text/html": [
       "<div>\n",
       "<style scoped>\n",
       "    .dataframe tbody tr th:only-of-type {\n",
       "        vertical-align: middle;\n",
       "    }\n",
       "\n",
       "    .dataframe tbody tr th {\n",
       "        vertical-align: top;\n",
       "    }\n",
       "\n",
       "    .dataframe thead th {\n",
       "        text-align: right;\n",
       "    }\n",
       "</style>\n",
       "<table border=\"1\" class=\"dataframe\">\n",
       "  <thead>\n",
       "    <tr style=\"text-align: right;\">\n",
       "      <th></th>\n",
       "      <th>building_id</th>\n",
       "      <th>meter</th>\n",
       "      <th>meter_timestamp</th>\n",
       "      <th>meter_reading</th>\n",
       "      <th>site_id</th>\n",
       "      <th>primary_use</th>\n",
       "      <th>square_feet</th>\n",
       "      <th>year_built</th>\n",
       "      <th>floor_count</th>\n",
       "      <th>weather_timestamp</th>\n",
       "      <th>air_temperature</th>\n",
       "      <th>cloud_coverage</th>\n",
       "      <th>dew_temperature</th>\n",
       "      <th>precip_depth_1_hr</th>\n",
       "      <th>sea_level_pressure</th>\n",
       "      <th>wind_direction</th>\n",
       "      <th>wind_speed</th>\n",
       "    </tr>\n",
       "  </thead>\n",
       "  <tbody>\n",
       "    <tr>\n",
       "      <th>0</th>\n",
       "      <td>0</td>\n",
       "      <td>0</td>\n",
       "      <td>2016-01-01 00:00:00</td>\n",
       "      <td>0.0000</td>\n",
       "      <td>0</td>\n",
       "      <td>Education</td>\n",
       "      <td>7432</td>\n",
       "      <td>2008.0</td>\n",
       "      <td>NaN</td>\n",
       "      <td>2016-01-01 00:00:00</td>\n",
       "      <td>25.0</td>\n",
       "      <td>6.0</td>\n",
       "      <td>20.0</td>\n",
       "      <td>NaN</td>\n",
       "      <td>1019.7</td>\n",
       "      <td>0.0</td>\n",
       "      <td>0.0</td>\n",
       "    </tr>\n",
       "    <tr>\n",
       "      <th>1</th>\n",
       "      <td>1</td>\n",
       "      <td>0</td>\n",
       "      <td>2016-01-01 00:00:00</td>\n",
       "      <td>0.0000</td>\n",
       "      <td>0</td>\n",
       "      <td>Education</td>\n",
       "      <td>2720</td>\n",
       "      <td>2004.0</td>\n",
       "      <td>NaN</td>\n",
       "      <td>2016-01-01 00:00:00</td>\n",
       "      <td>25.0</td>\n",
       "      <td>6.0</td>\n",
       "      <td>20.0</td>\n",
       "      <td>NaN</td>\n",
       "      <td>1019.7</td>\n",
       "      <td>0.0</td>\n",
       "      <td>0.0</td>\n",
       "    </tr>\n",
       "    <tr>\n",
       "      <th>2</th>\n",
       "      <td>2</td>\n",
       "      <td>0</td>\n",
       "      <td>2016-01-01 00:00:00</td>\n",
       "      <td>0.0000</td>\n",
       "      <td>0</td>\n",
       "      <td>Education</td>\n",
       "      <td>5376</td>\n",
       "      <td>1991.0</td>\n",
       "      <td>NaN</td>\n",
       "      <td>2016-01-01 00:00:00</td>\n",
       "      <td>25.0</td>\n",
       "      <td>6.0</td>\n",
       "      <td>20.0</td>\n",
       "      <td>NaN</td>\n",
       "      <td>1019.7</td>\n",
       "      <td>0.0</td>\n",
       "      <td>0.0</td>\n",
       "    </tr>\n",
       "    <tr>\n",
       "      <th>3</th>\n",
       "      <td>3</td>\n",
       "      <td>0</td>\n",
       "      <td>2016-01-01 00:00:00</td>\n",
       "      <td>0.0000</td>\n",
       "      <td>0</td>\n",
       "      <td>Education</td>\n",
       "      <td>23685</td>\n",
       "      <td>2002.0</td>\n",
       "      <td>NaN</td>\n",
       "      <td>2016-01-01 00:00:00</td>\n",
       "      <td>25.0</td>\n",
       "      <td>6.0</td>\n",
       "      <td>20.0</td>\n",
       "      <td>NaN</td>\n",
       "      <td>1019.7</td>\n",
       "      <td>0.0</td>\n",
       "      <td>0.0</td>\n",
       "    </tr>\n",
       "    <tr>\n",
       "      <th>4</th>\n",
       "      <td>4</td>\n",
       "      <td>0</td>\n",
       "      <td>2016-01-01 00:00:00</td>\n",
       "      <td>0.0000</td>\n",
       "      <td>0</td>\n",
       "      <td>Education</td>\n",
       "      <td>116607</td>\n",
       "      <td>1975.0</td>\n",
       "      <td>NaN</td>\n",
       "      <td>2016-01-01 00:00:00</td>\n",
       "      <td>25.0</td>\n",
       "      <td>6.0</td>\n",
       "      <td>20.0</td>\n",
       "      <td>NaN</td>\n",
       "      <td>1019.7</td>\n",
       "      <td>0.0</td>\n",
       "      <td>0.0</td>\n",
       "    </tr>\n",
       "    <tr>\n",
       "      <th>...</th>\n",
       "      <td>...</td>\n",
       "      <td>...</td>\n",
       "      <td>...</td>\n",
       "      <td>...</td>\n",
       "      <td>...</td>\n",
       "      <td>...</td>\n",
       "      <td>...</td>\n",
       "      <td>...</td>\n",
       "      <td>...</td>\n",
       "      <td>...</td>\n",
       "      <td>...</td>\n",
       "      <td>...</td>\n",
       "      <td>...</td>\n",
       "      <td>...</td>\n",
       "      <td>...</td>\n",
       "      <td>...</td>\n",
       "      <td>...</td>\n",
       "    </tr>\n",
       "    <tr>\n",
       "      <th>20125600</th>\n",
       "      <td>1400</td>\n",
       "      <td>1</td>\n",
       "      <td>2016-03-24 12:00:00</td>\n",
       "      <td>15.3753</td>\n",
       "      <td>15</td>\n",
       "      <td>Lodging/residential</td>\n",
       "      <td>21168</td>\n",
       "      <td>1928.0</td>\n",
       "      <td>NaN</td>\n",
       "      <td>2016-03-24 12:00:00</td>\n",
       "      <td>1.7</td>\n",
       "      <td>NaN</td>\n",
       "      <td>1.7</td>\n",
       "      <td>NaN</td>\n",
       "      <td>1016.8</td>\n",
       "      <td>0.0</td>\n",
       "      <td>0.0</td>\n",
       "    </tr>\n",
       "    <tr>\n",
       "      <th>20125601</th>\n",
       "      <td>1400</td>\n",
       "      <td>1</td>\n",
       "      <td>2016-03-24 13:00:00</td>\n",
       "      <td>25.0848</td>\n",
       "      <td>15</td>\n",
       "      <td>Lodging/residential</td>\n",
       "      <td>21168</td>\n",
       "      <td>1928.0</td>\n",
       "      <td>NaN</td>\n",
       "      <td>2016-03-24 13:00:00</td>\n",
       "      <td>2.8</td>\n",
       "      <td>NaN</td>\n",
       "      <td>2.2</td>\n",
       "      <td>NaN</td>\n",
       "      <td>1016.6</td>\n",
       "      <td>320.0</td>\n",
       "      <td>1.5</td>\n",
       "    </tr>\n",
       "    <tr>\n",
       "      <th>20125602</th>\n",
       "      <td>1400</td>\n",
       "      <td>1</td>\n",
       "      <td>2016-03-24 14:00:00</td>\n",
       "      <td>32.3439</td>\n",
       "      <td>15</td>\n",
       "      <td>Lodging/residential</td>\n",
       "      <td>21168</td>\n",
       "      <td>1928.0</td>\n",
       "      <td>NaN</td>\n",
       "      <td>2016-03-24 14:00:00</td>\n",
       "      <td>5.6</td>\n",
       "      <td>NaN</td>\n",
       "      <td>4.4</td>\n",
       "      <td>NaN</td>\n",
       "      <td>1015.2</td>\n",
       "      <td>110.0</td>\n",
       "      <td>2.1</td>\n",
       "    </tr>\n",
       "    <tr>\n",
       "      <th>20125603</th>\n",
       "      <td>1400</td>\n",
       "      <td>1</td>\n",
       "      <td>2016-03-24 15:00:00</td>\n",
       "      <td>24.2214</td>\n",
       "      <td>15</td>\n",
       "      <td>Lodging/residential</td>\n",
       "      <td>21168</td>\n",
       "      <td>1928.0</td>\n",
       "      <td>NaN</td>\n",
       "      <td>2016-03-24 15:00:00</td>\n",
       "      <td>11.1</td>\n",
       "      <td>NaN</td>\n",
       "      <td>4.4</td>\n",
       "      <td>NaN</td>\n",
       "      <td>1013.9</td>\n",
       "      <td>150.0</td>\n",
       "      <td>5.1</td>\n",
       "    </tr>\n",
       "    <tr>\n",
       "      <th>20125604</th>\n",
       "      <td>1400</td>\n",
       "      <td>1</td>\n",
       "      <td>2016-03-24 16:00:00</td>\n",
       "      <td>16.3553</td>\n",
       "      <td>15</td>\n",
       "      <td>Lodging/residential</td>\n",
       "      <td>21168</td>\n",
       "      <td>1928.0</td>\n",
       "      <td>NaN</td>\n",
       "      <td>2016-03-24 16:00:00</td>\n",
       "      <td>15.0</td>\n",
       "      <td>4.0</td>\n",
       "      <td>4.4</td>\n",
       "      <td>NaN</td>\n",
       "      <td>1012.0</td>\n",
       "      <td>160.0</td>\n",
       "      <td>8.2</td>\n",
       "    </tr>\n",
       "  </tbody>\n",
       "</table>\n",
       "<p>20125605 rows × 17 columns</p>\n",
       "</div>"
      ],
      "text/plain": [
       "          building_id  meter      meter_timestamp  meter_reading  site_id  \\\n",
       "0                   0      0  2016-01-01 00:00:00         0.0000        0   \n",
       "1                   1      0  2016-01-01 00:00:00         0.0000        0   \n",
       "2                   2      0  2016-01-01 00:00:00         0.0000        0   \n",
       "3                   3      0  2016-01-01 00:00:00         0.0000        0   \n",
       "4                   4      0  2016-01-01 00:00:00         0.0000        0   \n",
       "...               ...    ...                  ...            ...      ...   \n",
       "20125600         1400      1  2016-03-24 12:00:00        15.3753       15   \n",
       "20125601         1400      1  2016-03-24 13:00:00        25.0848       15   \n",
       "20125602         1400      1  2016-03-24 14:00:00        32.3439       15   \n",
       "20125603         1400      1  2016-03-24 15:00:00        24.2214       15   \n",
       "20125604         1400      1  2016-03-24 16:00:00        16.3553       15   \n",
       "\n",
       "                  primary_use  square_feet  year_built  floor_count  \\\n",
       "0                   Education         7432      2008.0          NaN   \n",
       "1                   Education         2720      2004.0          NaN   \n",
       "2                   Education         5376      1991.0          NaN   \n",
       "3                   Education        23685      2002.0          NaN   \n",
       "4                   Education       116607      1975.0          NaN   \n",
       "...                       ...          ...         ...          ...   \n",
       "20125600  Lodging/residential        21168      1928.0          NaN   \n",
       "20125601  Lodging/residential        21168      1928.0          NaN   \n",
       "20125602  Lodging/residential        21168      1928.0          NaN   \n",
       "20125603  Lodging/residential        21168      1928.0          NaN   \n",
       "20125604  Lodging/residential        21168      1928.0          NaN   \n",
       "\n",
       "            weather_timestamp  air_temperature  cloud_coverage  \\\n",
       "0         2016-01-01 00:00:00             25.0             6.0   \n",
       "1         2016-01-01 00:00:00             25.0             6.0   \n",
       "2         2016-01-01 00:00:00             25.0             6.0   \n",
       "3         2016-01-01 00:00:00             25.0             6.0   \n",
       "4         2016-01-01 00:00:00             25.0             6.0   \n",
       "...                       ...              ...             ...   \n",
       "20125600  2016-03-24 12:00:00              1.7             NaN   \n",
       "20125601  2016-03-24 13:00:00              2.8             NaN   \n",
       "20125602  2016-03-24 14:00:00              5.6             NaN   \n",
       "20125603  2016-03-24 15:00:00             11.1             NaN   \n",
       "20125604  2016-03-24 16:00:00             15.0             4.0   \n",
       "\n",
       "          dew_temperature  precip_depth_1_hr  sea_level_pressure  \\\n",
       "0                    20.0                NaN              1019.7   \n",
       "1                    20.0                NaN              1019.7   \n",
       "2                    20.0                NaN              1019.7   \n",
       "3                    20.0                NaN              1019.7   \n",
       "4                    20.0                NaN              1019.7   \n",
       "...                   ...                ...                 ...   \n",
       "20125600              1.7                NaN              1016.8   \n",
       "20125601              2.2                NaN              1016.6   \n",
       "20125602              4.4                NaN              1015.2   \n",
       "20125603              4.4                NaN              1013.9   \n",
       "20125604              4.4                NaN              1012.0   \n",
       "\n",
       "          wind_direction  wind_speed  \n",
       "0                    0.0         0.0  \n",
       "1                    0.0         0.0  \n",
       "2                    0.0         0.0  \n",
       "3                    0.0         0.0  \n",
       "4                    0.0         0.0  \n",
       "...                  ...         ...  \n",
       "20125600             0.0         0.0  \n",
       "20125601           320.0         1.5  \n",
       "20125602           110.0         2.1  \n",
       "20125603           150.0         5.1  \n",
       "20125604           160.0         8.2  \n",
       "\n",
       "[20125605 rows x 17 columns]"
      ]
     },
     "execution_count": 14,
     "metadata": {},
     "output_type": "execute_result"
    }
   ],
   "source": [
    "# Merge the DataFrames on 'site_id' and 'meter_timestamp' equal to 'weather_timestamp'\n",
    "# merged_data = \n",
    "train_building_df.merge(weather_train_df, left_on=['site_id', 'meter_timestamp'], right_on=['site_id', 'weather_timestamp'], how='inner')"
   ]
  },
  {
   "cell_type": "markdown",
   "id": "6561b2c1-9125-418e-8ccf-185f1edd6e9e",
   "metadata": {},
   "source": [
    "Rows decreased after merge: 20,125,605 != 20,216,100 "
   ]
  },
  {
   "cell_type": "code",
   "execution_count": null,
   "id": "986fb457-aecf-4a72-a8a3-49e1ffc55fe4",
   "metadata": {},
   "outputs": [],
   "source": []
  },
  {
   "cell_type": "markdown",
   "id": "12f2bc8a-12bd-4c28-85cc-c9671d786226",
   "metadata": {},
   "source": [
    "#### Timestamp data type change from object to datetime"
   ]
  },
  {
   "cell_type": "code",
   "execution_count": 15,
   "id": "c60e70fa-8d5e-4446-a2ec-1387c8b26c7c",
   "metadata": {
    "scrolled": true
   },
   "outputs": [
    {
     "name": "stdout",
     "output_type": "stream",
     "text": [
      "<class 'pandas.core.frame.DataFrame'>\n",
      "RangeIndex: 20216100 entries, 0 to 20216099\n",
      "Data columns (total 9 columns):\n",
      " #   Column           Dtype  \n",
      "---  ------           -----  \n",
      " 0   building_id      int64  \n",
      " 1   meter            int64  \n",
      " 2   meter_timestamp  object \n",
      " 3   meter_reading    float64\n",
      " 4   site_id          int64  \n",
      " 5   primary_use      object \n",
      " 6   square_feet      int64  \n",
      " 7   year_built       float64\n",
      " 8   floor_count      float64\n",
      "dtypes: float64(3), int64(4), object(2)\n",
      "memory usage: 1.4+ GB\n"
     ]
    }
   ],
   "source": [
    "# train_building_df\n",
    "train_building_df.info()"
   ]
  },
  {
   "cell_type": "code",
   "execution_count": 16,
   "id": "7f41ef49-bfad-4688-b4f6-5e43e9553564",
   "metadata": {},
   "outputs": [],
   "source": [
    "# Converting timestamp from 'object' to a data time data type\n",
    "train_building_df['meter_timestamp']=train_building_df['meter_timestamp'].astype('datetime64[ns]')"
   ]
  },
  {
   "cell_type": "code",
   "execution_count": 17,
   "id": "8893cb83-173c-4eb6-aff5-145c11226a79",
   "metadata": {},
   "outputs": [
    {
     "name": "stdout",
     "output_type": "stream",
     "text": [
      "<class 'pandas.core.frame.DataFrame'>\n",
      "RangeIndex: 20216100 entries, 0 to 20216099\n",
      "Data columns (total 9 columns):\n",
      " #   Column           Dtype         \n",
      "---  ------           -----         \n",
      " 0   building_id      int64         \n",
      " 1   meter            int64         \n",
      " 2   meter_timestamp  datetime64[ns]\n",
      " 3   meter_reading    float64       \n",
      " 4   site_id          int64         \n",
      " 5   primary_use      object        \n",
      " 6   square_feet      int64         \n",
      " 7   year_built       float64       \n",
      " 8   floor_count      float64       \n",
      "dtypes: datetime64[ns](1), float64(3), int64(4), object(1)\n",
      "memory usage: 1.4+ GB\n"
     ]
    }
   ],
   "source": [
    "# Verification\n",
    "train_building_df.info()"
   ]
  },
  {
   "cell_type": "code",
   "execution_count": 18,
   "id": "e792507e-cc88-49b8-84ab-b2b592e8fea5",
   "metadata": {
    "scrolled": true
   },
   "outputs": [
    {
     "name": "stdout",
     "output_type": "stream",
     "text": [
      "<class 'pandas.core.frame.DataFrame'>\n",
      "RangeIndex: 139773 entries, 0 to 139772\n",
      "Data columns (total 9 columns):\n",
      " #   Column              Non-Null Count   Dtype  \n",
      "---  ------              --------------   -----  \n",
      " 0   site_id             139773 non-null  int64  \n",
      " 1   weather_timestamp   139773 non-null  object \n",
      " 2   air_temperature     139718 non-null  float64\n",
      " 3   cloud_coverage      70600 non-null   float64\n",
      " 4   dew_temperature     139660 non-null  float64\n",
      " 5   precip_depth_1_hr   89484 non-null   float64\n",
      " 6   sea_level_pressure  129155 non-null  float64\n",
      " 7   wind_direction      133505 non-null  float64\n",
      " 8   wind_speed          139469 non-null  float64\n",
      "dtypes: float64(7), int64(1), object(1)\n",
      "memory usage: 9.6+ MB\n"
     ]
    }
   ],
   "source": [
    "# weather_train_df\n",
    "# timestamp data type change from object to dataframe\n",
    "weather_train_df.info()"
   ]
  },
  {
   "cell_type": "code",
   "execution_count": 19,
   "id": "9163f77e-a113-4838-8ddf-e11672318b2e",
   "metadata": {},
   "outputs": [],
   "source": [
    "# Converting timestamp from 'object' to a data time data type\n",
    "weather_train_df['weather_timestamp']=weather_train_df['weather_timestamp'].astype('datetime64[ns]')"
   ]
  },
  {
   "cell_type": "code",
   "execution_count": 20,
   "id": "c3fe65fc-369b-4edb-90e7-9be685d59a8b",
   "metadata": {},
   "outputs": [
    {
     "name": "stdout",
     "output_type": "stream",
     "text": [
      "<class 'pandas.core.frame.DataFrame'>\n",
      "RangeIndex: 139773 entries, 0 to 139772\n",
      "Data columns (total 9 columns):\n",
      " #   Column              Non-Null Count   Dtype         \n",
      "---  ------              --------------   -----         \n",
      " 0   site_id             139773 non-null  int64         \n",
      " 1   weather_timestamp   139773 non-null  datetime64[ns]\n",
      " 2   air_temperature     139718 non-null  float64       \n",
      " 3   cloud_coverage      70600 non-null   float64       \n",
      " 4   dew_temperature     139660 non-null  float64       \n",
      " 5   precip_depth_1_hr   89484 non-null   float64       \n",
      " 6   sea_level_pressure  129155 non-null  float64       \n",
      " 7   wind_direction      133505 non-null  float64       \n",
      " 8   wind_speed          139469 non-null  float64       \n",
      "dtypes: datetime64[ns](1), float64(7), int64(1)\n",
      "memory usage: 9.6 MB\n"
     ]
    }
   ],
   "source": [
    "# Verification\n",
    "weather_train_df.info()"
   ]
  },
  {
   "cell_type": "code",
   "execution_count": null,
   "id": "2282d1bf-a34d-487a-8288-70dda16e9449",
   "metadata": {},
   "outputs": [],
   "source": []
  },
  {
   "cell_type": "markdown",
   "id": "837102d3-ac8d-4d18-8aee-784800b49220",
   "metadata": {},
   "source": [
    "#### Inner merge between train_building_df and weather_train_df"
   ]
  },
  {
   "cell_type": "code",
   "execution_count": 21,
   "id": "3052e572-305d-41f9-b5c5-a0ae73769086",
   "metadata": {},
   "outputs": [
    {
     "data": {
      "text/html": [
       "<div>\n",
       "<style scoped>\n",
       "    .dataframe tbody tr th:only-of-type {\n",
       "        vertical-align: middle;\n",
       "    }\n",
       "\n",
       "    .dataframe tbody tr th {\n",
       "        vertical-align: top;\n",
       "    }\n",
       "\n",
       "    .dataframe thead th {\n",
       "        text-align: right;\n",
       "    }\n",
       "</style>\n",
       "<table border=\"1\" class=\"dataframe\">\n",
       "  <thead>\n",
       "    <tr style=\"text-align: right;\">\n",
       "      <th></th>\n",
       "      <th>building_id</th>\n",
       "      <th>meter</th>\n",
       "      <th>meter_timestamp</th>\n",
       "      <th>meter_reading</th>\n",
       "      <th>site_id</th>\n",
       "      <th>primary_use</th>\n",
       "      <th>square_feet</th>\n",
       "      <th>year_built</th>\n",
       "      <th>floor_count</th>\n",
       "      <th>weather_timestamp</th>\n",
       "      <th>air_temperature</th>\n",
       "      <th>cloud_coverage</th>\n",
       "      <th>dew_temperature</th>\n",
       "      <th>precip_depth_1_hr</th>\n",
       "      <th>sea_level_pressure</th>\n",
       "      <th>wind_direction</th>\n",
       "      <th>wind_speed</th>\n",
       "    </tr>\n",
       "  </thead>\n",
       "  <tbody>\n",
       "    <tr>\n",
       "      <th>6603703</th>\n",
       "      <td>633</td>\n",
       "      <td>0</td>\n",
       "      <td>2016-02-08 20:00:00</td>\n",
       "      <td>27.713</td>\n",
       "      <td>4</td>\n",
       "      <td>Parking</td>\n",
       "      <td>98539</td>\n",
       "      <td>1989.0</td>\n",
       "      <td>2.0</td>\n",
       "      <td>2016-02-08 20:00:00</td>\n",
       "      <td>18.3</td>\n",
       "      <td>0.0</td>\n",
       "      <td>7.8</td>\n",
       "      <td>0.0</td>\n",
       "      <td>1023.9</td>\n",
       "      <td>180.0</td>\n",
       "      <td>4.1</td>\n",
       "    </tr>\n",
       "    <tr>\n",
       "      <th>15075271</th>\n",
       "      <td>1171</td>\n",
       "      <td>0</td>\n",
       "      <td>2016-09-14 02:00:00</td>\n",
       "      <td>50.223</td>\n",
       "      <td>13</td>\n",
       "      <td>Manufacturing/industrial</td>\n",
       "      <td>56851</td>\n",
       "      <td>NaN</td>\n",
       "      <td>NaN</td>\n",
       "      <td>2016-09-14 02:00:00</td>\n",
       "      <td>15.0</td>\n",
       "      <td>NaN</td>\n",
       "      <td>7.2</td>\n",
       "      <td>-1.0</td>\n",
       "      <td>1023.8</td>\n",
       "      <td>10.0</td>\n",
       "      <td>3.1</td>\n",
       "    </tr>\n",
       "    <tr>\n",
       "      <th>317459</th>\n",
       "      <td>28</td>\n",
       "      <td>0</td>\n",
       "      <td>2016-04-26 04:00:00</td>\n",
       "      <td>0.000</td>\n",
       "      <td>0</td>\n",
       "      <td>Office</td>\n",
       "      <td>52957</td>\n",
       "      <td>2016.0</td>\n",
       "      <td>NaN</td>\n",
       "      <td>2016-04-26 04:00:00</td>\n",
       "      <td>19.4</td>\n",
       "      <td>2.0</td>\n",
       "      <td>15.6</td>\n",
       "      <td>0.0</td>\n",
       "      <td>1016.8</td>\n",
       "      <td>80.0</td>\n",
       "      <td>2.1</td>\n",
       "    </tr>\n",
       "  </tbody>\n",
       "</table>\n",
       "</div>"
      ],
      "text/plain": [
       "          building_id  meter     meter_timestamp  meter_reading  site_id  \\\n",
       "6603703           633      0 2016-02-08 20:00:00         27.713        4   \n",
       "15075271         1171      0 2016-09-14 02:00:00         50.223       13   \n",
       "317459             28      0 2016-04-26 04:00:00          0.000        0   \n",
       "\n",
       "                       primary_use  square_feet  year_built  floor_count  \\\n",
       "6603703                    Parking        98539      1989.0          2.0   \n",
       "15075271  Manufacturing/industrial        56851         NaN          NaN   \n",
       "317459                      Office        52957      2016.0          NaN   \n",
       "\n",
       "           weather_timestamp  air_temperature  cloud_coverage  \\\n",
       "6603703  2016-02-08 20:00:00             18.3             0.0   \n",
       "15075271 2016-09-14 02:00:00             15.0             NaN   \n",
       "317459   2016-04-26 04:00:00             19.4             2.0   \n",
       "\n",
       "          dew_temperature  precip_depth_1_hr  sea_level_pressure  \\\n",
       "6603703               7.8                0.0              1023.9   \n",
       "15075271              7.2               -1.0              1023.8   \n",
       "317459               15.6                0.0              1016.8   \n",
       "\n",
       "          wind_direction  wind_speed  \n",
       "6603703            180.0         4.1  \n",
       "15075271            10.0         3.1  \n",
       "317459              80.0         2.1  "
      ]
     },
     "execution_count": 21,
     "metadata": {},
     "output_type": "execute_result"
    }
   ],
   "source": [
    "# Merge the DataFrames on 'site_id' and 'meter_timestamp' equal to 'weather_timestamp'\n",
    "merged_train_df = train_building_df.merge(weather_train_df, left_on=['site_id', 'meter_timestamp'], right_on=['site_id', 'weather_timestamp'], how='inner')\n",
    "merged_train_df.sample(3)"
   ]
  },
  {
   "cell_type": "markdown",
   "id": "c75586e6-604e-43c3-ba14-8a0fed752b23",
   "metadata": {},
   "source": [
    "Rows decreased after merge: 20,125,605 != 20,216,100. Not all the records satisfy the double merge condition. Continue with inner merge since it provides less null values for weather info"
   ]
  },
  {
   "cell_type": "markdown",
   "id": "ba4a0e1c-5d13-4223-a103-e3a51bbc15a2",
   "metadata": {},
   "source": []
  },
  {
   "cell_type": "code",
   "execution_count": 23,
   "id": "84c1ecae-11c6-439a-9413-87ee5c63ee57",
   "metadata": {},
   "outputs": [
    {
     "data": {
      "text/html": [
       "<div>\n",
       "<style scoped>\n",
       "    .dataframe tbody tr th:only-of-type {\n",
       "        vertical-align: middle;\n",
       "    }\n",
       "\n",
       "    .dataframe tbody tr th {\n",
       "        vertical-align: top;\n",
       "    }\n",
       "\n",
       "    .dataframe thead th {\n",
       "        text-align: right;\n",
       "    }\n",
       "</style>\n",
       "<table border=\"1\" class=\"dataframe\">\n",
       "  <thead>\n",
       "    <tr style=\"text-align: right;\">\n",
       "      <th></th>\n",
       "      <th>building_id</th>\n",
       "      <th>meter</th>\n",
       "      <th>meter_timestamp</th>\n",
       "      <th>meter_reading</th>\n",
       "      <th>site_id</th>\n",
       "      <th>primary_use</th>\n",
       "      <th>square_feet</th>\n",
       "      <th>year_built</th>\n",
       "      <th>floor_count</th>\n",
       "      <th>weather_timestamp</th>\n",
       "      <th>air_temperature</th>\n",
       "      <th>cloud_coverage</th>\n",
       "      <th>dew_temperature</th>\n",
       "      <th>precip_depth_1_hr</th>\n",
       "      <th>sea_level_pressure</th>\n",
       "      <th>wind_direction</th>\n",
       "      <th>wind_speed</th>\n",
       "    </tr>\n",
       "  </thead>\n",
       "  <tbody>\n",
       "    <tr>\n",
       "      <th>18587316</th>\n",
       "      <td>1376</td>\n",
       "      <td>0</td>\n",
       "      <td>2016-02-09 21:00:00</td>\n",
       "      <td>208.575</td>\n",
       "      <td>15</td>\n",
       "      <td>Public services</td>\n",
       "      <td>240026</td>\n",
       "      <td>1960.0</td>\n",
       "      <td>NaN</td>\n",
       "      <td>2016-02-09 21:00:00</td>\n",
       "      <td>0.6</td>\n",
       "      <td>NaN</td>\n",
       "      <td>-1.1</td>\n",
       "      <td>-1.0</td>\n",
       "      <td>999.3</td>\n",
       "      <td>310.0</td>\n",
       "      <td>3.6</td>\n",
       "    </tr>\n",
       "    <tr>\n",
       "      <th>6603690</th>\n",
       "      <td>619</td>\n",
       "      <td>0</td>\n",
       "      <td>2016-02-08 20:00:00</td>\n",
       "      <td>211.376</td>\n",
       "      <td>4</td>\n",
       "      <td>Education</td>\n",
       "      <td>68146</td>\n",
       "      <td>1948.0</td>\n",
       "      <td>6.0</td>\n",
       "      <td>2016-02-08 20:00:00</td>\n",
       "      <td>18.3</td>\n",
       "      <td>0.0</td>\n",
       "      <td>7.8</td>\n",
       "      <td>0.0</td>\n",
       "      <td>1023.9</td>\n",
       "      <td>180.0</td>\n",
       "      <td>4.1</td>\n",
       "    </tr>\n",
       "    <tr>\n",
       "      <th>7839269</th>\n",
       "      <td>732</td>\n",
       "      <td>0</td>\n",
       "      <td>2016-09-22 11:00:00</td>\n",
       "      <td>91.500</td>\n",
       "      <td>5</td>\n",
       "      <td>Education</td>\n",
       "      <td>66187</td>\n",
       "      <td>1976.0</td>\n",
       "      <td>1.0</td>\n",
       "      <td>2016-09-22 11:00:00</td>\n",
       "      <td>15.0</td>\n",
       "      <td>NaN</td>\n",
       "      <td>9.0</td>\n",
       "      <td>NaN</td>\n",
       "      <td>NaN</td>\n",
       "      <td>290.0</td>\n",
       "      <td>4.6</td>\n",
       "    </tr>\n",
       "  </tbody>\n",
       "</table>\n",
       "</div>"
      ],
      "text/plain": [
       "          building_id  meter     meter_timestamp  meter_reading  site_id  \\\n",
       "18587316         1376      0 2016-02-09 21:00:00        208.575       15   \n",
       "6603690           619      0 2016-02-08 20:00:00        211.376        4   \n",
       "7839269           732      0 2016-09-22 11:00:00         91.500        5   \n",
       "\n",
       "              primary_use  square_feet  year_built  floor_count  \\\n",
       "18587316  Public services       240026      1960.0          NaN   \n",
       "6603690         Education        68146      1948.0          6.0   \n",
       "7839269         Education        66187      1976.0          1.0   \n",
       "\n",
       "           weather_timestamp  air_temperature  cloud_coverage  \\\n",
       "18587316 2016-02-09 21:00:00              0.6             NaN   \n",
       "6603690  2016-02-08 20:00:00             18.3             0.0   \n",
       "7839269  2016-09-22 11:00:00             15.0             NaN   \n",
       "\n",
       "          dew_temperature  precip_depth_1_hr  sea_level_pressure  \\\n",
       "18587316             -1.1               -1.0               999.3   \n",
       "6603690               7.8                0.0              1023.9   \n",
       "7839269               9.0                NaN                 NaN   \n",
       "\n",
       "          wind_direction  wind_speed  \n",
       "18587316           310.0         3.6  \n",
       "6603690            180.0         4.1  \n",
       "7839269            290.0         4.6  "
      ]
     },
     "execution_count": 23,
     "metadata": {},
     "output_type": "execute_result"
    }
   ],
   "source": [
    "merged_train_df.sample(3)"
   ]
  },
  {
   "cell_type": "code",
   "execution_count": 24,
   "id": "ebbf5a74-85c4-46d5-8f8b-1d117f0531c9",
   "metadata": {},
   "outputs": [
    {
     "name": "stdout",
     "output_type": "stream",
     "text": [
      "<class 'pandas.core.frame.DataFrame'>\n",
      "RangeIndex: 20125605 entries, 0 to 20125604\n",
      "Data columns (total 17 columns):\n",
      " #   Column              Dtype         \n",
      "---  ------              -----         \n",
      " 0   building_id         int64         \n",
      " 1   meter               int64         \n",
      " 2   meter_timestamp     datetime64[ns]\n",
      " 3   meter_reading       float64       \n",
      " 4   site_id             int64         \n",
      " 5   primary_use         object        \n",
      " 6   square_feet         int64         \n",
      " 7   year_built          float64       \n",
      " 8   floor_count         float64       \n",
      " 9   weather_timestamp   datetime64[ns]\n",
      " 10  air_temperature     float64       \n",
      " 11  cloud_coverage      float64       \n",
      " 12  dew_temperature     float64       \n",
      " 13  precip_depth_1_hr   float64       \n",
      " 14  sea_level_pressure  float64       \n",
      " 15  wind_direction      float64       \n",
      " 16  wind_speed          float64       \n",
      "dtypes: datetime64[ns](2), float64(10), int64(4), object(1)\n",
      "memory usage: 2.5+ GB\n"
     ]
    }
   ],
   "source": [
    "# Overview\n",
    "merged_train_df.info()"
   ]
  },
  {
   "cell_type": "code",
   "execution_count": 25,
   "id": "fab1388b-2e73-48dc-88e5-e430e3499bcd",
   "metadata": {
    "collapsed": true,
    "jupyter": {
     "outputs_hidden": true
    }
   },
   "outputs": [
    {
     "data": {
      "text/plain": [
       "(20125605, 17)"
      ]
     },
     "execution_count": 25,
     "metadata": {},
     "output_type": "execute_result"
    }
   ],
   "source": [
    "# Shape\n",
    "merged_train_df.shape"
   ]
  },
  {
   "cell_type": "markdown",
   "id": "eabf2515-063c-475a-9a66-d772c63beb53",
   "metadata": {},
   "source": [
    "[back to TOC](#toc)"
   ]
  },
  {
   "cell_type": "markdown",
   "id": "ddbb7320-e877-49ce-a905-500b886a7dd8",
   "metadata": {},
   "source": [
    "<a id='bdw-2'></a>"
   ]
  },
  {
   "cell_type": "markdown",
   "id": "e7089d1d-0e3a-414c-acc8-31d397a1b6ca",
   "metadata": {},
   "source": [
    "## 1.2. Subset\n",
    "Take a subset of ~ 400k rows to speed PC process time. Continue analysis only with Healthcare records (397,992 rows)"
   ]
  },
  {
   "cell_type": "code",
   "execution_count": 26,
   "id": "dab82933-bc9d-4601-b5d5-b24f0c63d4ba",
   "metadata": {},
   "outputs": [],
   "source": [
    "# Count by unique values\n",
    "count_by_primary_use = merged_train_df.groupby(['primary_use'])['primary_use'].count()"
   ]
  },
  {
   "cell_type": "code",
   "execution_count": 27,
   "id": "9ba26795-9e1a-4722-9bc0-744de5b64859",
   "metadata": {},
   "outputs": [
    {
     "data": {
      "text/plain": [
       "primary_use\n",
       "Religious worship                  31775\n",
       "Utility                            55016\n",
       "Technology/science                 76713\n",
       "Services                           96493\n",
       "Warehouse/storage                 111838\n",
       "Retail                            112564\n",
       "Food sales and service            114041\n",
       "Manufacturing/industrial          124458\n",
       "Parking                           213777\n",
       "Other                             242163\n",
       "Healthcare                        397992\n",
       "Public services                  1658858\n",
       "Lodging/residential              2130981\n",
       "Entertainment/public assembly    2254880\n",
       "Office                           4379290\n",
       "Education                        8124766\n",
       "Name: primary_use, dtype: int64"
      ]
     },
     "execution_count": 27,
     "metadata": {},
     "output_type": "execute_result"
    }
   ],
   "source": [
    "# Sort ascending\n",
    "count_by_primary_use = count_by_primary_use.sort_values(ascending=True)\n",
    "count_by_primary_use"
   ]
  },
  {
   "cell_type": "markdown",
   "id": "0eae6585-d3ba-4d1f-bb1b-d4115a29f76d",
   "metadata": {},
   "source": [
    "Continue analysis only with Healthcare records (397,992 rows)"
   ]
  },
  {
   "cell_type": "code",
   "execution_count": 28,
   "id": "58575f0d-91b7-44c0-8d70-5c8ae36fb88f",
   "metadata": {
    "scrolled": true
   },
   "outputs": [
    {
     "data": {
      "text/html": [
       "<div>\n",
       "<style scoped>\n",
       "    .dataframe tbody tr th:only-of-type {\n",
       "        vertical-align: middle;\n",
       "    }\n",
       "\n",
       "    .dataframe tbody tr th {\n",
       "        vertical-align: top;\n",
       "    }\n",
       "\n",
       "    .dataframe thead th {\n",
       "        text-align: right;\n",
       "    }\n",
       "</style>\n",
       "<table border=\"1\" class=\"dataframe\">\n",
       "  <thead>\n",
       "    <tr style=\"text-align: right;\">\n",
       "      <th></th>\n",
       "      <th>building_id</th>\n",
       "      <th>meter</th>\n",
       "      <th>meter_timestamp</th>\n",
       "      <th>meter_reading</th>\n",
       "      <th>site_id</th>\n",
       "      <th>primary_use</th>\n",
       "      <th>square_feet</th>\n",
       "      <th>year_built</th>\n",
       "      <th>floor_count</th>\n",
       "      <th>weather_timestamp</th>\n",
       "      <th>air_temperature</th>\n",
       "      <th>cloud_coverage</th>\n",
       "      <th>dew_temperature</th>\n",
       "      <th>precip_depth_1_hr</th>\n",
       "      <th>sea_level_pressure</th>\n",
       "      <th>wind_direction</th>\n",
       "      <th>wind_speed</th>\n",
       "    </tr>\n",
       "  </thead>\n",
       "  <tbody>\n",
       "    <tr>\n",
       "      <th>1628808</th>\n",
       "      <td>208</td>\n",
       "      <td>0</td>\n",
       "      <td>2016-01-01 00:00:00</td>\n",
       "      <td>77.2900</td>\n",
       "      <td>2</td>\n",
       "      <td>Healthcare</td>\n",
       "      <td>36904</td>\n",
       "      <td>1934.0</td>\n",
       "      <td>NaN</td>\n",
       "      <td>2016-01-01 00:00:00</td>\n",
       "      <td>15.6</td>\n",
       "      <td>6.0</td>\n",
       "      <td>-5.6</td>\n",
       "      <td>NaN</td>\n",
       "      <td>1015.3</td>\n",
       "      <td>270.0</td>\n",
       "      <td>3.6</td>\n",
       "    </tr>\n",
       "    <tr>\n",
       "      <th>1628809</th>\n",
       "      <td>208</td>\n",
       "      <td>1</td>\n",
       "      <td>2016-01-01 00:00:00</td>\n",
       "      <td>0.1055</td>\n",
       "      <td>2</td>\n",
       "      <td>Healthcare</td>\n",
       "      <td>36904</td>\n",
       "      <td>1934.0</td>\n",
       "      <td>NaN</td>\n",
       "      <td>2016-01-01 00:00:00</td>\n",
       "      <td>15.6</td>\n",
       "      <td>6.0</td>\n",
       "      <td>-5.6</td>\n",
       "      <td>NaN</td>\n",
       "      <td>1015.3</td>\n",
       "      <td>270.0</td>\n",
       "      <td>3.6</td>\n",
       "    </tr>\n",
       "    <tr>\n",
       "      <th>1629094</th>\n",
       "      <td>208</td>\n",
       "      <td>0</td>\n",
       "      <td>2016-01-01 01:00:00</td>\n",
       "      <td>87.0900</td>\n",
       "      <td>2</td>\n",
       "      <td>Healthcare</td>\n",
       "      <td>36904</td>\n",
       "      <td>1934.0</td>\n",
       "      <td>NaN</td>\n",
       "      <td>2016-01-01 01:00:00</td>\n",
       "      <td>13.9</td>\n",
       "      <td>NaN</td>\n",
       "      <td>-5.6</td>\n",
       "      <td>0.0</td>\n",
       "      <td>1015.6</td>\n",
       "      <td>270.0</td>\n",
       "      <td>4.1</td>\n",
       "    </tr>\n",
       "    <tr>\n",
       "      <th>1629095</th>\n",
       "      <td>208</td>\n",
       "      <td>1</td>\n",
       "      <td>2016-01-01 01:00:00</td>\n",
       "      <td>0.1407</td>\n",
       "      <td>2</td>\n",
       "      <td>Healthcare</td>\n",
       "      <td>36904</td>\n",
       "      <td>1934.0</td>\n",
       "      <td>NaN</td>\n",
       "      <td>2016-01-01 01:00:00</td>\n",
       "      <td>13.9</td>\n",
       "      <td>NaN</td>\n",
       "      <td>-5.6</td>\n",
       "      <td>0.0</td>\n",
       "      <td>1015.6</td>\n",
       "      <td>270.0</td>\n",
       "      <td>4.1</td>\n",
       "    </tr>\n",
       "    <tr>\n",
       "      <th>1629380</th>\n",
       "      <td>208</td>\n",
       "      <td>0</td>\n",
       "      <td>2016-01-01 02:00:00</td>\n",
       "      <td>90.5100</td>\n",
       "      <td>2</td>\n",
       "      <td>Healthcare</td>\n",
       "      <td>36904</td>\n",
       "      <td>1934.0</td>\n",
       "      <td>NaN</td>\n",
       "      <td>2016-01-01 02:00:00</td>\n",
       "      <td>13.3</td>\n",
       "      <td>2.0</td>\n",
       "      <td>-5.6</td>\n",
       "      <td>0.0</td>\n",
       "      <td>1016.0</td>\n",
       "      <td>270.0</td>\n",
       "      <td>3.1</td>\n",
       "    </tr>\n",
       "    <tr>\n",
       "      <th>...</th>\n",
       "      <td>...</td>\n",
       "      <td>...</td>\n",
       "      <td>...</td>\n",
       "      <td>...</td>\n",
       "      <td>...</td>\n",
       "      <td>...</td>\n",
       "      <td>...</td>\n",
       "      <td>...</td>\n",
       "      <td>...</td>\n",
       "      <td>...</td>\n",
       "      <td>...</td>\n",
       "      <td>...</td>\n",
       "      <td>...</td>\n",
       "      <td>...</td>\n",
       "      <td>...</td>\n",
       "      <td>...</td>\n",
       "      <td>...</td>\n",
       "    </tr>\n",
       "    <tr>\n",
       "      <th>20124314</th>\n",
       "      <td>1388</td>\n",
       "      <td>1</td>\n",
       "      <td>2016-12-06 11:00:00</td>\n",
       "      <td>45.6785</td>\n",
       "      <td>15</td>\n",
       "      <td>Healthcare</td>\n",
       "      <td>45465</td>\n",
       "      <td>1990.0</td>\n",
       "      <td>NaN</td>\n",
       "      <td>2016-12-06 11:00:00</td>\n",
       "      <td>-5.0</td>\n",
       "      <td>0.0</td>\n",
       "      <td>-6.1</td>\n",
       "      <td>NaN</td>\n",
       "      <td>1020.3</td>\n",
       "      <td>70.0</td>\n",
       "      <td>2.1</td>\n",
       "    </tr>\n",
       "    <tr>\n",
       "      <th>20124379</th>\n",
       "      <td>1388</td>\n",
       "      <td>1</td>\n",
       "      <td>2016-12-06 12:00:00</td>\n",
       "      <td>26.1411</td>\n",
       "      <td>15</td>\n",
       "      <td>Healthcare</td>\n",
       "      <td>45465</td>\n",
       "      <td>1990.0</td>\n",
       "      <td>NaN</td>\n",
       "      <td>2016-12-06 12:00:00</td>\n",
       "      <td>-4.4</td>\n",
       "      <td>4.0</td>\n",
       "      <td>-5.6</td>\n",
       "      <td>NaN</td>\n",
       "      <td>1020.4</td>\n",
       "      <td>70.0</td>\n",
       "      <td>2.6</td>\n",
       "    </tr>\n",
       "    <tr>\n",
       "      <th>20124444</th>\n",
       "      <td>1388</td>\n",
       "      <td>1</td>\n",
       "      <td>2016-12-06 13:00:00</td>\n",
       "      <td>22.9406</td>\n",
       "      <td>15</td>\n",
       "      <td>Healthcare</td>\n",
       "      <td>45465</td>\n",
       "      <td>1990.0</td>\n",
       "      <td>NaN</td>\n",
       "      <td>2016-12-06 13:00:00</td>\n",
       "      <td>-3.9</td>\n",
       "      <td>4.0</td>\n",
       "      <td>-4.4</td>\n",
       "      <td>NaN</td>\n",
       "      <td>1020.2</td>\n",
       "      <td>80.0</td>\n",
       "      <td>2.6</td>\n",
       "    </tr>\n",
       "    <tr>\n",
       "      <th>20124509</th>\n",
       "      <td>1388</td>\n",
       "      <td>1</td>\n",
       "      <td>2016-12-06 14:00:00</td>\n",
       "      <td>23.4624</td>\n",
       "      <td>15</td>\n",
       "      <td>Healthcare</td>\n",
       "      <td>45465</td>\n",
       "      <td>1990.0</td>\n",
       "      <td>NaN</td>\n",
       "      <td>2016-12-06 14:00:00</td>\n",
       "      <td>-1.1</td>\n",
       "      <td>0.0</td>\n",
       "      <td>-1.7</td>\n",
       "      <td>NaN</td>\n",
       "      <td>1020.0</td>\n",
       "      <td>70.0</td>\n",
       "      <td>2.1</td>\n",
       "    </tr>\n",
       "    <tr>\n",
       "      <th>20124574</th>\n",
       "      <td>1388</td>\n",
       "      <td>1</td>\n",
       "      <td>2016-12-06 15:00:00</td>\n",
       "      <td>31.7050</td>\n",
       "      <td>15</td>\n",
       "      <td>Healthcare</td>\n",
       "      <td>45465</td>\n",
       "      <td>1990.0</td>\n",
       "      <td>NaN</td>\n",
       "      <td>2016-12-06 15:00:00</td>\n",
       "      <td>0.6</td>\n",
       "      <td>0.0</td>\n",
       "      <td>-0.6</td>\n",
       "      <td>NaN</td>\n",
       "      <td>1019.1</td>\n",
       "      <td>130.0</td>\n",
       "      <td>2.1</td>\n",
       "    </tr>\n",
       "  </tbody>\n",
       "</table>\n",
       "<p>397992 rows × 17 columns</p>\n",
       "</div>"
      ],
      "text/plain": [
       "          building_id  meter     meter_timestamp  meter_reading  site_id  \\\n",
       "1628808           208      0 2016-01-01 00:00:00        77.2900        2   \n",
       "1628809           208      1 2016-01-01 00:00:00         0.1055        2   \n",
       "1629094           208      0 2016-01-01 01:00:00        87.0900        2   \n",
       "1629095           208      1 2016-01-01 01:00:00         0.1407        2   \n",
       "1629380           208      0 2016-01-01 02:00:00        90.5100        2   \n",
       "...               ...    ...                 ...            ...      ...   \n",
       "20124314         1388      1 2016-12-06 11:00:00        45.6785       15   \n",
       "20124379         1388      1 2016-12-06 12:00:00        26.1411       15   \n",
       "20124444         1388      1 2016-12-06 13:00:00        22.9406       15   \n",
       "20124509         1388      1 2016-12-06 14:00:00        23.4624       15   \n",
       "20124574         1388      1 2016-12-06 15:00:00        31.7050       15   \n",
       "\n",
       "         primary_use  square_feet  year_built  floor_count  \\\n",
       "1628808   Healthcare        36904      1934.0          NaN   \n",
       "1628809   Healthcare        36904      1934.0          NaN   \n",
       "1629094   Healthcare        36904      1934.0          NaN   \n",
       "1629095   Healthcare        36904      1934.0          NaN   \n",
       "1629380   Healthcare        36904      1934.0          NaN   \n",
       "...              ...          ...         ...          ...   \n",
       "20124314  Healthcare        45465      1990.0          NaN   \n",
       "20124379  Healthcare        45465      1990.0          NaN   \n",
       "20124444  Healthcare        45465      1990.0          NaN   \n",
       "20124509  Healthcare        45465      1990.0          NaN   \n",
       "20124574  Healthcare        45465      1990.0          NaN   \n",
       "\n",
       "           weather_timestamp  air_temperature  cloud_coverage  \\\n",
       "1628808  2016-01-01 00:00:00             15.6             6.0   \n",
       "1628809  2016-01-01 00:00:00             15.6             6.0   \n",
       "1629094  2016-01-01 01:00:00             13.9             NaN   \n",
       "1629095  2016-01-01 01:00:00             13.9             NaN   \n",
       "1629380  2016-01-01 02:00:00             13.3             2.0   \n",
       "...                      ...              ...             ...   \n",
       "20124314 2016-12-06 11:00:00             -5.0             0.0   \n",
       "20124379 2016-12-06 12:00:00             -4.4             4.0   \n",
       "20124444 2016-12-06 13:00:00             -3.9             4.0   \n",
       "20124509 2016-12-06 14:00:00             -1.1             0.0   \n",
       "20124574 2016-12-06 15:00:00              0.6             0.0   \n",
       "\n",
       "          dew_temperature  precip_depth_1_hr  sea_level_pressure  \\\n",
       "1628808              -5.6                NaN              1015.3   \n",
       "1628809              -5.6                NaN              1015.3   \n",
       "1629094              -5.6                0.0              1015.6   \n",
       "1629095              -5.6                0.0              1015.6   \n",
       "1629380              -5.6                0.0              1016.0   \n",
       "...                   ...                ...                 ...   \n",
       "20124314             -6.1                NaN              1020.3   \n",
       "20124379             -5.6                NaN              1020.4   \n",
       "20124444             -4.4                NaN              1020.2   \n",
       "20124509             -1.7                NaN              1020.0   \n",
       "20124574             -0.6                NaN              1019.1   \n",
       "\n",
       "          wind_direction  wind_speed  \n",
       "1628808            270.0         3.6  \n",
       "1628809            270.0         3.6  \n",
       "1629094            270.0         4.1  \n",
       "1629095            270.0         4.1  \n",
       "1629380            270.0         3.1  \n",
       "...                  ...         ...  \n",
       "20124314            70.0         2.1  \n",
       "20124379            70.0         2.6  \n",
       "20124444            80.0         2.6  \n",
       "20124509            70.0         2.1  \n",
       "20124574           130.0         2.1  \n",
       "\n",
       "[397992 rows x 17 columns]"
      ]
     },
     "execution_count": 28,
     "metadata": {},
     "output_type": "execute_result"
    }
   ],
   "source": [
    "# Filter the DataFrame to include only rows where 'primary_use' is 'Healthcare'\n",
    "healthcare_train_df = merged_train_df[merged_train_df['primary_use'] == 'Healthcare']\n",
    "healthcare_train_df"
   ]
  },
  {
   "cell_type": "code",
   "execution_count": 35,
   "id": "864912b4-b4ef-4f94-92f3-9eb79894aaa6",
   "metadata": {},
   "outputs": [],
   "source": [
    "# Export dataframe to a csv file\n",
    "healthcare_train_df.to_csv('data/01_healthcare_train_df.csv', index=False)"
   ]
  },
  {
   "cell_type": "code",
   "execution_count": null,
   "id": "3cd40d7c-8a00-404a-aeaf-1579268ffad4",
   "metadata": {},
   "outputs": [],
   "source": []
  },
  {
   "cell_type": "markdown",
   "id": "e91baa68-7106-4496-a030-91ec386bc009",
   "metadata": {},
   "source": [
    "#### Why some primary_use buildings have more records than other\n",
    "'primary_use' has a one to many relation with 'building_id'\\\n",
    "'building_id' has a one to many relation with 'meter'\\\n",
    "'meter' has a one to many relation with 'meter_timestamp'\\\n",
    "For instance, 'primary_use' == Education includes 549 'building_id'. One of those ‘building_id’ == 209 is includes 3 'meter'. Each of the 'meter' includes ~ 450 'meter_timestamp'\n",
    "On the other hand, 'primary_use' == Healthcare includes 23 'building_id'. One of those ‘building_id’ == 208 is includes 2 'meter'. Each of the 'meter' includes ~ 450 'meter_timestamp'"
   ]
  },
  {
   "cell_type": "code",
   "execution_count": null,
   "id": "7f701e80-d839-40de-864b-c74dc82f68aa",
   "metadata": {},
   "outputs": [],
   "source": []
  },
  {
   "cell_type": "code",
   "execution_count": 29,
   "id": "97bf0a02-f115-4f71-b231-27ea4b5b4ecb",
   "metadata": {},
   "outputs": [
    {
     "data": {
      "text/plain": [
       "primary_use        building_id\n",
       "Education          0              8784\n",
       "                   1              8784\n",
       "                   2              8784\n",
       "                   3              8784\n",
       "                   4              8784\n",
       "                                  ... \n",
       "Warehouse/storage  830            8351\n",
       "                   1155           8783\n",
       "                   1182           8783\n",
       "                   1199           8783\n",
       "                   1213           8783\n",
       "Name: building_id, Length: 1449, dtype: int64"
      ]
     },
     "execution_count": 29,
     "metadata": {},
     "output_type": "execute_result"
    }
   ],
   "source": [
    "# Why some primary_use buildings have more records than other\n",
    "merged_train_df.groupby(['primary_use','building_id'])['building_id'].count()"
   ]
  },
  {
   "cell_type": "code",
   "execution_count": 29,
   "id": "c9014476-4c94-49bf-bb49-85d1ab12311f",
   "metadata": {},
   "outputs": [
    {
     "data": {
      "text/plain": [
       "primary_use        building_id\n",
       "Education          0              8784\n",
       "                   1              8784\n",
       "                   2              8784\n",
       "                   3              8784\n",
       "                   4              8784\n",
       "                                  ... \n",
       "Warehouse/storage  830            8351\n",
       "                   1155           8783\n",
       "                   1182           8783\n",
       "                   1199           8783\n",
       "                   1213           8783\n",
       "Name: building_id, Length: 1449, dtype: int64"
      ]
     },
     "execution_count": 29,
     "metadata": {},
     "output_type": "execute_result"
    }
   ],
   "source": [
    "# Why some primary_use buildings have more records than other\n",
    "merged_train_df.groupby(['primary_use','building_id'])['building_id'].count()"
   ]
  },
  {
   "cell_type": "code",
   "execution_count": null,
   "id": "4e602f76-60c5-48e2-8aa5-7097aea2d849",
   "metadata": {},
   "outputs": [],
   "source": []
  },
  {
   "cell_type": "markdown",
   "id": "1d55846b-438a-4fd9-b3fe-773a4a7a0379",
   "metadata": {},
   "source": [
    "[back to TOC](#toc)"
   ]
  },
  {
   "cell_type": "markdown",
   "id": "05c79979-2880-4344-ba89-040d0baeab25",
   "metadata": {},
   "source": [
    "<a id='bdw-3'></a>"
   ]
  },
  {
   "cell_type": "markdown",
   "id": "6aa0b672-38f3-47b3-b3f6-19a4846f9d14",
   "metadata": {},
   "source": [
    "## 2.1. Healthcare data overview"
   ]
  },
  {
   "cell_type": "code",
   "execution_count": 1,
   "id": "44e5895f",
   "metadata": {
    "tags": []
   },
   "outputs": [],
   "source": [
    "# Import analysis packages\n",
    "import pandas as pd\n",
    "import numpy as np\n",
    "\n",
    "# import plotting packages\n",
    "import matplotlib.pyplot as plt\n",
    "import seaborn as sns\n",
    "\n",
    "# Setting figure size\n",
    "plt.rcParams['figure.figsize']=(8.0,6.0)"
   ]
  },
  {
   "cell_type": "code",
   "execution_count": 102,
   "id": "ed5787f6-2092-4ac7-b837-afe8c5332ba6",
   "metadata": {},
   "outputs": [
    {
     "data": {
      "text/html": [
       "<div>\n",
       "<style scoped>\n",
       "    .dataframe tbody tr th:only-of-type {\n",
       "        vertical-align: middle;\n",
       "    }\n",
       "\n",
       "    .dataframe tbody tr th {\n",
       "        vertical-align: top;\n",
       "    }\n",
       "\n",
       "    .dataframe thead th {\n",
       "        text-align: right;\n",
       "    }\n",
       "</style>\n",
       "<table border=\"1\" class=\"dataframe\">\n",
       "  <thead>\n",
       "    <tr style=\"text-align: right;\">\n",
       "      <th></th>\n",
       "      <th>building_id</th>\n",
       "      <th>meter</th>\n",
       "      <th>meter_timestamp</th>\n",
       "      <th>meter_reading</th>\n",
       "      <th>site_id</th>\n",
       "      <th>primary_use</th>\n",
       "      <th>square_feet</th>\n",
       "      <th>year_built</th>\n",
       "      <th>floor_count</th>\n",
       "      <th>weather_timestamp</th>\n",
       "      <th>air_temperature</th>\n",
       "      <th>cloud_coverage</th>\n",
       "      <th>dew_temperature</th>\n",
       "      <th>precip_depth_1_hr</th>\n",
       "      <th>sea_level_pressure</th>\n",
       "      <th>wind_direction</th>\n",
       "      <th>wind_speed</th>\n",
       "    </tr>\n",
       "  </thead>\n",
       "  <tbody>\n",
       "    <tr>\n",
       "      <th>111087</th>\n",
       "      <td>1207</td>\n",
       "      <td>2</td>\n",
       "      <td>2016-05-29 19:00:00</td>\n",
       "      <td>0.00</td>\n",
       "      <td>13</td>\n",
       "      <td>Healthcare</td>\n",
       "      <td>74443</td>\n",
       "      <td>NaN</td>\n",
       "      <td>NaN</td>\n",
       "      <td>2016-05-29 19:00:00</td>\n",
       "      <td>23.9</td>\n",
       "      <td>NaN</td>\n",
       "      <td>13.3</td>\n",
       "      <td>0.0</td>\n",
       "      <td>1014.3</td>\n",
       "      <td>300.0</td>\n",
       "      <td>6.2</td>\n",
       "    </tr>\n",
       "    <tr>\n",
       "      <th>101259</th>\n",
       "      <td>1207</td>\n",
       "      <td>2</td>\n",
       "      <td>2016-04-14 07:00:00</td>\n",
       "      <td>0.00</td>\n",
       "      <td>13</td>\n",
       "      <td>Healthcare</td>\n",
       "      <td>74443</td>\n",
       "      <td>NaN</td>\n",
       "      <td>NaN</td>\n",
       "      <td>2016-04-14 07:00:00</td>\n",
       "      <td>11.7</td>\n",
       "      <td>0.0</td>\n",
       "      <td>0.0</td>\n",
       "      <td>0.0</td>\n",
       "      <td>1017.0</td>\n",
       "      <td>140.0</td>\n",
       "      <td>4.6</td>\n",
       "    </tr>\n",
       "    <tr>\n",
       "      <th>30736</th>\n",
       "      <td>556</td>\n",
       "      <td>0</td>\n",
       "      <td>2016-04-01 15:00:00</td>\n",
       "      <td>1203.21</td>\n",
       "      <td>3</td>\n",
       "      <td>Healthcare</td>\n",
       "      <td>450000</td>\n",
       "      <td>2012.0</td>\n",
       "      <td>NaN</td>\n",
       "      <td>2016-04-01 15:00:00</td>\n",
       "      <td>20.0</td>\n",
       "      <td>8.0</td>\n",
       "      <td>17.2</td>\n",
       "      <td>0.0</td>\n",
       "      <td>1004.4</td>\n",
       "      <td>200.0</td>\n",
       "      <td>7.7</td>\n",
       "    </tr>\n",
       "  </tbody>\n",
       "</table>\n",
       "</div>"
      ],
      "text/plain": [
       "        building_id  meter      meter_timestamp  meter_reading  site_id  \\\n",
       "111087         1207      2  2016-05-29 19:00:00           0.00       13   \n",
       "101259         1207      2  2016-04-14 07:00:00           0.00       13   \n",
       "30736           556      0  2016-04-01 15:00:00        1203.21        3   \n",
       "\n",
       "       primary_use  square_feet  year_built  floor_count    weather_timestamp  \\\n",
       "111087  Healthcare        74443         NaN          NaN  2016-05-29 19:00:00   \n",
       "101259  Healthcare        74443         NaN          NaN  2016-04-14 07:00:00   \n",
       "30736   Healthcare       450000      2012.0          NaN  2016-04-01 15:00:00   \n",
       "\n",
       "        air_temperature  cloud_coverage  dew_temperature  precip_depth_1_hr  \\\n",
       "111087             23.9             NaN             13.3                0.0   \n",
       "101259             11.7             0.0              0.0                0.0   \n",
       "30736              20.0             8.0             17.2                0.0   \n",
       "\n",
       "        sea_level_pressure  wind_direction  wind_speed  \n",
       "111087              1014.3           300.0         6.2  \n",
       "101259              1017.0           140.0         4.6  \n",
       "30736               1004.4           200.0         7.7  "
      ]
     },
     "execution_count": 102,
     "metadata": {},
     "output_type": "execute_result"
    }
   ],
   "source": [
    "# Data loading for healthcare.csv saved from section above 'Basic Data Wrangling' . The file is coma (,) separated. The index is auto generated\n",
    "healthcare_df=pd.read_csv('data/01_healthcare_train_df.csv',sep=',')\n",
    "healthcare_df.sample(3)"
   ]
  },
  {
   "cell_type": "code",
   "execution_count": 103,
   "id": "2433afa5-0718-4d17-a448-ccbfd325ffb0",
   "metadata": {},
   "outputs": [
    {
     "data": {
      "text/plain": [
       "(397992, 17)"
      ]
     },
     "execution_count": 103,
     "metadata": {},
     "output_type": "execute_result"
    }
   ],
   "source": [
    "# Data shape\n",
    "healthcare_df.shape"
   ]
  },
  {
   "cell_type": "code",
   "execution_count": 104,
   "id": "032acee8-c205-4c08-a13c-913e48ec57a7",
   "metadata": {},
   "outputs": [
    {
     "name": "stdout",
     "output_type": "stream",
     "text": [
      "The Healthcare dataset includes 397992 rows and 17 columns.\n"
     ]
    }
   ],
   "source": [
    "print(f'The Healthcare dataset includes {healthcare_df.shape[0]} rows and {healthcare_df.shape[1]} columns.')"
   ]
  },
  {
   "cell_type": "code",
   "execution_count": 105,
   "id": "c50c01e7-02a7-4ed8-9f2c-d03fe670a8a4",
   "metadata": {},
   "outputs": [
    {
     "name": "stdout",
     "output_type": "stream",
     "text": [
      "<class 'pandas.core.frame.DataFrame'>\n",
      "RangeIndex: 397992 entries, 0 to 397991\n",
      "Data columns (total 17 columns):\n",
      " #   Column              Non-Null Count   Dtype  \n",
      "---  ------              --------------   -----  \n",
      " 0   building_id         397992 non-null  int64  \n",
      " 1   meter               397992 non-null  int64  \n",
      " 2   meter_timestamp     397992 non-null  object \n",
      " 3   meter_reading       397992 non-null  float64\n",
      " 4   site_id             397992 non-null  int64  \n",
      " 5   primary_use         397992 non-null  object \n",
      " 6   square_feet         397992 non-null  int64  \n",
      " 7   year_built          77164 non-null   float64\n",
      " 8   floor_count         8755 non-null    float64\n",
      " 9   weather_timestamp   397992 non-null  object \n",
      " 10  air_temperature     397928 non-null  float64\n",
      " 11  cloud_coverage      235291 non-null  float64\n",
      " 12  dew_temperature     397913 non-null  float64\n",
      " 13  precip_depth_1_hr   382248 non-null  float64\n",
      " 14  sea_level_pressure  383709 non-null  float64\n",
      " 15  wind_direction      385758 non-null  float64\n",
      " 16  wind_speed          397313 non-null  float64\n",
      "dtypes: float64(10), int64(4), object(3)\n",
      "memory usage: 51.6+ MB\n"
     ]
    }
   ],
   "source": [
    "# General info\n",
    "healthcare_df.info()"
   ]
  },
  {
   "cell_type": "markdown",
   "id": "0d96fe29-eece-42b6-a9ab-64889552dd80",
   "metadata": {},
   "source": [
    "There are many columns with missing data, such null values will be address later on. The columns include three data types: float, int and object, being float the most frequent one. Most columns are numerical."
   ]
  },
  {
   "cell_type": "code",
   "execution_count": 106,
   "id": "336ee032-00ec-40ed-8bd0-8a3fce51c0a2",
   "metadata": {},
   "outputs": [
    {
     "data": {
      "text/html": [
       "<div>\n",
       "<style scoped>\n",
       "    .dataframe tbody tr th:only-of-type {\n",
       "        vertical-align: middle;\n",
       "    }\n",
       "\n",
       "    .dataframe tbody tr th {\n",
       "        vertical-align: top;\n",
       "    }\n",
       "\n",
       "    .dataframe thead th {\n",
       "        text-align: right;\n",
       "    }\n",
       "</style>\n",
       "<table border=\"1\" class=\"dataframe\">\n",
       "  <thead>\n",
       "    <tr style=\"text-align: right;\">\n",
       "      <th></th>\n",
       "      <th>meter_reading</th>\n",
       "      <th>year_built</th>\n",
       "      <th>floor_count</th>\n",
       "      <th>air_temperature</th>\n",
       "      <th>cloud_coverage</th>\n",
       "      <th>dew_temperature</th>\n",
       "      <th>precip_depth_1_hr</th>\n",
       "      <th>sea_level_pressure</th>\n",
       "      <th>wind_direction</th>\n",
       "      <th>wind_speed</th>\n",
       "    </tr>\n",
       "  </thead>\n",
       "  <tbody>\n",
       "    <tr>\n",
       "      <th>6770</th>\n",
       "      <td>102.059</td>\n",
       "      <td>1934.0</td>\n",
       "      <td>NaN</td>\n",
       "      <td>23.3</td>\n",
       "      <td>2.0</td>\n",
       "      <td>5.0</td>\n",
       "      <td>0.0</td>\n",
       "      <td>1007.5</td>\n",
       "      <td>160.0</td>\n",
       "      <td>4.6</td>\n",
       "    </tr>\n",
       "    <tr>\n",
       "      <th>336717</th>\n",
       "      <td>2655.140</td>\n",
       "      <td>NaN</td>\n",
       "      <td>NaN</td>\n",
       "      <td>14.4</td>\n",
       "      <td>0.0</td>\n",
       "      <td>13.3</td>\n",
       "      <td>0.0</td>\n",
       "      <td>1021.9</td>\n",
       "      <td>90.0</td>\n",
       "      <td>1.5</td>\n",
       "    </tr>\n",
       "    <tr>\n",
       "      <th>95603</th>\n",
       "      <td>233.050</td>\n",
       "      <td>NaN</td>\n",
       "      <td>NaN</td>\n",
       "      <td>0.6</td>\n",
       "      <td>NaN</td>\n",
       "      <td>-1.7</td>\n",
       "      <td>-1.0</td>\n",
       "      <td>1022.2</td>\n",
       "      <td>10.0</td>\n",
       "      <td>4.1</td>\n",
       "    </tr>\n",
       "  </tbody>\n",
       "</table>\n",
       "</div>"
      ],
      "text/plain": [
       "        meter_reading  year_built  floor_count  air_temperature  \\\n",
       "6770          102.059      1934.0          NaN             23.3   \n",
       "336717       2655.140         NaN          NaN             14.4   \n",
       "95603         233.050         NaN          NaN              0.6   \n",
       "\n",
       "        cloud_coverage  dew_temperature  precip_depth_1_hr  \\\n",
       "6770               2.0              5.0                0.0   \n",
       "336717             0.0             13.3                0.0   \n",
       "95603              NaN             -1.7               -1.0   \n",
       "\n",
       "        sea_level_pressure  wind_direction  wind_speed  \n",
       "6770                1007.5           160.0         4.6  \n",
       "336717              1021.9            90.0         1.5  \n",
       "95603               1022.2            10.0         4.1  "
      ]
     },
     "execution_count": 106,
     "metadata": {},
     "output_type": "execute_result"
    }
   ],
   "source": [
    "# Grouping by 'float64' datatype\n",
    "healthcare_df.select_dtypes('float64').sample(3)"
   ]
  },
  {
   "cell_type": "markdown",
   "id": "58027971-1c3f-4e91-aeda-2d9e6c450f59",
   "metadata": {},
   "source": [
    "Some columns can be converted to integers, i.e. 'year_built' and 'wind_direction', 'floor_count'"
   ]
  },
  {
   "cell_type": "code",
   "execution_count": 107,
   "id": "3972834f-d80d-4cf5-82ae-23943a44ec76",
   "metadata": {},
   "outputs": [
    {
     "data": {
      "text/html": [
       "<div>\n",
       "<style scoped>\n",
       "    .dataframe tbody tr th:only-of-type {\n",
       "        vertical-align: middle;\n",
       "    }\n",
       "\n",
       "    .dataframe tbody tr th {\n",
       "        vertical-align: top;\n",
       "    }\n",
       "\n",
       "    .dataframe thead th {\n",
       "        text-align: right;\n",
       "    }\n",
       "</style>\n",
       "<table border=\"1\" class=\"dataframe\">\n",
       "  <thead>\n",
       "    <tr style=\"text-align: right;\">\n",
       "      <th></th>\n",
       "      <th>building_id</th>\n",
       "      <th>meter</th>\n",
       "      <th>site_id</th>\n",
       "      <th>square_feet</th>\n",
       "    </tr>\n",
       "  </thead>\n",
       "  <tbody>\n",
       "    <tr>\n",
       "      <th>187953</th>\n",
       "      <td>1300</td>\n",
       "      <td>3</td>\n",
       "      <td>14</td>\n",
       "      <td>25609</td>\n",
       "    </tr>\n",
       "    <tr>\n",
       "      <th>67904</th>\n",
       "      <td>548</td>\n",
       "      <td>0</td>\n",
       "      <td>3</td>\n",
       "      <td>9813</td>\n",
       "    </tr>\n",
       "    <tr>\n",
       "      <th>339280</th>\n",
       "      <td>1286</td>\n",
       "      <td>2</td>\n",
       "      <td>14</td>\n",
       "      <td>205472</td>\n",
       "    </tr>\n",
       "  </tbody>\n",
       "</table>\n",
       "</div>"
      ],
      "text/plain": [
       "        building_id  meter  site_id  square_feet\n",
       "187953         1300      3       14        25609\n",
       "67904           548      0        3         9813\n",
       "339280         1286      2       14       205472"
      ]
     },
     "execution_count": 107,
     "metadata": {},
     "output_type": "execute_result"
    }
   ],
   "source": [
    "# Grouping by 'int64' datatype\n",
    "healthcare_df.select_dtypes('int64').sample(3)"
   ]
  },
  {
   "cell_type": "code",
   "execution_count": 108,
   "id": "24a80412-0bf3-44d2-9f27-4c535e6dad56",
   "metadata": {
    "scrolled": true
   },
   "outputs": [
    {
     "data": {
      "text/html": [
       "<div>\n",
       "<style scoped>\n",
       "    .dataframe tbody tr th:only-of-type {\n",
       "        vertical-align: middle;\n",
       "    }\n",
       "\n",
       "    .dataframe tbody tr th {\n",
       "        vertical-align: top;\n",
       "    }\n",
       "\n",
       "    .dataframe thead th {\n",
       "        text-align: right;\n",
       "    }\n",
       "</style>\n",
       "<table border=\"1\" class=\"dataframe\">\n",
       "  <thead>\n",
       "    <tr style=\"text-align: right;\">\n",
       "      <th></th>\n",
       "      <th>meter_timestamp</th>\n",
       "      <th>primary_use</th>\n",
       "      <th>weather_timestamp</th>\n",
       "    </tr>\n",
       "  </thead>\n",
       "  <tbody>\n",
       "    <tr>\n",
       "      <th>25040</th>\n",
       "      <td>2016-02-22 01:00:00</td>\n",
       "      <td>Healthcare</td>\n",
       "      <td>2016-02-22 01:00:00</td>\n",
       "    </tr>\n",
       "    <tr>\n",
       "      <th>14561</th>\n",
       "      <td>2016-10-30 20:00:00</td>\n",
       "      <td>Healthcare</td>\n",
       "      <td>2016-10-30 20:00:00</td>\n",
       "    </tr>\n",
       "    <tr>\n",
       "      <th>263395</th>\n",
       "      <td>2016-06-14 23:00:00</td>\n",
       "      <td>Healthcare</td>\n",
       "      <td>2016-06-14 23:00:00</td>\n",
       "    </tr>\n",
       "  </tbody>\n",
       "</table>\n",
       "</div>"
      ],
      "text/plain": [
       "            meter_timestamp primary_use    weather_timestamp\n",
       "25040   2016-02-22 01:00:00  Healthcare  2016-02-22 01:00:00\n",
       "14561   2016-10-30 20:00:00  Healthcare  2016-10-30 20:00:00\n",
       "263395  2016-06-14 23:00:00  Healthcare  2016-06-14 23:00:00"
      ]
     },
     "execution_count": 108,
     "metadata": {},
     "output_type": "execute_result"
    }
   ],
   "source": [
    "# Grouping by 'object' datatype\n",
    "healthcare_df.select_dtypes('object').sample(3)"
   ]
  },
  {
   "cell_type": "markdown",
   "id": "7f1feb47-cc4c-4db3-88d9-d9598a7c94d0",
   "metadata": {},
   "source": [
    "The column 'primary_use' can be drooped. \\\n",
    "Keep the 'meter_timestamp' and drop column 'weather_timestamp', since both have the same values, and then change type to date type. "
   ]
  },
  {
   "cell_type": "code",
   "execution_count": null,
   "id": "17421e14-cefd-4a71-9822-08bdc1f56eb0",
   "metadata": {},
   "outputs": [],
   "source": []
  },
  {
   "cell_type": "code",
   "execution_count": null,
   "id": "028801f2-1da1-48e5-bb0b-05c07726ede3",
   "metadata": {},
   "outputs": [],
   "source": []
  },
  {
   "cell_type": "markdown",
   "id": "2a09a923-8dad-4788-bb58-e54a1c5ccd95",
   "metadata": {},
   "source": [
    "[back to TOC](#toc)"
   ]
  },
  {
   "cell_type": "markdown",
   "id": "712ddbc7-43ab-459a-82a6-d4a115b8ddb7",
   "metadata": {},
   "source": [
    "<a id='bdw-4'></a>"
   ]
  },
  {
   "cell_type": "markdown",
   "id": "4a5a0f38-0a62-4fe8-ad42-65ebb7327c6a",
   "metadata": {},
   "source": [
    "## Numeric columns stats"
   ]
  },
  {
   "cell_type": "code",
   "execution_count": 109,
   "id": "36caa670-2bf3-46e5-b623-f0a0d3603cfd",
   "metadata": {},
   "outputs": [
    {
     "name": "stdout",
     "output_type": "stream",
     "text": [
      "['building_id', 'meter', 'meter_reading', 'site_id', 'square_feet', 'year_built', 'floor_count', 'air_temperature', 'cloud_coverage', 'dew_temperature', 'precip_depth_1_hr', 'sea_level_pressure', 'wind_direction', 'wind_speed']\n"
     ]
    }
   ],
   "source": [
    "# Group numeric columns\n",
    "numeric = list(healthcare_df.select_dtypes(exclude='object').columns)\n",
    "print(numeric)"
   ]
  },
  {
   "cell_type": "code",
   "execution_count": 110,
   "id": "0cb11d1b-99a8-44d0-a2af-9d7617758028",
   "metadata": {},
   "outputs": [
    {
     "data": {
      "text/html": [
       "<div>\n",
       "<style scoped>\n",
       "    .dataframe tbody tr th:only-of-type {\n",
       "        vertical-align: middle;\n",
       "    }\n",
       "\n",
       "    .dataframe tbody tr th {\n",
       "        vertical-align: top;\n",
       "    }\n",
       "\n",
       "    .dataframe thead th {\n",
       "        text-align: right;\n",
       "    }\n",
       "</style>\n",
       "<table border=\"1\" class=\"dataframe\">\n",
       "  <thead>\n",
       "    <tr style=\"text-align: right;\">\n",
       "      <th></th>\n",
       "      <th>building_id</th>\n",
       "      <th>meter</th>\n",
       "      <th>meter_reading</th>\n",
       "      <th>site_id</th>\n",
       "      <th>square_feet</th>\n",
       "      <th>year_built</th>\n",
       "      <th>floor_count</th>\n",
       "      <th>air_temperature</th>\n",
       "      <th>cloud_coverage</th>\n",
       "      <th>dew_temperature</th>\n",
       "      <th>precip_depth_1_hr</th>\n",
       "      <th>sea_level_pressure</th>\n",
       "      <th>wind_direction</th>\n",
       "      <th>wind_speed</th>\n",
       "    </tr>\n",
       "  </thead>\n",
       "  <tbody>\n",
       "    <tr>\n",
       "      <th>count</th>\n",
       "      <td>397992.000000</td>\n",
       "      <td>397992.000000</td>\n",
       "      <td>397992.000000</td>\n",
       "      <td>397992.000000</td>\n",
       "      <td>397992.000000</td>\n",
       "      <td>77164.000000</td>\n",
       "      <td>8755.0</td>\n",
       "      <td>397928.000000</td>\n",
       "      <td>235291.000000</td>\n",
       "      <td>397913.000000</td>\n",
       "      <td>382248.000000</td>\n",
       "      <td>383709.000000</td>\n",
       "      <td>385758.000000</td>\n",
       "      <td>397313.000000</td>\n",
       "    </tr>\n",
       "    <tr>\n",
       "      <th>mean</th>\n",
       "      <td>1093.345861</td>\n",
       "      <td>0.859047</td>\n",
       "      <td>739.019013</td>\n",
       "      <td>11.638897</td>\n",
       "      <td>138512.563572</td>\n",
       "      <td>1976.571847</td>\n",
       "      <td>1.0</td>\n",
       "      <td>13.303335</td>\n",
       "      <td>1.472606</td>\n",
       "      <td>5.582175</td>\n",
       "      <td>0.747271</td>\n",
       "      <td>1016.294189</td>\n",
       "      <td>186.147621</td>\n",
       "      <td>3.449965</td>\n",
       "    </tr>\n",
       "    <tr>\n",
       "      <th>std</th>\n",
       "      <td>328.897143</td>\n",
       "      <td>0.944554</td>\n",
       "      <td>1364.991818</td>\n",
       "      <td>4.331415</td>\n",
       "      <td>141200.746274</td>\n",
       "      <td>36.542222</td>\n",
       "      <td>0.0</td>\n",
       "      <td>10.983677</td>\n",
       "      <td>2.344205</td>\n",
       "      <td>10.646586</td>\n",
       "      <td>6.126940</td>\n",
       "      <td>7.296821</td>\n",
       "      <td>116.653579</td>\n",
       "      <td>2.223443</td>\n",
       "    </tr>\n",
       "    <tr>\n",
       "      <th>min</th>\n",
       "      <td>208.000000</td>\n",
       "      <td>0.000000</td>\n",
       "      <td>0.000000</td>\n",
       "      <td>2.000000</td>\n",
       "      <td>9813.000000</td>\n",
       "      <td>1922.000000</td>\n",
       "      <td>1.0</td>\n",
       "      <td>-28.900000</td>\n",
       "      <td>0.000000</td>\n",
       "      <td>-31.700000</td>\n",
       "      <td>-1.000000</td>\n",
       "      <td>981.600000</td>\n",
       "      <td>0.000000</td>\n",
       "      <td>0.000000</td>\n",
       "    </tr>\n",
       "    <tr>\n",
       "      <th>25%</th>\n",
       "      <td>1207.000000</td>\n",
       "      <td>0.000000</td>\n",
       "      <td>33.980000</td>\n",
       "      <td>13.000000</td>\n",
       "      <td>35354.000000</td>\n",
       "      <td>1934.000000</td>\n",
       "      <td>1.0</td>\n",
       "      <td>5.000000</td>\n",
       "      <td>0.000000</td>\n",
       "      <td>-2.200000</td>\n",
       "      <td>0.000000</td>\n",
       "      <td>1011.600000</td>\n",
       "      <td>80.000000</td>\n",
       "      <td>2.100000</td>\n",
       "    </tr>\n",
       "    <tr>\n",
       "      <th>50%</th>\n",
       "      <td>1243.000000</td>\n",
       "      <td>1.000000</td>\n",
       "      <td>212.000000</td>\n",
       "      <td>14.000000</td>\n",
       "      <td>115788.000000</td>\n",
       "      <td>1990.000000</td>\n",
       "      <td>1.0</td>\n",
       "      <td>13.900000</td>\n",
       "      <td>0.000000</td>\n",
       "      <td>6.100000</td>\n",
       "      <td>0.000000</td>\n",
       "      <td>1016.400000</td>\n",
       "      <td>200.000000</td>\n",
       "      <td>3.100000</td>\n",
       "    </tr>\n",
       "    <tr>\n",
       "      <th>75%</th>\n",
       "      <td>1285.000000</td>\n",
       "      <td>2.000000</td>\n",
       "      <td>783.330750</td>\n",
       "      <td>14.000000</td>\n",
       "      <td>200000.000000</td>\n",
       "      <td>2010.000000</td>\n",
       "      <td>1.0</td>\n",
       "      <td>22.200000</td>\n",
       "      <td>2.000000</td>\n",
       "      <td>14.400000</td>\n",
       "      <td>0.000000</td>\n",
       "      <td>1021.000000</td>\n",
       "      <td>290.000000</td>\n",
       "      <td>4.600000</td>\n",
       "    </tr>\n",
       "    <tr>\n",
       "      <th>max</th>\n",
       "      <td>1388.000000</td>\n",
       "      <td>3.000000</td>\n",
       "      <td>28189.500000</td>\n",
       "      <td>15.000000</td>\n",
       "      <td>819577.000000</td>\n",
       "      <td>2014.000000</td>\n",
       "      <td>1.0</td>\n",
       "      <td>47.200000</td>\n",
       "      <td>9.000000</td>\n",
       "      <td>26.100000</td>\n",
       "      <td>239.000000</td>\n",
       "      <td>1042.200000</td>\n",
       "      <td>360.000000</td>\n",
       "      <td>18.500000</td>\n",
       "    </tr>\n",
       "  </tbody>\n",
       "</table>\n",
       "</div>"
      ],
      "text/plain": [
       "         building_id          meter  meter_reading        site_id  \\\n",
       "count  397992.000000  397992.000000  397992.000000  397992.000000   \n",
       "mean     1093.345861       0.859047     739.019013      11.638897   \n",
       "std       328.897143       0.944554    1364.991818       4.331415   \n",
       "min       208.000000       0.000000       0.000000       2.000000   \n",
       "25%      1207.000000       0.000000      33.980000      13.000000   \n",
       "50%      1243.000000       1.000000     212.000000      14.000000   \n",
       "75%      1285.000000       2.000000     783.330750      14.000000   \n",
       "max      1388.000000       3.000000   28189.500000      15.000000   \n",
       "\n",
       "         square_feet    year_built  floor_count  air_temperature  \\\n",
       "count  397992.000000  77164.000000       8755.0    397928.000000   \n",
       "mean   138512.563572   1976.571847          1.0        13.303335   \n",
       "std    141200.746274     36.542222          0.0        10.983677   \n",
       "min      9813.000000   1922.000000          1.0       -28.900000   \n",
       "25%     35354.000000   1934.000000          1.0         5.000000   \n",
       "50%    115788.000000   1990.000000          1.0        13.900000   \n",
       "75%    200000.000000   2010.000000          1.0        22.200000   \n",
       "max    819577.000000   2014.000000          1.0        47.200000   \n",
       "\n",
       "       cloud_coverage  dew_temperature  precip_depth_1_hr  sea_level_pressure  \\\n",
       "count   235291.000000    397913.000000      382248.000000       383709.000000   \n",
       "mean         1.472606         5.582175           0.747271         1016.294189   \n",
       "std          2.344205        10.646586           6.126940            7.296821   \n",
       "min          0.000000       -31.700000          -1.000000          981.600000   \n",
       "25%          0.000000        -2.200000           0.000000         1011.600000   \n",
       "50%          0.000000         6.100000           0.000000         1016.400000   \n",
       "75%          2.000000        14.400000           0.000000         1021.000000   \n",
       "max          9.000000        26.100000         239.000000         1042.200000   \n",
       "\n",
       "       wind_direction     wind_speed  \n",
       "count   385758.000000  397313.000000  \n",
       "mean       186.147621       3.449965  \n",
       "std        116.653579       2.223443  \n",
       "min          0.000000       0.000000  \n",
       "25%         80.000000       2.100000  \n",
       "50%        200.000000       3.100000  \n",
       "75%        290.000000       4.600000  \n",
       "max        360.000000      18.500000  "
      ]
     },
     "execution_count": 110,
     "metadata": {},
     "output_type": "execute_result"
    }
   ],
   "source": [
    "# Statistic overview for the numeric columns\n",
    "healthcare_df[numeric].describe()"
   ]
  },
  {
   "cell_type": "markdown",
   "id": "829fd39d-6892-4360-8d85-c70db7ca5f6a",
   "metadata": {},
   "source": [
    "**Insights**\\\n",
    "'meter_reading' is strongly positive skewed since the mean is far higher than the 50th percentile. \\\n",
    "Change column name 'meter' to 'meter_type' for clarity. \\\n",
    "Drop column 'floor_count', since the only values are 1 or null."
   ]
  },
  {
   "cell_type": "code",
   "execution_count": null,
   "id": "0da010ad-6b7c-46d7-9eab-bd2621cbd713",
   "metadata": {},
   "outputs": [],
   "source": []
  },
  {
   "cell_type": "markdown",
   "id": "b8341967-0a08-499e-b60c-ffe3327242ce",
   "metadata": {},
   "source": [
    "### Distribution for numeric columns"
   ]
  },
  {
   "cell_type": "code",
   "execution_count": 111,
   "id": "e5f19955-da86-478d-94bf-2fecd7e0128c",
   "metadata": {},
   "outputs": [
    {
     "data": {
      "image/png": "[encoded data removed]",
      "text/plain": [
       "<Figure size 1500x1000 with 15 Axes>"
      ]
     },
     "metadata": {},
     "output_type": "display_data"
    }
   ],
   "source": [
    "# Plotting the histograms \n",
    "plt.subplots(3,5, figsize=(15,10))\n",
    "\n",
    "counter=1\n",
    "\n",
    "for i in list(numeric):\n",
    "    plt.subplot(3,5,counter)\n",
    "    sns.histplot(healthcare_df[i])\n",
    "    counter+=1\n",
    "\n",
    "# Ensure proper spacing and no overlapping\n",
    "plt.tight_layout()"
   ]
  },
  {
   "cell_type": "markdown",
   "id": "89c28eda-a08c-4e13-9924-1364c4166cad",
   "metadata": {},
   "source": [
    "**Insights**\\\n",
    "Normal distribution for: air_temperature, sea_level_presure, square_feet \\\n",
    "Positive skew for: meter_reading, wind_speed \\\n",
    "Negative skew for: dew_temperature"
   ]
  },
  {
   "cell_type": "code",
   "execution_count": null,
   "id": "15101f1b-126e-4a94-b469-b1c1fb63e97f",
   "metadata": {},
   "outputs": [],
   "source": []
  },
  {
   "cell_type": "code",
   "execution_count": null,
   "id": "a6af058b-3b78-4b28-93fe-fa68499f5709",
   "metadata": {},
   "outputs": [],
   "source": []
  },
  {
   "cell_type": "markdown",
   "id": "f05991fa-99e5-4714-806a-1781bd08d5b0",
   "metadata": {},
   "source": [
    "[back to TOC](#toc)"
   ]
  },
  {
   "cell_type": "markdown",
   "id": "5b32eb90-59fa-49cf-b096-f17234adb8d4",
   "metadata": {},
   "source": [
    "<a id='bdw-5'></a>"
   ]
  },
  {
   "cell_type": "markdown",
   "id": "484a4d4c-2746-4373-a92f-270cd9a14402",
   "metadata": {},
   "source": [
    "## Remove unnecessary and duplicated columns"
   ]
  },
  {
   "cell_type": "code",
   "execution_count": 112,
   "id": "17a337e7-dc7d-44df-9bf6-4d006aec26d2",
   "metadata": {
    "jupyter": {
     "source_hidden": true
    }
   },
   "outputs": [
    {
     "data": {
      "text/plain": [
       "primary_use\n",
       "Healthcare    397992\n",
       "Name: count, dtype: int64"
      ]
     },
     "execution_count": 112,
     "metadata": {},
     "output_type": "execute_result"
    }
   ],
   "source": [
    "# The column 'primary_use' can be drooped since it contains a single value 'Healthcare'\n",
    "healthcare_df['primary_use'].value_counts()"
   ]
  },
  {
   "cell_type": "markdown",
   "id": "0ac40e5e-ceec-4340-a624-226d8b523e0f",
   "metadata": {},
   "source": [
    "The Healthcare total is equal to the total data frame rows, therefore, the column can be dropped "
   ]
  },
  {
   "cell_type": "code",
   "execution_count": 113,
   "id": "aff4d93f-d400-4ae1-b76d-e10077e9888f",
   "metadata": {},
   "outputs": [
    {
     "data": {
      "text/plain": [
       "floor_count\n",
       "1.0    8755\n",
       "Name: count, dtype: int64"
      ]
     },
     "execution_count": 113,
     "metadata": {},
     "output_type": "execute_result"
    }
   ],
   "source": [
    "# The column 'floor_count' can be drooped since it contains values equal to '1' or null\n",
    "healthcare_df['floor_count'].value_counts()"
   ]
  },
  {
   "cell_type": "code",
   "execution_count": 114,
   "id": "86b57b77-31f6-413a-9fc8-c10e3af48604",
   "metadata": {},
   "outputs": [
    {
     "data": {
      "text/plain": [
       "389237"
      ]
     },
     "execution_count": 114,
     "metadata": {},
     "output_type": "execute_result"
    }
   ],
   "source": [
    "# Quantity of null values\n",
    "healthcare_df['floor_count'].isnull().sum()"
   ]
  },
  {
   "cell_type": "code",
   "execution_count": 115,
   "id": "573a4990-f101-41bc-be5d-7f3d1de3daf8",
   "metadata": {},
   "outputs": [
    {
     "data": {
      "text/plain": [
       "397992"
      ]
     },
     "execution_count": 115,
     "metadata": {},
     "output_type": "execute_result"
    }
   ],
   "source": [
    "# Summing '1' and null\n",
    "8755+389237"
   ]
  },
  {
   "cell_type": "markdown",
   "id": "a8499db5-b3de-44fb-8658-c10150bb849c",
   "metadata": {},
   "source": [
    "The sum of '1' and null is equal to the total data frame rows, therefore, these are the only values and the column can be dropped. "
   ]
  },
  {
   "cell_type": "code",
   "execution_count": 116,
   "id": "eb164232-0e9f-4aad-a6e2-d889a04d0007",
   "metadata": {},
   "outputs": [],
   "source": [
    "# Keep the column 'weather_timestamp' and drop 'meter_timestamp', since both have the same values."
   ]
  },
  {
   "cell_type": "code",
   "execution_count": 117,
   "id": "470e50b2-ef3e-43dd-bd54-03f3c6b7489c",
   "metadata": {},
   "outputs": [
    {
     "data": {
      "text/plain": [
       "397992"
      ]
     },
     "execution_count": 117,
     "metadata": {},
     "output_type": "execute_result"
    }
   ],
   "source": [
    "comparison_timestamp = healthcare_df['meter_timestamp'] == healthcare_df['weather_timestamp']\n",
    "comparison_timestamp.sum()"
   ]
  },
  {
   "cell_type": "markdown",
   "id": "ca4f270a-d3b9-426a-b3fd-a1c697c8463e",
   "metadata": {},
   "source": [
    "Sum of the 'comparison_timestamp is equal to total rows, hence the columns have the same values and 'meter_timestamp' can be dropped. "
   ]
  },
  {
   "cell_type": "code",
   "execution_count": 118,
   "id": "6b11556a-049f-4f1b-b755-1596ea59df0f",
   "metadata": {},
   "outputs": [],
   "source": [
    "# Drop the three columns\n",
    "healthcare_df.drop(columns=['primary_use','meter_timestamp','floor_count'], inplace=True)"
   ]
  },
  {
   "cell_type": "code",
   "execution_count": 119,
   "id": "fa659893-76a0-4e58-b625-35d5fa95e1f8",
   "metadata": {},
   "outputs": [],
   "source": [
    "# Rename the column 'weather_timestamp' to 'timestamp', for clarity.\n",
    "healthcare_df.rename(columns={'weather_timestamp':'timestamp'}, inplace=True)"
   ]
  },
  {
   "cell_type": "code",
   "execution_count": 120,
   "id": "a7f59eb3-d6f3-49aa-9876-a8808f348bd9",
   "metadata": {},
   "outputs": [],
   "source": [
    "# Rename the column 'meter' to 'meter_type', for clarity.\n",
    "healthcare_df.rename(columns={'meter':'meter_type'}, inplace=True)"
   ]
  },
  {
   "cell_type": "code",
   "execution_count": 121,
   "id": "cd6e942c-23b0-4c49-9491-ae22022457ae",
   "metadata": {},
   "outputs": [
    {
     "data": {
      "text/plain": [
       "dtype('<M8[ns]')"
      ]
     },
     "execution_count": 121,
     "metadata": {},
     "output_type": "execute_result"
    }
   ],
   "source": [
    "# Converting to 'dateitme'\n",
    "healthcare_df['timestamp']=healthcare_df['timestamp'].astype('datetime64[ns]')\n",
    "\n",
    "# Sanity check\n",
    "healthcare_df['timestamp'].dtype"
   ]
  },
  {
   "cell_type": "code",
   "execution_count": 100,
   "id": "c7bc30ba-bec8-4246-a672-d25eb00c94fc",
   "metadata": {},
   "outputs": [
    {
     "name": "stdout",
     "output_type": "stream",
     "text": [
      "<class 'pandas.core.frame.DataFrame'>\n",
      "RangeIndex: 397992 entries, 0 to 397991\n",
      "Data columns (total 14 columns):\n",
      " #   Column              Non-Null Count   Dtype         \n",
      "---  ------              --------------   -----         \n",
      " 0   building_id         397992 non-null  int64         \n",
      " 1   meter_type          397992 non-null  int64         \n",
      " 2   meter_reading       397992 non-null  float64       \n",
      " 3   site_id             397992 non-null  int64         \n",
      " 4   square_feet         397992 non-null  int64         \n",
      " 5   year_built          77164 non-null   float64       \n",
      " 6   timestamp           397992 non-null  datetime64[ns]\n",
      " 7   air_temperature     397928 non-null  float64       \n",
      " 8   cloud_coverage      235291 non-null  float64       \n",
      " 9   dew_temperature     397913 non-null  float64       \n",
      " 10  precip_depth_1_hr   382248 non-null  float64       \n",
      " 11  sea_level_pressure  383709 non-null  float64       \n",
      " 12  wind_direction      385758 non-null  float64       \n",
      " 13  wind_speed          397313 non-null  float64       \n",
      "dtypes: datetime64[ns](1), float64(9), int64(4)\n",
      "memory usage: 42.5 MB\n"
     ]
    }
   ],
   "source": [
    "# Sanity check for verify the columns dropped and renamed.\n",
    "healthcare_df.info()"
   ]
  },
  {
   "cell_type": "code",
   "execution_count": 122,
   "id": "3295ac86-9d09-4739-aa9c-501fe038e27a",
   "metadata": {},
   "outputs": [
    {
     "data": {
      "text/plain": [
       "site_id\n",
       "14    233181\n",
       "13     78869\n",
       "3      52597\n",
       "2      17543\n",
       "5       8755\n",
       "15      7047\n",
       "Name: count, dtype: int64"
      ]
     },
     "execution_count": 122,
     "metadata": {},
     "output_type": "execute_result"
    }
   ],
   "source": [
    "# Verify if site 0 is in the data set, since for this site the electric meter readings are in kBTU, unlike the others in KWh\n",
    "healthcare_df['site_id'].value_counts()"
   ]
  },
  {
   "cell_type": "code",
   "execution_count": 123,
   "id": "23cbed4f-7466-4e1a-9040-f9444f3316e3",
   "metadata": {},
   "outputs": [
    {
     "data": {
      "text/html": [
       "<div>\n",
       "<style scoped>\n",
       "    .dataframe tbody tr th:only-of-type {\n",
       "        vertical-align: middle;\n",
       "    }\n",
       "\n",
       "    .dataframe tbody tr th {\n",
       "        vertical-align: top;\n",
       "    }\n",
       "\n",
       "    .dataframe thead th {\n",
       "        text-align: right;\n",
       "    }\n",
       "</style>\n",
       "<table border=\"1\" class=\"dataframe\">\n",
       "  <thead>\n",
       "    <tr style=\"text-align: right;\">\n",
       "      <th></th>\n",
       "      <th>building_id</th>\n",
       "      <th>meter_type</th>\n",
       "      <th>meter_reading</th>\n",
       "      <th>site_id</th>\n",
       "      <th>square_feet</th>\n",
       "      <th>year_built</th>\n",
       "      <th>timestamp</th>\n",
       "      <th>air_temperature</th>\n",
       "      <th>cloud_coverage</th>\n",
       "      <th>dew_temperature</th>\n",
       "      <th>precip_depth_1_hr</th>\n",
       "      <th>sea_level_pressure</th>\n",
       "      <th>wind_direction</th>\n",
       "      <th>wind_speed</th>\n",
       "    </tr>\n",
       "  </thead>\n",
       "  <tbody>\n",
       "    <tr>\n",
       "      <th>319064</th>\n",
       "      <td>1286</td>\n",
       "      <td>0</td>\n",
       "      <td>373.950</td>\n",
       "      <td>14</td>\n",
       "      <td>205472</td>\n",
       "      <td>NaN</td>\n",
       "      <td>2016-09-10 07:00:00</td>\n",
       "      <td>25.0</td>\n",
       "      <td>NaN</td>\n",
       "      <td>21.7</td>\n",
       "      <td>0.0</td>\n",
       "      <td>1014.2</td>\n",
       "      <td>0.0</td>\n",
       "      <td>0.0</td>\n",
       "    </tr>\n",
       "    <tr>\n",
       "      <th>258138</th>\n",
       "      <td>1285</td>\n",
       "      <td>2</td>\n",
       "      <td>285.573</td>\n",
       "      <td>14</td>\n",
       "      <td>130067</td>\n",
       "      <td>NaN</td>\n",
       "      <td>2016-06-06 09:00:00</td>\n",
       "      <td>18.9</td>\n",
       "      <td>0.0</td>\n",
       "      <td>17.8</td>\n",
       "      <td>0.0</td>\n",
       "      <td>1004.1</td>\n",
       "      <td>250.0</td>\n",
       "      <td>2.1</td>\n",
       "    </tr>\n",
       "    <tr>\n",
       "      <th>104346</th>\n",
       "      <td>1207</td>\n",
       "      <td>2</td>\n",
       "      <td>0.000</td>\n",
       "      <td>13</td>\n",
       "      <td>74443</td>\n",
       "      <td>NaN</td>\n",
       "      <td>2016-04-28 14:00:00</td>\n",
       "      <td>2.8</td>\n",
       "      <td>NaN</td>\n",
       "      <td>0.0</td>\n",
       "      <td>18.0</td>\n",
       "      <td>1015.0</td>\n",
       "      <td>60.0</td>\n",
       "      <td>6.7</td>\n",
       "    </tr>\n",
       "  </tbody>\n",
       "</table>\n",
       "</div>"
      ],
      "text/plain": [
       "        building_id  meter_type  meter_reading  site_id  square_feet  \\\n",
       "319064         1286           0        373.950       14       205472   \n",
       "258138         1285           2        285.573       14       130067   \n",
       "104346         1207           2          0.000       13        74443   \n",
       "\n",
       "        year_built           timestamp  air_temperature  cloud_coverage  \\\n",
       "319064         NaN 2016-09-10 07:00:00             25.0             NaN   \n",
       "258138         NaN 2016-06-06 09:00:00             18.9             0.0   \n",
       "104346         NaN 2016-04-28 14:00:00              2.8             NaN   \n",
       "\n",
       "        dew_temperature  precip_depth_1_hr  sea_level_pressure  \\\n",
       "319064             21.7                0.0              1014.2   \n",
       "258138             17.8                0.0              1004.1   \n",
       "104346              0.0               18.0              1015.0   \n",
       "\n",
       "        wind_direction  wind_speed  \n",
       "319064             0.0         0.0  \n",
       "258138           250.0         2.1  \n",
       "104346            60.0         6.7  "
      ]
     },
     "execution_count": 123,
     "metadata": {},
     "output_type": "execute_result"
    }
   ],
   "source": [
    "healthcare_df.sample(3)"
   ]
  },
  {
   "cell_type": "code",
   "execution_count": 218,
   "id": "d0c2cc3c-8203-4623-8e31-c70c61a583bb",
   "metadata": {},
   "outputs": [],
   "source": [
    "# Export dataframe to a csv file\n",
    "healthcare_df.to_csv('data/02_healthcare_duplicate_df.csv', index=False)"
   ]
  },
  {
   "cell_type": "code",
   "execution_count": 3,
   "id": "dd1999af-729e-44d4-bd15-3f314739d325",
   "metadata": {},
   "outputs": [
    {
     "data": {
      "text/html": [
       "<div>\n",
       "<style scoped>\n",
       "    .dataframe tbody tr th:only-of-type {\n",
       "        vertical-align: middle;\n",
       "    }\n",
       "\n",
       "    .dataframe tbody tr th {\n",
       "        vertical-align: top;\n",
       "    }\n",
       "\n",
       "    .dataframe thead th {\n",
       "        text-align: right;\n",
       "    }\n",
       "</style>\n",
       "<table border=\"1\" class=\"dataframe\">\n",
       "  <thead>\n",
       "    <tr style=\"text-align: right;\">\n",
       "      <th></th>\n",
       "      <th>building_id</th>\n",
       "      <th>meter_type</th>\n",
       "      <th>meter_reading</th>\n",
       "      <th>site_id</th>\n",
       "      <th>square_feet</th>\n",
       "      <th>year_built</th>\n",
       "      <th>timestamp</th>\n",
       "      <th>air_temperature</th>\n",
       "      <th>cloud_coverage</th>\n",
       "      <th>dew_temperature</th>\n",
       "      <th>precip_depth_1_hr</th>\n",
       "      <th>sea_level_pressure</th>\n",
       "      <th>wind_direction</th>\n",
       "      <th>wind_speed</th>\n",
       "    </tr>\n",
       "  </thead>\n",
       "  <tbody>\n",
       "    <tr>\n",
       "      <th>44466</th>\n",
       "      <td>455</td>\n",
       "      <td>0</td>\n",
       "      <td>84.710</td>\n",
       "      <td>3</td>\n",
       "      <td>29192</td>\n",
       "      <td>2014.0</td>\n",
       "      <td>2016-07-07 00:00:00</td>\n",
       "      <td>30.6</td>\n",
       "      <td>4.0</td>\n",
       "      <td>22.8</td>\n",
       "      <td>0.0</td>\n",
       "      <td>1010.4</td>\n",
       "      <td>150.0</td>\n",
       "      <td>2.6</td>\n",
       "    </tr>\n",
       "    <tr>\n",
       "      <th>93297</th>\n",
       "      <td>1208</td>\n",
       "      <td>0</td>\n",
       "      <td>250.963</td>\n",
       "      <td>13</td>\n",
       "      <td>121585</td>\n",
       "      <td>NaN</td>\n",
       "      <td>2016-03-08 10:00:00</td>\n",
       "      <td>12.2</td>\n",
       "      <td>NaN</td>\n",
       "      <td>9.4</td>\n",
       "      <td>0.0</td>\n",
       "      <td>1002.0</td>\n",
       "      <td>140.0</td>\n",
       "      <td>4.6</td>\n",
       "    </tr>\n",
       "    <tr>\n",
       "      <th>126071</th>\n",
       "      <td>1209</td>\n",
       "      <td>0</td>\n",
       "      <td>216.393</td>\n",
       "      <td>13</td>\n",
       "      <td>115788</td>\n",
       "      <td>NaN</td>\n",
       "      <td>2016-08-07 04:00:00</td>\n",
       "      <td>21.7</td>\n",
       "      <td>2.0</td>\n",
       "      <td>13.9</td>\n",
       "      <td>0.0</td>\n",
       "      <td>1017.5</td>\n",
       "      <td>310.0</td>\n",
       "      <td>1.5</td>\n",
       "    </tr>\n",
       "  </tbody>\n",
       "</table>\n",
       "</div>"
      ],
      "text/plain": [
       "        building_id  meter_type  meter_reading  site_id  square_feet  \\\n",
       "44466           455           0         84.710        3        29192   \n",
       "93297          1208           0        250.963       13       121585   \n",
       "126071         1209           0        216.393       13       115788   \n",
       "\n",
       "        year_built            timestamp  air_temperature  cloud_coverage  \\\n",
       "44466       2014.0  2016-07-07 00:00:00             30.6             4.0   \n",
       "93297          NaN  2016-03-08 10:00:00             12.2             NaN   \n",
       "126071         NaN  2016-08-07 04:00:00             21.7             2.0   \n",
       "\n",
       "        dew_temperature  precip_depth_1_hr  sea_level_pressure  \\\n",
       "44466              22.8                0.0              1010.4   \n",
       "93297               9.4                0.0              1002.0   \n",
       "126071             13.9                0.0              1017.5   \n",
       "\n",
       "        wind_direction  wind_speed  \n",
       "44466            150.0         2.6  \n",
       "93297            140.0         4.6  \n",
       "126071           310.0         1.5  "
      ]
     },
     "execution_count": 3,
     "metadata": {},
     "output_type": "execute_result"
    }
   ],
   "source": [
    "# Data loading for healthcare.csv saved from section above 'Basic Data Wrangling' . The file is coma (,) separated. The index is auto generated\n",
    "healthcare_df=pd.read_csv('data/02_healthcare_duplicate_df.csv',sep=',')\n",
    "healthcare_df.sample(3)"
   ]
  },
  {
   "cell_type": "markdown",
   "id": "0c690dfc-8918-49bc-af29-ac91123dfbf4",
   "metadata": {},
   "source": [
    "[back to TOC](#toc)"
   ]
  },
  {
   "cell_type": "markdown",
   "id": "6dae3835-3f1c-4041-bae8-b330c252e6be",
   "metadata": {},
   "source": [
    "<a id='bdw-6'></a>"
   ]
  },
  {
   "cell_type": "markdown",
   "id": "ef7549d0-bdfd-49a5-8538-7a727dd24792",
   "metadata": {},
   "source": [
    "## Null values analysis"
   ]
  },
  {
   "cell_type": "code",
   "execution_count": 125,
   "id": "0a616d52-c872-4c14-acd0-9e6763521852",
   "metadata": {},
   "outputs": [
    {
     "data": {
      "text/plain": [
       "building_id            0.000000\n",
       "meter_type             0.000000\n",
       "meter_reading          0.000000\n",
       "site_id                0.000000\n",
       "square_feet            0.000000\n",
       "year_built            80.611671\n",
       "timestamp              0.000000\n",
       "air_temperature        0.016081\n",
       "cloud_coverage        40.880470\n",
       "dew_temperature        0.019850\n",
       "precip_depth_1_hr      3.955858\n",
       "sea_level_pressure     3.588766\n",
       "wind_direction         3.073931\n",
       "wind_speed             0.170606\n",
       "dtype: float64"
      ]
     },
     "execution_count": 125,
     "metadata": {},
     "output_type": "execute_result"
    }
   ],
   "source": [
    "# Percentage of null values per column\n",
    "healthcare_df.isna().mean()*100"
   ]
  },
  {
   "cell_type": "markdown",
   "id": "a3ffc828-db52-464e-872d-47690efec283",
   "metadata": {},
   "source": [
    "There are two columns with >40% of null values and three near to 4% null values. Each column will be analyzed to either drop it or fill in missing data."
   ]
  },
  {
   "cell_type": "code",
   "execution_count": null,
   "id": "80259c26-88eb-49dc-95c9-d5dab99ed424",
   "metadata": {},
   "outputs": [],
   "source": []
  },
  {
   "cell_type": "markdown",
   "id": "72ed02cf-0609-4f4e-8d30-00bae7721ce8",
   "metadata": {},
   "source": [
    "#### 'year_built' null values analysis\n",
    "80.6 % records missing, too many to be imputed.\\\n",
    "If bulding_id, site_id, square_feet are the same then use the year_built "
   ]
  },
  {
   "cell_type": "code",
   "execution_count": 183,
   "id": "837ec4ef-93a6-421e-a7e3-d81ec131c5ce",
   "metadata": {
    "collapsed": true,
    "jupyter": {
     "outputs_hidden": true
    }
   },
   "outputs": [
    {
     "data": {
      "text/plain": [
       "count    77164.000000\n",
       "mean      1976.571847\n",
       "std         36.542222\n",
       "min       1922.000000\n",
       "25%       1934.000000\n",
       "50%       1990.000000\n",
       "75%       2010.000000\n",
       "max       2014.000000\n",
       "Name: year_built, dtype: float64"
      ]
     },
     "execution_count": 183,
     "metadata": {},
     "output_type": "execute_result"
    }
   ],
   "source": [
    "healthcare_df['year_built'].describe()"
   ]
  },
  {
   "cell_type": "code",
   "execution_count": null,
   "id": "ba38fdf9-42aa-4eeb-ae5b-825e89587085",
   "metadata": {},
   "outputs": [],
   "source": []
  },
  {
   "cell_type": "code",
   "execution_count": 189,
   "id": "5cbabf5e-e82e-4ee3-be1d-d6bee9a9f5d4",
   "metadata": {},
   "outputs": [
    {
     "data": {
      "text/plain": [
       "<Axes: xlabel='year_built', ylabel='Count'>"
      ]
     },
     "execution_count": 189,
     "metadata": {},
     "output_type": "execute_result"
    },
    {
     "data": {
      "image/png": "[encoded data removed]",
      "text/plain": [
       "<Figure size 400x200 with 1 Axes>"
      ]
     },
     "metadata": {},
     "output_type": "display_data"
    }
   ],
   "source": [
    "#  Plot\n",
    "# Set the figure size\n",
    "plt.figure(figsize=(4, 2))\n",
    "\n",
    "# Create a histogram plot with Seaborn\n",
    "sns.histplot(healthcare_df['year_built'])"
   ]
  },
  {
   "cell_type": "code",
   "execution_count": null,
   "id": "6e1ffc60-3314-4788-836c-b30d1b7cb78b",
   "metadata": {},
   "outputs": [],
   "source": []
  },
  {
   "cell_type": "code",
   "execution_count": 5,
   "id": "bd39d3bd-18e9-429c-8d9a-0f206533e627",
   "metadata": {},
   "outputs": [
    {
     "data": {
      "text/plain": [
       "year_built\n",
       "1934.0    0.227347\n",
       "2010.0    0.226893\n",
       "1922.0    0.113784\n",
       "2014.0    0.113758\n",
       "1966.0    0.113460\n",
       "2012.0    0.113434\n",
       "1990.0    0.091325\n",
       "Name: proportion, dtype: float64"
      ]
     },
     "execution_count": 5,
     "metadata": {},
     "output_type": "execute_result"
    }
   ],
   "source": [
    "# Percentage of current values\n",
    "healthcare_df['year_built'].value_counts(normalize=True)"
   ]
  },
  {
   "cell_type": "code",
   "execution_count": 138,
   "id": "ac2c9974-0581-42d8-82ce-aafbc33fa9d0",
   "metadata": {},
   "outputs": [
    {
     "data": {
      "text/html": [
       "<div>\n",
       "<style scoped>\n",
       "    .dataframe tbody tr th:only-of-type {\n",
       "        vertical-align: middle;\n",
       "    }\n",
       "\n",
       "    .dataframe tbody tr th {\n",
       "        vertical-align: top;\n",
       "    }\n",
       "\n",
       "    .dataframe thead th {\n",
       "        text-align: right;\n",
       "    }\n",
       "</style>\n",
       "<table border=\"1\" class=\"dataframe\">\n",
       "  <thead>\n",
       "    <tr style=\"text-align: right;\">\n",
       "      <th></th>\n",
       "      <th>building_id</th>\n",
       "      <th>meter_type</th>\n",
       "      <th>meter_reading</th>\n",
       "      <th>site_id</th>\n",
       "      <th>square_feet</th>\n",
       "      <th>year_built</th>\n",
       "      <th>timestamp</th>\n",
       "      <th>air_temperature</th>\n",
       "      <th>cloud_coverage</th>\n",
       "      <th>dew_temperature</th>\n",
       "      <th>precip_depth_1_hr</th>\n",
       "      <th>sea_level_pressure</th>\n",
       "      <th>wind_direction</th>\n",
       "      <th>wind_speed</th>\n",
       "    </tr>\n",
       "  </thead>\n",
       "  <tbody>\n",
       "    <tr>\n",
       "      <th>125558</th>\n",
       "      <td>1209</td>\n",
       "      <td>0</td>\n",
       "      <td>231.908</td>\n",
       "      <td>13</td>\n",
       "      <td>115788</td>\n",
       "      <td>NaN</td>\n",
       "      <td>2016-08-04 19:00:00</td>\n",
       "      <td>27.2</td>\n",
       "      <td>NaN</td>\n",
       "      <td>21.1</td>\n",
       "      <td>0.0</td>\n",
       "      <td>1009.2</td>\n",
       "      <td>230.0</td>\n",
       "      <td>4.6</td>\n",
       "    </tr>\n",
       "    <tr>\n",
       "      <th>209930</th>\n",
       "      <td>1241</td>\n",
       "      <td>3</td>\n",
       "      <td>625.001</td>\n",
       "      <td>14</td>\n",
       "      <td>194188</td>\n",
       "      <td>NaN</td>\n",
       "      <td>2016-03-23 03:00:00</td>\n",
       "      <td>8.9</td>\n",
       "      <td>NaN</td>\n",
       "      <td>-0.6</td>\n",
       "      <td>0.0</td>\n",
       "      <td>1016.4</td>\n",
       "      <td>190.0</td>\n",
       "      <td>5.1</td>\n",
       "    </tr>\n",
       "    <tr>\n",
       "      <th>359898</th>\n",
       "      <td>1303</td>\n",
       "      <td>2</td>\n",
       "      <td>3576.160</td>\n",
       "      <td>14</td>\n",
       "      <td>200000</td>\n",
       "      <td>NaN</td>\n",
       "      <td>2016-11-13 04:00:00</td>\n",
       "      <td>2.8</td>\n",
       "      <td>0.0</td>\n",
       "      <td>-4.4</td>\n",
       "      <td>0.0</td>\n",
       "      <td>1022.7</td>\n",
       "      <td>240.0</td>\n",
       "      <td>2.6</td>\n",
       "    </tr>\n",
       "  </tbody>\n",
       "</table>\n",
       "</div>"
      ],
      "text/plain": [
       "        building_id  meter_type  meter_reading  site_id  square_feet  \\\n",
       "125558         1209           0        231.908       13       115788   \n",
       "209930         1241           3        625.001       14       194188   \n",
       "359898         1303           2       3576.160       14       200000   \n",
       "\n",
       "        year_built           timestamp  air_temperature  cloud_coverage  \\\n",
       "125558         NaN 2016-08-04 19:00:00             27.2             NaN   \n",
       "209930         NaN 2016-03-23 03:00:00              8.9             NaN   \n",
       "359898         NaN 2016-11-13 04:00:00              2.8             0.0   \n",
       "\n",
       "        dew_temperature  precip_depth_1_hr  sea_level_pressure  \\\n",
       "125558             21.1                0.0              1009.2   \n",
       "209930             -0.6                0.0              1016.4   \n",
       "359898             -4.4                0.0              1022.7   \n",
       "\n",
       "        wind_direction  wind_speed  \n",
       "125558           230.0         4.6  \n",
       "209930           190.0         5.1  \n",
       "359898           240.0         2.6  "
      ]
     },
     "execution_count": 138,
     "metadata": {},
     "output_type": "execute_result"
    }
   ],
   "source": [
    "healthcare_df[healthcare_df['year_built'].isna()].sample(3)"
   ]
  },
  {
   "cell_type": "code",
   "execution_count": null,
   "id": "c4a723bd-73f7-41eb-8ce9-cf8891b65622",
   "metadata": {},
   "outputs": [],
   "source": []
  },
  {
   "cell_type": "code",
   "execution_count": 169,
   "id": "b06e1ca3-1822-47ba-800d-fecbb4d78293",
   "metadata": {},
   "outputs": [
    {
     "data": {
      "text/plain": [
       "building_id\n",
       "1241    35088\n",
       "1303    26331\n",
       "1245    26316\n",
       "1286    26315\n",
       "1243    26313\n",
       "1207    26178\n",
       "1269    25365\n",
       "1285    25004\n",
       "1300    24895\n",
       "1072    17566\n",
       "1208    17563\n",
       "1209    17562\n",
       "547      8778\n",
       "1282     8777\n",
       "1313     8777\n",
       "Name: count, dtype: int64"
      ]
     },
     "execution_count": 169,
     "metadata": {},
     "output_type": "execute_result"
    }
   ],
   "source": [
    "# Building_id associated with missing year_built\n",
    "healthcare_df['building_id'][healthcare_df['year_built'].isna()].value_counts()"
   ]
  },
  {
   "cell_type": "code",
   "execution_count": 182,
   "id": "245aa699-e35c-4f9b-84f2-e4ea627b5f19",
   "metadata": {},
   "outputs": [
    {
     "data": {
      "text/html": [
       "<div>\n",
       "<style scoped>\n",
       "    .dataframe tbody tr th:only-of-type {\n",
       "        vertical-align: middle;\n",
       "    }\n",
       "\n",
       "    .dataframe tbody tr th {\n",
       "        vertical-align: top;\n",
       "    }\n",
       "\n",
       "    .dataframe thead th {\n",
       "        text-align: right;\n",
       "    }\n",
       "</style>\n",
       "<table border=\"1\" class=\"dataframe\">\n",
       "  <thead>\n",
       "    <tr style=\"text-align: right;\">\n",
       "      <th></th>\n",
       "      <th>building_id</th>\n",
       "      <th>meter_type</th>\n",
       "      <th>meter_reading</th>\n",
       "      <th>site_id</th>\n",
       "      <th>square_feet</th>\n",
       "      <th>year_built</th>\n",
       "      <th>timestamp</th>\n",
       "      <th>air_temperature</th>\n",
       "      <th>cloud_coverage</th>\n",
       "      <th>dew_temperature</th>\n",
       "      <th>precip_depth_1_hr</th>\n",
       "      <th>sea_level_pressure</th>\n",
       "      <th>wind_direction</th>\n",
       "      <th>wind_speed</th>\n",
       "    </tr>\n",
       "  </thead>\n",
       "  <tbody>\n",
       "    <tr>\n",
       "      <th>167760</th>\n",
       "      <td>1313</td>\n",
       "      <td>0</td>\n",
       "      <td>308.36</td>\n",
       "      <td>14</td>\n",
       "      <td>68637</td>\n",
       "      <td>NaN</td>\n",
       "      <td>2016-01-16 14:00:00</td>\n",
       "      <td>5.0</td>\n",
       "      <td>NaN</td>\n",
       "      <td>3.9</td>\n",
       "      <td>-1.0</td>\n",
       "      <td>998.6</td>\n",
       "      <td>250.0</td>\n",
       "      <td>1.5</td>\n",
       "    </tr>\n",
       "    <tr>\n",
       "      <th>202690</th>\n",
       "      <td>1313</td>\n",
       "      <td>0</td>\n",
       "      <td>358.46</td>\n",
       "      <td>14</td>\n",
       "      <td>68637</td>\n",
       "      <td>NaN</td>\n",
       "      <td>2016-03-11 18:00:00</td>\n",
       "      <td>16.1</td>\n",
       "      <td>0.0</td>\n",
       "      <td>3.3</td>\n",
       "      <td>0.0</td>\n",
       "      <td>1020.1</td>\n",
       "      <td>350.0</td>\n",
       "      <td>5.7</td>\n",
       "    </tr>\n",
       "    <tr>\n",
       "      <th>349690</th>\n",
       "      <td>1313</td>\n",
       "      <td>0</td>\n",
       "      <td>362.54</td>\n",
       "      <td>14</td>\n",
       "      <td>68637</td>\n",
       "      <td>NaN</td>\n",
       "      <td>2016-10-28 07:00:00</td>\n",
       "      <td>9.4</td>\n",
       "      <td>0.0</td>\n",
       "      <td>7.8</td>\n",
       "      <td>0.0</td>\n",
       "      <td>1016.9</td>\n",
       "      <td>0.0</td>\n",
       "      <td>0.0</td>\n",
       "    </tr>\n",
       "  </tbody>\n",
       "</table>\n",
       "</div>"
      ],
      "text/plain": [
       "        building_id  meter_type  meter_reading  site_id  square_feet  \\\n",
       "167760         1313           0         308.36       14        68637   \n",
       "202690         1313           0         358.46       14        68637   \n",
       "349690         1313           0         362.54       14        68637   \n",
       "\n",
       "        year_built           timestamp  air_temperature  cloud_coverage  \\\n",
       "167760         NaN 2016-01-16 14:00:00              5.0             NaN   \n",
       "202690         NaN 2016-03-11 18:00:00             16.1             0.0   \n",
       "349690         NaN 2016-10-28 07:00:00              9.4             0.0   \n",
       "\n",
       "        dew_temperature  precip_depth_1_hr  sea_level_pressure  \\\n",
       "167760              3.9               -1.0               998.6   \n",
       "202690              3.3                0.0              1020.1   \n",
       "349690              7.8                0.0              1016.9   \n",
       "\n",
       "        wind_direction  wind_speed  \n",
       "167760           250.0         1.5  \n",
       "202690           350.0         5.7  \n",
       "349690             0.0         0.0  "
      ]
     },
     "execution_count": 182,
     "metadata": {},
     "output_type": "execute_result"
    }
   ],
   "source": [
    "healthcare_df[healthcare_df['square_feet']==68637].sample(3)"
   ]
  },
  {
   "cell_type": "code",
   "execution_count": null,
   "id": "f0a41b74-f143-498e-b167-60cfc791fd8a",
   "metadata": {},
   "outputs": [],
   "source": []
  },
  {
   "cell_type": "markdown",
   "id": "840e38f3-1ad4-47b8-8272-2a2e8812c81c",
   "metadata": {},
   "source": [
    "#### cloud_coverage null values\n",
    "40.9 % records missing, too many to be imputed."
   ]
  },
  {
   "cell_type": "code",
   "execution_count": 190,
   "id": "baeb13e3-4c7b-4c30-b5b9-c35225c1e0ee",
   "metadata": {},
   "outputs": [
    {
     "data": {
      "text/plain": [
       "count    235291.000000\n",
       "mean          1.472606\n",
       "std           2.344205\n",
       "min           0.000000\n",
       "25%           0.000000\n",
       "50%           0.000000\n",
       "75%           2.000000\n",
       "max           9.000000\n",
       "Name: cloud_coverage, dtype: float64"
      ]
     },
     "execution_count": 190,
     "metadata": {},
     "output_type": "execute_result"
    }
   ],
   "source": [
    "healthcare_df['cloud_coverage'].describe()"
   ]
  },
  {
   "cell_type": "code",
   "execution_count": 191,
   "id": "bc03ce69-baea-4d6b-89bf-22b2fff2cdc8",
   "metadata": {},
   "outputs": [
    {
     "data": {
      "text/plain": [
       "<Axes: xlabel='cloud_coverage', ylabel='Count'>"
      ]
     },
     "execution_count": 191,
     "metadata": {},
     "output_type": "execute_result"
    },
    {
     "data": {
      "image/png": "[encoded data removed]",
      "text/plain": [
       "<Figure size 400x200 with 1 Axes>"
      ]
     },
     "metadata": {},
     "output_type": "display_data"
    }
   ],
   "source": [
    "#  Plot\n",
    "# Set the figure size\n",
    "plt.figure(figsize=(4, 2))\n",
    "\n",
    "# Create a histogram plot with Seaborn\n",
    "sns.histplot(healthcare_df['cloud_coverage'])"
   ]
  },
  {
   "cell_type": "code",
   "execution_count": null,
   "id": "7748cded-f0eb-4fe2-92c3-8fff422e0127",
   "metadata": {
    "jupyter": {
     "source_hidden": true
    }
   },
   "outputs": [],
   "source": []
  },
  {
   "cell_type": "code",
   "execution_count": 192,
   "id": "2193c994-6d0b-4788-85ad-8107ea55c30b",
   "metadata": {},
   "outputs": [
    {
     "data": {
      "text/plain": [
       "cloud_coverage\n",
       "0.0    0.631388\n",
       "2.0    0.156045\n",
       "4.0    0.120315\n",
       "8.0    0.046317\n",
       "6.0    0.034897\n",
       "9.0    0.011037\n",
       "Name: count, dtype: float64"
      ]
     },
     "execution_count": 192,
     "metadata": {},
     "output_type": "execute_result"
    }
   ],
   "source": [
    "# Percentage of current values\n",
    "healthcare_df['cloud_coverage'].value_counts()/healthcare_df['cloud_coverage'].count()"
   ]
  },
  {
   "cell_type": "markdown",
   "id": "66fcdee5-6c2e-4552-8384-308205849478",
   "metadata": {},
   "source": [
    "**Insigh**\\\n",
    "Replace missing values with mode (0)\\\n",
    "df['cloud_coverage'].fillna(df['cloud_coverage'].mode(), inplace=True)"
   ]
  },
  {
   "cell_type": "code",
   "execution_count": null,
   "id": "d9563470-0db9-4039-a3fd-4471bfb689a2",
   "metadata": {},
   "outputs": [],
   "source": []
  },
  {
   "cell_type": "markdown",
   "id": "8821b92b-2582-4d58-9ea6-fe596d342404",
   "metadata": {},
   "source": [
    "#### precip_depth_1_hr null values\n",
    "3.96 % records missing"
   ]
  },
  {
   "cell_type": "code",
   "execution_count": 194,
   "id": "be71c569-bbf9-4cce-9e32-49af8bfcb384",
   "metadata": {},
   "outputs": [
    {
     "data": {
      "text/plain": [
       "count    382248.000000\n",
       "mean          0.747271\n",
       "std           6.126940\n",
       "min          -1.000000\n",
       "25%           0.000000\n",
       "50%           0.000000\n",
       "75%           0.000000\n",
       "max         239.000000\n",
       "Name: precip_depth_1_hr, dtype: float64"
      ]
     },
     "execution_count": 194,
     "metadata": {},
     "output_type": "execute_result"
    }
   ],
   "source": [
    "healthcare_df['precip_depth_1_hr'].describe()"
   ]
  },
  {
   "cell_type": "code",
   "execution_count": 202,
   "id": "d0db89ba-a5f6-4afa-9b1d-e3f922e37ba3",
   "metadata": {},
   "outputs": [
    {
     "data": {
      "text/plain": [
       "<Axes: xlabel='precip_depth_1_hr', ylabel='Count'>"
      ]
     },
     "execution_count": 202,
     "metadata": {},
     "output_type": "execute_result"
    },
    {
     "data": {
      "image/png": "[encoded data removed]",
      "text/plain": [
       "<Figure size 400x200 with 1 Axes>"
      ]
     },
     "metadata": {},
     "output_type": "display_data"
    }
   ],
   "source": [
    "#  Plot\n",
    "# Set the figure size\n",
    "plt.figure(figsize=(4, 2))\n",
    "\n",
    "# Create a histogram plot with Seaborn\n",
    "sns.histplot(healthcare_df['precip_depth_1_hr'])"
   ]
  },
  {
   "cell_type": "code",
   "execution_count": 196,
   "id": "a957d782-00b3-4295-a367-f4365f3a86cd",
   "metadata": {},
   "outputs": [
    {
     "data": {
      "text/plain": [
       "precip_depth_1_hr\n",
       " 0.0      0.879589\n",
       "-1.0      0.064660\n",
       " 3.0      0.017646\n",
       " 5.0      0.008413\n",
       " 8.0      0.005606\n",
       "            ...   \n",
       " 132.0    0.000005\n",
       " 147.0    0.000003\n",
       " 211.0    0.000003\n",
       " 180.0    0.000003\n",
       " 239.0    0.000003\n",
       "Name: count, Length: 71, dtype: float64"
      ]
     },
     "execution_count": 196,
     "metadata": {},
     "output_type": "execute_result"
    }
   ],
   "source": [
    "# Percentage of current values\n",
    "healthcare_df['precip_depth_1_hr'].value_counts()/healthcare_df['precip_depth_1_hr'].count()"
   ]
  },
  {
   "cell_type": "markdown",
   "id": "0d303d99-af64-47c6-a6a9-9e482d1d058e",
   "metadata": {},
   "source": [
    "**Insigh**\\\n",
    "Replace missing values with mode (0)\\\n",
    "df['precip_depth_1_hr'].fillna(df['precip_depth_1_hr'].mode(), inplace=True)"
   ]
  },
  {
   "cell_type": "code",
   "execution_count": null,
   "id": "1f1156dd-e1f0-476b-95bf-52ec505803f0",
   "metadata": {},
   "outputs": [],
   "source": []
  },
  {
   "cell_type": "markdown",
   "id": "14a42480-7af4-4c9d-a646-e7e0e989c373",
   "metadata": {},
   "source": [
    "#### sea_level_pressure null values\n",
    "3.6 % records missing, "
   ]
  },
  {
   "cell_type": "code",
   "execution_count": 203,
   "id": "3ca3a02c-df3f-4fcd-a19f-01ffc13dc9b5",
   "metadata": {},
   "outputs": [
    {
     "data": {
      "text/plain": [
       "count    383709.000000\n",
       "mean       1016.294189\n",
       "std           7.296821\n",
       "min         981.600000\n",
       "25%        1011.600000\n",
       "50%        1016.400000\n",
       "75%        1021.000000\n",
       "max        1042.200000\n",
       "Name: sea_level_pressure, dtype: float64"
      ]
     },
     "execution_count": 203,
     "metadata": {},
     "output_type": "execute_result"
    }
   ],
   "source": [
    "healthcare_df['sea_level_pressure'].describe()"
   ]
  },
  {
   "cell_type": "code",
   "execution_count": 213,
   "id": "45946bc1-25ad-4d82-8eb8-9469749cc835",
   "metadata": {},
   "outputs": [
    {
     "data": {
      "text/plain": [
       "<Axes: xlabel='sea_level_pressure', ylabel='Count'>"
      ]
     },
     "execution_count": 213,
     "metadata": {},
     "output_type": "execute_result"
    },
    {
     "data": {
      "image/png": "[encoded data removed]",
      "text/plain": [
       "<Figure size 400x200 with 1 Axes>"
      ]
     },
     "metadata": {},
     "output_type": "display_data"
    }
   ],
   "source": [
    "#  Plot\n",
    "# Set the figure size\n",
    "plt.figure(figsize=(4, 2))\n",
    "\n",
    "# Adding statistical lines and legend\n",
    "plt.axvline(healthcare_df['sea_level_pressure'].mean(), 0, 2000, c='r', label='Mean')\n",
    "plt.axvline(healthcare_df['sea_level_pressure'].median(), 0, 2000, c='b', linestyle='--', label='Median')\n",
    "plt.legend()\n",
    "\n",
    "# Create a histogram plot with Seaborn\n",
    "sns.histplot(healthcare_df['sea_level_pressure'])"
   ]
  },
  {
   "cell_type": "code",
   "execution_count": 205,
   "id": "38a315c6-6715-4e9a-96ef-1ba73f3187b3",
   "metadata": {},
   "outputs": [
    {
     "data": {
      "text/plain": [
       "sea_level_pressure\n",
       "1015.8    0.007177\n",
       "1015.2    0.006938\n",
       "1016.7    0.006656\n",
       "1017.7    0.006560\n",
       "1019.0    0.006513\n",
       "            ...   \n",
       "994.4     0.000003\n",
       "1041.0    0.000003\n",
       "1040.5    0.000003\n",
       "994.6     0.000003\n",
       "1040.4    0.000003\n",
       "Name: count, Length: 534, dtype: float64"
      ]
     },
     "execution_count": 205,
     "metadata": {},
     "output_type": "execute_result"
    }
   ],
   "source": [
    "# Percentage of current values\n",
    "healthcare_df['sea_level_pressure'].value_counts()/healthcare_df['sea_level_pressure'].count()"
   ]
  },
  {
   "cell_type": "markdown",
   "id": "9e682101-b7e4-4704-8d82-276e9f87cc17",
   "metadata": {},
   "source": [
    "**Insigh**\\\n",
    "Replace missing values with the mean, since it is the same as the median\\\n",
    "df['sea_level_pressure'].fillna(df['sea_level_pressure'].mean(), inplace=True)"
   ]
  },
  {
   "cell_type": "code",
   "execution_count": null,
   "id": "c123be06-d80e-4c89-a2f5-91ca29ab60e3",
   "metadata": {},
   "outputs": [],
   "source": []
  },
  {
   "cell_type": "code",
   "execution_count": null,
   "id": "11af2c7a-b28f-494b-af31-64e2da754909",
   "metadata": {},
   "outputs": [],
   "source": []
  },
  {
   "cell_type": "markdown",
   "id": "5f83dc4e-512b-444f-af0f-ff391cb26a66",
   "metadata": {},
   "source": [
    "#### wind_direction null values\n",
    "3.1 % records missing, too many to be imputed."
   ]
  },
  {
   "cell_type": "code",
   "execution_count": 206,
   "id": "ac16804c-2fdd-465d-a2c5-337ee058c43a",
   "metadata": {},
   "outputs": [
    {
     "data": {
      "text/plain": [
       "count    385758.000000\n",
       "mean        186.147621\n",
       "std         116.653579\n",
       "min           0.000000\n",
       "25%          80.000000\n",
       "50%         200.000000\n",
       "75%         290.000000\n",
       "max         360.000000\n",
       "Name: wind_direction, dtype: float64"
      ]
     },
     "execution_count": 206,
     "metadata": {},
     "output_type": "execute_result"
    }
   ],
   "source": [
    "healthcare_df['wind_direction'].describe()"
   ]
  },
  {
   "cell_type": "code",
   "execution_count": 212,
   "id": "e7fc0568-ed75-43ae-83db-665dcca83a0d",
   "metadata": {},
   "outputs": [
    {
     "data": {
      "text/plain": [
       "<Axes: xlabel='wind_direction', ylabel='Count'>"
      ]
     },
     "execution_count": 212,
     "metadata": {},
     "output_type": "execute_result"
    },
    {
     "data": {
      "image/png": "[encoded data removed]",
      "text/plain": [
       "<Figure size 400x200 with 1 Axes>"
      ]
     },
     "metadata": {},
     "output_type": "display_data"
    }
   ],
   "source": [
    "#  Plot\n",
    "# Set the figure size\n",
    "plt.figure(figsize=(4, 2))\n",
    "plt.axvline(healthcare_df['wind_direction'].mean(), 0, 2000, c='r', label='Mean')\n",
    "plt.axvline(healthcare_df['wind_direction'].median(), 0, 2000, c='b', linestyle='--', label='Median')\n",
    "plt.legend()\n",
    "\n",
    "# Create a histogram plot with Seaborn\n",
    "sns.histplot(healthcare_df['wind_direction'])"
   ]
  },
  {
   "cell_type": "code",
   "execution_count": 208,
   "id": "bac0b541-97de-43ab-a9ab-c195b9fee11b",
   "metadata": {},
   "outputs": [
    {
     "data": {
      "text/plain": [
       "wind_direction\n",
       "0.0      0.111684\n",
       "300.0    0.038260\n",
       "350.0    0.037093\n",
       "340.0    0.036476\n",
       "310.0    0.035520\n",
       "320.0    0.034675\n",
       "290.0    0.033441\n",
       "330.0    0.032922\n",
       "230.0    0.032290\n",
       "280.0    0.030182\n",
       "270.0    0.029363\n",
       "180.0    0.029127\n",
       "200.0    0.028310\n",
       "190.0    0.028251\n",
       "210.0    0.027808\n",
       "220.0    0.027224\n",
       "170.0    0.026330\n",
       "360.0    0.024378\n",
       "240.0    0.023510\n",
       "260.0    0.022501\n",
       "10.0     0.022141\n",
       "140.0    0.021301\n",
       "80.0     0.020834\n",
       "250.0    0.020637\n",
       "130.0    0.020096\n",
       "70.0     0.019660\n",
       "160.0    0.018732\n",
       "50.0     0.017578\n",
       "40.0     0.017493\n",
       "90.0     0.017428\n",
       "150.0    0.017296\n",
       "120.0    0.017262\n",
       "100.0    0.016928\n",
       "30.0     0.016306\n",
       "60.0     0.016088\n",
       "20.0     0.015715\n",
       "110.0    0.015092\n",
       "202.0    0.000070\n",
       "Name: count, dtype: float64"
      ]
     },
     "execution_count": 208,
     "metadata": {},
     "output_type": "execute_result"
    }
   ],
   "source": [
    "# Percentage of current values\n",
    "healthcare_df['wind_direction'].value_counts()/healthcare_df['wind_direction'].count()"
   ]
  },
  {
   "cell_type": "markdown",
   "id": "519e80f7-8171-49b2-acdc-2bbb259b5c4f",
   "metadata": {},
   "source": [
    "**Insigh**\\\n",
    "Replace missing values with mean\\\n",
    "df['wind_direction'].fillna(df['wind_direction'].mean(), inplace=True)"
   ]
  },
  {
   "cell_type": "code",
   "execution_count": null,
   "id": "fb10c25c-7b19-46f3-8438-162c194c1c53",
   "metadata": {},
   "outputs": [],
   "source": []
  },
  {
   "cell_type": "code",
   "execution_count": null,
   "id": "d7d4e5e4-35db-401c-8aeb-c1200a87b250",
   "metadata": {},
   "outputs": [],
   "source": []
  },
  {
   "cell_type": "markdown",
   "id": "fda95832-658c-4a6f-9236-a1009e7c1f57",
   "metadata": {},
   "source": [
    "#### wind_speed null values\n",
    "0.2 % records missing, too many to be imputed."
   ]
  },
  {
   "cell_type": "code",
   "execution_count": 214,
   "id": "9ca61ca6-ab8d-4339-96e8-68b7fb059476",
   "metadata": {},
   "outputs": [
    {
     "data": {
      "text/plain": [
       "count    397313.000000\n",
       "mean          3.449965\n",
       "std           2.223443\n",
       "min           0.000000\n",
       "25%           2.100000\n",
       "50%           3.100000\n",
       "75%           4.600000\n",
       "max          18.500000\n",
       "Name: wind_speed, dtype: float64"
      ]
     },
     "execution_count": 214,
     "metadata": {},
     "output_type": "execute_result"
    }
   ],
   "source": [
    "healthcare_df['wind_speed'].describe()"
   ]
  },
  {
   "cell_type": "code",
   "execution_count": 217,
   "id": "4bb8c5fb-5d18-4929-8585-937518d1a695",
   "metadata": {},
   "outputs": [
    {
     "data": {
      "text/plain": [
       "<Axes: xlabel='wind_speed', ylabel='Count'>"
      ]
     },
     "execution_count": 217,
     "metadata": {},
     "output_type": "execute_result"
    },
    {
     "data": {
      "image/png": "[encoded data removed]",
      "text/plain": [
       "<Figure size 400x200 with 1 Axes>"
      ]
     },
     "metadata": {},
     "output_type": "display_data"
    }
   ],
   "source": [
    "#  Plot\n",
    "# Set the figure size\n",
    "plt.figure(figsize=(4, 2))\n",
    "plt.axvline(healthcare_df['wind_speed'].mean(), 0, 2000, c='r', label='Mean')\n",
    "plt.axvline(healthcare_df['wind_speed'].median(), 0, 2000, c='b', linestyle='--', label='Median')\n",
    "plt.legend()\n",
    "\n",
    "# Create a histogram plot with Seaborn\n",
    "sns.histplot(healthcare_df['wind_speed'])"
   ]
  },
  {
   "cell_type": "code",
   "execution_count": 216,
   "id": "a53bc282-01d4-47ff-bae1-ffbcd0c432b4",
   "metadata": {},
   "outputs": [
    {
     "data": {
      "text/plain": [
       "wind_speed\n",
       "2.1     0.117426\n",
       "2.6     0.108627\n",
       "0.0     0.108461\n",
       "1.5     0.103863\n",
       "3.1     0.100349\n",
       "3.6     0.090938\n",
       "4.1     0.073924\n",
       "4.6     0.065971\n",
       "5.1     0.051750\n",
       "5.7     0.043583\n",
       "6.2     0.035302\n",
       "6.7     0.026040\n",
       "7.2     0.020767\n",
       "7.7     0.014392\n",
       "8.2     0.011678\n",
       "8.8     0.008386\n",
       "9.3     0.005414\n",
       "9.8     0.004098\n",
       "10.3    0.002469\n",
       "10.8    0.002089\n",
       "11.3    0.001269\n",
       "11.8    0.000891\n",
       "12.4    0.000541\n",
       "1.0     0.000506\n",
       "12.9    0.000347\n",
       "13.4    0.000242\n",
       "0.5     0.000176\n",
       "13.9    0.000169\n",
       "14.9    0.000083\n",
       "2.2     0.000060\n",
       "14.4    0.000058\n",
       "16.0    0.000045\n",
       "1.3     0.000023\n",
       "15.4    0.000018\n",
       "17.0    0.000015\n",
       "10.0    0.000015\n",
       "13.0    0.000005\n",
       "16.5    0.000003\n",
       "18.5    0.000003\n",
       "8.0     0.000003\n",
       "7.0     0.000003\n",
       "Name: count, dtype: float64"
      ]
     },
     "execution_count": 216,
     "metadata": {},
     "output_type": "execute_result"
    }
   ],
   "source": [
    "# Percentage of current values\n",
    "healthcare_df['wind_speed'].value_counts()/healthcare_df['wind_speed'].count()"
   ]
  },
  {
   "cell_type": "markdown",
   "id": "06d3b322-3201-427a-b47f-65f4439672a5",
   "metadata": {},
   "source": [
    "**Insigh**\\\n",
    "Replace missing values with mean\\\n",
    "df['wind_speed'].fillna(df['wind_speed'].mean(), inplace=True)"
   ]
  },
  {
   "cell_type": "code",
   "execution_count": null,
   "id": "fb48053e-7d0e-4947-805f-ffda6859f431",
   "metadata": {},
   "outputs": [],
   "source": []
  },
  {
   "cell_type": "code",
   "execution_count": null,
   "id": "518306ed-37c6-4f71-80ef-676a97396f89",
   "metadata": {},
   "outputs": [],
   "source": []
  },
  {
   "cell_type": "markdown",
   "id": "3778c3eb-917a-48e2-aa60-7ce6d7f3ca08",
   "metadata": {},
   "source": [
    "[back to TOC](#toc)"
   ]
  },
  {
   "cell_type": "markdown",
   "id": "f11a35b9-6385-407a-b5ef-05cd85f325c7",
   "metadata": {},
   "source": [
    "<a id='eda-0'></a>"
   ]
  },
  {
   "cell_type": "markdown",
   "id": "36c142a6-7ea2-4e78-ab55-1033b24da710",
   "metadata": {},
   "source": [
    "# 2. Exploratory Data Analysis (EDA)"
   ]
  },
  {
   "cell_type": "code",
   "execution_count": null,
   "id": "6e879b3f-05ff-460e-a4a9-9535f061628d",
   "metadata": {
    "jupyter": {
     "source_hidden": true
    }
   },
   "outputs": [],
   "source": []
  },
  {
   "cell_type": "code",
   "execution_count": null,
   "id": "81dc0320-88a8-4859-aaf1-a720a60ca79f",
   "metadata": {},
   "outputs": [],
   "source": []
  },
  {
   "cell_type": "code",
   "execution_count": null,
   "id": "52a619e0-00c1-43ab-8893-596122009145",
   "metadata": {},
   "outputs": [],
   "source": []
  },
  {
   "cell_type": "markdown",
   "id": "1b890949-d819-4302-b88a-a8acdd3d3762",
   "metadata": {
    "jupyter": {
     "source_hidden": true
    }
   },
   "source": [
    "[back to TOC](#toc)"
   ]
  },
  {
   "cell_type": "markdown",
   "id": "335a057c-e1e1-4413-a762-0388174831b7",
   "metadata": {},
   "source": [
    "<a id='sa-0'></a>"
   ]
  },
  {
   "cell_type": "markdown",
   "id": "b5c6317a-e4e3-4016-93d9-b4398f8b1aa1",
   "metadata": {},
   "source": [
    "# 3. Advanced Statistical Analysis"
   ]
  },
  {
   "cell_type": "markdown",
   "id": "31eb3061-6296-4e94-8510-124f3c4f6f0f",
   "metadata": {},
   "source": [
    "<a id='sa-1'></a>"
   ]
  },
  {
   "cell_type": "markdown",
   "id": "d6e641e9-ccae-4d12-baa4-5a281ef61808",
   "metadata": {},
   "source": [
    "## 3.1. Statistically significant difference"
   ]
  },
  {
   "cell_type": "code",
   "execution_count": null,
   "id": "81411f00-0d91-4b55-b0bc-f26c96b71c32",
   "metadata": {},
   "outputs": [],
   "source": []
  },
  {
   "cell_type": "code",
   "execution_count": null,
   "id": "a1f17085-7cea-4d16-ace3-a1ceaae24898",
   "metadata": {},
   "outputs": [],
   "source": []
  },
  {
   "cell_type": "code",
   "execution_count": null,
   "id": "5d743bed-0492-45f2-a80d-f3362f042854",
   "metadata": {},
   "outputs": [],
   "source": []
  },
  {
   "cell_type": "markdown",
   "id": "77cf68ce-c77e-4904-a418-71b1ebf02689",
   "metadata": {},
   "source": [
    "[back to TOC](#toc)"
   ]
  },
  {
   "cell_type": "markdown",
   "id": "45abacdc-7e09-4b32-8a47-a71b9415d5e9",
   "metadata": {},
   "source": [
    "<a id='sa-2'></a>"
   ]
  },
  {
   "cell_type": "markdown",
   "id": "0aa155ea-12a7-4088-bb79-18571d507b8b",
   "metadata": {},
   "source": [
    "## 3.2. Correlation with ??"
   ]
  },
  {
   "cell_type": "code",
   "execution_count": null,
   "id": "4dd58dc4-e726-4650-aab4-53467c79a48d",
   "metadata": {
    "jupyter": {
     "source_hidden": true
    }
   },
   "outputs": [],
   "source": []
  },
  {
   "cell_type": "code",
   "execution_count": null,
   "id": "12be7a89-1793-4a30-b5d9-228dd6dbcb0a",
   "metadata": {},
   "outputs": [],
   "source": []
  },
  {
   "cell_type": "code",
   "execution_count": null,
   "id": "c48c11f8-224c-4212-b37d-52c9f34e6a52",
   "metadata": {},
   "outputs": [],
   "source": []
  },
  {
   "cell_type": "markdown",
   "id": "86654110-8693-4be3-9fef-52d3a83ea153",
   "metadata": {},
   "source": [
    "[back to TOC](#toc)"
   ]
  },
  {
   "cell_type": "markdown",
   "id": "0d1e9f92-0b32-4f50-b107-7790354c2ef9",
   "metadata": {},
   "source": [
    "<a id='asa-0'></a>"
   ]
  },
  {
   "cell_type": "markdown",
   "id": "76189c46-a359-461b-9acf-6e98298d1537",
   "metadata": {},
   "source": [
    "# 4. Advanced Statistical Analysis"
   ]
  },
  {
   "cell_type": "markdown",
   "id": "927ea8a8-e1b5-49d3-a13d-67097ac7c2bc",
   "metadata": {},
   "source": [
    "<a id='asa-1'></a>"
   ]
  },
  {
   "cell_type": "markdown",
   "id": "fc96f5c0-3e4f-49f2-9296-379fa198bbcd",
   "metadata": {},
   "source": [
    "## 4.1. Linear regression for ??"
   ]
  },
  {
   "cell_type": "code",
   "execution_count": null,
   "id": "ad4d5d17-2780-4639-a16d-9bafbf5db6d1",
   "metadata": {},
   "outputs": [],
   "source": []
  },
  {
   "cell_type": "code",
   "execution_count": null,
   "id": "e4c5924c-ec5d-47f9-872c-7ce449af58ea",
   "metadata": {},
   "outputs": [],
   "source": []
  },
  {
   "cell_type": "code",
   "execution_count": null,
   "id": "67be9d6f-34c3-4101-9aa8-6e2ecde070e6",
   "metadata": {},
   "outputs": [],
   "source": []
  },
  {
   "cell_type": "markdown",
   "id": "57db4558-60b8-40d2-851a-3d471a9e7cfb",
   "metadata": {},
   "source": [
    "[back to TOC](#toc)"
   ]
  },
  {
   "cell_type": "markdown",
   "id": "df089f3a-d7f7-40bf-b458-ac91ec11f367",
   "metadata": {},
   "source": [
    "<a id='asa-2'></a>"
   ]
  },
  {
   "cell_type": "markdown",
   "id": "d790413d-aa9d-4d60-9f6e-ed48fe2be922",
   "metadata": {},
   "source": [
    "## 4.2. Logistic regression for ??"
   ]
  },
  {
   "cell_type": "code",
   "execution_count": null,
   "id": "30eccb16-78ad-4eda-a6e1-dc85e907fccd",
   "metadata": {
    "jupyter": {
     "source_hidden": true
    }
   },
   "outputs": [],
   "source": []
  },
  {
   "cell_type": "code",
   "execution_count": null,
   "id": "14ae3d23-7cfa-46c0-bb23-7399caf44629",
   "metadata": {},
   "outputs": [],
   "source": []
  },
  {
   "cell_type": "code",
   "execution_count": null,
   "id": "06d510bf-ec8c-44a4-b463-89ed0e24af2e",
   "metadata": {},
   "outputs": [],
   "source": []
  },
  {
   "cell_type": "markdown",
   "id": "81c238ba-3367-4516-8c98-22dbb9506454",
   "metadata": {},
   "source": [
    "[back to TOC](#toc)"
   ]
  },
  {
   "cell_type": "markdown",
   "id": "76d85d78-b250-49cf-af67-03517b80dfd4",
   "metadata": {},
   "source": [
    "<a id='concl'></a>"
   ]
  },
  {
   "cell_type": "markdown",
   "id": "a114706e-74be-43f3-aaaf-2fd0be8659b4",
   "metadata": {
    "tags": []
   },
   "source": [
    "# Conclusion"
   ]
  },
  {
   "cell_type": "markdown",
   "id": "b8b6586a-a70b-4d2a-843d-35f146aab0b6",
   "metadata": {},
   "source": [
    "In summary, describing the relationship between mosquito species and WNV prevalence involves data analysis and visualization among other techniques. The following insights aim to show that the mosquito species are a significant vector for the virus and contribute to informed decision-making in public health and mosquito control efforts in the City of Chicago:\n",
    "* The mosquito 'Culex Pipiens' require deeper analysis, since it is the most frequent specie with WNV positive.\n",
    "* It is not recommended to continue using OVI traps in the study, since is has a low trapping rate. Give priority to Sentinel and CDC traps, the ones with the highest trap efficacy. \n",
    "* Implement additional safety measures during august to decrease mosquito population, such as:\n",
    "    * Eliminate or regularly empty containers that can collect water, such as buckets, flower pots, and clogged gutters.\n",
    "    * Apply mosquito repellent on exposed skin when spending time outdoors.\n",
    "    * Wear long sleeves and pants when outside.\n",
    "    * Set up more mosquito traps.\n",
    "    * Introduce natural mosquito predators like birds, bats, or dragonflies to your area, if possible.\n",
    "    * Plant mosquito-repelling herbs and flowers in your garden, such as citronella, lavender, and marigolds.on"
   ]
  },
  {
   "cell_type": "markdown",
   "id": "c1c27832-91e9-4e05-b15f-d0296de1bc3a",
   "metadata": {},
   "source": [
    "[back to TOC](#toc)"
   ]
  }
 ],
 "metadata": {
  "kernelspec": {
   "display_name": "Python 3 (ipykernel)",
   "language": "python",
   "name": "python3"
  },
  "language_info": {
   "codemirror_mode": {
    "name": "ipython",
    "version": 3
   },
   "file_extension": ".py",
   "mimetype": "text/x-python",
   "name": "python",
   "nbconvert_exporter": "python",
   "pygments_lexer": "ipython3",
   "version": "3.11.5"
  }
 },
 "nbformat": 4,
 "nbformat_minor": 5
}
