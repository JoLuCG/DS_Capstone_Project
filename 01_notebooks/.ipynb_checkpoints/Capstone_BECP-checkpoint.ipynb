{
 "cells": [
  {
   "cell_type": "markdown",
   "id": "143f154d-fd22-4c92-9a38-4f21bbf2de8a",
   "metadata": {
    "editable": true,
    "slideshow": {
     "slide_type": ""
    },
    "tags": []
   },
   "source": [
    "# ASHRAE Great Energy Predictor\n",
    "### *by Jose Correa*"
   ]
  },
  {
   "cell_type": "markdown",
   "id": "ff5579a4-5758-4366-a40d-4b6ab98f4c1c",
   "metadata": {},
   "source": [
    "# Introduction\n",
    "\n",
    "The problem statement revolves around the inefficiency and uncertainty in evaluating the effectiveness of building retrofits and their impact on energy consumption.\r\n",
    "\r\n",
    "The solution presented by the project involves implementing the Building Energy Consumption Predictor (BECP) model. This model aims to resolve the inefficiencies and uncertainties in evaluating the effectiveness of building retrofits by providing precise predictions of metered building energy usage across categories such as chilled water, electric, hot water, and steam meters. Additionally, it empowers building owners to confidently assess the efficacy of their retrofit investments, offering a clear understanding of whether the retrofits are financially sound and if the improvements align with anticipated energy and sustainability goals.d.cies."
   ]
  },
  {
   "cell_type": "markdown",
   "id": "d43f4505-c108-4381-8d36-edbe953bf12b",
   "metadata": {},
   "source": [
    "<a id='toc'></a>"
   ]
  },
  {
   "cell_type": "markdown",
   "id": "c26203c7-ed69-4b59-ad4e-a5375496394f",
   "metadata": {},
   "source": [
    "# Table of Contents\n",
    "\n",
    "1. [Data dictionary](#data-d)\n",
    "2. [Basic Data Wrangling](#bdw-0)\n",
    "    1. [Files merging](#bdw-1)\n",
    "    2. [Subset](#bdw-2)\n",
    "    3. [Healthcare data overview](#bdw-3)\n",
    "    4. [Numeric columns](#bdw-4)\n",
    "    5. [Remove unnecessary and duplicated columns](#bdw-5)\n",
    "    6. [Null values analysis](#bdw-6)\n",
    "3. [Exploratory Data Analysis (EDA)](#eda-0)\n",
    "    1. [Data overview](#eda-1)\n",
    "    2. [Null values](#eda-2)\n",
    "4. [Statistical Analysis](#sa-0)\n",
    "    1. [Statistically significant difference..](#sa-1)\n",
    "    2. [Correlation with ??](#sa-2)\n",
    "5. [Advanced Statistical Analysis](#asa-0)\n",
    "    1. [Linear regression for ??](#asa-1)\n",
    "    2. [Logistic regression for ??](#asa-2)\n",
    "6. [Conclusion](#concl)"
   ]
  },
  {
   "cell_type": "markdown",
   "id": "f0b197b2-8686-4faa-818b-fe9216203ab3",
   "metadata": {},
   "source": [
    "<a id='data-d'></a>"
   ]
  },
  {
   "cell_type": "markdown",
   "id": "4a8b9503-0013-4dab-b239-95b7deb11cca",
   "metadata": {
    "tags": []
   },
   "source": [
    "# Data dictionary"
   ]
  },
  {
   "cell_type": "markdown",
   "id": "b6ef1acd-1d7b-416b-885f-b0cb58b73bb3",
   "metadata": {},
   "source": [
    "- `building_id`, foreign key for the building metadata.\r",
    "- `meter`, the  meter id code. Read as {0: electricity, 1: chilled water, 2: steam, 3: hot water}.  Not every building has all meter types.\n",
    "- `meter_timestamp`, when the measurement was taken. Same as `weather_timestamp`.\n",
    "- `meter_reading`, the target variable. Energy consumption in kWh (or equivalent).\n",
    "- `site_id`, foreign key for the weather files.\n",
    "- `primary_use`, indicator of the primary category of activities for the building.\n",
    "- `square_feet`, gross floor area of the building in ft2.\n",
    "- `year_built`, year building was opened.\n",
    "- `floor_count`, number of floors of the building.\n",
    "- `weather_timestamp`, when the measurement was taken. Same as `meter_timestamp`.\n",
    "- `air_temperature`, degrees celsius.\n",
    "- `cloud_coverage`, portion of the sky covered in clouds, in oktas.\n",
    "- `dew_temperature`, degrees celsius.\n",
    "- `precip_depth_1_hr`, millimeters.\n",
    "- `sea_level_pressure`, millibar/hectopascals.\n",
    "- `wind_direction`, compass direction (0-360).\n",
    "- `wind_speed`, meters/second (m/s).\n"
   ]
  },
  {
   "cell_type": "markdown",
   "id": "3f2b2a56-0549-4042-8475-299864569d22",
   "metadata": {},
   "source": [
    "<a id='bdw-0'></a>"
   ]
  },
  {
   "cell_type": "markdown",
   "id": "31ea95b2-2b42-4999-94dd-710bc0b1fd5e",
   "metadata": {},
   "source": [
    "[back to TOC](#toc)"
   ]
  },
  {
   "cell_type": "markdown",
   "id": "3b4dab8f-beea-4fda-9c1b-fe3efe4637bb",
   "metadata": {
    "tags": []
   },
   "source": [
    "# 1. Basic Data Wrangling"
   ]
  },
  {
   "cell_type": "code",
   "execution_count": 1,
   "id": "308c0c50-2190-4bb2-ba68-99540075007b",
   "metadata": {
    "tags": []
   },
   "outputs": [],
   "source": [
    "# Import Python packages\n",
    "import pandas as pd\n",
    "import numpy as np\n",
    "\n",
    "import matplotlib.pyplot as plt\n",
    "import seaborn as sns\n",
    "\n",
    "# Setting figure size\n",
    "plt.rcParams['figure.figsize']=(8.0,6.0)"
   ]
  },
  {
   "cell_type": "markdown",
   "id": "ce5e7d1b-9b1f-4016-beb4-22a530ed3928",
   "metadata": {},
   "source": [
    "<a id='bdw-1'></a>"
   ]
  },
  {
   "cell_type": "markdown",
   "id": "435b6b75-4ae0-4a95-812b-f0ae13df049f",
   "metadata": {},
   "source": [
    "## 1.1. Files merging\n",
    "The interrelated files are: train.csv, building_metadata.csv, weather_train.csv"
   ]
  },
  {
   "cell_type": "markdown",
   "id": "9bbe5a74-6a07-46a2-ac73-861ae830cc1e",
   "metadata": {},
   "source": [
    "### 1.1.1. 'train' file analysis"
   ]
  },
  {
   "cell_type": "code",
   "execution_count": 2,
   "id": "03d2309b-004b-4a43-89a3-5043f44e185e",
   "metadata": {
    "scrolled": true,
    "tags": []
   },
   "outputs": [
    {
     "data": {
      "text/html": [
       "<div>\n",
       "<style scoped>\n",
       "    .dataframe tbody tr th:only-of-type {\n",
       "        vertical-align: middle;\n",
       "    }\n",
       "\n",
       "    .dataframe tbody tr th {\n",
       "        vertical-align: top;\n",
       "    }\n",
       "\n",
       "    .dataframe thead th {\n",
       "        text-align: right;\n",
       "    }\n",
       "</style>\n",
       "<table border=\"1\" class=\"dataframe\">\n",
       "  <thead>\n",
       "    <tr style=\"text-align: right;\">\n",
       "      <th></th>\n",
       "      <th>building_id</th>\n",
       "      <th>meter</th>\n",
       "      <th>timestamp</th>\n",
       "      <th>meter_reading</th>\n",
       "    </tr>\n",
       "  </thead>\n",
       "  <tbody>\n",
       "    <tr>\n",
       "      <th>0</th>\n",
       "      <td>0</td>\n",
       "      <td>0</td>\n",
       "      <td>2016-01-01 00:00:00</td>\n",
       "      <td>0.0</td>\n",
       "    </tr>\n",
       "    <tr>\n",
       "      <th>1</th>\n",
       "      <td>1</td>\n",
       "      <td>0</td>\n",
       "      <td>2016-01-01 00:00:00</td>\n",
       "      <td>0.0</td>\n",
       "    </tr>\n",
       "    <tr>\n",
       "      <th>2</th>\n",
       "      <td>2</td>\n",
       "      <td>0</td>\n",
       "      <td>2016-01-01 00:00:00</td>\n",
       "      <td>0.0</td>\n",
       "    </tr>\n",
       "  </tbody>\n",
       "</table>\n",
       "</div>"
      ],
      "text/plain": [
       "   building_id  meter            timestamp  meter_reading\n",
       "0            0      0  2016-01-01 00:00:00            0.0\n",
       "1            1      0  2016-01-01 00:00:00            0.0\n",
       "2            2      0  2016-01-01 00:00:00            0.0"
      ]
     },
     "metadata": {},
     "output_type": "display_data"
    }
   ],
   "source": [
    "# Data loading, the file is coma (,) separated. \n",
    "# The index is auto generated, since the 'building_id' column doesn't have unique values\n",
    "train_df = pd.read_csv('data/train.csv', sep = ',')\n",
    "display (train_df.head(3))"
   ]
  },
  {
   "cell_type": "code",
   "execution_count": 3,
   "id": "3453f4c4-ffbc-4992-b7be-9ffd64b694a8",
   "metadata": {},
   "outputs": [
    {
     "name": "stdout",
     "output_type": "stream",
     "text": [
      "<class 'pandas.core.frame.DataFrame'>\n",
      "RangeIndex: 20216100 entries, 0 to 20216099\n",
      "Data columns (total 4 columns):\n",
      " #   Column         Dtype  \n",
      "---  ------         -----  \n",
      " 0   building_id    int64  \n",
      " 1   meter          int64  \n",
      " 2   timestamp      object \n",
      " 3   meter_reading  float64\n",
      "dtypes: float64(1), int64(2), object(1)\n",
      "memory usage: 616.9+ MB\n"
     ]
    }
   ],
   "source": [
    "# General info\n",
    "train_df.info()"
   ]
  },
  {
   "cell_type": "markdown",
   "id": "1b3ab1bb-fc6a-4d1c-a8bd-ca81e6bfd556",
   "metadata": {},
   "source": [
    "### 1.1.2. 'building_meta' file analysis"
   ]
  },
  {
   "cell_type": "code",
   "execution_count": 4,
   "id": "313ddb9a-b9fb-46cd-8cd7-b9ff21cb7c10",
   "metadata": {},
   "outputs": [
    {
     "data": {
      "text/html": [
       "<div>\n",
       "<style scoped>\n",
       "    .dataframe tbody tr th:only-of-type {\n",
       "        vertical-align: middle;\n",
       "    }\n",
       "\n",
       "    .dataframe tbody tr th {\n",
       "        vertical-align: top;\n",
       "    }\n",
       "\n",
       "    .dataframe thead th {\n",
       "        text-align: right;\n",
       "    }\n",
       "</style>\n",
       "<table border=\"1\" class=\"dataframe\">\n",
       "  <thead>\n",
       "    <tr style=\"text-align: right;\">\n",
       "      <th></th>\n",
       "      <th>site_id</th>\n",
       "      <th>building_id</th>\n",
       "      <th>primary_use</th>\n",
       "      <th>square_feet</th>\n",
       "      <th>year_built</th>\n",
       "      <th>floor_count</th>\n",
       "    </tr>\n",
       "  </thead>\n",
       "  <tbody>\n",
       "    <tr>\n",
       "      <th>0</th>\n",
       "      <td>0</td>\n",
       "      <td>0</td>\n",
       "      <td>Education</td>\n",
       "      <td>7432</td>\n",
       "      <td>2008.0</td>\n",
       "      <td>NaN</td>\n",
       "    </tr>\n",
       "    <tr>\n",
       "      <th>1</th>\n",
       "      <td>0</td>\n",
       "      <td>1</td>\n",
       "      <td>Education</td>\n",
       "      <td>2720</td>\n",
       "      <td>2004.0</td>\n",
       "      <td>NaN</td>\n",
       "    </tr>\n",
       "    <tr>\n",
       "      <th>2</th>\n",
       "      <td>0</td>\n",
       "      <td>2</td>\n",
       "      <td>Education</td>\n",
       "      <td>5376</td>\n",
       "      <td>1991.0</td>\n",
       "      <td>NaN</td>\n",
       "    </tr>\n",
       "  </tbody>\n",
       "</table>\n",
       "</div>"
      ],
      "text/plain": [
       "   site_id  building_id primary_use  square_feet  year_built  floor_count\n",
       "0        0            0   Education         7432      2008.0          NaN\n",
       "1        0            1   Education         2720      2004.0          NaN\n",
       "2        0            2   Education         5376      1991.0          NaN"
      ]
     },
     "metadata": {},
     "output_type": "display_data"
    }
   ],
   "source": [
    "# Data loading, the file is coma (,) separated. \n",
    "# The index is auto generated, since the 'building_id' column doesn't have unique values\n",
    "building_df = pd.read_csv('data/building_metadata.csv', sep = ',')\n",
    "display (building_df.head(3))"
   ]
  },
  {
   "cell_type": "code",
   "execution_count": 5,
   "id": "8f14cf25-d8ec-4925-91a6-dd95be4f1e34",
   "metadata": {},
   "outputs": [
    {
     "name": "stdout",
     "output_type": "stream",
     "text": [
      "<class 'pandas.core.frame.DataFrame'>\n",
      "RangeIndex: 1449 entries, 0 to 1448\n",
      "Data columns (total 6 columns):\n",
      " #   Column       Non-Null Count  Dtype  \n",
      "---  ------       --------------  -----  \n",
      " 0   site_id      1449 non-null   int64  \n",
      " 1   building_id  1449 non-null   int64  \n",
      " 2   primary_use  1449 non-null   object \n",
      " 3   square_feet  1449 non-null   int64  \n",
      " 4   year_built   675 non-null    float64\n",
      " 5   floor_count  355 non-null    float64\n",
      "dtypes: float64(2), int64(3), object(1)\n",
      "memory usage: 68.1+ KB\n"
     ]
    }
   ],
   "source": [
    "# General info\n",
    "building_df.info()"
   ]
  },
  {
   "cell_type": "markdown",
   "id": "62e2aece-ff59-4d65-a9a3-0ab0fd7f9f80",
   "metadata": {},
   "source": [
    "### 1.1.3. Merging 'train_df' and 'building_df'"
   ]
  },
  {
   "cell_type": "code",
   "execution_count": 6,
   "id": "c0ebaeae-5b0b-437e-ba7d-cf95d163ee9d",
   "metadata": {},
   "outputs": [
    {
     "data": {
      "text/html": [
       "<div>\n",
       "<style scoped>\n",
       "    .dataframe tbody tr th:only-of-type {\n",
       "        vertical-align: middle;\n",
       "    }\n",
       "\n",
       "    .dataframe tbody tr th {\n",
       "        vertical-align: top;\n",
       "    }\n",
       "\n",
       "    .dataframe thead th {\n",
       "        text-align: right;\n",
       "    }\n",
       "</style>\n",
       "<table border=\"1\" class=\"dataframe\">\n",
       "  <thead>\n",
       "    <tr style=\"text-align: right;\">\n",
       "      <th></th>\n",
       "      <th>building_id</th>\n",
       "      <th>meter</th>\n",
       "      <th>timestamp</th>\n",
       "      <th>meter_reading</th>\n",
       "      <th>site_id</th>\n",
       "      <th>primary_use</th>\n",
       "      <th>square_feet</th>\n",
       "      <th>year_built</th>\n",
       "      <th>floor_count</th>\n",
       "    </tr>\n",
       "  </thead>\n",
       "  <tbody>\n",
       "    <tr>\n",
       "      <th>12927674</th>\n",
       "      <td>1055</td>\n",
       "      <td>0</td>\n",
       "      <td>2016-12-13 03:00:00</td>\n",
       "      <td>32.415</td>\n",
       "      <td>12</td>\n",
       "      <td>Education</td>\n",
       "      <td>86714</td>\n",
       "      <td>NaN</td>\n",
       "      <td>4.0</td>\n",
       "    </tr>\n",
       "    <tr>\n",
       "      <th>8605579</th>\n",
       "      <td>787</td>\n",
       "      <td>2</td>\n",
       "      <td>2016-10-12 22:00:00</td>\n",
       "      <td>1075.900</td>\n",
       "      <td>6</td>\n",
       "      <td>Lodging/residential</td>\n",
       "      <td>278795</td>\n",
       "      <td>NaN</td>\n",
       "      <td>NaN</td>\n",
       "    </tr>\n",
       "    <tr>\n",
       "      <th>17928382</th>\n",
       "      <td>1309</td>\n",
       "      <td>0</td>\n",
       "      <td>2016-10-06 22:00:00</td>\n",
       "      <td>65.880</td>\n",
       "      <td>14</td>\n",
       "      <td>Lodging/residential</td>\n",
       "      <td>58041</td>\n",
       "      <td>NaN</td>\n",
       "      <td>NaN</td>\n",
       "    </tr>\n",
       "  </tbody>\n",
       "</table>\n",
       "</div>"
      ],
      "text/plain": [
       "          building_id  meter            timestamp  meter_reading  site_id  \\\n",
       "12927674         1055      0  2016-12-13 03:00:00         32.415       12   \n",
       "8605579           787      2  2016-10-12 22:00:00       1075.900        6   \n",
       "17928382         1309      0  2016-10-06 22:00:00         65.880       14   \n",
       "\n",
       "                  primary_use  square_feet  year_built  floor_count  \n",
       "12927674            Education        86714         NaN          4.0  \n",
       "8605579   Lodging/residential       278795         NaN          NaN  \n",
       "17928382  Lodging/residential        58041         NaN          NaN  "
      ]
     },
     "execution_count": 6,
     "metadata": {},
     "output_type": "execute_result"
    }
   ],
   "source": [
    "# Merge train_df and building_df on 'building_id'\n",
    "train_building_df = train_df.merge(building_df, on='building_id', how='inner')\n",
    "train_building_df.sample(3)"
   ]
  },
  {
   "cell_type": "code",
   "execution_count": 7,
   "id": "673faa40-3a07-4074-b98f-749d42f30b86",
   "metadata": {},
   "outputs": [
    {
     "name": "stdout",
     "output_type": "stream",
     "text": [
      "<class 'pandas.core.frame.DataFrame'>\n",
      "RangeIndex: 20216100 entries, 0 to 20216099\n",
      "Data columns (total 9 columns):\n",
      " #   Column         Dtype  \n",
      "---  ------         -----  \n",
      " 0   building_id    int64  \n",
      " 1   meter          int64  \n",
      " 2   timestamp      object \n",
      " 3   meter_reading  float64\n",
      " 4   site_id        int64  \n",
      " 5   primary_use    object \n",
      " 6   square_feet    int64  \n",
      " 7   year_built     float64\n",
      " 8   floor_count    float64\n",
      "dtypes: float64(3), int64(4), object(2)\n",
      "memory usage: 1.4+ GB\n"
     ]
    }
   ],
   "source": [
    "# Review merged df\n",
    "train_building_df.info()"
   ]
  },
  {
   "cell_type": "markdown",
   "id": "00133fed-ef45-438e-a0cb-eaecf6f445f4",
   "metadata": {},
   "source": [
    "### 1.1.4. 'Weather_train' file analysis"
   ]
  },
  {
   "cell_type": "code",
   "execution_count": 8,
   "id": "f88cfe34-7c00-4582-a3ed-f0cace88e64e",
   "metadata": {},
   "outputs": [
    {
     "data": {
      "text/html": [
       "<div>\n",
       "<style scoped>\n",
       "    .dataframe tbody tr th:only-of-type {\n",
       "        vertical-align: middle;\n",
       "    }\n",
       "\n",
       "    .dataframe tbody tr th {\n",
       "        vertical-align: top;\n",
       "    }\n",
       "\n",
       "    .dataframe thead th {\n",
       "        text-align: right;\n",
       "    }\n",
       "</style>\n",
       "<table border=\"1\" class=\"dataframe\">\n",
       "  <thead>\n",
       "    <tr style=\"text-align: right;\">\n",
       "      <th></th>\n",
       "      <th>site_id</th>\n",
       "      <th>timestamp</th>\n",
       "      <th>air_temperature</th>\n",
       "      <th>cloud_coverage</th>\n",
       "      <th>dew_temperature</th>\n",
       "      <th>precip_depth_1_hr</th>\n",
       "      <th>sea_level_pressure</th>\n",
       "      <th>wind_direction</th>\n",
       "      <th>wind_speed</th>\n",
       "    </tr>\n",
       "  </thead>\n",
       "  <tbody>\n",
       "    <tr>\n",
       "      <th>137878</th>\n",
       "      <td>15</td>\n",
       "      <td>2016-10-12 19:00:00</td>\n",
       "      <td>20.6</td>\n",
       "      <td>0.0</td>\n",
       "      <td>9.4</td>\n",
       "      <td>NaN</td>\n",
       "      <td>NaN</td>\n",
       "      <td>160.0</td>\n",
       "      <td>6.7</td>\n",
       "    </tr>\n",
       "    <tr>\n",
       "      <th>106711</th>\n",
       "      <td>12</td>\n",
       "      <td>2016-03-12 13:00:00</td>\n",
       "      <td>13.2</td>\n",
       "      <td>7.0</td>\n",
       "      <td>5.1</td>\n",
       "      <td>NaN</td>\n",
       "      <td>1027.3</td>\n",
       "      <td>220.0</td>\n",
       "      <td>7.0</td>\n",
       "    </tr>\n",
       "    <tr>\n",
       "      <th>18217</th>\n",
       "      <td>2</td>\n",
       "      <td>2016-01-28 22:00:00</td>\n",
       "      <td>20.6</td>\n",
       "      <td>NaN</td>\n",
       "      <td>-7.2</td>\n",
       "      <td>0.0</td>\n",
       "      <td>1017.9</td>\n",
       "      <td>0.0</td>\n",
       "      <td>0.0</td>\n",
       "    </tr>\n",
       "  </tbody>\n",
       "</table>\n",
       "</div>"
      ],
      "text/plain": [
       "        site_id            timestamp  air_temperature  cloud_coverage  \\\n",
       "137878       15  2016-10-12 19:00:00             20.6             0.0   \n",
       "106711       12  2016-03-12 13:00:00             13.2             7.0   \n",
       "18217         2  2016-01-28 22:00:00             20.6             NaN   \n",
       "\n",
       "        dew_temperature  precip_depth_1_hr  sea_level_pressure  \\\n",
       "137878              9.4                NaN                 NaN   \n",
       "106711              5.1                NaN              1027.3   \n",
       "18217              -7.2                0.0              1017.9   \n",
       "\n",
       "        wind_direction  wind_speed  \n",
       "137878           160.0         6.7  \n",
       "106711           220.0         7.0  \n",
       "18217              0.0         0.0  "
      ]
     },
     "execution_count": 8,
     "metadata": {},
     "output_type": "execute_result"
    }
   ],
   "source": [
    "# Data loading, the file is coma (,) separated. \n",
    "# The index is auto generated, since the 'site_id' column doesn't have unique values\n",
    "weather_train_df = pd.read_csv('data/weather_train.csv', sep = ',')\n",
    "weather_train_df.sample(3)"
   ]
  },
  {
   "cell_type": "code",
   "execution_count": 9,
   "id": "bfac1662-489d-43d4-830a-c4c7b1aee7b7",
   "metadata": {},
   "outputs": [
    {
     "name": "stdout",
     "output_type": "stream",
     "text": [
      "<class 'pandas.core.frame.DataFrame'>\n",
      "RangeIndex: 139773 entries, 0 to 139772\n",
      "Data columns (total 9 columns):\n",
      " #   Column              Non-Null Count   Dtype  \n",
      "---  ------              --------------   -----  \n",
      " 0   site_id             139773 non-null  int64  \n",
      " 1   timestamp           139773 non-null  object \n",
      " 2   air_temperature     139718 non-null  float64\n",
      " 3   cloud_coverage      70600 non-null   float64\n",
      " 4   dew_temperature     139660 non-null  float64\n",
      " 5   precip_depth_1_hr   89484 non-null   float64\n",
      " 6   sea_level_pressure  129155 non-null  float64\n",
      " 7   wind_direction      133505 non-null  float64\n",
      " 8   wind_speed          139469 non-null  float64\n",
      "dtypes: float64(7), int64(1), object(1)\n",
      "memory usage: 9.6+ MB\n"
     ]
    }
   ],
   "source": [
    "# General info\n",
    "weather_train_df.info()"
   ]
  },
  {
   "cell_type": "markdown",
   "id": "b573ca7e-bc48-4ab4-8677-1d7e5d906887",
   "metadata": {},
   "source": [
    "### 1.1.5. Rename `timestamp` column header "
   ]
  },
  {
   "cell_type": "code",
   "execution_count": 10,
   "id": "515daa56-bdba-476c-8c1c-9682d5900d07",
   "metadata": {},
   "outputs": [],
   "source": [
    "# Rename the 'timestamp' column to 'meter_timestamp' to avoid ambiguity\n",
    "train_building_df.rename(columns={'timestamp': 'meter_timestamp'}, inplace=True)"
   ]
  },
  {
   "cell_type": "code",
   "execution_count": 11,
   "id": "9688cbc9-8c02-42ef-9f6e-23c25d1c7921",
   "metadata": {},
   "outputs": [
    {
     "data": {
      "text/html": [
       "<div>\n",
       "<style scoped>\n",
       "    .dataframe tbody tr th:only-of-type {\n",
       "        vertical-align: middle;\n",
       "    }\n",
       "\n",
       "    .dataframe tbody tr th {\n",
       "        vertical-align: top;\n",
       "    }\n",
       "\n",
       "    .dataframe thead th {\n",
       "        text-align: right;\n",
       "    }\n",
       "</style>\n",
       "<table border=\"1\" class=\"dataframe\">\n",
       "  <thead>\n",
       "    <tr style=\"text-align: right;\">\n",
       "      <th></th>\n",
       "      <th>building_id</th>\n",
       "      <th>meter</th>\n",
       "      <th>meter_timestamp</th>\n",
       "      <th>meter_reading</th>\n",
       "      <th>site_id</th>\n",
       "      <th>primary_use</th>\n",
       "      <th>square_feet</th>\n",
       "      <th>year_built</th>\n",
       "      <th>floor_count</th>\n",
       "    </tr>\n",
       "  </thead>\n",
       "  <tbody>\n",
       "    <tr>\n",
       "      <th>0</th>\n",
       "      <td>0</td>\n",
       "      <td>0</td>\n",
       "      <td>2016-01-01 00:00:00</td>\n",
       "      <td>0.0</td>\n",
       "      <td>0</td>\n",
       "      <td>Education</td>\n",
       "      <td>7432</td>\n",
       "      <td>2008.0</td>\n",
       "      <td>NaN</td>\n",
       "    </tr>\n",
       "    <tr>\n",
       "      <th>1</th>\n",
       "      <td>0</td>\n",
       "      <td>0</td>\n",
       "      <td>2016-01-01 01:00:00</td>\n",
       "      <td>0.0</td>\n",
       "      <td>0</td>\n",
       "      <td>Education</td>\n",
       "      <td>7432</td>\n",
       "      <td>2008.0</td>\n",
       "      <td>NaN</td>\n",
       "    </tr>\n",
       "    <tr>\n",
       "      <th>2</th>\n",
       "      <td>0</td>\n",
       "      <td>0</td>\n",
       "      <td>2016-01-01 02:00:00</td>\n",
       "      <td>0.0</td>\n",
       "      <td>0</td>\n",
       "      <td>Education</td>\n",
       "      <td>7432</td>\n",
       "      <td>2008.0</td>\n",
       "      <td>NaN</td>\n",
       "    </tr>\n",
       "  </tbody>\n",
       "</table>\n",
       "</div>"
      ],
      "text/plain": [
       "   building_id  meter      meter_timestamp  meter_reading  site_id  \\\n",
       "0            0      0  2016-01-01 00:00:00            0.0        0   \n",
       "1            0      0  2016-01-01 01:00:00            0.0        0   \n",
       "2            0      0  2016-01-01 02:00:00            0.0        0   \n",
       "\n",
       "  primary_use  square_feet  year_built  floor_count  \n",
       "0   Education         7432      2008.0          NaN  \n",
       "1   Education         7432      2008.0          NaN  \n",
       "2   Education         7432      2008.0          NaN  "
      ]
     },
     "execution_count": 11,
     "metadata": {},
     "output_type": "execute_result"
    }
   ],
   "source": [
    "# Verify renaming\n",
    "train_building_df.head(3)"
   ]
  },
  {
   "cell_type": "code",
   "execution_count": 12,
   "id": "d41de545-f25b-412a-a1c8-8563eeb3e7e3",
   "metadata": {},
   "outputs": [],
   "source": [
    "# For weather_train_df, rename the `timestamp` column to `weather_timestamp`\n",
    "weather_train_df.rename(columns={'timestamp': 'weather_timestamp'}, inplace=True)"
   ]
  },
  {
   "cell_type": "code",
   "execution_count": 13,
   "id": "1f95cb2b-86e9-4d64-936f-3ec599f9cd89",
   "metadata": {},
   "outputs": [
    {
     "data": {
      "text/html": [
       "<div>\n",
       "<style scoped>\n",
       "    .dataframe tbody tr th:only-of-type {\n",
       "        vertical-align: middle;\n",
       "    }\n",
       "\n",
       "    .dataframe tbody tr th {\n",
       "        vertical-align: top;\n",
       "    }\n",
       "\n",
       "    .dataframe thead th {\n",
       "        text-align: right;\n",
       "    }\n",
       "</style>\n",
       "<table border=\"1\" class=\"dataframe\">\n",
       "  <thead>\n",
       "    <tr style=\"text-align: right;\">\n",
       "      <th></th>\n",
       "      <th>site_id</th>\n",
       "      <th>weather_timestamp</th>\n",
       "      <th>air_temperature</th>\n",
       "      <th>cloud_coverage</th>\n",
       "      <th>dew_temperature</th>\n",
       "      <th>precip_depth_1_hr</th>\n",
       "      <th>sea_level_pressure</th>\n",
       "      <th>wind_direction</th>\n",
       "      <th>wind_speed</th>\n",
       "    </tr>\n",
       "  </thead>\n",
       "  <tbody>\n",
       "    <tr>\n",
       "      <th>0</th>\n",
       "      <td>0</td>\n",
       "      <td>2016-01-01 00:00:00</td>\n",
       "      <td>25.0</td>\n",
       "      <td>6.0</td>\n",
       "      <td>20.0</td>\n",
       "      <td>NaN</td>\n",
       "      <td>1019.7</td>\n",
       "      <td>0.0</td>\n",
       "      <td>0.0</td>\n",
       "    </tr>\n",
       "    <tr>\n",
       "      <th>1</th>\n",
       "      <td>0</td>\n",
       "      <td>2016-01-01 01:00:00</td>\n",
       "      <td>24.4</td>\n",
       "      <td>NaN</td>\n",
       "      <td>21.1</td>\n",
       "      <td>-1.0</td>\n",
       "      <td>1020.2</td>\n",
       "      <td>70.0</td>\n",
       "      <td>1.5</td>\n",
       "    </tr>\n",
       "    <tr>\n",
       "      <th>2</th>\n",
       "      <td>0</td>\n",
       "      <td>2016-01-01 02:00:00</td>\n",
       "      <td>22.8</td>\n",
       "      <td>2.0</td>\n",
       "      <td>21.1</td>\n",
       "      <td>0.0</td>\n",
       "      <td>1020.2</td>\n",
       "      <td>0.0</td>\n",
       "      <td>0.0</td>\n",
       "    </tr>\n",
       "  </tbody>\n",
       "</table>\n",
       "</div>"
      ],
      "text/plain": [
       "   site_id    weather_timestamp  air_temperature  cloud_coverage  \\\n",
       "0        0  2016-01-01 00:00:00             25.0             6.0   \n",
       "1        0  2016-01-01 01:00:00             24.4             NaN   \n",
       "2        0  2016-01-01 02:00:00             22.8             2.0   \n",
       "\n",
       "   dew_temperature  precip_depth_1_hr  sea_level_pressure  wind_direction  \\\n",
       "0             20.0                NaN              1019.7             0.0   \n",
       "1             21.1               -1.0              1020.2            70.0   \n",
       "2             21.1                0.0              1020.2             0.0   \n",
       "\n",
       "   wind_speed  \n",
       "0         0.0  \n",
       "1         1.5  \n",
       "2         0.0  "
      ]
     },
     "execution_count": 13,
     "metadata": {},
     "output_type": "execute_result"
    }
   ],
   "source": [
    "# Verify renaming\n",
    "weather_train_df.head(3)"
   ]
  },
  {
   "cell_type": "code",
   "execution_count": null,
   "id": "e9973f1e-e814-48be-a564-81dc06a40646",
   "metadata": {},
   "outputs": [],
   "source": []
  },
  {
   "cell_type": "markdown",
   "id": "e57a9289-f5fa-4fc5-b129-686c059ae186",
   "metadata": {},
   "source": [
    "### 1.1.5 Merge 'train_building_df' with 'weather_train.csv'"
   ]
  },
  {
   "cell_type": "code",
   "execution_count": 14,
   "id": "c0cf40e3-2428-4da5-ae41-c56fe600adfb",
   "metadata": {},
   "outputs": [],
   "source": [
    "# Merge the DataFrames on 'site_id' and 'meter_timestamp' equal to 'weather_timestamp'. Left join to keep all 'train_building_df' records.\n",
    "merged_train_df = train_building_df.merge(weather_train_df, left_on=['site_id', 'meter_timestamp'], right_on=['site_id', 'weather_timestamp'], how='left')"
   ]
  },
  {
   "cell_type": "code",
   "execution_count": 15,
   "id": "84c1ecae-11c6-439a-9413-87ee5c63ee57",
   "metadata": {},
   "outputs": [
    {
     "data": {
      "text/html": [
       "<div>\n",
       "<style scoped>\n",
       "    .dataframe tbody tr th:only-of-type {\n",
       "        vertical-align: middle;\n",
       "    }\n",
       "\n",
       "    .dataframe tbody tr th {\n",
       "        vertical-align: top;\n",
       "    }\n",
       "\n",
       "    .dataframe thead th {\n",
       "        text-align: right;\n",
       "    }\n",
       "</style>\n",
       "<table border=\"1\" class=\"dataframe\">\n",
       "  <thead>\n",
       "    <tr style=\"text-align: right;\">\n",
       "      <th></th>\n",
       "      <th>building_id</th>\n",
       "      <th>meter</th>\n",
       "      <th>meter_timestamp</th>\n",
       "      <th>meter_reading</th>\n",
       "      <th>site_id</th>\n",
       "      <th>primary_use</th>\n",
       "      <th>square_feet</th>\n",
       "      <th>year_built</th>\n",
       "      <th>floor_count</th>\n",
       "      <th>weather_timestamp</th>\n",
       "      <th>air_temperature</th>\n",
       "      <th>cloud_coverage</th>\n",
       "      <th>dew_temperature</th>\n",
       "      <th>precip_depth_1_hr</th>\n",
       "      <th>sea_level_pressure</th>\n",
       "      <th>wind_direction</th>\n",
       "      <th>wind_speed</th>\n",
       "    </tr>\n",
       "  </thead>\n",
       "  <tbody>\n",
       "    <tr>\n",
       "      <th>8207001</th>\n",
       "      <td>760</td>\n",
       "      <td>0</td>\n",
       "      <td>2016-12-30 08:00:00</td>\n",
       "      <td>143.1</td>\n",
       "      <td>6</td>\n",
       "      <td>Office</td>\n",
       "      <td>49990</td>\n",
       "      <td>NaN</td>\n",
       "      <td>NaN</td>\n",
       "      <td>2016-12-30 08:00:00</td>\n",
       "      <td>3.9</td>\n",
       "      <td>0.0</td>\n",
       "      <td>-8.3</td>\n",
       "      <td>0.0</td>\n",
       "      <td>1008.7</td>\n",
       "      <td>280.0</td>\n",
       "      <td>3.6</td>\n",
       "    </tr>\n",
       "    <tr>\n",
       "      <th>19300620</th>\n",
       "      <td>1387</td>\n",
       "      <td>0</td>\n",
       "      <td>2016-07-25 10:00:00</td>\n",
       "      <td>211.4</td>\n",
       "      <td>15</td>\n",
       "      <td>Office</td>\n",
       "      <td>187041</td>\n",
       "      <td>1973.0</td>\n",
       "      <td>NaN</td>\n",
       "      <td>2016-07-25 10:00:00</td>\n",
       "      <td>17.8</td>\n",
       "      <td>0.0</td>\n",
       "      <td>15.6</td>\n",
       "      <td>NaN</td>\n",
       "      <td>1013.5</td>\n",
       "      <td>80.0</td>\n",
       "      <td>2.6</td>\n",
       "    </tr>\n",
       "    <tr>\n",
       "      <th>18719686</th>\n",
       "      <td>1351</td>\n",
       "      <td>0</td>\n",
       "      <td>2016-07-02 06:00:00</td>\n",
       "      <td>14.5</td>\n",
       "      <td>15</td>\n",
       "      <td>Office</td>\n",
       "      <td>40611</td>\n",
       "      <td>NaN</td>\n",
       "      <td>NaN</td>\n",
       "      <td>2016-07-02 06:00:00</td>\n",
       "      <td>14.4</td>\n",
       "      <td>NaN</td>\n",
       "      <td>12.2</td>\n",
       "      <td>NaN</td>\n",
       "      <td>1014.5</td>\n",
       "      <td>300.0</td>\n",
       "      <td>4.1</td>\n",
       "    </tr>\n",
       "  </tbody>\n",
       "</table>\n",
       "</div>"
      ],
      "text/plain": [
       "          building_id  meter      meter_timestamp  meter_reading  site_id  \\\n",
       "8207001           760      0  2016-12-30 08:00:00          143.1        6   \n",
       "19300620         1387      0  2016-07-25 10:00:00          211.4       15   \n",
       "18719686         1351      0  2016-07-02 06:00:00           14.5       15   \n",
       "\n",
       "         primary_use  square_feet  year_built  floor_count  \\\n",
       "8207001       Office        49990         NaN          NaN   \n",
       "19300620      Office       187041      1973.0          NaN   \n",
       "18719686      Office        40611         NaN          NaN   \n",
       "\n",
       "            weather_timestamp  air_temperature  cloud_coverage  \\\n",
       "8207001   2016-12-30 08:00:00              3.9             0.0   \n",
       "19300620  2016-07-25 10:00:00             17.8             0.0   \n",
       "18719686  2016-07-02 06:00:00             14.4             NaN   \n",
       "\n",
       "          dew_temperature  precip_depth_1_hr  sea_level_pressure  \\\n",
       "8207001              -8.3                0.0              1008.7   \n",
       "19300620             15.6                NaN              1013.5   \n",
       "18719686             12.2                NaN              1014.5   \n",
       "\n",
       "          wind_direction  wind_speed  \n",
       "8207001            280.0         3.6  \n",
       "19300620            80.0         2.6  \n",
       "18719686           300.0         4.1  "
      ]
     },
     "execution_count": 15,
     "metadata": {},
     "output_type": "execute_result"
    }
   ],
   "source": [
    "merged_train_df.sample(3)"
   ]
  },
  {
   "cell_type": "code",
   "execution_count": 16,
   "id": "ebbf5a74-85c4-46d5-8f8b-1d117f0531c9",
   "metadata": {},
   "outputs": [
    {
     "name": "stdout",
     "output_type": "stream",
     "text": [
      "<class 'pandas.core.frame.DataFrame'>\n",
      "RangeIndex: 20216100 entries, 0 to 20216099\n",
      "Data columns (total 17 columns):\n",
      " #   Column              Dtype  \n",
      "---  ------              -----  \n",
      " 0   building_id         int64  \n",
      " 1   meter               int64  \n",
      " 2   meter_timestamp     object \n",
      " 3   meter_reading       float64\n",
      " 4   site_id             int64  \n",
      " 5   primary_use         object \n",
      " 6   square_feet         int64  \n",
      " 7   year_built          float64\n",
      " 8   floor_count         float64\n",
      " 9   weather_timestamp   object \n",
      " 10  air_temperature     float64\n",
      " 11  cloud_coverage      float64\n",
      " 12  dew_temperature     float64\n",
      " 13  precip_depth_1_hr   float64\n",
      " 14  sea_level_pressure  float64\n",
      " 15  wind_direction      float64\n",
      " 16  wind_speed          float64\n",
      "dtypes: float64(10), int64(4), object(3)\n",
      "memory usage: 2.6+ GB\n"
     ]
    }
   ],
   "source": [
    "# Overview\n",
    "merged_train_df.info()"
   ]
  },
  {
   "cell_type": "code",
   "execution_count": 17,
   "id": "fab1388b-2e73-48dc-88e5-e430e3499bcd",
   "metadata": {},
   "outputs": [
    {
     "data": {
      "text/plain": [
       "(20216100, 17)"
      ]
     },
     "execution_count": 17,
     "metadata": {},
     "output_type": "execute_result"
    }
   ],
   "source": [
    "# Shape\n",
    "merged_train_df.shape"
   ]
  },
  {
   "cell_type": "markdown",
   "id": "eabf2515-063c-475a-9a66-d772c63beb53",
   "metadata": {},
   "source": [
    "[back to TOC](#toc)"
   ]
  },
  {
   "cell_type": "markdown",
   "id": "ddbb7320-e877-49ce-a905-500b886a7dd8",
   "metadata": {},
   "source": [
    "<a id='bdw-2'></a>"
   ]
  },
  {
   "cell_type": "markdown",
   "id": "e7089d1d-0e3a-414c-acc8-31d397a1b6ca",
   "metadata": {},
   "source": [
    "## 1.2. Subset\n",
    "Take a subset of ~ 400k rows to speed PC process time. Continue analysis only with Healthcare records (397,992 rows)"
   ]
  },
  {
   "cell_type": "code",
   "execution_count": 23,
   "id": "a757188e-47e4-428b-ab42-69914d461461",
   "metadata": {},
   "outputs": [
    {
     "data": {
      "text/plain": [
       "primary_use\n",
       "Religious worship                  32361\n",
       "Utility                            56203\n",
       "Technology/science                 77627\n",
       "Services                           96519\n",
       "Warehouse/storage                 111861\n",
       "Retail                            112657\n",
       "Food sales and service            114090\n",
       "Manufacturing/industrial          125713\n",
       "Parking                           213796\n",
       "Other                             242222\n",
       "Healthcare                        398527\n",
       "Public services                  1662826\n",
       "Lodging/residential              2146413\n",
       "Entertainment/public assembly    2264917\n",
       "Office                           4394864\n",
       "Education                        8165504\n",
       "Name: primary_use, dtype: int64"
      ]
     },
     "execution_count": 23,
     "metadata": {},
     "output_type": "execute_result"
    }
   ],
   "source": [
    "# Count by unique values\n",
    "count_by_primary_use = merged_train_df.groupby(['primary_use'])['primary_use'].count()\n",
    "\n",
    "# Sort descending\n",
    "count_by_primary_use = count_by_primary_use.sort_values(ascending=True)\n",
    "count_by_primary_use"
   ]
  },
  {
   "cell_type": "code",
   "execution_count": 31,
   "id": "85c4dcde-a9bf-4d37-bb49-5267c33a3227",
   "metadata": {},
   "outputs": [
    {
     "data": {
      "image/png": "[encoded data removed]",
      "text/plain": [
       "<Figure size 800x600 with 1 Axes>"
      ]
     },
     "metadata": {},
     "output_type": "display_data"
    }
   ],
   "source": [
    "# Chart for 'primary_use', showing 'Healthcare' as the category to use for subset\n",
    "\n",
    "# Create horizontal bar\n",
    "plt.figure(figsize=(8,6))\n",
    "count_by_primary_use.plot(kind='barh', color='skyblue')\n",
    "\n",
    "plt.xlabel('Count')\n",
    "plt.ylabel('Primary Use')\n",
    "plt.title('Count by Primary Use building type')\n",
    "\n",
    "# Adding a dotted vertical line at count = 400000\n",
    "plt.axvline(x=400000, color='orange', linestyle='--')\n",
    "\n",
    "plt.show()"
   ]
  },
  {
   "cell_type": "code",
   "execution_count": 32,
   "id": "7e60fed8-5beb-40bb-8669-ff71894e09d3",
   "metadata": {},
   "outputs": [
    {
     "data": {
      "text/html": [
       "<div>\n",
       "<style scoped>\n",
       "    .dataframe tbody tr th:only-of-type {\n",
       "        vertical-align: middle;\n",
       "    }\n",
       "\n",
       "    .dataframe tbody tr th {\n",
       "        vertical-align: top;\n",
       "    }\n",
       "\n",
       "    .dataframe thead th {\n",
       "        text-align: right;\n",
       "    }\n",
       "</style>\n",
       "<table border=\"1\" class=\"dataframe\">\n",
       "  <thead>\n",
       "    <tr style=\"text-align: right;\">\n",
       "      <th></th>\n",
       "      <th>building_id</th>\n",
       "      <th>meter</th>\n",
       "      <th>meter_timestamp</th>\n",
       "      <th>meter_reading</th>\n",
       "      <th>site_id</th>\n",
       "      <th>primary_use</th>\n",
       "      <th>square_feet</th>\n",
       "      <th>year_built</th>\n",
       "      <th>floor_count</th>\n",
       "      <th>weather_timestamp</th>\n",
       "      <th>air_temperature</th>\n",
       "      <th>cloud_coverage</th>\n",
       "      <th>dew_temperature</th>\n",
       "      <th>precip_depth_1_hr</th>\n",
       "      <th>sea_level_pressure</th>\n",
       "      <th>wind_direction</th>\n",
       "      <th>wind_speed</th>\n",
       "    </tr>\n",
       "  </thead>\n",
       "  <tbody>\n",
       "    <tr>\n",
       "      <th>0</th>\n",
       "      <td>0</td>\n",
       "      <td>0</td>\n",
       "      <td>2016-01-01 00:00:00</td>\n",
       "      <td>0.0</td>\n",
       "      <td>0</td>\n",
       "      <td>Education</td>\n",
       "      <td>7432</td>\n",
       "      <td>2008.0</td>\n",
       "      <td>NaN</td>\n",
       "      <td>2016-01-01 00:00:00</td>\n",
       "      <td>25.0</td>\n",
       "      <td>6.0</td>\n",
       "      <td>20.0</td>\n",
       "      <td>NaN</td>\n",
       "      <td>1019.7</td>\n",
       "      <td>0.0</td>\n",
       "      <td>0.0</td>\n",
       "    </tr>\n",
       "    <tr>\n",
       "      <th>1</th>\n",
       "      <td>0</td>\n",
       "      <td>0</td>\n",
       "      <td>2016-01-01 01:00:00</td>\n",
       "      <td>0.0</td>\n",
       "      <td>0</td>\n",
       "      <td>Education</td>\n",
       "      <td>7432</td>\n",
       "      <td>2008.0</td>\n",
       "      <td>NaN</td>\n",
       "      <td>2016-01-01 01:00:00</td>\n",
       "      <td>24.4</td>\n",
       "      <td>NaN</td>\n",
       "      <td>21.1</td>\n",
       "      <td>-1.0</td>\n",
       "      <td>1020.2</td>\n",
       "      <td>70.0</td>\n",
       "      <td>1.5</td>\n",
       "    </tr>\n",
       "    <tr>\n",
       "      <th>2</th>\n",
       "      <td>0</td>\n",
       "      <td>0</td>\n",
       "      <td>2016-01-01 02:00:00</td>\n",
       "      <td>0.0</td>\n",
       "      <td>0</td>\n",
       "      <td>Education</td>\n",
       "      <td>7432</td>\n",
       "      <td>2008.0</td>\n",
       "      <td>NaN</td>\n",
       "      <td>2016-01-01 02:00:00</td>\n",
       "      <td>22.8</td>\n",
       "      <td>2.0</td>\n",
       "      <td>21.1</td>\n",
       "      <td>0.0</td>\n",
       "      <td>1020.2</td>\n",
       "      <td>0.0</td>\n",
       "      <td>0.0</td>\n",
       "    </tr>\n",
       "  </tbody>\n",
       "</table>\n",
       "</div>"
      ],
      "text/plain": [
       "   building_id  meter      meter_timestamp  meter_reading  site_id  \\\n",
       "0            0      0  2016-01-01 00:00:00            0.0        0   \n",
       "1            0      0  2016-01-01 01:00:00            0.0        0   \n",
       "2            0      0  2016-01-01 02:00:00            0.0        0   \n",
       "\n",
       "  primary_use  square_feet  year_built  floor_count    weather_timestamp  \\\n",
       "0   Education         7432      2008.0          NaN  2016-01-01 00:00:00   \n",
       "1   Education         7432      2008.0          NaN  2016-01-01 01:00:00   \n",
       "2   Education         7432      2008.0          NaN  2016-01-01 02:00:00   \n",
       "\n",
       "   air_temperature  cloud_coverage  dew_temperature  precip_depth_1_hr  \\\n",
       "0             25.0             6.0             20.0                NaN   \n",
       "1             24.4             NaN             21.1               -1.0   \n",
       "2             22.8             2.0             21.1                0.0   \n",
       "\n",
       "   sea_level_pressure  wind_direction  wind_speed  \n",
       "0              1019.7             0.0         0.0  \n",
       "1              1020.2            70.0         1.5  \n",
       "2              1020.2             0.0         0.0  "
      ]
     },
     "execution_count": 32,
     "metadata": {},
     "output_type": "execute_result"
    }
   ],
   "source": [
    "merged_train_df.head(3)"
   ]
  },
  {
   "cell_type": "markdown",
   "id": "d206e7b8-fbd2-4d4e-9658-e167b0027c52",
   "metadata": {},
   "source": [
    "### Distribution for meter_reading"
   ]
  },
  {
   "cell_type": "code",
   "execution_count": 33,
   "id": "a9302e17-fb0b-4764-9056-568586ee5458",
   "metadata": {},
   "outputs": [
    {
     "data": {
      "text/plain": [
       "16"
      ]
     },
     "execution_count": 33,
     "metadata": {},
     "output_type": "execute_result"
    }
   ],
   "source": [
    "merged_train_df[\"primary_use\"].nunique()"
   ]
  },
  {
   "cell_type": "code",
   "execution_count": 34,
   "id": "bcb2683d-d08c-47dc-bd95-96afb68211cb",
   "metadata": {},
   "outputs": [
    {
     "data": {
      "text/plain": [
       "array(['Education', 'Lodging/residential', 'Office',\n",
       "       'Entertainment/public assembly', 'Other', 'Retail', 'Parking',\n",
       "       'Public services', 'Warehouse/storage', 'Food sales and service',\n",
       "       'Religious worship', 'Healthcare', 'Utility', 'Technology/science',\n",
       "       'Manufacturing/industrial', 'Services'], dtype=object)"
      ]
     },
     "execution_count": 34,
     "metadata": {},
     "output_type": "execute_result"
    }
   ],
   "source": [
    "merged_train_df[\"primary_use\"].unique()"
   ]
  },
  {
   "cell_type": "code",
   "execution_count": 35,
   "id": "6dbff4c6-6886-45a8-97de-a4ba4eda8630",
   "metadata": {
    "collapsed": true,
    "jupyter": {
     "outputs_hidden": true
    }
   },
   "outputs": [
    {
     "ename": "KeyboardInterrupt",
     "evalue": "",
     "output_type": "error",
     "traceback": [
      "\u001b[1;31m---------------------------------------------------------------------------\u001b[0m",
      "\u001b[1;31mKeyboardInterrupt\u001b[0m                         Traceback (most recent call last)",
      "Cell \u001b[1;32mIn[35], line 12\u001b[0m\n\u001b[0;32m     10\u001b[0m     plt\u001b[38;5;241m.\u001b[39msubplot(\u001b[38;5;241m4\u001b[39m,\u001b[38;5;241m4\u001b[39m,counter)\n\u001b[0;32m     11\u001b[0m     subset_data \u001b[38;5;241m=\u001b[39m merged_train_df[merged_train_df[\u001b[38;5;124m'\u001b[39m\u001b[38;5;124mprimary_use\u001b[39m\u001b[38;5;124m'\u001b[39m] \u001b[38;5;241m==\u001b[39m use]\n\u001b[1;32m---> 12\u001b[0m     sns\u001b[38;5;241m.\u001b[39mhistplot(subset_data[\u001b[38;5;124m'\u001b[39m\u001b[38;5;124mmeter_reading\u001b[39m\u001b[38;5;124m'\u001b[39m])\n\u001b[0;32m     13\u001b[0m     counter\u001b[38;5;241m+\u001b[39m\u001b[38;5;241m=\u001b[39m\u001b[38;5;241m1\u001b[39m\n\u001b[0;32m     15\u001b[0m \u001b[38;5;66;03m# Ensure proper spacing and no overlapping\u001b[39;00m\n",
      "File \u001b[1;32m~\\anaconda3\\Lib\\site-packages\\seaborn\\distributions.py:1432\u001b[0m, in \u001b[0;36mhistplot\u001b[1;34m(data, x, y, hue, weights, stat, bins, binwidth, binrange, discrete, cumulative, common_bins, common_norm, multiple, element, fill, shrink, kde, kde_kws, line_kws, thresh, pthresh, pmax, cbar, cbar_ax, cbar_kws, palette, hue_order, hue_norm, color, log_scale, legend, ax, **kwargs)\u001b[0m\n\u001b[0;32m   1421\u001b[0m estimate_kws \u001b[38;5;241m=\u001b[39m \u001b[38;5;28mdict\u001b[39m(\n\u001b[0;32m   1422\u001b[0m     stat\u001b[38;5;241m=\u001b[39mstat,\n\u001b[0;32m   1423\u001b[0m     bins\u001b[38;5;241m=\u001b[39mbins,\n\u001b[1;32m   (...)\u001b[0m\n\u001b[0;32m   1427\u001b[0m     cumulative\u001b[38;5;241m=\u001b[39mcumulative,\n\u001b[0;32m   1428\u001b[0m )\n\u001b[0;32m   1430\u001b[0m \u001b[38;5;28;01mif\u001b[39;00m p\u001b[38;5;241m.\u001b[39munivariate:\n\u001b[1;32m-> 1432\u001b[0m     p\u001b[38;5;241m.\u001b[39mplot_univariate_histogram(\n\u001b[0;32m   1433\u001b[0m         multiple\u001b[38;5;241m=\u001b[39mmultiple,\n\u001b[0;32m   1434\u001b[0m         element\u001b[38;5;241m=\u001b[39melement,\n\u001b[0;32m   1435\u001b[0m         fill\u001b[38;5;241m=\u001b[39mfill,\n\u001b[0;32m   1436\u001b[0m         shrink\u001b[38;5;241m=\u001b[39mshrink,\n\u001b[0;32m   1437\u001b[0m         common_norm\u001b[38;5;241m=\u001b[39mcommon_norm,\n\u001b[0;32m   1438\u001b[0m         common_bins\u001b[38;5;241m=\u001b[39mcommon_bins,\n\u001b[0;32m   1439\u001b[0m         kde\u001b[38;5;241m=\u001b[39mkde,\n\u001b[0;32m   1440\u001b[0m         kde_kws\u001b[38;5;241m=\u001b[39mkde_kws,\n\u001b[0;32m   1441\u001b[0m         color\u001b[38;5;241m=\u001b[39mcolor,\n\u001b[0;32m   1442\u001b[0m         legend\u001b[38;5;241m=\u001b[39mlegend,\n\u001b[0;32m   1443\u001b[0m         estimate_kws\u001b[38;5;241m=\u001b[39mestimate_kws,\n\u001b[0;32m   1444\u001b[0m         line_kws\u001b[38;5;241m=\u001b[39mline_kws,\n\u001b[0;32m   1445\u001b[0m         \u001b[38;5;241m*\u001b[39m\u001b[38;5;241m*\u001b[39mkwargs,\n\u001b[0;32m   1446\u001b[0m     )\n\u001b[0;32m   1448\u001b[0m \u001b[38;5;28;01melse\u001b[39;00m:\n\u001b[0;32m   1450\u001b[0m     p\u001b[38;5;241m.\u001b[39mplot_bivariate_histogram(\n\u001b[0;32m   1451\u001b[0m         common_bins\u001b[38;5;241m=\u001b[39mcommon_bins,\n\u001b[0;32m   1452\u001b[0m         common_norm\u001b[38;5;241m=\u001b[39mcommon_norm,\n\u001b[1;32m   (...)\u001b[0m\n\u001b[0;32m   1462\u001b[0m         \u001b[38;5;241m*\u001b[39m\u001b[38;5;241m*\u001b[39mkwargs,\n\u001b[0;32m   1463\u001b[0m     )\n",
      "File \u001b[1;32m~\\anaconda3\\Lib\\site-packages\\seaborn\\distributions.py:575\u001b[0m, in \u001b[0;36m_DistributionPlotter.plot_univariate_histogram\u001b[1;34m(self, multiple, element, fill, common_norm, common_bins, shrink, kde, kde_kws, color, legend, line_kws, estimate_kws, **plot_kws)\u001b[0m\n\u001b[0;32m    570\u001b[0m \u001b[38;5;28;01mif\u001b[39;00m element \u001b[38;5;241m==\u001b[39m \u001b[38;5;124m\"\u001b[39m\u001b[38;5;124mbars\u001b[39m\u001b[38;5;124m\"\u001b[39m:\n\u001b[0;32m    571\u001b[0m \n\u001b[0;32m    572\u001b[0m     \u001b[38;5;66;03m# Use matplotlib bar plotting\u001b[39;00m\n\u001b[0;32m    574\u001b[0m     plot_func \u001b[38;5;241m=\u001b[39m ax\u001b[38;5;241m.\u001b[39mbar \u001b[38;5;28;01mif\u001b[39;00m \u001b[38;5;28mself\u001b[39m\u001b[38;5;241m.\u001b[39mdata_variable \u001b[38;5;241m==\u001b[39m \u001b[38;5;124m\"\u001b[39m\u001b[38;5;124mx\u001b[39m\u001b[38;5;124m\"\u001b[39m \u001b[38;5;28;01melse\u001b[39;00m ax\u001b[38;5;241m.\u001b[39mbarh\n\u001b[1;32m--> 575\u001b[0m     artists \u001b[38;5;241m=\u001b[39m plot_func(\n\u001b[0;32m    576\u001b[0m         hist[\u001b[38;5;124m\"\u001b[39m\u001b[38;5;124medges\u001b[39m\u001b[38;5;124m\"\u001b[39m],\n\u001b[0;32m    577\u001b[0m         hist[\u001b[38;5;124m\"\u001b[39m\u001b[38;5;124mheights\u001b[39m\u001b[38;5;124m\"\u001b[39m] \u001b[38;5;241m-\u001b[39m bottom,\n\u001b[0;32m    578\u001b[0m         hist[\u001b[38;5;124m\"\u001b[39m\u001b[38;5;124mwidths\u001b[39m\u001b[38;5;124m\"\u001b[39m],\n\u001b[0;32m    579\u001b[0m         bottom,\n\u001b[0;32m    580\u001b[0m         align\u001b[38;5;241m=\u001b[39m\u001b[38;5;124m\"\u001b[39m\u001b[38;5;124medge\u001b[39m\u001b[38;5;124m\"\u001b[39m,\n\u001b[0;32m    581\u001b[0m         \u001b[38;5;241m*\u001b[39m\u001b[38;5;241m*\u001b[39martist_kws,\n\u001b[0;32m    582\u001b[0m     )\n\u001b[0;32m    584\u001b[0m     \u001b[38;5;28;01mfor\u001b[39;00m bar \u001b[38;5;129;01min\u001b[39;00m artists:\n\u001b[0;32m    585\u001b[0m         \u001b[38;5;28;01mif\u001b[39;00m \u001b[38;5;28mself\u001b[39m\u001b[38;5;241m.\u001b[39mdata_variable \u001b[38;5;241m==\u001b[39m \u001b[38;5;124m\"\u001b[39m\u001b[38;5;124mx\u001b[39m\u001b[38;5;124m\"\u001b[39m:\n",
      "File \u001b[1;32m~\\anaconda3\\Lib\\site-packages\\matplotlib\\__init__.py:1446\u001b[0m, in \u001b[0;36m_preprocess_data.<locals>.inner\u001b[1;34m(ax, data, *args, **kwargs)\u001b[0m\n\u001b[0;32m   1443\u001b[0m \u001b[38;5;129m@functools\u001b[39m\u001b[38;5;241m.\u001b[39mwraps(func)\n\u001b[0;32m   1444\u001b[0m \u001b[38;5;28;01mdef\u001b[39;00m \u001b[38;5;21minner\u001b[39m(ax, \u001b[38;5;241m*\u001b[39margs, data\u001b[38;5;241m=\u001b[39m\u001b[38;5;28;01mNone\u001b[39;00m, \u001b[38;5;241m*\u001b[39m\u001b[38;5;241m*\u001b[39mkwargs):\n\u001b[0;32m   1445\u001b[0m     \u001b[38;5;28;01mif\u001b[39;00m data \u001b[38;5;129;01mis\u001b[39;00m \u001b[38;5;28;01mNone\u001b[39;00m:\n\u001b[1;32m-> 1446\u001b[0m         \u001b[38;5;28;01mreturn\u001b[39;00m func(ax, \u001b[38;5;241m*\u001b[39m\u001b[38;5;28mmap\u001b[39m(sanitize_sequence, args), \u001b[38;5;241m*\u001b[39m\u001b[38;5;241m*\u001b[39mkwargs)\n\u001b[0;32m   1448\u001b[0m     bound \u001b[38;5;241m=\u001b[39m new_sig\u001b[38;5;241m.\u001b[39mbind(ax, \u001b[38;5;241m*\u001b[39margs, \u001b[38;5;241m*\u001b[39m\u001b[38;5;241m*\u001b[39mkwargs)\n\u001b[0;32m   1449\u001b[0m     auto_label \u001b[38;5;241m=\u001b[39m (bound\u001b[38;5;241m.\u001b[39marguments\u001b[38;5;241m.\u001b[39mget(label_namer)\n\u001b[0;32m   1450\u001b[0m                   \u001b[38;5;129;01mor\u001b[39;00m bound\u001b[38;5;241m.\u001b[39mkwargs\u001b[38;5;241m.\u001b[39mget(label_namer))\n",
      "File \u001b[1;32m~\\anaconda3\\Lib\\site-packages\\matplotlib\\axes\\_axes.py:2405\u001b[0m, in \u001b[0;36mAxes.bar\u001b[1;34m(self, x, height, width, bottom, align, **kwargs)\u001b[0m\n\u001b[0;32m   2403\u001b[0m y0 \u001b[38;5;241m=\u001b[39m y\n\u001b[0;32m   2404\u001b[0m y \u001b[38;5;241m=\u001b[39m np\u001b[38;5;241m.\u001b[39masarray(\u001b[38;5;28mself\u001b[39m\u001b[38;5;241m.\u001b[39mconvert_yunits(y))\n\u001b[1;32m-> 2405\u001b[0m height \u001b[38;5;241m=\u001b[39m \u001b[38;5;28mself\u001b[39m\u001b[38;5;241m.\u001b[39m_convert_dx(height, y0, y, \u001b[38;5;28mself\u001b[39m\u001b[38;5;241m.\u001b[39mconvert_yunits)\n\u001b[0;32m   2406\u001b[0m \u001b[38;5;28;01mif\u001b[39;00m yerr \u001b[38;5;129;01mis\u001b[39;00m \u001b[38;5;129;01mnot\u001b[39;00m \u001b[38;5;28;01mNone\u001b[39;00m:\n\u001b[0;32m   2407\u001b[0m     yerr \u001b[38;5;241m=\u001b[39m \u001b[38;5;28mself\u001b[39m\u001b[38;5;241m.\u001b[39m_convert_dx(yerr, y0, y, \u001b[38;5;28mself\u001b[39m\u001b[38;5;241m.\u001b[39mconvert_yunits)\n",
      "File \u001b[1;32m~\\anaconda3\\Lib\\site-packages\\matplotlib\\axes\\_axes.py:2221\u001b[0m, in \u001b[0;36mAxes._convert_dx\u001b[1;34m(dx, x0, xconv, convert)\u001b[0m\n\u001b[0;32m   2219\u001b[0m     dx \u001b[38;5;241m=\u001b[39m [dx]\n\u001b[0;32m   2220\u001b[0m     delist \u001b[38;5;241m=\u001b[39m \u001b[38;5;28;01mTrue\u001b[39;00m\n\u001b[1;32m-> 2221\u001b[0m dx \u001b[38;5;241m=\u001b[39m [convert(x0 \u001b[38;5;241m+\u001b[39m ddx) \u001b[38;5;241m-\u001b[39m x \u001b[38;5;28;01mfor\u001b[39;00m ddx \u001b[38;5;129;01min\u001b[39;00m dx]\n\u001b[0;32m   2222\u001b[0m \u001b[38;5;28;01mif\u001b[39;00m delist:\n\u001b[0;32m   2223\u001b[0m     dx \u001b[38;5;241m=\u001b[39m dx[\u001b[38;5;241m0\u001b[39m]\n",
      "File \u001b[1;32m~\\anaconda3\\Lib\\site-packages\\matplotlib\\axes\\_axes.py:2221\u001b[0m, in \u001b[0;36m<listcomp>\u001b[1;34m(.0)\u001b[0m\n\u001b[0;32m   2219\u001b[0m     dx \u001b[38;5;241m=\u001b[39m [dx]\n\u001b[0;32m   2220\u001b[0m     delist \u001b[38;5;241m=\u001b[39m \u001b[38;5;28;01mTrue\u001b[39;00m\n\u001b[1;32m-> 2221\u001b[0m dx \u001b[38;5;241m=\u001b[39m [convert(x0 \u001b[38;5;241m+\u001b[39m ddx) \u001b[38;5;241m-\u001b[39m x \u001b[38;5;28;01mfor\u001b[39;00m ddx \u001b[38;5;129;01min\u001b[39;00m dx]\n\u001b[0;32m   2222\u001b[0m \u001b[38;5;28;01mif\u001b[39;00m delist:\n\u001b[0;32m   2223\u001b[0m     dx \u001b[38;5;241m=\u001b[39m dx[\u001b[38;5;241m0\u001b[39m]\n",
      "File \u001b[1;32m~\\anaconda3\\Lib\\site-packages\\matplotlib\\artist.py:290\u001b[0m, in \u001b[0;36mArtist.convert_yunits\u001b[1;34m(self, y)\u001b[0m\n\u001b[0;32m    283\u001b[0m \u001b[38;5;28;01mdef\u001b[39;00m \u001b[38;5;21mconvert_yunits\u001b[39m(\u001b[38;5;28mself\u001b[39m, y):\n\u001b[0;32m    284\u001b[0m \u001b[38;5;250m    \u001b[39m\u001b[38;5;124;03m\"\"\"\u001b[39;00m\n\u001b[0;32m    285\u001b[0m \u001b[38;5;124;03m    Convert *y* using the unit type of the yaxis.\u001b[39;00m\n\u001b[0;32m    286\u001b[0m \n\u001b[0;32m    287\u001b[0m \u001b[38;5;124;03m    If the artist is not contained in an Axes or if the yaxis does not\u001b[39;00m\n\u001b[0;32m    288\u001b[0m \u001b[38;5;124;03m    have units, *y* itself is returned.\u001b[39;00m\n\u001b[0;32m    289\u001b[0m \u001b[38;5;124;03m    \"\"\"\u001b[39;00m\n\u001b[1;32m--> 290\u001b[0m     ax \u001b[38;5;241m=\u001b[39m \u001b[38;5;28mgetattr\u001b[39m(\u001b[38;5;28mself\u001b[39m, \u001b[38;5;124m'\u001b[39m\u001b[38;5;124maxes\u001b[39m\u001b[38;5;124m'\u001b[39m, \u001b[38;5;28;01mNone\u001b[39;00m)\n\u001b[0;32m    291\u001b[0m     \u001b[38;5;28;01mif\u001b[39;00m ax \u001b[38;5;129;01mis\u001b[39;00m \u001b[38;5;28;01mNone\u001b[39;00m \u001b[38;5;129;01mor\u001b[39;00m ax\u001b[38;5;241m.\u001b[39myaxis \u001b[38;5;129;01mis\u001b[39;00m \u001b[38;5;28;01mNone\u001b[39;00m:\n\u001b[0;32m    292\u001b[0m         \u001b[38;5;28;01mreturn\u001b[39;00m y\n",
      "File \u001b[1;32m~\\anaconda3\\Lib\\site-packages\\matplotlib\\artist.py:295\u001b[0m, in \u001b[0;36mArtist.axes\u001b[1;34m(self)\u001b[0m\n\u001b[0;32m    292\u001b[0m         \u001b[38;5;28;01mreturn\u001b[39;00m y\n\u001b[0;32m    293\u001b[0m     \u001b[38;5;28;01mreturn\u001b[39;00m ax\u001b[38;5;241m.\u001b[39myaxis\u001b[38;5;241m.\u001b[39mconvert_units(y)\n\u001b[1;32m--> 295\u001b[0m \u001b[38;5;129m@property\u001b[39m\n\u001b[0;32m    296\u001b[0m \u001b[38;5;28;01mdef\u001b[39;00m \u001b[38;5;21maxes\u001b[39m(\u001b[38;5;28mself\u001b[39m):\n\u001b[0;32m    297\u001b[0m \u001b[38;5;250m    \u001b[39m\u001b[38;5;124;03m\"\"\"The `~.axes.Axes` instance the artist resides in, or *None*.\"\"\"\u001b[39;00m\n\u001b[0;32m    298\u001b[0m     \u001b[38;5;28;01mreturn\u001b[39;00m \u001b[38;5;28mself\u001b[39m\u001b[38;5;241m.\u001b[39m_axes\n",
      "\u001b[1;31mKeyboardInterrupt\u001b[0m: "
     ]
    },
    {
     "data": {
      "image/png": "[encoded data removed]",
      "text/plain": [
       "<Figure size 1500x1000 with 16 Axes>"
      ]
     },
     "metadata": {},
     "output_type": "display_data"
    }
   ],
   "source": [
    "# DOES NOT WORK\n",
    "# Plotting 'meter_reading' histogram for each 'primary_use'\n",
    "plt.subplots(4,4, figsize=(15,10))\n",
    "\n",
    "# Get unique 'primary_use' values\n",
    "unique_primary_use = merged_train_df['primary_use'].unique()\n",
    "# Set counter\n",
    "counter=1\n",
    "\n",
    "for use in unique_primary_use:\n",
    "    plt.subplot(4,4,counter)\n",
    "    subset_data = merged_train_df[merged_train_df['primary_use'] == use]\n",
    "    sns.histplot(subset_data['meter_reading'])\n",
    "    counter+=1\n",
    "\n",
    "# Ensure proper spacing and no overlapping\n",
    "plt.tight_layout()"
   ]
  },
  {
   "cell_type": "code",
   "execution_count": null,
   "id": "c3d6fc4c-5213-4b28-a4a0-32cf5341e6af",
   "metadata": {},
   "outputs": [],
   "source": []
  },
  {
   "cell_type": "code",
   "execution_count": null,
   "id": "831e1ce5-665f-4275-af48-9a9adea6bdb7",
   "metadata": {},
   "outputs": [],
   "source": []
  },
  {
   "cell_type": "code",
   "execution_count": 42,
   "id": "bb5591f1-9870-46af-a4e8-98f5ccb44137",
   "metadata": {},
   "outputs": [
    {
     "data": {
      "text/plain": [
       "<Axes: xlabel='meter_reading', ylabel='Count'>"
      ]
     },
     "execution_count": 42,
     "metadata": {},
     "output_type": "execute_result"
    },
    {
     "data": {
      "image/png": "[encoded data removed]",
      "text/plain": [
       "<Figure size 400x300 with 1 Axes>"
      ]
     },
     "metadata": {},
     "output_type": "display_data"
    }
   ],
   "source": [
    "# Filter data where 'primary_use' is 'Education'\n",
    "education_data = merged_train_df[merged_train_df['primary_use'] == 'Religious worship']\n",
    "# Create histogram using Seaborn\n",
    "plt.figure(figsize=(4,3))\n",
    "sns.histplot(education_data['meter_reading'], bins=10, color='skyblue')"
   ]
  },
  {
   "cell_type": "code",
   "execution_count": 41,
   "id": "198a5f8a-fbf9-473e-b890-4f419ca26da7",
   "metadata": {},
   "outputs": [
    {
     "data": {
      "text/plain": [
       "<Axes: xlabel='meter_reading', ylabel='Count'>"
      ]
     },
     "execution_count": 41,
     "metadata": {},
     "output_type": "execute_result"
    },
    {
     "data": {
      "image/png": "[encoded data removed]",
      "text/plain": [
       "<Figure size 400x300 with 1 Axes>"
      ]
     },
     "metadata": {},
     "output_type": "display_data"
    }
   ],
   "source": [
    "# Filter data where 'primary_use' is 'Education'\n",
    "education_data = merged_train_df[merged_train_df['primary_use'] == 'Food sales and service']\n",
    "# Create histogram using Seaborn\n",
    "plt.figure(figsize=(4,3))\n",
    "sns.histplot(education_data['meter_reading'], bins=10, color='skyblue')"
   ]
  },
  {
   "cell_type": "code",
   "execution_count": 40,
   "id": "d490f45b-17c3-42b2-b930-c299c2ea307e",
   "metadata": {},
   "outputs": [
    {
     "data": {
      "text/plain": [
       "<Axes: xlabel='meter_reading', ylabel='Count'>"
      ]
     },
     "execution_count": 40,
     "metadata": {},
     "output_type": "execute_result"
    },
    {
     "data": {
      "image/png": "[encoded data removed]",
      "text/plain": [
       "<Figure size 400x300 with 1 Axes>"
      ]
     },
     "metadata": {},
     "output_type": "display_data"
    }
   ],
   "source": [
    "# Filter data where 'primary_use' is 'Education'\n",
    "education_data = merged_train_df[merged_train_df['primary_use'] == 'Warehouse/storage']\n",
    "# Create histogram using Seaborn\n",
    "plt.figure(figsize=(4,3))\n",
    "sns.histplot(education_data['meter_reading'], bins=10, color='skyblue')"
   ]
  },
  {
   "cell_type": "code",
   "execution_count": 37,
   "id": "a59d3524-b659-4397-89e4-908a21e73d37",
   "metadata": {},
   "outputs": [
    {
     "data": {
      "text/plain": [
       "<Axes: xlabel='meter_reading', ylabel='Count'>"
      ]
     },
     "execution_count": 37,
     "metadata": {},
     "output_type": "execute_result"
    },
    {
     "data": {
      "image/png": "[encoded data removed]",
      "text/plain": [
       "<Figure size 400x300 with 1 Axes>"
      ]
     },
     "metadata": {},
     "output_type": "display_data"
    }
   ],
   "source": [
    "# Filter data where 'primary_use' is 'Education'\n",
    "education_data = merged_train_df[merged_train_df['primary_use'] == 'Retail']\n",
    "# Create histogram using Seaborn\n",
    "plt.figure(figsize=(4,3))\n",
    "sns.histplot(education_data['meter_reading'], bins=10, color='skyblue')"
   ]
  },
  {
   "cell_type": "code",
   "execution_count": 43,
   "id": "ee2c3a48-03b1-4bc2-8c8e-634325fdc23e",
   "metadata": {},
   "outputs": [
    {
     "data": {
      "text/plain": [
       "<Axes: xlabel='meter_reading', ylabel='Count'>"
      ]
     },
     "execution_count": 43,
     "metadata": {},
     "output_type": "execute_result"
    },
    {
     "data": {
      "image/png": "[encoded data removed]",
      "text/plain": [
       "<Figure size 400x300 with 1 Axes>"
      ]
     },
     "metadata": {},
     "output_type": "display_data"
    }
   ],
   "source": [
    "# Filter data where 'primary_use' is 'Education'\n",
    "education_data = merged_train_df[merged_train_df['primary_use'] == 'Healthcare']\n",
    "# Create histogram using Seaborn\n",
    "plt.figure(figsize=(4,3))\n",
    "sns.histplot(education_data['meter_reading'], bins=10, color='skyblue')"
   ]
  },
  {
   "cell_type": "code",
   "execution_count": 39,
   "id": "b8025551-3682-4fa1-b0de-86de7f06d3b0",
   "metadata": {},
   "outputs": [
    {
     "data": {
      "text/plain": [
       "<Axes: xlabel='meter_reading', ylabel='Count'>"
      ]
     },
     "execution_count": 39,
     "metadata": {},
     "output_type": "execute_result"
    },
    {
     "data": {
      "image/png": "[encoded data removed]",
      "text/plain": [
       "<Figure size 400x300 with 1 Axes>"
      ]
     },
     "metadata": {},
     "output_type": "display_data"
    }
   ],
   "source": [
    "# Filter data where 'primary_use' is 'Education'\n",
    "education_data = merged_train_df[merged_train_df['primary_use'] == 'Public services']\n",
    "# Create histogram using Seaborn\n",
    "plt.figure(figsize=(4,3))\n",
    "sns.histplot(education_data['meter_reading'], bins=10, color='skyblue')"
   ]
  },
  {
   "cell_type": "code",
   "execution_count": 33,
   "id": "92faa1d5-bf04-4920-ab48-918bc8c4bbef",
   "metadata": {},
   "outputs": [
    {
     "data": {
      "text/plain": [
       "<Axes: xlabel='meter_reading', ylabel='Count'>"
      ]
     },
     "execution_count": 33,
     "metadata": {},
     "output_type": "execute_result"
    },
    {
     "data": {
      "image/png": "[encoded data removed]",
      "text/plain": [
       "<Figure size 400x300 with 1 Axes>"
      ]
     },
     "metadata": {},
     "output_type": "display_data"
    }
   ],
   "source": [
    "# Filter data where 'primary_use' is 'Education'\n",
    "education_data = merged_train_df[merged_train_df['primary_use'] == 'Lodging/residential']\n",
    "# Create histogram using Seaborn\n",
    "plt.figure(figsize=(4,3))\n",
    "sns.histplot(education_data['meter_reading'], bins=10, color='skyblue')"
   ]
  },
  {
   "cell_type": "code",
   "execution_count": 36,
   "id": "bf6ea9bd-3c2b-45ff-817b-2025215dcf3d",
   "metadata": {},
   "outputs": [
    {
     "data": {
      "text/plain": [
       "<Axes: xlabel='meter_reading', ylabel='Count'>"
      ]
     },
     "execution_count": 36,
     "metadata": {},
     "output_type": "execute_result"
    },
    {
     "data": {
      "image/png": "[encoded data removed]",
      "text/plain": [
       "<Figure size 400x300 with 1 Axes>"
      ]
     },
     "metadata": {},
     "output_type": "display_data"
    }
   ],
   "source": [
    "# Filter data where 'primary_use' is 'Education'\n",
    "education_data = merged_train_df[merged_train_df['primary_use'] == 'Entertainment/public assembly']\n",
    "# Create histogram using Seaborn\n",
    "plt.figure(figsize=(4,3))\n",
    "sns.histplot(education_data['meter_reading'], bins=10, color='skyblue')"
   ]
  },
  {
   "cell_type": "code",
   "execution_count": 35,
   "id": "163af88d-1ae9-41a4-86e7-f39163ee0a83",
   "metadata": {},
   "outputs": [
    {
     "data": {
      "text/plain": [
       "<Axes: xlabel='meter_reading', ylabel='Count'>"
      ]
     },
     "execution_count": 35,
     "metadata": {},
     "output_type": "execute_result"
    },
    {
     "data": {
      "image/png": "[encoded data removed]",
      "text/plain": [
       "<Figure size 400x300 with 1 Axes>"
      ]
     },
     "metadata": {},
     "output_type": "display_data"
    }
   ],
   "source": [
    "# Filter data where 'primary_use' is 'Education'\n",
    "education_data = merged_train_df[merged_train_df['primary_use'] == 'Office']\n",
    "# Create histogram using Seaborn\n",
    "plt.figure(figsize=(4,3))\n",
    "sns.histplot(education_data['meter_reading'], bins=10, color='skyblue')"
   ]
  },
  {
   "cell_type": "code",
   "execution_count": 34,
   "id": "c15928c9-4096-48be-a2ac-bdd25282f4f7",
   "metadata": {},
   "outputs": [
    {
     "data": {
      "text/plain": [
       "<Axes: xlabel='meter_reading', ylabel='Count'>"
      ]
     },
     "execution_count": 34,
     "metadata": {},
     "output_type": "execute_result"
    },
    {
     "data": {
      "image/png": "[encoded data removed]",
      "text/plain": [
       "<Figure size 400x300 with 1 Axes>"
      ]
     },
     "metadata": {},
     "output_type": "display_data"
    }
   ],
   "source": [
    "# Plotting 'meter_reading' histogram for each 'primary_use'\n",
    "\n",
    "# Filter data where 'primary_use' is 'Education'\n",
    "education_data = merged_train_df[merged_train_df['primary_use'] == 'Education']\n",
    "\n",
    "# Create histogram using Seaborn\n",
    "plt.figure(figsize=(4,3))\n",
    "sns.histplot(education_data['meter_reading'], bins=10, color='skyblue')"
   ]
  },
  {
   "cell_type": "code",
   "execution_count": null,
   "id": "50ba0090-73fb-487c-9f97-c07da1d57f30",
   "metadata": {},
   "outputs": [],
   "source": []
  },
  {
   "cell_type": "markdown",
   "id": "3c1e06f3-7867-49a4-b00d-f8521df3d414",
   "metadata": {},
   "source": [
    "Continue analysis only with Healthcare records (397,992 rows)"
   ]
  },
  {
   "cell_type": "code",
   "execution_count": null,
   "id": "5d523488-db30-45e2-a0f7-c5fd5b8e4c26",
   "metadata": {},
   "outputs": [],
   "source": []
  },
  {
   "cell_type": "code",
   "execution_count": 36,
   "id": "58575f0d-91b7-44c0-8d70-5c8ae36fb88f",
   "metadata": {
    "scrolled": true
   },
   "outputs": [
    {
     "data": {
      "text/html": [
       "<div>\n",
       "<style scoped>\n",
       "    .dataframe tbody tr th:only-of-type {\n",
       "        vertical-align: middle;\n",
       "    }\n",
       "\n",
       "    .dataframe tbody tr th {\n",
       "        vertical-align: top;\n",
       "    }\n",
       "\n",
       "    .dataframe thead th {\n",
       "        text-align: right;\n",
       "    }\n",
       "</style>\n",
       "<table border=\"1\" class=\"dataframe\">\n",
       "  <thead>\n",
       "    <tr style=\"text-align: right;\">\n",
       "      <th></th>\n",
       "      <th>building_id</th>\n",
       "      <th>meter</th>\n",
       "      <th>meter_timestamp</th>\n",
       "      <th>meter_reading</th>\n",
       "      <th>site_id</th>\n",
       "      <th>primary_use</th>\n",
       "      <th>square_feet</th>\n",
       "      <th>year_built</th>\n",
       "      <th>floor_count</th>\n",
       "      <th>weather_timestamp</th>\n",
       "      <th>air_temperature</th>\n",
       "      <th>cloud_coverage</th>\n",
       "      <th>dew_temperature</th>\n",
       "      <th>precip_depth_1_hr</th>\n",
       "      <th>sea_level_pressure</th>\n",
       "      <th>wind_direction</th>\n",
       "      <th>wind_speed</th>\n",
       "    </tr>\n",
       "  </thead>\n",
       "  <tbody>\n",
       "    <tr>\n",
       "      <th>2600276</th>\n",
       "      <td>208</td>\n",
       "      <td>0</td>\n",
       "      <td>2016-01-01 00:00:00</td>\n",
       "      <td>77.2900</td>\n",
       "      <td>2</td>\n",
       "      <td>Healthcare</td>\n",
       "      <td>36904</td>\n",
       "      <td>1934.0</td>\n",
       "      <td>NaN</td>\n",
       "      <td>2016-01-01 00:00:00</td>\n",
       "      <td>15.6</td>\n",
       "      <td>6.0</td>\n",
       "      <td>-5.6</td>\n",
       "      <td>NaN</td>\n",
       "      <td>1015.3</td>\n",
       "      <td>270.0</td>\n",
       "      <td>3.6</td>\n",
       "    </tr>\n",
       "    <tr>\n",
       "      <th>2600277</th>\n",
       "      <td>208</td>\n",
       "      <td>1</td>\n",
       "      <td>2016-01-01 00:00:00</td>\n",
       "      <td>0.1055</td>\n",
       "      <td>2</td>\n",
       "      <td>Healthcare</td>\n",
       "      <td>36904</td>\n",
       "      <td>1934.0</td>\n",
       "      <td>NaN</td>\n",
       "      <td>2016-01-01 00:00:00</td>\n",
       "      <td>15.6</td>\n",
       "      <td>6.0</td>\n",
       "      <td>-5.6</td>\n",
       "      <td>NaN</td>\n",
       "      <td>1015.3</td>\n",
       "      <td>270.0</td>\n",
       "      <td>3.6</td>\n",
       "    </tr>\n",
       "    <tr>\n",
       "      <th>2600278</th>\n",
       "      <td>208</td>\n",
       "      <td>0</td>\n",
       "      <td>2016-01-01 01:00:00</td>\n",
       "      <td>87.0900</td>\n",
       "      <td>2</td>\n",
       "      <td>Healthcare</td>\n",
       "      <td>36904</td>\n",
       "      <td>1934.0</td>\n",
       "      <td>NaN</td>\n",
       "      <td>2016-01-01 01:00:00</td>\n",
       "      <td>13.9</td>\n",
       "      <td>NaN</td>\n",
       "      <td>-5.6</td>\n",
       "      <td>0.0</td>\n",
       "      <td>1015.6</td>\n",
       "      <td>270.0</td>\n",
       "      <td>4.1</td>\n",
       "    </tr>\n",
       "    <tr>\n",
       "      <th>2600279</th>\n",
       "      <td>208</td>\n",
       "      <td>1</td>\n",
       "      <td>2016-01-01 01:00:00</td>\n",
       "      <td>0.1407</td>\n",
       "      <td>2</td>\n",
       "      <td>Healthcare</td>\n",
       "      <td>36904</td>\n",
       "      <td>1934.0</td>\n",
       "      <td>NaN</td>\n",
       "      <td>2016-01-01 01:00:00</td>\n",
       "      <td>13.9</td>\n",
       "      <td>NaN</td>\n",
       "      <td>-5.6</td>\n",
       "      <td>0.0</td>\n",
       "      <td>1015.6</td>\n",
       "      <td>270.0</td>\n",
       "      <td>4.1</td>\n",
       "    </tr>\n",
       "    <tr>\n",
       "      <th>2600280</th>\n",
       "      <td>208</td>\n",
       "      <td>0</td>\n",
       "      <td>2016-01-01 02:00:00</td>\n",
       "      <td>90.5100</td>\n",
       "      <td>2</td>\n",
       "      <td>Healthcare</td>\n",
       "      <td>36904</td>\n",
       "      <td>1934.0</td>\n",
       "      <td>NaN</td>\n",
       "      <td>2016-01-01 02:00:00</td>\n",
       "      <td>13.3</td>\n",
       "      <td>2.0</td>\n",
       "      <td>-5.6</td>\n",
       "      <td>0.0</td>\n",
       "      <td>1016.0</td>\n",
       "      <td>270.0</td>\n",
       "      <td>3.1</td>\n",
       "    </tr>\n",
       "    <tr>\n",
       "      <th>...</th>\n",
       "      <td>...</td>\n",
       "      <td>...</td>\n",
       "      <td>...</td>\n",
       "      <td>...</td>\n",
       "      <td>...</td>\n",
       "      <td>...</td>\n",
       "      <td>...</td>\n",
       "      <td>...</td>\n",
       "      <td>...</td>\n",
       "      <td>...</td>\n",
       "      <td>...</td>\n",
       "      <td>...</td>\n",
       "      <td>...</td>\n",
       "      <td>...</td>\n",
       "      <td>...</td>\n",
       "      <td>...</td>\n",
       "      <td>...</td>\n",
       "    </tr>\n",
       "    <tr>\n",
       "      <th>19315319</th>\n",
       "      <td>1388</td>\n",
       "      <td>1</td>\n",
       "      <td>2016-12-31 19:00:00</td>\n",
       "      <td>32.8303</td>\n",
       "      <td>15</td>\n",
       "      <td>Healthcare</td>\n",
       "      <td>45465</td>\n",
       "      <td>1990.0</td>\n",
       "      <td>NaN</td>\n",
       "      <td>2016-12-31 19:00:00</td>\n",
       "      <td>3.0</td>\n",
       "      <td>NaN</td>\n",
       "      <td>-8.0</td>\n",
       "      <td>NaN</td>\n",
       "      <td>NaN</td>\n",
       "      <td>180.0</td>\n",
       "      <td>5.7</td>\n",
       "    </tr>\n",
       "    <tr>\n",
       "      <th>19315320</th>\n",
       "      <td>1388</td>\n",
       "      <td>1</td>\n",
       "      <td>2016-12-31 20:00:00</td>\n",
       "      <td>28.9841</td>\n",
       "      <td>15</td>\n",
       "      <td>Healthcare</td>\n",
       "      <td>45465</td>\n",
       "      <td>1990.0</td>\n",
       "      <td>NaN</td>\n",
       "      <td>2016-12-31 20:00:00</td>\n",
       "      <td>2.8</td>\n",
       "      <td>2.0</td>\n",
       "      <td>-8.9</td>\n",
       "      <td>NaN</td>\n",
       "      <td>1007.4</td>\n",
       "      <td>180.0</td>\n",
       "      <td>7.7</td>\n",
       "    </tr>\n",
       "    <tr>\n",
       "      <th>19315321</th>\n",
       "      <td>1388</td>\n",
       "      <td>1</td>\n",
       "      <td>2016-12-31 21:00:00</td>\n",
       "      <td>25.0044</td>\n",
       "      <td>15</td>\n",
       "      <td>Healthcare</td>\n",
       "      <td>45465</td>\n",
       "      <td>1990.0</td>\n",
       "      <td>NaN</td>\n",
       "      <td>2016-12-31 21:00:00</td>\n",
       "      <td>2.8</td>\n",
       "      <td>NaN</td>\n",
       "      <td>-7.2</td>\n",
       "      <td>NaN</td>\n",
       "      <td>1007.5</td>\n",
       "      <td>180.0</td>\n",
       "      <td>5.1</td>\n",
       "    </tr>\n",
       "    <tr>\n",
       "      <th>19315322</th>\n",
       "      <td>1388</td>\n",
       "      <td>1</td>\n",
       "      <td>2016-12-31 22:00:00</td>\n",
       "      <td>22.3746</td>\n",
       "      <td>15</td>\n",
       "      <td>Healthcare</td>\n",
       "      <td>45465</td>\n",
       "      <td>1990.0</td>\n",
       "      <td>NaN</td>\n",
       "      <td>2016-12-31 22:00:00</td>\n",
       "      <td>2.2</td>\n",
       "      <td>NaN</td>\n",
       "      <td>-6.7</td>\n",
       "      <td>NaN</td>\n",
       "      <td>1008.0</td>\n",
       "      <td>170.0</td>\n",
       "      <td>4.6</td>\n",
       "    </tr>\n",
       "    <tr>\n",
       "      <th>19315323</th>\n",
       "      <td>1388</td>\n",
       "      <td>1</td>\n",
       "      <td>2016-12-31 23:00:00</td>\n",
       "      <td>29.4019</td>\n",
       "      <td>15</td>\n",
       "      <td>Healthcare</td>\n",
       "      <td>45465</td>\n",
       "      <td>1990.0</td>\n",
       "      <td>NaN</td>\n",
       "      <td>2016-12-31 23:00:00</td>\n",
       "      <td>1.7</td>\n",
       "      <td>NaN</td>\n",
       "      <td>-5.6</td>\n",
       "      <td>-1.0</td>\n",
       "      <td>1008.5</td>\n",
       "      <td>180.0</td>\n",
       "      <td>8.8</td>\n",
       "    </tr>\n",
       "  </tbody>\n",
       "</table>\n",
       "<p>398527 rows × 17 columns</p>\n",
       "</div>"
      ],
      "text/plain": [
       "          building_id  meter      meter_timestamp  meter_reading  site_id  \\\n",
       "2600276           208      0  2016-01-01 00:00:00        77.2900        2   \n",
       "2600277           208      1  2016-01-01 00:00:00         0.1055        2   \n",
       "2600278           208      0  2016-01-01 01:00:00        87.0900        2   \n",
       "2600279           208      1  2016-01-01 01:00:00         0.1407        2   \n",
       "2600280           208      0  2016-01-01 02:00:00        90.5100        2   \n",
       "...               ...    ...                  ...            ...      ...   \n",
       "19315319         1388      1  2016-12-31 19:00:00        32.8303       15   \n",
       "19315320         1388      1  2016-12-31 20:00:00        28.9841       15   \n",
       "19315321         1388      1  2016-12-31 21:00:00        25.0044       15   \n",
       "19315322         1388      1  2016-12-31 22:00:00        22.3746       15   \n",
       "19315323         1388      1  2016-12-31 23:00:00        29.4019       15   \n",
       "\n",
       "         primary_use  square_feet  year_built  floor_count  \\\n",
       "2600276   Healthcare        36904      1934.0          NaN   \n",
       "2600277   Healthcare        36904      1934.0          NaN   \n",
       "2600278   Healthcare        36904      1934.0          NaN   \n",
       "2600279   Healthcare        36904      1934.0          NaN   \n",
       "2600280   Healthcare        36904      1934.0          NaN   \n",
       "...              ...          ...         ...          ...   \n",
       "19315319  Healthcare        45465      1990.0          NaN   \n",
       "19315320  Healthcare        45465      1990.0          NaN   \n",
       "19315321  Healthcare        45465      1990.0          NaN   \n",
       "19315322  Healthcare        45465      1990.0          NaN   \n",
       "19315323  Healthcare        45465      1990.0          NaN   \n",
       "\n",
       "            weather_timestamp  air_temperature  cloud_coverage  \\\n",
       "2600276   2016-01-01 00:00:00             15.6             6.0   \n",
       "2600277   2016-01-01 00:00:00             15.6             6.0   \n",
       "2600278   2016-01-01 01:00:00             13.9             NaN   \n",
       "2600279   2016-01-01 01:00:00             13.9             NaN   \n",
       "2600280   2016-01-01 02:00:00             13.3             2.0   \n",
       "...                       ...              ...             ...   \n",
       "19315319  2016-12-31 19:00:00              3.0             NaN   \n",
       "19315320  2016-12-31 20:00:00              2.8             2.0   \n",
       "19315321  2016-12-31 21:00:00              2.8             NaN   \n",
       "19315322  2016-12-31 22:00:00              2.2             NaN   \n",
       "19315323  2016-12-31 23:00:00              1.7             NaN   \n",
       "\n",
       "          dew_temperature  precip_depth_1_hr  sea_level_pressure  \\\n",
       "2600276              -5.6                NaN              1015.3   \n",
       "2600277              -5.6                NaN              1015.3   \n",
       "2600278              -5.6                0.0              1015.6   \n",
       "2600279              -5.6                0.0              1015.6   \n",
       "2600280              -5.6                0.0              1016.0   \n",
       "...                   ...                ...                 ...   \n",
       "19315319             -8.0                NaN                 NaN   \n",
       "19315320             -8.9                NaN              1007.4   \n",
       "19315321             -7.2                NaN              1007.5   \n",
       "19315322             -6.7                NaN              1008.0   \n",
       "19315323             -5.6               -1.0              1008.5   \n",
       "\n",
       "          wind_direction  wind_speed  \n",
       "2600276            270.0         3.6  \n",
       "2600277            270.0         3.6  \n",
       "2600278            270.0         4.1  \n",
       "2600279            270.0         4.1  \n",
       "2600280            270.0         3.1  \n",
       "...                  ...         ...  \n",
       "19315319           180.0         5.7  \n",
       "19315320           180.0         7.7  \n",
       "19315321           180.0         5.1  \n",
       "19315322           170.0         4.6  \n",
       "19315323           180.0         8.8  \n",
       "\n",
       "[398527 rows x 17 columns]"
      ]
     },
     "execution_count": 36,
     "metadata": {},
     "output_type": "execute_result"
    }
   ],
   "source": [
    "# Filter the DataFrame to include only rows where 'primary_use' is 'Healthcare'\n",
    "healthcare_train_df = merged_train_df[merged_train_df['primary_use'] == 'Healthcare']\n",
    "healthcare_train_df"
   ]
  },
  {
   "cell_type": "code",
   "execution_count": 37,
   "id": "864912b4-b4ef-4f94-92f3-9eb79894aaa6",
   "metadata": {},
   "outputs": [],
   "source": [
    "# Export dataframe to a csv file\n",
    "healthcare_train_df.to_csv('data/01_healthcare_train_df.csv', index=False)"
   ]
  },
  {
   "cell_type": "code",
   "execution_count": null,
   "id": "3cd40d7c-8a00-404a-aeaf-1579268ffad4",
   "metadata": {},
   "outputs": [],
   "source": []
  },
  {
   "cell_type": "markdown",
   "id": "1d55846b-438a-4fd9-b3fe-773a4a7a0379",
   "metadata": {},
   "source": [
    "[back to TOC](#toc)"
   ]
  },
  {
   "cell_type": "markdown",
   "id": "05c79979-2880-4344-ba89-040d0baeab25",
   "metadata": {},
   "source": [
    "<a id='bdw-3'></a>"
   ]
  },
  {
   "cell_type": "markdown",
   "id": "6aa0b672-38f3-47b3-b3f6-19a4846f9d14",
   "metadata": {},
   "source": [
    "# 3. Healthcare data overview"
   ]
  },
  {
   "cell_type": "code",
   "execution_count": 38,
   "id": "44e5895f",
   "metadata": {
    "tags": []
   },
   "outputs": [],
   "source": [
    "# Import analysis packages\n",
    "import pandas as pd\n",
    "import numpy as np\n",
    "\n",
    "# import plotting packages\n",
    "import matplotlib.pyplot as plt\n",
    "import seaborn as sns\n",
    "\n",
    "# Setting figure size\n",
    "plt.rcParams['figure.figsize']=(8.0,6.0)"
   ]
  },
  {
   "cell_type": "code",
   "execution_count": 39,
   "id": "ed5787f6-2092-4ac7-b837-afe8c5332ba6",
   "metadata": {},
   "outputs": [
    {
     "data": {
      "text/html": [
       "<div>\n",
       "<style scoped>\n",
       "    .dataframe tbody tr th:only-of-type {\n",
       "        vertical-align: middle;\n",
       "    }\n",
       "\n",
       "    .dataframe tbody tr th {\n",
       "        vertical-align: top;\n",
       "    }\n",
       "\n",
       "    .dataframe thead th {\n",
       "        text-align: right;\n",
       "    }\n",
       "</style>\n",
       "<table border=\"1\" class=\"dataframe\">\n",
       "  <thead>\n",
       "    <tr style=\"text-align: right;\">\n",
       "      <th></th>\n",
       "      <th>building_id</th>\n",
       "      <th>meter</th>\n",
       "      <th>meter_timestamp</th>\n",
       "      <th>meter_reading</th>\n",
       "      <th>site_id</th>\n",
       "      <th>primary_use</th>\n",
       "      <th>square_feet</th>\n",
       "      <th>year_built</th>\n",
       "      <th>floor_count</th>\n",
       "      <th>weather_timestamp</th>\n",
       "      <th>air_temperature</th>\n",
       "      <th>cloud_coverage</th>\n",
       "      <th>dew_temperature</th>\n",
       "      <th>precip_depth_1_hr</th>\n",
       "      <th>sea_level_pressure</th>\n",
       "      <th>wind_direction</th>\n",
       "      <th>wind_speed</th>\n",
       "    </tr>\n",
       "  </thead>\n",
       "  <tbody>\n",
       "    <tr>\n",
       "      <th>181357</th>\n",
       "      <td>1241</td>\n",
       "      <td>1</td>\n",
       "      <td>2016-09-02 07:00:00</td>\n",
       "      <td>1809.860</td>\n",
       "      <td>14</td>\n",
       "      <td>Healthcare</td>\n",
       "      <td>194188</td>\n",
       "      <td>NaN</td>\n",
       "      <td>NaN</td>\n",
       "      <td>2016-09-02 07:00:00</td>\n",
       "      <td>17.8</td>\n",
       "      <td>0.0</td>\n",
       "      <td>12.8</td>\n",
       "      <td>0.0</td>\n",
       "      <td>1014.6</td>\n",
       "      <td>340.0</td>\n",
       "      <td>3.6</td>\n",
       "    </tr>\n",
       "    <tr>\n",
       "      <th>166651</th>\n",
       "      <td>1241</td>\n",
       "      <td>3</td>\n",
       "      <td>2016-04-01 21:00:00</td>\n",
       "      <td>476.005</td>\n",
       "      <td>14</td>\n",
       "      <td>Healthcare</td>\n",
       "      <td>194188</td>\n",
       "      <td>NaN</td>\n",
       "      <td>NaN</td>\n",
       "      <td>2016-04-01 21:00:00</td>\n",
       "      <td>25.6</td>\n",
       "      <td>0.0</td>\n",
       "      <td>13.9</td>\n",
       "      <td>0.0</td>\n",
       "      <td>997.6</td>\n",
       "      <td>210.0</td>\n",
       "      <td>6.2</td>\n",
       "    </tr>\n",
       "    <tr>\n",
       "      <th>26677</th>\n",
       "      <td>455</td>\n",
       "      <td>0</td>\n",
       "      <td>2016-01-15 12:00:00</td>\n",
       "      <td>14.280</td>\n",
       "      <td>3</td>\n",
       "      <td>Healthcare</td>\n",
       "      <td>29192</td>\n",
       "      <td>2014.0</td>\n",
       "      <td>NaN</td>\n",
       "      <td>2016-01-15 12:00:00</td>\n",
       "      <td>2.8</td>\n",
       "      <td>4.0</td>\n",
       "      <td>-0.6</td>\n",
       "      <td>0.0</td>\n",
       "      <td>1013.2</td>\n",
       "      <td>0.0</td>\n",
       "      <td>0.0</td>\n",
       "    </tr>\n",
       "  </tbody>\n",
       "</table>\n",
       "</div>"
      ],
      "text/plain": [
       "        building_id  meter      meter_timestamp  meter_reading  site_id  \\\n",
       "181357         1241      1  2016-09-02 07:00:00       1809.860       14   \n",
       "166651         1241      3  2016-04-01 21:00:00        476.005       14   \n",
       "26677           455      0  2016-01-15 12:00:00         14.280        3   \n",
       "\n",
       "       primary_use  square_feet  year_built  floor_count    weather_timestamp  \\\n",
       "181357  Healthcare       194188         NaN          NaN  2016-09-02 07:00:00   \n",
       "166651  Healthcare       194188         NaN          NaN  2016-04-01 21:00:00   \n",
       "26677   Healthcare        29192      2014.0          NaN  2016-01-15 12:00:00   \n",
       "\n",
       "        air_temperature  cloud_coverage  dew_temperature  precip_depth_1_hr  \\\n",
       "181357             17.8             0.0             12.8                0.0   \n",
       "166651             25.6             0.0             13.9                0.0   \n",
       "26677               2.8             4.0             -0.6                0.0   \n",
       "\n",
       "        sea_level_pressure  wind_direction  wind_speed  \n",
       "181357              1014.6           340.0         3.6  \n",
       "166651               997.6           210.0         6.2  \n",
       "26677               1013.2             0.0         0.0  "
      ]
     },
     "execution_count": 39,
     "metadata": {},
     "output_type": "execute_result"
    }
   ],
   "source": [
    "# Data loading for healthcare.csv saved from section above 'Basic Data Wrangling' . The file is coma (,) separated. The index is auto generated\n",
    "healthcare_df=pd.read_csv('data/01_healthcare_train_df.csv',sep=',')\n",
    "healthcare_df.sample(3)"
   ]
  },
  {
   "cell_type": "code",
   "execution_count": 40,
   "id": "2433afa5-0718-4d17-a448-ccbfd325ffb0",
   "metadata": {},
   "outputs": [
    {
     "data": {
      "text/plain": [
       "(398527, 17)"
      ]
     },
     "execution_count": 40,
     "metadata": {},
     "output_type": "execute_result"
    }
   ],
   "source": [
    "# Data shape\n",
    "healthcare_df.shape"
   ]
  },
  {
   "cell_type": "code",
   "execution_count": 41,
   "id": "032acee8-c205-4c08-a13c-913e48ec57a7",
   "metadata": {},
   "outputs": [
    {
     "name": "stdout",
     "output_type": "stream",
     "text": [
      "The Healthcare dataset includes 398527 rows and 17 columns.\n"
     ]
    }
   ],
   "source": [
    "print(f'The Healthcare dataset includes {healthcare_df.shape[0]} rows and {healthcare_df.shape[1]} columns.')"
   ]
  },
  {
   "cell_type": "code",
   "execution_count": 42,
   "id": "c50c01e7-02a7-4ed8-9f2c-d03fe670a8a4",
   "metadata": {},
   "outputs": [
    {
     "name": "stdout",
     "output_type": "stream",
     "text": [
      "<class 'pandas.core.frame.DataFrame'>\n",
      "RangeIndex: 398527 entries, 0 to 398526\n",
      "Data columns (total 17 columns):\n",
      " #   Column              Non-Null Count   Dtype  \n",
      "---  ------              --------------   -----  \n",
      " 0   building_id         398527 non-null  int64  \n",
      " 1   meter               398527 non-null  int64  \n",
      " 2   meter_timestamp     398527 non-null  object \n",
      " 3   meter_reading       398527 non-null  float64\n",
      " 4   site_id             398527 non-null  int64  \n",
      " 5   primary_use         398527 non-null  object \n",
      " 6   square_feet         398527 non-null  int64  \n",
      " 7   year_built          77500 non-null   float64\n",
      " 8   floor_count         8784 non-null    float64\n",
      " 9   weather_timestamp   397992 non-null  object \n",
      " 10  air_temperature     397928 non-null  float64\n",
      " 11  cloud_coverage      235291 non-null  float64\n",
      " 12  dew_temperature     397913 non-null  float64\n",
      " 13  precip_depth_1_hr   382248 non-null  float64\n",
      " 14  sea_level_pressure  383709 non-null  float64\n",
      " 15  wind_direction      385758 non-null  float64\n",
      " 16  wind_speed          397313 non-null  float64\n",
      "dtypes: float64(10), int64(4), object(3)\n",
      "memory usage: 51.7+ MB\n"
     ]
    }
   ],
   "source": [
    "# General info\n",
    "healthcare_df.info()"
   ]
  },
  {
   "cell_type": "markdown",
   "id": "0d96fe29-eece-42b6-a9ab-64889552dd80",
   "metadata": {},
   "source": [
    "There are many columns with missing data, such null values will be address later on. The columns include three data types: float, int and object, being float the most frequent one. Most columns are numerical."
   ]
  },
  {
   "cell_type": "code",
   "execution_count": 43,
   "id": "336ee032-00ec-40ed-8bd0-8a3fce51c0a2",
   "metadata": {},
   "outputs": [
    {
     "data": {
      "text/html": [
       "<div>\n",
       "<style scoped>\n",
       "    .dataframe tbody tr th:only-of-type {\n",
       "        vertical-align: middle;\n",
       "    }\n",
       "\n",
       "    .dataframe tbody tr th {\n",
       "        vertical-align: top;\n",
       "    }\n",
       "\n",
       "    .dataframe thead th {\n",
       "        text-align: right;\n",
       "    }\n",
       "</style>\n",
       "<table border=\"1\" class=\"dataframe\">\n",
       "  <thead>\n",
       "    <tr style=\"text-align: right;\">\n",
       "      <th></th>\n",
       "      <th>meter_reading</th>\n",
       "      <th>year_built</th>\n",
       "      <th>floor_count</th>\n",
       "      <th>air_temperature</th>\n",
       "      <th>cloud_coverage</th>\n",
       "      <th>dew_temperature</th>\n",
       "      <th>precip_depth_1_hr</th>\n",
       "      <th>sea_level_pressure</th>\n",
       "      <th>wind_direction</th>\n",
       "      <th>wind_speed</th>\n",
       "    </tr>\n",
       "  </thead>\n",
       "  <tbody>\n",
       "    <tr>\n",
       "      <th>264282</th>\n",
       "      <td>860.591</td>\n",
       "      <td>NaN</td>\n",
       "      <td>NaN</td>\n",
       "      <td>20.0</td>\n",
       "      <td>2.0</td>\n",
       "      <td>13.3</td>\n",
       "      <td>0.0</td>\n",
       "      <td>1013.3</td>\n",
       "      <td>290.0</td>\n",
       "      <td>3.1</td>\n",
       "    </tr>\n",
       "    <tr>\n",
       "      <th>265160</th>\n",
       "      <td>191.226</td>\n",
       "      <td>NaN</td>\n",
       "      <td>NaN</td>\n",
       "      <td>7.2</td>\n",
       "      <td>0.0</td>\n",
       "      <td>0.6</td>\n",
       "      <td>0.0</td>\n",
       "      <td>1022.3</td>\n",
       "      <td>350.0</td>\n",
       "      <td>4.6</td>\n",
       "    </tr>\n",
       "    <tr>\n",
       "      <th>14373</th>\n",
       "      <td>36.910</td>\n",
       "      <td>1934.0</td>\n",
       "      <td>NaN</td>\n",
       "      <td>35.0</td>\n",
       "      <td>2.0</td>\n",
       "      <td>9.4</td>\n",
       "      <td>0.0</td>\n",
       "      <td>1011.5</td>\n",
       "      <td>0.0</td>\n",
       "      <td>0.0</td>\n",
       "    </tr>\n",
       "  </tbody>\n",
       "</table>\n",
       "</div>"
      ],
      "text/plain": [
       "        meter_reading  year_built  floor_count  air_temperature  \\\n",
       "264282        860.591         NaN          NaN             20.0   \n",
       "265160        191.226         NaN          NaN              7.2   \n",
       "14373          36.910      1934.0          NaN             35.0   \n",
       "\n",
       "        cloud_coverage  dew_temperature  precip_depth_1_hr  \\\n",
       "264282             2.0             13.3                0.0   \n",
       "265160             0.0              0.6                0.0   \n",
       "14373              2.0              9.4                0.0   \n",
       "\n",
       "        sea_level_pressure  wind_direction  wind_speed  \n",
       "264282              1013.3           290.0         3.1  \n",
       "265160              1022.3           350.0         4.6  \n",
       "14373               1011.5             0.0         0.0  "
      ]
     },
     "execution_count": 43,
     "metadata": {},
     "output_type": "execute_result"
    }
   ],
   "source": [
    "# Grouping by 'float64' datatype\n",
    "healthcare_df.select_dtypes('float64').sample(3)"
   ]
  },
  {
   "cell_type": "markdown",
   "id": "58027971-1c3f-4e91-aeda-2d9e6c450f59",
   "metadata": {},
   "source": [
    "Some columns can be converted to integers, i.e. 'year_built' and 'wind_direction', 'floor_count'"
   ]
  },
  {
   "cell_type": "code",
   "execution_count": 44,
   "id": "3972834f-d80d-4cf5-82ae-23943a44ec76",
   "metadata": {},
   "outputs": [
    {
     "data": {
      "text/html": [
       "<div>\n",
       "<style scoped>\n",
       "    .dataframe tbody tr th:only-of-type {\n",
       "        vertical-align: middle;\n",
       "    }\n",
       "\n",
       "    .dataframe tbody tr th {\n",
       "        vertical-align: top;\n",
       "    }\n",
       "\n",
       "    .dataframe thead th {\n",
       "        text-align: right;\n",
       "    }\n",
       "</style>\n",
       "<table border=\"1\" class=\"dataframe\">\n",
       "  <thead>\n",
       "    <tr style=\"text-align: right;\">\n",
       "      <th></th>\n",
       "      <th>building_id</th>\n",
       "      <th>meter</th>\n",
       "      <th>site_id</th>\n",
       "      <th>square_feet</th>\n",
       "    </tr>\n",
       "  </thead>\n",
       "  <tbody>\n",
       "    <tr>\n",
       "      <th>51175</th>\n",
       "      <td>547</td>\n",
       "      <td>0</td>\n",
       "      <td>3</td>\n",
       "      <td>23903</td>\n",
       "    </tr>\n",
       "    <tr>\n",
       "      <th>143395</th>\n",
       "      <td>1209</td>\n",
       "      <td>2</td>\n",
       "      <td>13</td>\n",
       "      <td>115788</td>\n",
       "    </tr>\n",
       "    <tr>\n",
       "      <th>56988</th>\n",
       "      <td>548</td>\n",
       "      <td>0</td>\n",
       "      <td>3</td>\n",
       "      <td>9813</td>\n",
       "    </tr>\n",
       "  </tbody>\n",
       "</table>\n",
       "</div>"
      ],
      "text/plain": [
       "        building_id  meter  site_id  square_feet\n",
       "51175           547      0        3        23903\n",
       "143395         1209      2       13       115788\n",
       "56988           548      0        3         9813"
      ]
     },
     "execution_count": 44,
     "metadata": {},
     "output_type": "execute_result"
    }
   ],
   "source": [
    "# Grouping by 'int64' datatype\n",
    "healthcare_df.select_dtypes('int64').sample(3)"
   ]
  },
  {
   "cell_type": "code",
   "execution_count": 45,
   "id": "24a80412-0bf3-44d2-9f27-4c535e6dad56",
   "metadata": {
    "scrolled": true
   },
   "outputs": [
    {
     "data": {
      "text/html": [
       "<div>\n",
       "<style scoped>\n",
       "    .dataframe tbody tr th:only-of-type {\n",
       "        vertical-align: middle;\n",
       "    }\n",
       "\n",
       "    .dataframe tbody tr th {\n",
       "        vertical-align: top;\n",
       "    }\n",
       "\n",
       "    .dataframe thead th {\n",
       "        text-align: right;\n",
       "    }\n",
       "</style>\n",
       "<table border=\"1\" class=\"dataframe\">\n",
       "  <thead>\n",
       "    <tr style=\"text-align: right;\">\n",
       "      <th></th>\n",
       "      <th>meter_timestamp</th>\n",
       "      <th>primary_use</th>\n",
       "      <th>weather_timestamp</th>\n",
       "    </tr>\n",
       "  </thead>\n",
       "  <tbody>\n",
       "    <tr>\n",
       "      <th>363351</th>\n",
       "      <td>2016-04-11 06:00:00</td>\n",
       "      <td>Healthcare</td>\n",
       "      <td>2016-04-11 06:00:00</td>\n",
       "    </tr>\n",
       "    <tr>\n",
       "      <th>120789</th>\n",
       "      <td>2016-12-05 11:00:00</td>\n",
       "      <td>Healthcare</td>\n",
       "      <td>2016-12-05 11:00:00</td>\n",
       "    </tr>\n",
       "    <tr>\n",
       "      <th>327616</th>\n",
       "      <td>2016-11-13 00:00:00</td>\n",
       "      <td>Healthcare</td>\n",
       "      <td>2016-11-13 00:00:00</td>\n",
       "    </tr>\n",
       "  </tbody>\n",
       "</table>\n",
       "</div>"
      ],
      "text/plain": [
       "            meter_timestamp primary_use    weather_timestamp\n",
       "363351  2016-04-11 06:00:00  Healthcare  2016-04-11 06:00:00\n",
       "120789  2016-12-05 11:00:00  Healthcare  2016-12-05 11:00:00\n",
       "327616  2016-11-13 00:00:00  Healthcare  2016-11-13 00:00:00"
      ]
     },
     "execution_count": 45,
     "metadata": {},
     "output_type": "execute_result"
    }
   ],
   "source": [
    "# Grouping by 'object' datatype\n",
    "healthcare_df.select_dtypes('object').sample(3)"
   ]
  },
  {
   "cell_type": "markdown",
   "id": "7f1feb47-cc4c-4db3-88d9-d9598a7c94d0",
   "metadata": {},
   "source": [
    "The column 'primary_use' can be drooped. \\\n",
    "Keep the 'meter_timestamp' and drop column 'weather_timestamp', since both have the same values, and then change type to date type. "
   ]
  },
  {
   "cell_type": "markdown",
   "id": "2a09a923-8dad-4788-bb58-e54a1c5ccd95",
   "metadata": {},
   "source": [
    "[back to TOC](#toc)"
   ]
  },
  {
   "cell_type": "markdown",
   "id": "712ddbc7-43ab-459a-82a6-d4a115b8ddb7",
   "metadata": {},
   "source": [
    "<a id='bdw-4'></a>"
   ]
  },
  {
   "cell_type": "markdown",
   "id": "4a5a0f38-0a62-4fe8-ad42-65ebb7327c6a",
   "metadata": {},
   "source": [
    "## 3.1. Numeric columns stats"
   ]
  },
  {
   "cell_type": "code",
   "execution_count": 46,
   "id": "36caa670-2bf3-46e5-b623-f0a0d3603cfd",
   "metadata": {},
   "outputs": [
    {
     "name": "stdout",
     "output_type": "stream",
     "text": [
      "['building_id', 'meter', 'meter_reading', 'site_id', 'square_feet', 'year_built', 'floor_count', 'air_temperature', 'cloud_coverage', 'dew_temperature', 'precip_depth_1_hr', 'sea_level_pressure', 'wind_direction', 'wind_speed']\n"
     ]
    }
   ],
   "source": [
    "# Group numeric columns\n",
    "numeric = list(healthcare_df.select_dtypes(exclude='object').columns)\n",
    "print(numeric)"
   ]
  },
  {
   "cell_type": "code",
   "execution_count": 47,
   "id": "0cb11d1b-99a8-44d0-a2af-9d7617758028",
   "metadata": {},
   "outputs": [
    {
     "data": {
      "text/html": [
       "<div>\n",
       "<style scoped>\n",
       "    .dataframe tbody tr th:only-of-type {\n",
       "        vertical-align: middle;\n",
       "    }\n",
       "\n",
       "    .dataframe tbody tr th {\n",
       "        vertical-align: top;\n",
       "    }\n",
       "\n",
       "    .dataframe thead th {\n",
       "        text-align: right;\n",
       "    }\n",
       "</style>\n",
       "<table border=\"1\" class=\"dataframe\">\n",
       "  <thead>\n",
       "    <tr style=\"text-align: right;\">\n",
       "      <th></th>\n",
       "      <th>building_id</th>\n",
       "      <th>meter</th>\n",
       "      <th>meter_reading</th>\n",
       "      <th>site_id</th>\n",
       "      <th>square_feet</th>\n",
       "      <th>year_built</th>\n",
       "      <th>floor_count</th>\n",
       "      <th>air_temperature</th>\n",
       "      <th>cloud_coverage</th>\n",
       "      <th>dew_temperature</th>\n",
       "      <th>precip_depth_1_hr</th>\n",
       "      <th>sea_level_pressure</th>\n",
       "      <th>wind_direction</th>\n",
       "      <th>wind_speed</th>\n",
       "    </tr>\n",
       "  </thead>\n",
       "  <tbody>\n",
       "    <tr>\n",
       "      <th>count</th>\n",
       "      <td>398527.000000</td>\n",
       "      <td>398527.000000</td>\n",
       "      <td>398527.000000</td>\n",
       "      <td>398527.000000</td>\n",
       "      <td>398527.000000</td>\n",
       "      <td>77500.000000</td>\n",
       "      <td>8784.0</td>\n",
       "      <td>397928.000000</td>\n",
       "      <td>235291.000000</td>\n",
       "      <td>397913.000000</td>\n",
       "      <td>382248.000000</td>\n",
       "      <td>383709.000000</td>\n",
       "      <td>385758.000000</td>\n",
       "      <td>397313.000000</td>\n",
       "    </tr>\n",
       "    <tr>\n",
       "      <th>mean</th>\n",
       "      <td>1093.571025</td>\n",
       "      <td>0.859126</td>\n",
       "      <td>738.597583</td>\n",
       "      <td>11.641382</td>\n",
       "      <td>138438.671365</td>\n",
       "      <td>1976.620568</td>\n",
       "      <td>1.0</td>\n",
       "      <td>13.303335</td>\n",
       "      <td>1.472606</td>\n",
       "      <td>5.582175</td>\n",
       "      <td>0.747271</td>\n",
       "      <td>1016.294189</td>\n",
       "      <td>186.147621</td>\n",
       "      <td>3.449965</td>\n",
       "    </tr>\n",
       "    <tr>\n",
       "      <th>std</th>\n",
       "      <td>328.852552</td>\n",
       "      <td>0.944250</td>\n",
       "      <td>1364.722460</td>\n",
       "      <td>4.330688</td>\n",
       "      <td>141165.354721</td>\n",
       "      <td>36.478762</td>\n",
       "      <td>0.0</td>\n",
       "      <td>10.983677</td>\n",
       "      <td>2.344205</td>\n",
       "      <td>10.646586</td>\n",
       "      <td>6.126940</td>\n",
       "      <td>7.296821</td>\n",
       "      <td>116.653579</td>\n",
       "      <td>2.223443</td>\n",
       "    </tr>\n",
       "    <tr>\n",
       "      <th>min</th>\n",
       "      <td>208.000000</td>\n",
       "      <td>0.000000</td>\n",
       "      <td>0.000000</td>\n",
       "      <td>2.000000</td>\n",
       "      <td>9813.000000</td>\n",
       "      <td>1922.000000</td>\n",
       "      <td>1.0</td>\n",
       "      <td>-28.900000</td>\n",
       "      <td>0.000000</td>\n",
       "      <td>-31.700000</td>\n",
       "      <td>-1.000000</td>\n",
       "      <td>981.600000</td>\n",
       "      <td>0.000000</td>\n",
       "      <td>0.000000</td>\n",
       "    </tr>\n",
       "    <tr>\n",
       "      <th>25%</th>\n",
       "      <td>1207.000000</td>\n",
       "      <td>0.000000</td>\n",
       "      <td>34.020300</td>\n",
       "      <td>13.000000</td>\n",
       "      <td>35354.000000</td>\n",
       "      <td>1934.000000</td>\n",
       "      <td>1.0</td>\n",
       "      <td>5.000000</td>\n",
       "      <td>0.000000</td>\n",
       "      <td>-2.200000</td>\n",
       "      <td>0.000000</td>\n",
       "      <td>1011.600000</td>\n",
       "      <td>80.000000</td>\n",
       "      <td>2.100000</td>\n",
       "    </tr>\n",
       "    <tr>\n",
       "      <th>50%</th>\n",
       "      <td>1243.000000</td>\n",
       "      <td>1.000000</td>\n",
       "      <td>211.858000</td>\n",
       "      <td>14.000000</td>\n",
       "      <td>115788.000000</td>\n",
       "      <td>1990.000000</td>\n",
       "      <td>1.0</td>\n",
       "      <td>13.900000</td>\n",
       "      <td>0.000000</td>\n",
       "      <td>6.100000</td>\n",
       "      <td>0.000000</td>\n",
       "      <td>1016.400000</td>\n",
       "      <td>200.000000</td>\n",
       "      <td>3.100000</td>\n",
       "    </tr>\n",
       "    <tr>\n",
       "      <th>75%</th>\n",
       "      <td>1285.000000</td>\n",
       "      <td>2.000000</td>\n",
       "      <td>781.576000</td>\n",
       "      <td>14.000000</td>\n",
       "      <td>200000.000000</td>\n",
       "      <td>2010.000000</td>\n",
       "      <td>1.0</td>\n",
       "      <td>22.200000</td>\n",
       "      <td>2.000000</td>\n",
       "      <td>14.400000</td>\n",
       "      <td>0.000000</td>\n",
       "      <td>1021.000000</td>\n",
       "      <td>290.000000</td>\n",
       "      <td>4.600000</td>\n",
       "    </tr>\n",
       "    <tr>\n",
       "      <th>max</th>\n",
       "      <td>1388.000000</td>\n",
       "      <td>3.000000</td>\n",
       "      <td>28189.500000</td>\n",
       "      <td>15.000000</td>\n",
       "      <td>819577.000000</td>\n",
       "      <td>2014.000000</td>\n",
       "      <td>1.0</td>\n",
       "      <td>47.200000</td>\n",
       "      <td>9.000000</td>\n",
       "      <td>26.100000</td>\n",
       "      <td>239.000000</td>\n",
       "      <td>1042.200000</td>\n",
       "      <td>360.000000</td>\n",
       "      <td>18.500000</td>\n",
       "    </tr>\n",
       "  </tbody>\n",
       "</table>\n",
       "</div>"
      ],
      "text/plain": [
       "         building_id          meter  meter_reading        site_id  \\\n",
       "count  398527.000000  398527.000000  398527.000000  398527.000000   \n",
       "mean     1093.571025       0.859126     738.597583      11.641382   \n",
       "std       328.852552       0.944250    1364.722460       4.330688   \n",
       "min       208.000000       0.000000       0.000000       2.000000   \n",
       "25%      1207.000000       0.000000      34.020300      13.000000   \n",
       "50%      1243.000000       1.000000     211.858000      14.000000   \n",
       "75%      1285.000000       2.000000     781.576000      14.000000   \n",
       "max      1388.000000       3.000000   28189.500000      15.000000   \n",
       "\n",
       "         square_feet    year_built  floor_count  air_temperature  \\\n",
       "count  398527.000000  77500.000000       8784.0    397928.000000   \n",
       "mean   138438.671365   1976.620568          1.0        13.303335   \n",
       "std    141165.354721     36.478762          0.0        10.983677   \n",
       "min      9813.000000   1922.000000          1.0       -28.900000   \n",
       "25%     35354.000000   1934.000000          1.0         5.000000   \n",
       "50%    115788.000000   1990.000000          1.0        13.900000   \n",
       "75%    200000.000000   2010.000000          1.0        22.200000   \n",
       "max    819577.000000   2014.000000          1.0        47.200000   \n",
       "\n",
       "       cloud_coverage  dew_temperature  precip_depth_1_hr  sea_level_pressure  \\\n",
       "count   235291.000000    397913.000000      382248.000000       383709.000000   \n",
       "mean         1.472606         5.582175           0.747271         1016.294189   \n",
       "std          2.344205        10.646586           6.126940            7.296821   \n",
       "min          0.000000       -31.700000          -1.000000          981.600000   \n",
       "25%          0.000000        -2.200000           0.000000         1011.600000   \n",
       "50%          0.000000         6.100000           0.000000         1016.400000   \n",
       "75%          2.000000        14.400000           0.000000         1021.000000   \n",
       "max          9.000000        26.100000         239.000000         1042.200000   \n",
       "\n",
       "       wind_direction     wind_speed  \n",
       "count   385758.000000  397313.000000  \n",
       "mean       186.147621       3.449965  \n",
       "std        116.653579       2.223443  \n",
       "min          0.000000       0.000000  \n",
       "25%         80.000000       2.100000  \n",
       "50%        200.000000       3.100000  \n",
       "75%        290.000000       4.600000  \n",
       "max        360.000000      18.500000  "
      ]
     },
     "execution_count": 47,
     "metadata": {},
     "output_type": "execute_result"
    }
   ],
   "source": [
    "# Statistic overview for the numeric columns\n",
    "healthcare_df[numeric].describe()"
   ]
  },
  {
   "cell_type": "markdown",
   "id": "829fd39d-6892-4360-8d85-c70db7ca5f6a",
   "metadata": {},
   "source": [
    "**Insights**\\\n",
    "'meter_reading' is strongly positive skewed since the mean is far higher than the 50th percentile. \\\n",
    "Change column name 'meter' to 'meter_type' for clarity. \\\n",
    "Drop column 'floor_count', since the only values are 1 or null."
   ]
  },
  {
   "cell_type": "code",
   "execution_count": null,
   "id": "0da010ad-6b7c-46d7-9eab-bd2621cbd713",
   "metadata": {},
   "outputs": [],
   "source": []
  },
  {
   "cell_type": "markdown",
   "id": "b8341967-0a08-499e-b60c-ffe3327242ce",
   "metadata": {},
   "source": [
    "### 3.1.1. Distribution for numeric columns"
   ]
  },
  {
   "cell_type": "code",
   "execution_count": 48,
   "id": "e5f19955-da86-478d-94bf-2fecd7e0128c",
   "metadata": {},
   "outputs": [
    {
     "data": {
      "image/png": "[encoded data removed]",
      "text/plain": [
       "<Figure size 1500x1000 with 15 Axes>"
      ]
     },
     "metadata": {},
     "output_type": "display_data"
    }
   ],
   "source": [
    "# Plotting the histograms \n",
    "plt.subplots(3,5, figsize=(15,10))\n",
    "\n",
    "counter=1\n",
    "\n",
    "for i in list(numeric):\n",
    "    plt.subplot(3,5,counter)\n",
    "    sns.histplot(healthcare_df[i])\n",
    "    counter+=1\n",
    "\n",
    "# Ensure proper spacing and no overlapping\n",
    "plt.tight_layout()"
   ]
  },
  {
   "cell_type": "markdown",
   "id": "89c28eda-a08c-4e13-9924-1364c4166cad",
   "metadata": {},
   "source": [
    "**Insights**\\\n",
    "Positive skew for: `meter_reading`\n",
    "Bimodal distribution for `dew_temperature`\n",
    "Categorical structure for `meter`, `cloud_coverage`\n",
    "Normal distribution for: sea_level_presure\n",
    "\n",
    "Normal distribution for: air_temperature, sea_level_presure, square_feet \\\n",
    "Positive skew for: meter_reading, wind_speed \\\n",
    "Negative skew for: dew_temperature"
   ]
  },
  {
   "cell_type": "code",
   "execution_count": null,
   "id": "15101f1b-126e-4a94-b469-b1c1fb63e97f",
   "metadata": {},
   "outputs": [],
   "source": []
  },
  {
   "cell_type": "markdown",
   "id": "5b26c313-7b6c-4a01-adaf-be4248637c68",
   "metadata": {},
   "source": [
    "### 3.1.2. Details for `Meter_reading`"
   ]
  },
  {
   "cell_type": "markdown",
   "id": "9e54ba08-97bd-403d-af5d-c94dcf9e8119",
   "metadata": {},
   "source": [
    "Shows positive skew data with a lot of values near zero."
   ]
  },
  {
   "cell_type": "code",
   "execution_count": 69,
   "id": "6a2c7fac-d3ea-47d6-bc42-5eac83389caf",
   "metadata": {},
   "outputs": [
    {
     "data": {
      "text/plain": [
       "meter_reading\n",
       "0.0000       0.087497\n",
       "588.1900     0.004381\n",
       "0.3748       0.002291\n",
       "0.3332       0.002211\n",
       "362.5400     0.001092\n",
       "               ...   \n",
       "230.1710     0.000003\n",
       "2019.1500    0.000003\n",
       "329.5960     0.000003\n",
       "160.6970     0.000003\n",
       "29.4019      0.000003\n",
       "Name: proportion, Length: 195449, dtype: float64"
      ]
     },
     "execution_count": 69,
     "metadata": {},
     "output_type": "execute_result"
    }
   ],
   "source": [
    "# Percentage of unique 'meter_reading' values\n",
    "healthcare_df['meter_reading'].value_counts(normalize=True)"
   ]
  },
  {
   "cell_type": "code",
   "execution_count": 51,
   "id": "e6123d55-54ba-4dcc-9f90-9cf0c5bc26c4",
   "metadata": {},
   "outputs": [
    {
     "data": {
      "text/plain": [
       "<matplotlib.lines.Line2D at 0x2166806b750>"
      ]
     },
     "execution_count": 51,
     "metadata": {},
     "output_type": "execute_result"
    },
    {
     "data": {
      "image/png": "[encoded data removed]",
      "text/plain": [
       "<Figure size 600x300 with 1 Axes>"
      ]
     },
     "metadata": {},
     "output_type": "display_data"
    }
   ],
   "source": [
    "# Investigate meter_reading values for the full range of meter_reading values\n",
    "# Create histogram using Seaborn\n",
    "plt.figure(figsize=(6,3))\n",
    "sns.histplot(healthcare_df['meter_reading'], bins=30, color='skyblue')\n",
    "\n",
    "# Adding a dotted vertical line where to zoom in\n",
    "plt.axvline(x=1, color='orange', linestyle='--')"
   ]
  },
  {
   "cell_type": "code",
   "execution_count": 66,
   "id": "e84bdb4f-0377-412b-9a50-921026cd5fe6",
   "metadata": {},
   "outputs": [
    {
     "data": {
      "text/plain": [
       "<Axes: xlabel='meter_reading', ylabel='Count'>"
      ]
     },
     "execution_count": 66,
     "metadata": {},
     "output_type": "execute_result"
    },
    {
     "data": {
      "image/png": "[encoded data removed]",
      "text/plain": [
       "<Figure size 1400x300 with 1 Axes>"
      ]
     },
     "metadata": {},
     "output_type": "display_data"
    }
   ],
   "source": [
    "# Plot for count of meter_reading < 1\n",
    "\n",
    "# Filtering data for 'meter_reading' \n",
    "filtered_data = healthcare_df[healthcare_df['meter_reading'] < 1]\n",
    "\n",
    "# Creating a histogram using Seaborn\n",
    "plt.figure(figsize=(14,3))\n",
    "sns.histplot(filtered_data['meter_reading'], bins=30, color='skyblue')"
   ]
  },
  {
   "cell_type": "markdown",
   "id": "19b2ca12-2b3c-4f93-81de-0d8c14bb8dbf",
   "metadata": {},
   "source": [
    "meter_reading, values are in kWh units with are too small for hourly readings, change units to Wh. "
   ]
  },
  {
   "cell_type": "markdown",
   "id": "58dd9a27-28c6-4b5b-93b4-9437bc9f8a76",
   "metadata": {},
   "source": [
    "### Analysis for `dew_temperature`"
   ]
  },
  {
   "cell_type": "markdown",
   "id": "630ec524-9b7c-4080-b98d-0a0779f4f24c",
   "metadata": {},
   "source": [
    "Showing a bimodal distribution, i.e. it has has two modes, or two distinct clusters of data. Suggesting multiple locations and climates"
   ]
  },
  {
   "cell_type": "code",
   "execution_count": 62,
   "id": "2fadaeba-900d-478c-814f-422c8c01ab46",
   "metadata": {},
   "outputs": [
    {
     "data": {
      "text/plain": [
       "<Axes: xlabel='dew_temperature', ylabel='Count'>"
      ]
     },
     "execution_count": 62,
     "metadata": {},
     "output_type": "execute_result"
    },
    {
     "data": {
      "image/png": "[encoded data removed]",
      "text/plain": [
       "<Figure size 900x300 with 1 Axes>"
      ]
     },
     "metadata": {},
     "output_type": "display_data"
    }
   ],
   "source": [
    "# Investigate meter_reading values for the full range of meter_reading values\n",
    "# Create histogram using Seaborn\n",
    "plt.figure(figsize=(9,3))\n",
    "sns.histplot(healthcare_df['dew_temperature'], bins=100, color='skyblue')"
   ]
  },
  {
   "cell_type": "code",
   "execution_count": null,
   "id": "6a275c89-761d-4762-8af1-cac2e07e968b",
   "metadata": {},
   "outputs": [],
   "source": []
  },
  {
   "cell_type": "markdown",
   "id": "36eda3bb-1fe7-4cf4-b44b-6436a64e2169",
   "metadata": {},
   "source": [
    "### Categorical structure for `meter`, `cloud_coverage`"
   ]
  },
  {
   "cell_type": "markdown",
   "id": "da4c2a41-6a75-4fe5-afba-8d58fafbe25a",
   "metadata": {},
   "source": []
  },
  {
   "cell_type": "code",
   "execution_count": 66,
   "id": "7a7f7754-282a-4eeb-ac17-10bb08002fe7",
   "metadata": {},
   "outputs": [
    {
     "data": {
      "text/plain": [
       "meter\n",
       "0    0.462566\n",
       "1    0.279339\n",
       "2    0.194499\n",
       "3    0.063597\n",
       "Name: proportion, dtype: float64"
      ]
     },
     "execution_count": 66,
     "metadata": {},
     "output_type": "execute_result"
    }
   ],
   "source": [
    "# Percentage of unique 'meter' values\n",
    "healthcare_df['meter'].value_counts(normalize=True)"
   ]
  },
  {
   "cell_type": "code",
   "execution_count": 76,
   "id": "52205928-7ee4-46be-bb88-d3ea0286ffad",
   "metadata": {},
   "outputs": [
    {
     "data": {
      "text/plain": [
       "<Axes: xlabel='meter', ylabel='Count'>"
      ]
     },
     "execution_count": 76,
     "metadata": {},
     "output_type": "execute_result"
    },
    {
     "data": {
      "image/png": "[encoded data removed]",
      "text/plain": [
       "<Figure size 500x300 with 1 Axes>"
      ]
     },
     "metadata": {},
     "output_type": "display_data"
    }
   ],
   "source": [
    "# Plot for 'meter'\n",
    "plt.figure(figsize=(5,3))\n",
    "sns.histplot(healthcare_df['meter'], color='skyblue')"
   ]
  },
  {
   "cell_type": "code",
   "execution_count": 67,
   "id": "b7329294-177a-45c7-9cc2-7779161a9f0d",
   "metadata": {},
   "outputs": [
    {
     "data": {
      "text/plain": [
       "cloud_coverage\n",
       "0.0    0.631388\n",
       "2.0    0.156045\n",
       "4.0    0.120315\n",
       "8.0    0.046317\n",
       "6.0    0.034897\n",
       "9.0    0.011037\n",
       "Name: proportion, dtype: float64"
      ]
     },
     "execution_count": 67,
     "metadata": {},
     "output_type": "execute_result"
    }
   ],
   "source": [
    "# Percentage of 'cloud_coverage' values\n",
    "healthcare_df['meter'].value_counts(normalize=True)"
   ]
  },
  {
   "cell_type": "code",
   "execution_count": 77,
   "id": "74bd0459-df5e-466d-bfe3-4a55256189ef",
   "metadata": {},
   "outputs": [
    {
     "data": {
      "text/plain": [
       "<Axes: xlabel='cloud_coverage', ylabel='Count'>"
      ]
     },
     "execution_count": 77,
     "metadata": {},
     "output_type": "execute_result"
    },
    {
     "data": {
      "image/png": "[encoded data removed]",
      "text/plain": [
       "<Figure size 500x300 with 1 Axes>"
      ]
     },
     "metadata": {},
     "output_type": "display_data"
    }
   ],
   "source": [
    "# Plot for 'cloud_coverage'\n",
    "plt.figure(figsize=(5,3))\n",
    "sns.histplot(healthcare_df['cloud_coverage'], color='skyblue')"
   ]
  },
  {
   "cell_type": "markdown",
   "id": "e7aa6182-6ad4-4e65-93ba-ed17dac85722",
   "metadata": {},
   "source": [
    "There is categorical structure for `meter`, `cloud_coverage`"
   ]
  },
  {
   "cell_type": "markdown",
   "id": "b5e9f44e-7bda-4b8b-96e1-3a084a112b2e",
   "metadata": {},
   "source": [
    "### Analysis for `building_id`"
   ]
  },
  {
   "cell_type": "code",
   "execution_count": 79,
   "id": "c5ad0d1b-88ac-4433-978e-c94fc87adcbf",
   "metadata": {},
   "outputs": [
    {
     "data": {
      "text/plain": [
       "23"
      ]
     },
     "execution_count": 79,
     "metadata": {},
     "output_type": "execute_result"
    }
   ],
   "source": [
    "healthcare_df['building_id'].nunique()"
   ]
  },
  {
   "cell_type": "code",
   "execution_count": 78,
   "id": "c32afb68-1016-427f-b659-e0ad42bcfb96",
   "metadata": {},
   "outputs": [
    {
     "data": {
      "text/plain": [
       "building_id\n",
       "1241    0.088114\n",
       "1303    0.066123\n",
       "1245    0.066086\n",
       "1286    0.066083\n",
       "1243    0.066078\n",
       "1207    0.065694\n",
       "1269    0.063697\n",
       "1285    0.062789\n",
       "1300    0.062520\n",
       "1072    0.044082\n",
       "1208    0.044075\n",
       "1209    0.044072\n",
       "208     0.044025\n",
       "365     0.022041\n",
       "670     0.022041\n",
       "1282    0.022041\n",
       "1313    0.022041\n",
       "547     0.022036\n",
       "455     0.022036\n",
       "548     0.021976\n",
       "535     0.021976\n",
       "556     0.021973\n",
       "1388    0.018398\n",
       "Name: proportion, dtype: float64"
      ]
     },
     "execution_count": 78,
     "metadata": {},
     "output_type": "execute_result"
    }
   ],
   "source": [
    "# Percentage of unique 'meter' values\n",
    "healthcare_df['building_id'].value_counts(normalize=True)"
   ]
  },
  {
   "cell_type": "code",
   "execution_count": 82,
   "id": "baf4f56a-4deb-424b-b17e-2b4beab47911",
   "metadata": {},
   "outputs": [
    {
     "data": {
      "text/plain": [
       "<Axes: xlabel='building_id', ylabel='Count'>"
      ]
     },
     "execution_count": 82,
     "metadata": {},
     "output_type": "execute_result"
    },
    {
     "data": {
      "image/png": "[encoded data removed]",
      "text/plain": [
       "<Figure size 1000x300 with 1 Axes>"
      ]
     },
     "metadata": {},
     "output_type": "display_data"
    }
   ],
   "source": [
    "# Plot for 'meter'\n",
    "plt.figure(figsize=(10,3))\n",
    "sns.histplot(healthcare_df['building_id'], color='skyblue')"
   ]
  },
  {
   "cell_type": "code",
   "execution_count": 108,
   "id": "42a7bdfd-393a-45ca-8f4c-733b7a0ce0bd",
   "metadata": {},
   "outputs": [
    {
     "data": {
      "text/plain": [
       "<Figure size 800x600 with 0 Axes>"
      ]
     },
     "metadata": {},
     "output_type": "display_data"
    },
    {
     "data": {
      "image/png": "[encoded data removed]",
      "text/plain": [
       "<Figure size 800x600 with 1 Axes>"
      ]
     },
     "metadata": {},
     "output_type": "display_data"
    }
   ],
   "source": [
    "# boxplot for meter_reading vs building_id.\n",
    "plt.figure(figsize=(8, 6))  # Adjust the figure size if needed\n",
    "healthcare_df.boxplot(column='meter_reading', by='building_id')\n",
    "\n",
    "plt.xlabel('Building ID', fontsize=12)\n",
    "plt.ylabel('Meter Reading', fontsize=12)\n",
    "plt.title('Boxplot of Meter Reading by Building ID')\n",
    "\n",
    "# Rotating x-labels to 45 degrees\n",
    "plt.xticks(rotation=90)\n",
    "\n",
    "plt.show()"
   ]
  },
  {
   "cell_type": "code",
   "execution_count": 107,
   "id": "c4e133c5-732e-4d9d-9684-e7ee361ff9ed",
   "metadata": {},
   "outputs": [
    {
     "data": {
      "text/plain": [
       "<Figure size 800x600 with 0 Axes>"
      ]
     },
     "metadata": {},
     "output_type": "display_data"
    },
    {
     "data": {
      "image/png": "[encoded data removed]",
      "text/plain": [
       "<Figure size 800x600 with 1 Axes>"
      ]
     },
     "metadata": {},
     "output_type": "display_data"
    }
   ],
   "source": [
    "# Filtering data for 'meter' category 0: electricity, 1: chilled water, 2: steam, 3: hot water\n",
    "meter_data = healthcare_df[healthcare_df['meter'] == 2]\n",
    "\n",
    "# Creating a boxplot for 'meter_reading' values across 'building_id' for the 'meter' category\n",
    "plt.figure(figsize=(8, 6))  # Adjust the figure size if needed\n",
    "meter_data.boxplot(column='meter_reading', by='building_id')\n",
    "\n",
    "plt.xlabel('Building ID', fontsize=12)\n",
    "plt.ylabel('Meter Reading', fontsize=12)\n",
    "plt.title('Boxplot of Meter Reading (Electricity) by Building ID')\n",
    "\n",
    "# Rotating x-labels to 45 degrees\n",
    "plt.xticks(rotation=90)\n",
    "\n",
    "plt.show()"
   ]
  },
  {
   "cell_type": "code",
   "execution_count": null,
   "id": "ecbdff14-2fa0-4c43-8370-da9d64c2cd3d",
   "metadata": {},
   "outputs": [],
   "source": []
  },
  {
   "cell_type": "code",
   "execution_count": null,
   "id": "ba06ac5e-62fd-42db-a888-00675fbb4095",
   "metadata": {},
   "outputs": [],
   "source": []
  },
  {
   "cell_type": "code",
   "execution_count": null,
   "id": "a238c7ed-5471-46dd-bab3-00b37313c03e",
   "metadata": {},
   "outputs": [],
   "source": []
  },
  {
   "cell_type": "code",
   "execution_count": null,
   "id": "c37f2ea1-aa05-4246-97ce-cce4730a1c52",
   "metadata": {},
   "outputs": [],
   "source": []
  },
  {
   "cell_type": "code",
   "execution_count": null,
   "id": "613c66e9-032e-4aea-ad49-1a60e8ab10d5",
   "metadata": {},
   "outputs": [],
   "source": []
  },
  {
   "cell_type": "markdown",
   "id": "f05991fa-99e5-4714-806a-1781bd08d5b0",
   "metadata": {},
   "source": [
    "[back to TOC](#toc)"
   ]
  },
  {
   "cell_type": "markdown",
   "id": "5b32eb90-59fa-49cf-b096-f17234adb8d4",
   "metadata": {},
   "source": [
    "<a id='bdw-5'></a>"
   ]
  },
  {
   "cell_type": "markdown",
   "id": "484a4d4c-2746-4373-a92f-270cd9a14402",
   "metadata": {},
   "source": [
    "## Remove unnecessary and duplicated columns"
   ]
  },
  {
   "cell_type": "code",
   "execution_count": 112,
   "id": "17a337e7-dc7d-44df-9bf6-4d006aec26d2",
   "metadata": {
    "jupyter": {
     "source_hidden": true
    }
   },
   "outputs": [
    {
     "data": {
      "text/plain": [
       "primary_use\n",
       "Healthcare    397992\n",
       "Name: count, dtype: int64"
      ]
     },
     "execution_count": 112,
     "metadata": {},
     "output_type": "execute_result"
    }
   ],
   "source": [
    "# The column 'primary_use' can be drooped since it contains a single value 'Healthcare'\n",
    "healthcare_df['primary_use'].value_counts()"
   ]
  },
  {
   "cell_type": "markdown",
   "id": "0ac40e5e-ceec-4340-a624-226d8b523e0f",
   "metadata": {},
   "source": [
    "The Healthcare total is equal to the total data frame rows, therefore, the column can be dropped "
   ]
  },
  {
   "cell_type": "code",
   "execution_count": 113,
   "id": "aff4d93f-d400-4ae1-b76d-e10077e9888f",
   "metadata": {},
   "outputs": [
    {
     "data": {
      "text/plain": [
       "floor_count\n",
       "1.0    8755\n",
       "Name: count, dtype: int64"
      ]
     },
     "execution_count": 113,
     "metadata": {},
     "output_type": "execute_result"
    }
   ],
   "source": [
    "# The column 'floor_count' can be drooped since it contains values equal to '1' or null\n",
    "healthcare_df['floor_count'].value_counts()"
   ]
  },
  {
   "cell_type": "code",
   "execution_count": 114,
   "id": "86b57b77-31f6-413a-9fc8-c10e3af48604",
   "metadata": {},
   "outputs": [
    {
     "data": {
      "text/plain": [
       "389237"
      ]
     },
     "execution_count": 114,
     "metadata": {},
     "output_type": "execute_result"
    }
   ],
   "source": [
    "# Quantity of null values\n",
    "healthcare_df['floor_count'].isnull().sum()"
   ]
  },
  {
   "cell_type": "code",
   "execution_count": 115,
   "id": "573a4990-f101-41bc-be5d-7f3d1de3daf8",
   "metadata": {},
   "outputs": [
    {
     "data": {
      "text/plain": [
       "397992"
      ]
     },
     "execution_count": 115,
     "metadata": {},
     "output_type": "execute_result"
    }
   ],
   "source": [
    "# Summing '1' and null\n",
    "8755+389237"
   ]
  },
  {
   "cell_type": "markdown",
   "id": "a8499db5-b3de-44fb-8658-c10150bb849c",
   "metadata": {},
   "source": [
    "The sum of '1' and null is equal to the total data frame rows, therefore, these are the only values and the column can be dropped. "
   ]
  },
  {
   "cell_type": "code",
   "execution_count": 116,
   "id": "eb164232-0e9f-4aad-a6e2-d889a04d0007",
   "metadata": {},
   "outputs": [],
   "source": [
    "# Keep the column 'weather_timestamp' and drop 'meter_timestamp', since both have the same values."
   ]
  },
  {
   "cell_type": "code",
   "execution_count": 117,
   "id": "470e50b2-ef3e-43dd-bd54-03f3c6b7489c",
   "metadata": {},
   "outputs": [
    {
     "data": {
      "text/plain": [
       "397992"
      ]
     },
     "execution_count": 117,
     "metadata": {},
     "output_type": "execute_result"
    }
   ],
   "source": [
    "comparison_timestamp = healthcare_df['meter_timestamp'] == healthcare_df['weather_timestamp']\n",
    "comparison_timestamp.sum()"
   ]
  },
  {
   "cell_type": "markdown",
   "id": "ca4f270a-d3b9-426a-b3fd-a1c697c8463e",
   "metadata": {},
   "source": [
    "Sum of the 'comparison_timestamp is equal to total rows, hence the columns have the same values and 'meter_timestamp' can be dropped. "
   ]
  },
  {
   "cell_type": "code",
   "execution_count": 118,
   "id": "6b11556a-049f-4f1b-b755-1596ea59df0f",
   "metadata": {},
   "outputs": [],
   "source": [
    "# Drop the three columns\n",
    "healthcare_df.drop(columns=['primary_use','meter_timestamp','floor_count'], inplace=True)"
   ]
  },
  {
   "cell_type": "code",
   "execution_count": 119,
   "id": "fa659893-76a0-4e58-b625-35d5fa95e1f8",
   "metadata": {},
   "outputs": [],
   "source": [
    "# Rename the column 'weather_timestamp' to 'timestamp', for clarity.\n",
    "healthcare_df.rename(columns={'weather_timestamp':'timestamp'}, inplace=True)"
   ]
  },
  {
   "cell_type": "code",
   "execution_count": 120,
   "id": "a7f59eb3-d6f3-49aa-9876-a8808f348bd9",
   "metadata": {},
   "outputs": [],
   "source": [
    "# Rename the column 'meter' to 'meter_type', for clarity.\n",
    "healthcare_df.rename(columns={'meter':'meter_type'}, inplace=True)"
   ]
  },
  {
   "cell_type": "code",
   "execution_count": 121,
   "id": "cd6e942c-23b0-4c49-9491-ae22022457ae",
   "metadata": {},
   "outputs": [
    {
     "data": {
      "text/plain": [
       "dtype('<M8[ns]')"
      ]
     },
     "execution_count": 121,
     "metadata": {},
     "output_type": "execute_result"
    }
   ],
   "source": [
    "# Converting to 'dateitme'\n",
    "healthcare_df['timestamp']=healthcare_df['timestamp'].astype('datetime64[ns]')\n",
    "\n",
    "# Sanity check\n",
    "healthcare_df['timestamp'].dtype"
   ]
  },
  {
   "cell_type": "code",
   "execution_count": 100,
   "id": "c7bc30ba-bec8-4246-a672-d25eb00c94fc",
   "metadata": {},
   "outputs": [
    {
     "name": "stdout",
     "output_type": "stream",
     "text": [
      "<class 'pandas.core.frame.DataFrame'>\n",
      "RangeIndex: 397992 entries, 0 to 397991\n",
      "Data columns (total 14 columns):\n",
      " #   Column              Non-Null Count   Dtype         \n",
      "---  ------              --------------   -----         \n",
      " 0   building_id         397992 non-null  int64         \n",
      " 1   meter_type          397992 non-null  int64         \n",
      " 2   meter_reading       397992 non-null  float64       \n",
      " 3   site_id             397992 non-null  int64         \n",
      " 4   square_feet         397992 non-null  int64         \n",
      " 5   year_built          77164 non-null   float64       \n",
      " 6   timestamp           397992 non-null  datetime64[ns]\n",
      " 7   air_temperature     397928 non-null  float64       \n",
      " 8   cloud_coverage      235291 non-null  float64       \n",
      " 9   dew_temperature     397913 non-null  float64       \n",
      " 10  precip_depth_1_hr   382248 non-null  float64       \n",
      " 11  sea_level_pressure  383709 non-null  float64       \n",
      " 12  wind_direction      385758 non-null  float64       \n",
      " 13  wind_speed          397313 non-null  float64       \n",
      "dtypes: datetime64[ns](1), float64(9), int64(4)\n",
      "memory usage: 42.5 MB\n"
     ]
    }
   ],
   "source": [
    "# Sanity check for verify the columns dropped and renamed.\n",
    "healthcare_df.info()"
   ]
  },
  {
   "cell_type": "code",
   "execution_count": 122,
   "id": "3295ac86-9d09-4739-aa9c-501fe038e27a",
   "metadata": {},
   "outputs": [
    {
     "data": {
      "text/plain": [
       "site_id\n",
       "14    233181\n",
       "13     78869\n",
       "3      52597\n",
       "2      17543\n",
       "5       8755\n",
       "15      7047\n",
       "Name: count, dtype: int64"
      ]
     },
     "execution_count": 122,
     "metadata": {},
     "output_type": "execute_result"
    }
   ],
   "source": [
    "# Verify if site 0 is in the data set, since for this site the electric meter readings are in kBTU, unlike the others in KWh\n",
    "healthcare_df['site_id'].value_counts()"
   ]
  },
  {
   "cell_type": "code",
   "execution_count": 123,
   "id": "23cbed4f-7466-4e1a-9040-f9444f3316e3",
   "metadata": {},
   "outputs": [
    {
     "data": {
      "text/html": [
       "<div>\n",
       "<style scoped>\n",
       "    .dataframe tbody tr th:only-of-type {\n",
       "        vertical-align: middle;\n",
       "    }\n",
       "\n",
       "    .dataframe tbody tr th {\n",
       "        vertical-align: top;\n",
       "    }\n",
       "\n",
       "    .dataframe thead th {\n",
       "        text-align: right;\n",
       "    }\n",
       "</style>\n",
       "<table border=\"1\" class=\"dataframe\">\n",
       "  <thead>\n",
       "    <tr style=\"text-align: right;\">\n",
       "      <th></th>\n",
       "      <th>building_id</th>\n",
       "      <th>meter_type</th>\n",
       "      <th>meter_reading</th>\n",
       "      <th>site_id</th>\n",
       "      <th>square_feet</th>\n",
       "      <th>year_built</th>\n",
       "      <th>timestamp</th>\n",
       "      <th>air_temperature</th>\n",
       "      <th>cloud_coverage</th>\n",
       "      <th>dew_temperature</th>\n",
       "      <th>precip_depth_1_hr</th>\n",
       "      <th>sea_level_pressure</th>\n",
       "      <th>wind_direction</th>\n",
       "      <th>wind_speed</th>\n",
       "    </tr>\n",
       "  </thead>\n",
       "  <tbody>\n",
       "    <tr>\n",
       "      <th>319064</th>\n",
       "      <td>1286</td>\n",
       "      <td>0</td>\n",
       "      <td>373.950</td>\n",
       "      <td>14</td>\n",
       "      <td>205472</td>\n",
       "      <td>NaN</td>\n",
       "      <td>2016-09-10 07:00:00</td>\n",
       "      <td>25.0</td>\n",
       "      <td>NaN</td>\n",
       "      <td>21.7</td>\n",
       "      <td>0.0</td>\n",
       "      <td>1014.2</td>\n",
       "      <td>0.0</td>\n",
       "      <td>0.0</td>\n",
       "    </tr>\n",
       "    <tr>\n",
       "      <th>258138</th>\n",
       "      <td>1285</td>\n",
       "      <td>2</td>\n",
       "      <td>285.573</td>\n",
       "      <td>14</td>\n",
       "      <td>130067</td>\n",
       "      <td>NaN</td>\n",
       "      <td>2016-06-06 09:00:00</td>\n",
       "      <td>18.9</td>\n",
       "      <td>0.0</td>\n",
       "      <td>17.8</td>\n",
       "      <td>0.0</td>\n",
       "      <td>1004.1</td>\n",
       "      <td>250.0</td>\n",
       "      <td>2.1</td>\n",
       "    </tr>\n",
       "    <tr>\n",
       "      <th>104346</th>\n",
       "      <td>1207</td>\n",
       "      <td>2</td>\n",
       "      <td>0.000</td>\n",
       "      <td>13</td>\n",
       "      <td>74443</td>\n",
       "      <td>NaN</td>\n",
       "      <td>2016-04-28 14:00:00</td>\n",
       "      <td>2.8</td>\n",
       "      <td>NaN</td>\n",
       "      <td>0.0</td>\n",
       "      <td>18.0</td>\n",
       "      <td>1015.0</td>\n",
       "      <td>60.0</td>\n",
       "      <td>6.7</td>\n",
       "    </tr>\n",
       "  </tbody>\n",
       "</table>\n",
       "</div>"
      ],
      "text/plain": [
       "        building_id  meter_type  meter_reading  site_id  square_feet  \\\n",
       "319064         1286           0        373.950       14       205472   \n",
       "258138         1285           2        285.573       14       130067   \n",
       "104346         1207           2          0.000       13        74443   \n",
       "\n",
       "        year_built           timestamp  air_temperature  cloud_coverage  \\\n",
       "319064         NaN 2016-09-10 07:00:00             25.0             NaN   \n",
       "258138         NaN 2016-06-06 09:00:00             18.9             0.0   \n",
       "104346         NaN 2016-04-28 14:00:00              2.8             NaN   \n",
       "\n",
       "        dew_temperature  precip_depth_1_hr  sea_level_pressure  \\\n",
       "319064             21.7                0.0              1014.2   \n",
       "258138             17.8                0.0              1004.1   \n",
       "104346              0.0               18.0              1015.0   \n",
       "\n",
       "        wind_direction  wind_speed  \n",
       "319064             0.0         0.0  \n",
       "258138           250.0         2.1  \n",
       "104346            60.0         6.7  "
      ]
     },
     "execution_count": 123,
     "metadata": {},
     "output_type": "execute_result"
    }
   ],
   "source": [
    "healthcare_df.sample(3)"
   ]
  },
  {
   "cell_type": "code",
   "execution_count": 218,
   "id": "d0c2cc3c-8203-4623-8e31-c70c61a583bb",
   "metadata": {},
   "outputs": [],
   "source": [
    "# Export dataframe to a csv file\n",
    "healthcare_df.to_csv('data/02_healthcare_duplicate_df.csv', index=False)"
   ]
  },
  {
   "cell_type": "code",
   "execution_count": 3,
   "id": "dd1999af-729e-44d4-bd15-3f314739d325",
   "metadata": {},
   "outputs": [
    {
     "data": {
      "text/html": [
       "<div>\n",
       "<style scoped>\n",
       "    .dataframe tbody tr th:only-of-type {\n",
       "        vertical-align: middle;\n",
       "    }\n",
       "\n",
       "    .dataframe tbody tr th {\n",
       "        vertical-align: top;\n",
       "    }\n",
       "\n",
       "    .dataframe thead th {\n",
       "        text-align: right;\n",
       "    }\n",
       "</style>\n",
       "<table border=\"1\" class=\"dataframe\">\n",
       "  <thead>\n",
       "    <tr style=\"text-align: right;\">\n",
       "      <th></th>\n",
       "      <th>building_id</th>\n",
       "      <th>meter_type</th>\n",
       "      <th>meter_reading</th>\n",
       "      <th>site_id</th>\n",
       "      <th>square_feet</th>\n",
       "      <th>year_built</th>\n",
       "      <th>timestamp</th>\n",
       "      <th>air_temperature</th>\n",
       "      <th>cloud_coverage</th>\n",
       "      <th>dew_temperature</th>\n",
       "      <th>precip_depth_1_hr</th>\n",
       "      <th>sea_level_pressure</th>\n",
       "      <th>wind_direction</th>\n",
       "      <th>wind_speed</th>\n",
       "    </tr>\n",
       "  </thead>\n",
       "  <tbody>\n",
       "    <tr>\n",
       "      <th>44466</th>\n",
       "      <td>455</td>\n",
       "      <td>0</td>\n",
       "      <td>84.710</td>\n",
       "      <td>3</td>\n",
       "      <td>29192</td>\n",
       "      <td>2014.0</td>\n",
       "      <td>2016-07-07 00:00:00</td>\n",
       "      <td>30.6</td>\n",
       "      <td>4.0</td>\n",
       "      <td>22.8</td>\n",
       "      <td>0.0</td>\n",
       "      <td>1010.4</td>\n",
       "      <td>150.0</td>\n",
       "      <td>2.6</td>\n",
       "    </tr>\n",
       "    <tr>\n",
       "      <th>93297</th>\n",
       "      <td>1208</td>\n",
       "      <td>0</td>\n",
       "      <td>250.963</td>\n",
       "      <td>13</td>\n",
       "      <td>121585</td>\n",
       "      <td>NaN</td>\n",
       "      <td>2016-03-08 10:00:00</td>\n",
       "      <td>12.2</td>\n",
       "      <td>NaN</td>\n",
       "      <td>9.4</td>\n",
       "      <td>0.0</td>\n",
       "      <td>1002.0</td>\n",
       "      <td>140.0</td>\n",
       "      <td>4.6</td>\n",
       "    </tr>\n",
       "    <tr>\n",
       "      <th>126071</th>\n",
       "      <td>1209</td>\n",
       "      <td>0</td>\n",
       "      <td>216.393</td>\n",
       "      <td>13</td>\n",
       "      <td>115788</td>\n",
       "      <td>NaN</td>\n",
       "      <td>2016-08-07 04:00:00</td>\n",
       "      <td>21.7</td>\n",
       "      <td>2.0</td>\n",
       "      <td>13.9</td>\n",
       "      <td>0.0</td>\n",
       "      <td>1017.5</td>\n",
       "      <td>310.0</td>\n",
       "      <td>1.5</td>\n",
       "    </tr>\n",
       "  </tbody>\n",
       "</table>\n",
       "</div>"
      ],
      "text/plain": [
       "        building_id  meter_type  meter_reading  site_id  square_feet  \\\n",
       "44466           455           0         84.710        3        29192   \n",
       "93297          1208           0        250.963       13       121585   \n",
       "126071         1209           0        216.393       13       115788   \n",
       "\n",
       "        year_built            timestamp  air_temperature  cloud_coverage  \\\n",
       "44466       2014.0  2016-07-07 00:00:00             30.6             4.0   \n",
       "93297          NaN  2016-03-08 10:00:00             12.2             NaN   \n",
       "126071         NaN  2016-08-07 04:00:00             21.7             2.0   \n",
       "\n",
       "        dew_temperature  precip_depth_1_hr  sea_level_pressure  \\\n",
       "44466              22.8                0.0              1010.4   \n",
       "93297               9.4                0.0              1002.0   \n",
       "126071             13.9                0.0              1017.5   \n",
       "\n",
       "        wind_direction  wind_speed  \n",
       "44466            150.0         2.6  \n",
       "93297            140.0         4.6  \n",
       "126071           310.0         1.5  "
      ]
     },
     "execution_count": 3,
     "metadata": {},
     "output_type": "execute_result"
    }
   ],
   "source": [
    "# Data loading for healthcare.csv saved from section above 'Basic Data Wrangling' . The file is coma (,) separated. The index is auto generated\n",
    "healthcare_df=pd.read_csv('data/02_healthcare_duplicate_df.csv',sep=',')\n",
    "healthcare_df.sample(3)"
   ]
  },
  {
   "cell_type": "markdown",
   "id": "0c690dfc-8918-49bc-af29-ac91123dfbf4",
   "metadata": {},
   "source": [
    "[back to TOC](#toc)"
   ]
  },
  {
   "cell_type": "markdown",
   "id": "6dae3835-3f1c-4041-bae8-b330c252e6be",
   "metadata": {},
   "source": [
    "<a id='bdw-6'></a>"
   ]
  },
  {
   "cell_type": "markdown",
   "id": "ef7549d0-bdfd-49a5-8538-7a727dd24792",
   "metadata": {},
   "source": [
    "## Null values analysis"
   ]
  },
  {
   "cell_type": "code",
   "execution_count": 125,
   "id": "0a616d52-c872-4c14-acd0-9e6763521852",
   "metadata": {},
   "outputs": [
    {
     "data": {
      "text/plain": [
       "building_id            0.000000\n",
       "meter_type             0.000000\n",
       "meter_reading          0.000000\n",
       "site_id                0.000000\n",
       "square_feet            0.000000\n",
       "year_built            80.611671\n",
       "timestamp              0.000000\n",
       "air_temperature        0.016081\n",
       "cloud_coverage        40.880470\n",
       "dew_temperature        0.019850\n",
       "precip_depth_1_hr      3.955858\n",
       "sea_level_pressure     3.588766\n",
       "wind_direction         3.073931\n",
       "wind_speed             0.170606\n",
       "dtype: float64"
      ]
     },
     "execution_count": 125,
     "metadata": {},
     "output_type": "execute_result"
    }
   ],
   "source": [
    "# Percentage of null values per column\n",
    "healthcare_df.isna().mean()*100"
   ]
  },
  {
   "cell_type": "markdown",
   "id": "a3ffc828-db52-464e-872d-47690efec283",
   "metadata": {},
   "source": [
    "There are two columns with >40% of null values and three near to 4% null values. Each column will be analyzed to either drop it or fill in missing data."
   ]
  },
  {
   "cell_type": "code",
   "execution_count": null,
   "id": "80259c26-88eb-49dc-95c9-d5dab99ed424",
   "metadata": {},
   "outputs": [],
   "source": []
  },
  {
   "cell_type": "markdown",
   "id": "72ed02cf-0609-4f4e-8d30-00bae7721ce8",
   "metadata": {},
   "source": [
    "#### 'year_built' null values analysis\n",
    "80.6 % records missing, too many to be imputed.\\\n",
    "If bulding_id, site_id, square_feet are the same then use the year_built "
   ]
  },
  {
   "cell_type": "code",
   "execution_count": 183,
   "id": "837ec4ef-93a6-421e-a7e3-d81ec131c5ce",
   "metadata": {
    "collapsed": true,
    "jupyter": {
     "outputs_hidden": true
    }
   },
   "outputs": [
    {
     "data": {
      "text/plain": [
       "count    77164.000000\n",
       "mean      1976.571847\n",
       "std         36.542222\n",
       "min       1922.000000\n",
       "25%       1934.000000\n",
       "50%       1990.000000\n",
       "75%       2010.000000\n",
       "max       2014.000000\n",
       "Name: year_built, dtype: float64"
      ]
     },
     "execution_count": 183,
     "metadata": {},
     "output_type": "execute_result"
    }
   ],
   "source": [
    "healthcare_df['year_built'].describe()"
   ]
  },
  {
   "cell_type": "code",
   "execution_count": null,
   "id": "ba38fdf9-42aa-4eeb-ae5b-825e89587085",
   "metadata": {},
   "outputs": [],
   "source": []
  },
  {
   "cell_type": "code",
   "execution_count": 189,
   "id": "5cbabf5e-e82e-4ee3-be1d-d6bee9a9f5d4",
   "metadata": {},
   "outputs": [
    {
     "data": {
      "text/plain": [
       "<Axes: xlabel='year_built', ylabel='Count'>"
      ]
     },
     "execution_count": 189,
     "metadata": {},
     "output_type": "execute_result"
    },
    {
     "data": {
      "image/png": "[encoded data removed]",
      "text/plain": [
       "<Figure size 400x200 with 1 Axes>"
      ]
     },
     "metadata": {},
     "output_type": "display_data"
    }
   ],
   "source": [
    "#  Plot\n",
    "# Set the figure size\n",
    "plt.figure(figsize=(4, 2))\n",
    "\n",
    "# Create a histogram plot with Seaborn\n",
    "sns.histplot(healthcare_df['year_built'])"
   ]
  },
  {
   "cell_type": "code",
   "execution_count": null,
   "id": "6e1ffc60-3314-4788-836c-b30d1b7cb78b",
   "metadata": {},
   "outputs": [],
   "source": []
  },
  {
   "cell_type": "code",
   "execution_count": 5,
   "id": "bd39d3bd-18e9-429c-8d9a-0f206533e627",
   "metadata": {},
   "outputs": [
    {
     "data": {
      "text/plain": [
       "year_built\n",
       "1934.0    0.227347\n",
       "2010.0    0.226893\n",
       "1922.0    0.113784\n",
       "2014.0    0.113758\n",
       "1966.0    0.113460\n",
       "2012.0    0.113434\n",
       "1990.0    0.091325\n",
       "Name: proportion, dtype: float64"
      ]
     },
     "execution_count": 5,
     "metadata": {},
     "output_type": "execute_result"
    }
   ],
   "source": [
    "# Percentage of current values\n",
    "healthcare_df['year_built'].value_counts(normalize=True)"
   ]
  },
  {
   "cell_type": "code",
   "execution_count": 138,
   "id": "ac2c9974-0581-42d8-82ce-aafbc33fa9d0",
   "metadata": {},
   "outputs": [
    {
     "data": {
      "text/html": [
       "<div>\n",
       "<style scoped>\n",
       "    .dataframe tbody tr th:only-of-type {\n",
       "        vertical-align: middle;\n",
       "    }\n",
       "\n",
       "    .dataframe tbody tr th {\n",
       "        vertical-align: top;\n",
       "    }\n",
       "\n",
       "    .dataframe thead th {\n",
       "        text-align: right;\n",
       "    }\n",
       "</style>\n",
       "<table border=\"1\" class=\"dataframe\">\n",
       "  <thead>\n",
       "    <tr style=\"text-align: right;\">\n",
       "      <th></th>\n",
       "      <th>building_id</th>\n",
       "      <th>meter_type</th>\n",
       "      <th>meter_reading</th>\n",
       "      <th>site_id</th>\n",
       "      <th>square_feet</th>\n",
       "      <th>year_built</th>\n",
       "      <th>timestamp</th>\n",
       "      <th>air_temperature</th>\n",
       "      <th>cloud_coverage</th>\n",
       "      <th>dew_temperature</th>\n",
       "      <th>precip_depth_1_hr</th>\n",
       "      <th>sea_level_pressure</th>\n",
       "      <th>wind_direction</th>\n",
       "      <th>wind_speed</th>\n",
       "    </tr>\n",
       "  </thead>\n",
       "  <tbody>\n",
       "    <tr>\n",
       "      <th>125558</th>\n",
       "      <td>1209</td>\n",
       "      <td>0</td>\n",
       "      <td>231.908</td>\n",
       "      <td>13</td>\n",
       "      <td>115788</td>\n",
       "      <td>NaN</td>\n",
       "      <td>2016-08-04 19:00:00</td>\n",
       "      <td>27.2</td>\n",
       "      <td>NaN</td>\n",
       "      <td>21.1</td>\n",
       "      <td>0.0</td>\n",
       "      <td>1009.2</td>\n",
       "      <td>230.0</td>\n",
       "      <td>4.6</td>\n",
       "    </tr>\n",
       "    <tr>\n",
       "      <th>209930</th>\n",
       "      <td>1241</td>\n",
       "      <td>3</td>\n",
       "      <td>625.001</td>\n",
       "      <td>14</td>\n",
       "      <td>194188</td>\n",
       "      <td>NaN</td>\n",
       "      <td>2016-03-23 03:00:00</td>\n",
       "      <td>8.9</td>\n",
       "      <td>NaN</td>\n",
       "      <td>-0.6</td>\n",
       "      <td>0.0</td>\n",
       "      <td>1016.4</td>\n",
       "      <td>190.0</td>\n",
       "      <td>5.1</td>\n",
       "    </tr>\n",
       "    <tr>\n",
       "      <th>359898</th>\n",
       "      <td>1303</td>\n",
       "      <td>2</td>\n",
       "      <td>3576.160</td>\n",
       "      <td>14</td>\n",
       "      <td>200000</td>\n",
       "      <td>NaN</td>\n",
       "      <td>2016-11-13 04:00:00</td>\n",
       "      <td>2.8</td>\n",
       "      <td>0.0</td>\n",
       "      <td>-4.4</td>\n",
       "      <td>0.0</td>\n",
       "      <td>1022.7</td>\n",
       "      <td>240.0</td>\n",
       "      <td>2.6</td>\n",
       "    </tr>\n",
       "  </tbody>\n",
       "</table>\n",
       "</div>"
      ],
      "text/plain": [
       "        building_id  meter_type  meter_reading  site_id  square_feet  \\\n",
       "125558         1209           0        231.908       13       115788   \n",
       "209930         1241           3        625.001       14       194188   \n",
       "359898         1303           2       3576.160       14       200000   \n",
       "\n",
       "        year_built           timestamp  air_temperature  cloud_coverage  \\\n",
       "125558         NaN 2016-08-04 19:00:00             27.2             NaN   \n",
       "209930         NaN 2016-03-23 03:00:00              8.9             NaN   \n",
       "359898         NaN 2016-11-13 04:00:00              2.8             0.0   \n",
       "\n",
       "        dew_temperature  precip_depth_1_hr  sea_level_pressure  \\\n",
       "125558             21.1                0.0              1009.2   \n",
       "209930             -0.6                0.0              1016.4   \n",
       "359898             -4.4                0.0              1022.7   \n",
       "\n",
       "        wind_direction  wind_speed  \n",
       "125558           230.0         4.6  \n",
       "209930           190.0         5.1  \n",
       "359898           240.0         2.6  "
      ]
     },
     "execution_count": 138,
     "metadata": {},
     "output_type": "execute_result"
    }
   ],
   "source": [
    "healthcare_df[healthcare_df['year_built'].isna()].sample(3)"
   ]
  },
  {
   "cell_type": "code",
   "execution_count": null,
   "id": "c4a723bd-73f7-41eb-8ce9-cf8891b65622",
   "metadata": {},
   "outputs": [],
   "source": []
  },
  {
   "cell_type": "code",
   "execution_count": 169,
   "id": "b06e1ca3-1822-47ba-800d-fecbb4d78293",
   "metadata": {},
   "outputs": [
    {
     "data": {
      "text/plain": [
       "building_id\n",
       "1241    35088\n",
       "1303    26331\n",
       "1245    26316\n",
       "1286    26315\n",
       "1243    26313\n",
       "1207    26178\n",
       "1269    25365\n",
       "1285    25004\n",
       "1300    24895\n",
       "1072    17566\n",
       "1208    17563\n",
       "1209    17562\n",
       "547      8778\n",
       "1282     8777\n",
       "1313     8777\n",
       "Name: count, dtype: int64"
      ]
     },
     "execution_count": 169,
     "metadata": {},
     "output_type": "execute_result"
    }
   ],
   "source": [
    "# Building_id associated with missing year_built\n",
    "healthcare_df['building_id'][healthcare_df['year_built'].isna()].value_counts()"
   ]
  },
  {
   "cell_type": "code",
   "execution_count": 182,
   "id": "245aa699-e35c-4f9b-84f2-e4ea627b5f19",
   "metadata": {},
   "outputs": [
    {
     "data": {
      "text/html": [
       "<div>\n",
       "<style scoped>\n",
       "    .dataframe tbody tr th:only-of-type {\n",
       "        vertical-align: middle;\n",
       "    }\n",
       "\n",
       "    .dataframe tbody tr th {\n",
       "        vertical-align: top;\n",
       "    }\n",
       "\n",
       "    .dataframe thead th {\n",
       "        text-align: right;\n",
       "    }\n",
       "</style>\n",
       "<table border=\"1\" class=\"dataframe\">\n",
       "  <thead>\n",
       "    <tr style=\"text-align: right;\">\n",
       "      <th></th>\n",
       "      <th>building_id</th>\n",
       "      <th>meter_type</th>\n",
       "      <th>meter_reading</th>\n",
       "      <th>site_id</th>\n",
       "      <th>square_feet</th>\n",
       "      <th>year_built</th>\n",
       "      <th>timestamp</th>\n",
       "      <th>air_temperature</th>\n",
       "      <th>cloud_coverage</th>\n",
       "      <th>dew_temperature</th>\n",
       "      <th>precip_depth_1_hr</th>\n",
       "      <th>sea_level_pressure</th>\n",
       "      <th>wind_direction</th>\n",
       "      <th>wind_speed</th>\n",
       "    </tr>\n",
       "  </thead>\n",
       "  <tbody>\n",
       "    <tr>\n",
       "      <th>167760</th>\n",
       "      <td>1313</td>\n",
       "      <td>0</td>\n",
       "      <td>308.36</td>\n",
       "      <td>14</td>\n",
       "      <td>68637</td>\n",
       "      <td>NaN</td>\n",
       "      <td>2016-01-16 14:00:00</td>\n",
       "      <td>5.0</td>\n",
       "      <td>NaN</td>\n",
       "      <td>3.9</td>\n",
       "      <td>-1.0</td>\n",
       "      <td>998.6</td>\n",
       "      <td>250.0</td>\n",
       "      <td>1.5</td>\n",
       "    </tr>\n",
       "    <tr>\n",
       "      <th>202690</th>\n",
       "      <td>1313</td>\n",
       "      <td>0</td>\n",
       "      <td>358.46</td>\n",
       "      <td>14</td>\n",
       "      <td>68637</td>\n",
       "      <td>NaN</td>\n",
       "      <td>2016-03-11 18:00:00</td>\n",
       "      <td>16.1</td>\n",
       "      <td>0.0</td>\n",
       "      <td>3.3</td>\n",
       "      <td>0.0</td>\n",
       "      <td>1020.1</td>\n",
       "      <td>350.0</td>\n",
       "      <td>5.7</td>\n",
       "    </tr>\n",
       "    <tr>\n",
       "      <th>349690</th>\n",
       "      <td>1313</td>\n",
       "      <td>0</td>\n",
       "      <td>362.54</td>\n",
       "      <td>14</td>\n",
       "      <td>68637</td>\n",
       "      <td>NaN</td>\n",
       "      <td>2016-10-28 07:00:00</td>\n",
       "      <td>9.4</td>\n",
       "      <td>0.0</td>\n",
       "      <td>7.8</td>\n",
       "      <td>0.0</td>\n",
       "      <td>1016.9</td>\n",
       "      <td>0.0</td>\n",
       "      <td>0.0</td>\n",
       "    </tr>\n",
       "  </tbody>\n",
       "</table>\n",
       "</div>"
      ],
      "text/plain": [
       "        building_id  meter_type  meter_reading  site_id  square_feet  \\\n",
       "167760         1313           0         308.36       14        68637   \n",
       "202690         1313           0         358.46       14        68637   \n",
       "349690         1313           0         362.54       14        68637   \n",
       "\n",
       "        year_built           timestamp  air_temperature  cloud_coverage  \\\n",
       "167760         NaN 2016-01-16 14:00:00              5.0             NaN   \n",
       "202690         NaN 2016-03-11 18:00:00             16.1             0.0   \n",
       "349690         NaN 2016-10-28 07:00:00              9.4             0.0   \n",
       "\n",
       "        dew_temperature  precip_depth_1_hr  sea_level_pressure  \\\n",
       "167760              3.9               -1.0               998.6   \n",
       "202690              3.3                0.0              1020.1   \n",
       "349690              7.8                0.0              1016.9   \n",
       "\n",
       "        wind_direction  wind_speed  \n",
       "167760           250.0         1.5  \n",
       "202690           350.0         5.7  \n",
       "349690             0.0         0.0  "
      ]
     },
     "execution_count": 182,
     "metadata": {},
     "output_type": "execute_result"
    }
   ],
   "source": [
    "healthcare_df[healthcare_df['square_feet']==68637].sample(3)"
   ]
  },
  {
   "cell_type": "code",
   "execution_count": null,
   "id": "f0a41b74-f143-498e-b167-60cfc791fd8a",
   "metadata": {},
   "outputs": [],
   "source": []
  },
  {
   "cell_type": "markdown",
   "id": "840e38f3-1ad4-47b8-8272-2a2e8812c81c",
   "metadata": {},
   "source": [
    "#### cloud_coverage null values\n",
    "40.9 % records missing, too many to be imputed."
   ]
  },
  {
   "cell_type": "code",
   "execution_count": 190,
   "id": "baeb13e3-4c7b-4c30-b5b9-c35225c1e0ee",
   "metadata": {},
   "outputs": [
    {
     "data": {
      "text/plain": [
       "count    235291.000000\n",
       "mean          1.472606\n",
       "std           2.344205\n",
       "min           0.000000\n",
       "25%           0.000000\n",
       "50%           0.000000\n",
       "75%           2.000000\n",
       "max           9.000000\n",
       "Name: cloud_coverage, dtype: float64"
      ]
     },
     "execution_count": 190,
     "metadata": {},
     "output_type": "execute_result"
    }
   ],
   "source": [
    "healthcare_df['cloud_coverage'].describe()"
   ]
  },
  {
   "cell_type": "code",
   "execution_count": 191,
   "id": "bc03ce69-baea-4d6b-89bf-22b2fff2cdc8",
   "metadata": {},
   "outputs": [
    {
     "data": {
      "text/plain": [
       "<Axes: xlabel='cloud_coverage', ylabel='Count'>"
      ]
     },
     "execution_count": 191,
     "metadata": {},
     "output_type": "execute_result"
    },
    {
     "data": {
      "image/png": "[encoded data removed]",
      "text/plain": [
       "<Figure size 400x200 with 1 Axes>"
      ]
     },
     "metadata": {},
     "output_type": "display_data"
    }
   ],
   "source": [
    "#  Plot\n",
    "# Set the figure size\n",
    "plt.figure(figsize=(4, 2))\n",
    "\n",
    "# Create a histogram plot with Seaborn\n",
    "sns.histplot(healthcare_df['cloud_coverage'])"
   ]
  },
  {
   "cell_type": "code",
   "execution_count": null,
   "id": "7748cded-f0eb-4fe2-92c3-8fff422e0127",
   "metadata": {
    "jupyter": {
     "source_hidden": true
    }
   },
   "outputs": [],
   "source": []
  },
  {
   "cell_type": "code",
   "execution_count": 192,
   "id": "2193c994-6d0b-4788-85ad-8107ea55c30b",
   "metadata": {},
   "outputs": [
    {
     "data": {
      "text/plain": [
       "cloud_coverage\n",
       "0.0    0.631388\n",
       "2.0    0.156045\n",
       "4.0    0.120315\n",
       "8.0    0.046317\n",
       "6.0    0.034897\n",
       "9.0    0.011037\n",
       "Name: count, dtype: float64"
      ]
     },
     "execution_count": 192,
     "metadata": {},
     "output_type": "execute_result"
    }
   ],
   "source": [
    "# Percentage of current values\n",
    "healthcare_df['cloud_coverage'].value_counts()/healthcare_df['cloud_coverage'].count()"
   ]
  },
  {
   "cell_type": "markdown",
   "id": "66fcdee5-6c2e-4552-8384-308205849478",
   "metadata": {},
   "source": [
    "**Insigh**\\\n",
    "Replace missing values with mode (0)\\\n",
    "df['cloud_coverage'].fillna(df['cloud_coverage'].mode(), inplace=True)"
   ]
  },
  {
   "cell_type": "code",
   "execution_count": null,
   "id": "d9563470-0db9-4039-a3fd-4471bfb689a2",
   "metadata": {},
   "outputs": [],
   "source": []
  },
  {
   "cell_type": "markdown",
   "id": "8821b92b-2582-4d58-9ea6-fe596d342404",
   "metadata": {},
   "source": [
    "#### precip_depth_1_hr null values\n",
    "3.96 % records missing"
   ]
  },
  {
   "cell_type": "code",
   "execution_count": 194,
   "id": "be71c569-bbf9-4cce-9e32-49af8bfcb384",
   "metadata": {},
   "outputs": [
    {
     "data": {
      "text/plain": [
       "count    382248.000000\n",
       "mean          0.747271\n",
       "std           6.126940\n",
       "min          -1.000000\n",
       "25%           0.000000\n",
       "50%           0.000000\n",
       "75%           0.000000\n",
       "max         239.000000\n",
       "Name: precip_depth_1_hr, dtype: float64"
      ]
     },
     "execution_count": 194,
     "metadata": {},
     "output_type": "execute_result"
    }
   ],
   "source": [
    "healthcare_df['precip_depth_1_hr'].describe()"
   ]
  },
  {
   "cell_type": "code",
   "execution_count": 202,
   "id": "d0db89ba-a5f6-4afa-9b1d-e3f922e37ba3",
   "metadata": {},
   "outputs": [
    {
     "data": {
      "text/plain": [
       "<Axes: xlabel='precip_depth_1_hr', ylabel='Count'>"
      ]
     },
     "execution_count": 202,
     "metadata": {},
     "output_type": "execute_result"
    },
    {
     "data": {
      "image/png": "[encoded data removed]",
      "text/plain": [
       "<Figure size 400x200 with 1 Axes>"
      ]
     },
     "metadata": {},
     "output_type": "display_data"
    }
   ],
   "source": [
    "#  Plot\n",
    "# Set the figure size\n",
    "plt.figure(figsize=(4, 2))\n",
    "\n",
    "# Create a histogram plot with Seaborn\n",
    "sns.histplot(healthcare_df['precip_depth_1_hr'])"
   ]
  },
  {
   "cell_type": "code",
   "execution_count": 196,
   "id": "a957d782-00b3-4295-a367-f4365f3a86cd",
   "metadata": {},
   "outputs": [
    {
     "data": {
      "text/plain": [
       "precip_depth_1_hr\n",
       " 0.0      0.879589\n",
       "-1.0      0.064660\n",
       " 3.0      0.017646\n",
       " 5.0      0.008413\n",
       " 8.0      0.005606\n",
       "            ...   \n",
       " 132.0    0.000005\n",
       " 147.0    0.000003\n",
       " 211.0    0.000003\n",
       " 180.0    0.000003\n",
       " 239.0    0.000003\n",
       "Name: count, Length: 71, dtype: float64"
      ]
     },
     "execution_count": 196,
     "metadata": {},
     "output_type": "execute_result"
    }
   ],
   "source": [
    "# Percentage of current values\n",
    "healthcare_df['precip_depth_1_hr'].value_counts()/healthcare_df['precip_depth_1_hr'].count()"
   ]
  },
  {
   "cell_type": "markdown",
   "id": "0d303d99-af64-47c6-a6a9-9e482d1d058e",
   "metadata": {},
   "source": [
    "**Insigh**\\\n",
    "Replace missing values with mode (0)\\\n",
    "df['precip_depth_1_hr'].fillna(df['precip_depth_1_hr'].mode(), inplace=True)"
   ]
  },
  {
   "cell_type": "code",
   "execution_count": null,
   "id": "1f1156dd-e1f0-476b-95bf-52ec505803f0",
   "metadata": {},
   "outputs": [],
   "source": []
  },
  {
   "cell_type": "markdown",
   "id": "14a42480-7af4-4c9d-a646-e7e0e989c373",
   "metadata": {},
   "source": [
    "#### sea_level_pressure null values\n",
    "3.6 % records missing, "
   ]
  },
  {
   "cell_type": "code",
   "execution_count": 203,
   "id": "3ca3a02c-df3f-4fcd-a19f-01ffc13dc9b5",
   "metadata": {},
   "outputs": [
    {
     "data": {
      "text/plain": [
       "count    383709.000000\n",
       "mean       1016.294189\n",
       "std           7.296821\n",
       "min         981.600000\n",
       "25%        1011.600000\n",
       "50%        1016.400000\n",
       "75%        1021.000000\n",
       "max        1042.200000\n",
       "Name: sea_level_pressure, dtype: float64"
      ]
     },
     "execution_count": 203,
     "metadata": {},
     "output_type": "execute_result"
    }
   ],
   "source": [
    "healthcare_df['sea_level_pressure'].describe()"
   ]
  },
  {
   "cell_type": "code",
   "execution_count": 213,
   "id": "45946bc1-25ad-4d82-8eb8-9469749cc835",
   "metadata": {},
   "outputs": [
    {
     "data": {
      "text/plain": [
       "<Axes: xlabel='sea_level_pressure', ylabel='Count'>"
      ]
     },
     "execution_count": 213,
     "metadata": {},
     "output_type": "execute_result"
    },
    {
     "data": {
      "image/png": "[encoded data removed]",
      "text/plain": [
       "<Figure size 400x200 with 1 Axes>"
      ]
     },
     "metadata": {},
     "output_type": "display_data"
    }
   ],
   "source": [
    "#  Plot\n",
    "# Set the figure size\n",
    "plt.figure(figsize=(4, 2))\n",
    "\n",
    "# Adding statistical lines and legend\n",
    "plt.axvline(healthcare_df['sea_level_pressure'].mean(), 0, 2000, c='r', label='Mean')\n",
    "plt.axvline(healthcare_df['sea_level_pressure'].median(), 0, 2000, c='b', linestyle='--', label='Median')\n",
    "plt.legend()\n",
    "\n",
    "# Create a histogram plot with Seaborn\n",
    "sns.histplot(healthcare_df['sea_level_pressure'])"
   ]
  },
  {
   "cell_type": "code",
   "execution_count": 205,
   "id": "38a315c6-6715-4e9a-96ef-1ba73f3187b3",
   "metadata": {},
   "outputs": [
    {
     "data": {
      "text/plain": [
       "sea_level_pressure\n",
       "1015.8    0.007177\n",
       "1015.2    0.006938\n",
       "1016.7    0.006656\n",
       "1017.7    0.006560\n",
       "1019.0    0.006513\n",
       "            ...   \n",
       "994.4     0.000003\n",
       "1041.0    0.000003\n",
       "1040.5    0.000003\n",
       "994.6     0.000003\n",
       "1040.4    0.000003\n",
       "Name: count, Length: 534, dtype: float64"
      ]
     },
     "execution_count": 205,
     "metadata": {},
     "output_type": "execute_result"
    }
   ],
   "source": [
    "# Percentage of current values\n",
    "healthcare_df['sea_level_pressure'].value_counts()/healthcare_df['sea_level_pressure'].count()"
   ]
  },
  {
   "cell_type": "markdown",
   "id": "9e682101-b7e4-4704-8d82-276e9f87cc17",
   "metadata": {},
   "source": [
    "**Insigh**\\\n",
    "Replace missing values with the mean, since it is the same as the median\\\n",
    "df['sea_level_pressure'].fillna(df['sea_level_pressure'].mean(), inplace=True)"
   ]
  },
  {
   "cell_type": "code",
   "execution_count": null,
   "id": "c123be06-d80e-4c89-a2f5-91ca29ab60e3",
   "metadata": {},
   "outputs": [],
   "source": []
  },
  {
   "cell_type": "code",
   "execution_count": null,
   "id": "11af2c7a-b28f-494b-af31-64e2da754909",
   "metadata": {},
   "outputs": [],
   "source": []
  },
  {
   "cell_type": "markdown",
   "id": "5f83dc4e-512b-444f-af0f-ff391cb26a66",
   "metadata": {},
   "source": [
    "#### wind_direction null values\n",
    "3.1 % records missing, too many to be imputed."
   ]
  },
  {
   "cell_type": "code",
   "execution_count": 206,
   "id": "ac16804c-2fdd-465d-a2c5-337ee058c43a",
   "metadata": {},
   "outputs": [
    {
     "data": {
      "text/plain": [
       "count    385758.000000\n",
       "mean        186.147621\n",
       "std         116.653579\n",
       "min           0.000000\n",
       "25%          80.000000\n",
       "50%         200.000000\n",
       "75%         290.000000\n",
       "max         360.000000\n",
       "Name: wind_direction, dtype: float64"
      ]
     },
     "execution_count": 206,
     "metadata": {},
     "output_type": "execute_result"
    }
   ],
   "source": [
    "healthcare_df['wind_direction'].describe()"
   ]
  },
  {
   "cell_type": "code",
   "execution_count": 212,
   "id": "e7fc0568-ed75-43ae-83db-665dcca83a0d",
   "metadata": {},
   "outputs": [
    {
     "data": {
      "text/plain": [
       "<Axes: xlabel='wind_direction', ylabel='Count'>"
      ]
     },
     "execution_count": 212,
     "metadata": {},
     "output_type": "execute_result"
    },
    {
     "data": {
      "image/png": "[encoded data removed]",
      "text/plain": [
       "<Figure size 400x200 with 1 Axes>"
      ]
     },
     "metadata": {},
     "output_type": "display_data"
    }
   ],
   "source": [
    "#  Plot\n",
    "# Set the figure size\n",
    "plt.figure(figsize=(4, 2))\n",
    "plt.axvline(healthcare_df['wind_direction'].mean(), 0, 2000, c='r', label='Mean')\n",
    "plt.axvline(healthcare_df['wind_direction'].median(), 0, 2000, c='b', linestyle='--', label='Median')\n",
    "plt.legend()\n",
    "\n",
    "# Create a histogram plot with Seaborn\n",
    "sns.histplot(healthcare_df['wind_direction'])"
   ]
  },
  {
   "cell_type": "code",
   "execution_count": 208,
   "id": "bac0b541-97de-43ab-a9ab-c195b9fee11b",
   "metadata": {},
   "outputs": [
    {
     "data": {
      "text/plain": [
       "wind_direction\n",
       "0.0      0.111684\n",
       "300.0    0.038260\n",
       "350.0    0.037093\n",
       "340.0    0.036476\n",
       "310.0    0.035520\n",
       "320.0    0.034675\n",
       "290.0    0.033441\n",
       "330.0    0.032922\n",
       "230.0    0.032290\n",
       "280.0    0.030182\n",
       "270.0    0.029363\n",
       "180.0    0.029127\n",
       "200.0    0.028310\n",
       "190.0    0.028251\n",
       "210.0    0.027808\n",
       "220.0    0.027224\n",
       "170.0    0.026330\n",
       "360.0    0.024378\n",
       "240.0    0.023510\n",
       "260.0    0.022501\n",
       "10.0     0.022141\n",
       "140.0    0.021301\n",
       "80.0     0.020834\n",
       "250.0    0.020637\n",
       "130.0    0.020096\n",
       "70.0     0.019660\n",
       "160.0    0.018732\n",
       "50.0     0.017578\n",
       "40.0     0.017493\n",
       "90.0     0.017428\n",
       "150.0    0.017296\n",
       "120.0    0.017262\n",
       "100.0    0.016928\n",
       "30.0     0.016306\n",
       "60.0     0.016088\n",
       "20.0     0.015715\n",
       "110.0    0.015092\n",
       "202.0    0.000070\n",
       "Name: count, dtype: float64"
      ]
     },
     "execution_count": 208,
     "metadata": {},
     "output_type": "execute_result"
    }
   ],
   "source": [
    "# Percentage of current values\n",
    "healthcare_df['wind_direction'].value_counts()/healthcare_df['wind_direction'].count()"
   ]
  },
  {
   "cell_type": "markdown",
   "id": "519e80f7-8171-49b2-acdc-2bbb259b5c4f",
   "metadata": {},
   "source": [
    "**Insigh**\\\n",
    "Replace missing values with mean\\\n",
    "df['wind_direction'].fillna(df['wind_direction'].mean(), inplace=True)"
   ]
  },
  {
   "cell_type": "code",
   "execution_count": null,
   "id": "fb10c25c-7b19-46f3-8438-162c194c1c53",
   "metadata": {},
   "outputs": [],
   "source": []
  },
  {
   "cell_type": "code",
   "execution_count": null,
   "id": "d7d4e5e4-35db-401c-8aeb-c1200a87b250",
   "metadata": {},
   "outputs": [],
   "source": []
  },
  {
   "cell_type": "markdown",
   "id": "fda95832-658c-4a6f-9236-a1009e7c1f57",
   "metadata": {},
   "source": [
    "#### wind_speed null values\n",
    "0.2 % records missing, too many to be imputed."
   ]
  },
  {
   "cell_type": "code",
   "execution_count": 214,
   "id": "9ca61ca6-ab8d-4339-96e8-68b7fb059476",
   "metadata": {},
   "outputs": [
    {
     "data": {
      "text/plain": [
       "count    397313.000000\n",
       "mean          3.449965\n",
       "std           2.223443\n",
       "min           0.000000\n",
       "25%           2.100000\n",
       "50%           3.100000\n",
       "75%           4.600000\n",
       "max          18.500000\n",
       "Name: wind_speed, dtype: float64"
      ]
     },
     "execution_count": 214,
     "metadata": {},
     "output_type": "execute_result"
    }
   ],
   "source": [
    "healthcare_df['wind_speed'].describe()"
   ]
  },
  {
   "cell_type": "code",
   "execution_count": 217,
   "id": "4bb8c5fb-5d18-4929-8585-937518d1a695",
   "metadata": {},
   "outputs": [
    {
     "data": {
      "text/plain": [
       "<Axes: xlabel='wind_speed', ylabel='Count'>"
      ]
     },
     "execution_count": 217,
     "metadata": {},
     "output_type": "execute_result"
    },
    {
     "data": {
      "image/png": "[encoded data removed]",
      "text/plain": [
       "<Figure size 400x200 with 1 Axes>"
      ]
     },
     "metadata": {},
     "output_type": "display_data"
    }
   ],
   "source": [
    "#  Plot\n",
    "# Set the figure size\n",
    "plt.figure(figsize=(4, 2))\n",
    "plt.axvline(healthcare_df['wind_speed'].mean(), 0, 2000, c='r', label='Mean')\n",
    "plt.axvline(healthcare_df['wind_speed'].median(), 0, 2000, c='b', linestyle='--', label='Median')\n",
    "plt.legend()\n",
    "\n",
    "# Create a histogram plot with Seaborn\n",
    "sns.histplot(healthcare_df['wind_speed'])"
   ]
  },
  {
   "cell_type": "code",
   "execution_count": 216,
   "id": "a53bc282-01d4-47ff-bae1-ffbcd0c432b4",
   "metadata": {},
   "outputs": [
    {
     "data": {
      "text/plain": [
       "wind_speed\n",
       "2.1     0.117426\n",
       "2.6     0.108627\n",
       "0.0     0.108461\n",
       "1.5     0.103863\n",
       "3.1     0.100349\n",
       "3.6     0.090938\n",
       "4.1     0.073924\n",
       "4.6     0.065971\n",
       "5.1     0.051750\n",
       "5.7     0.043583\n",
       "6.2     0.035302\n",
       "6.7     0.026040\n",
       "7.2     0.020767\n",
       "7.7     0.014392\n",
       "8.2     0.011678\n",
       "8.8     0.008386\n",
       "9.3     0.005414\n",
       "9.8     0.004098\n",
       "10.3    0.002469\n",
       "10.8    0.002089\n",
       "11.3    0.001269\n",
       "11.8    0.000891\n",
       "12.4    0.000541\n",
       "1.0     0.000506\n",
       "12.9    0.000347\n",
       "13.4    0.000242\n",
       "0.5     0.000176\n",
       "13.9    0.000169\n",
       "14.9    0.000083\n",
       "2.2     0.000060\n",
       "14.4    0.000058\n",
       "16.0    0.000045\n",
       "1.3     0.000023\n",
       "15.4    0.000018\n",
       "17.0    0.000015\n",
       "10.0    0.000015\n",
       "13.0    0.000005\n",
       "16.5    0.000003\n",
       "18.5    0.000003\n",
       "8.0     0.000003\n",
       "7.0     0.000003\n",
       "Name: count, dtype: float64"
      ]
     },
     "execution_count": 216,
     "metadata": {},
     "output_type": "execute_result"
    }
   ],
   "source": [
    "# Percentage of current values\n",
    "healthcare_df['wind_speed'].value_counts()/healthcare_df['wind_speed'].count()"
   ]
  },
  {
   "cell_type": "markdown",
   "id": "06d3b322-3201-427a-b47f-65f4439672a5",
   "metadata": {},
   "source": [
    "**Insigh**\\\n",
    "Replace missing values with mean\\\n",
    "df['wind_speed'].fillna(df['wind_speed'].mean(), inplace=True)"
   ]
  },
  {
   "cell_type": "code",
   "execution_count": null,
   "id": "fb48053e-7d0e-4947-805f-ffda6859f431",
   "metadata": {},
   "outputs": [],
   "source": []
  },
  {
   "cell_type": "code",
   "execution_count": null,
   "id": "518306ed-37c6-4f71-80ef-676a97396f89",
   "metadata": {},
   "outputs": [],
   "source": []
  },
  {
   "cell_type": "markdown",
   "id": "3778c3eb-917a-48e2-aa60-7ce6d7f3ca08",
   "metadata": {},
   "source": [
    "[back to TOC](#toc)"
   ]
  },
  {
   "cell_type": "markdown",
   "id": "f11a35b9-6385-407a-b5ef-05cd85f325c7",
   "metadata": {},
   "source": [
    "<a id='eda-0'></a>"
   ]
  },
  {
   "cell_type": "markdown",
   "id": "36c142a6-7ea2-4e78-ab55-1033b24da710",
   "metadata": {},
   "source": [
    "# 2. Exploratory Data Analysis (EDA)"
   ]
  },
  {
   "cell_type": "code",
   "execution_count": null,
   "id": "6e879b3f-05ff-460e-a4a9-9535f061628d",
   "metadata": {
    "jupyter": {
     "source_hidden": true
    }
   },
   "outputs": [],
   "source": []
  },
  {
   "cell_type": "code",
   "execution_count": null,
   "id": "81dc0320-88a8-4859-aaf1-a720a60ca79f",
   "metadata": {},
   "outputs": [],
   "source": []
  },
  {
   "cell_type": "code",
   "execution_count": null,
   "id": "52a619e0-00c1-43ab-8893-596122009145",
   "metadata": {},
   "outputs": [],
   "source": []
  },
  {
   "cell_type": "markdown",
   "id": "1b890949-d819-4302-b88a-a8acdd3d3762",
   "metadata": {
    "jupyter": {
     "source_hidden": true
    }
   },
   "source": [
    "[back to TOC](#toc)"
   ]
  },
  {
   "cell_type": "markdown",
   "id": "335a057c-e1e1-4413-a762-0388174831b7",
   "metadata": {},
   "source": [
    "<a id='sa-0'></a>"
   ]
  },
  {
   "cell_type": "markdown",
   "id": "b5c6317a-e4e3-4016-93d9-b4398f8b1aa1",
   "metadata": {},
   "source": [
    "# 3. Advanced Statistical Analysis"
   ]
  },
  {
   "cell_type": "markdown",
   "id": "31eb3061-6296-4e94-8510-124f3c4f6f0f",
   "metadata": {},
   "source": [
    "<a id='sa-1'></a>"
   ]
  },
  {
   "cell_type": "markdown",
   "id": "d6e641e9-ccae-4d12-baa4-5a281ef61808",
   "metadata": {},
   "source": [
    "## 3.1. Statistically significant difference"
   ]
  },
  {
   "cell_type": "code",
   "execution_count": null,
   "id": "81411f00-0d91-4b55-b0bc-f26c96b71c32",
   "metadata": {},
   "outputs": [],
   "source": []
  },
  {
   "cell_type": "code",
   "execution_count": null,
   "id": "a1f17085-7cea-4d16-ace3-a1ceaae24898",
   "metadata": {},
   "outputs": [],
   "source": []
  },
  {
   "cell_type": "code",
   "execution_count": null,
   "id": "5d743bed-0492-45f2-a80d-f3362f042854",
   "metadata": {},
   "outputs": [],
   "source": []
  },
  {
   "cell_type": "markdown",
   "id": "77cf68ce-c77e-4904-a418-71b1ebf02689",
   "metadata": {},
   "source": [
    "[back to TOC](#toc)"
   ]
  },
  {
   "cell_type": "markdown",
   "id": "45abacdc-7e09-4b32-8a47-a71b9415d5e9",
   "metadata": {},
   "source": [
    "<a id='sa-2'></a>"
   ]
  },
  {
   "cell_type": "markdown",
   "id": "0aa155ea-12a7-4088-bb79-18571d507b8b",
   "metadata": {},
   "source": [
    "## 3.2. Correlation with ??"
   ]
  },
  {
   "cell_type": "code",
   "execution_count": null,
   "id": "4dd58dc4-e726-4650-aab4-53467c79a48d",
   "metadata": {
    "jupyter": {
     "source_hidden": true
    }
   },
   "outputs": [],
   "source": []
  },
  {
   "cell_type": "code",
   "execution_count": null,
   "id": "12be7a89-1793-4a30-b5d9-228dd6dbcb0a",
   "metadata": {},
   "outputs": [],
   "source": []
  },
  {
   "cell_type": "code",
   "execution_count": null,
   "id": "c48c11f8-224c-4212-b37d-52c9f34e6a52",
   "metadata": {},
   "outputs": [],
   "source": []
  },
  {
   "cell_type": "markdown",
   "id": "86654110-8693-4be3-9fef-52d3a83ea153",
   "metadata": {},
   "source": [
    "[back to TOC](#toc)"
   ]
  },
  {
   "cell_type": "markdown",
   "id": "0d1e9f92-0b32-4f50-b107-7790354c2ef9",
   "metadata": {},
   "source": [
    "<a id='asa-0'></a>"
   ]
  },
  {
   "cell_type": "markdown",
   "id": "76189c46-a359-461b-9acf-6e98298d1537",
   "metadata": {},
   "source": [
    "# 4. Advanced Statistical Analysis"
   ]
  },
  {
   "cell_type": "markdown",
   "id": "927ea8a8-e1b5-49d3-a13d-67097ac7c2bc",
   "metadata": {},
   "source": [
    "<a id='asa-1'></a>"
   ]
  },
  {
   "cell_type": "markdown",
   "id": "fc96f5c0-3e4f-49f2-9296-379fa198bbcd",
   "metadata": {},
   "source": [
    "## 4.1. Linear regression for ??"
   ]
  },
  {
   "cell_type": "code",
   "execution_count": null,
   "id": "ad4d5d17-2780-4639-a16d-9bafbf5db6d1",
   "metadata": {},
   "outputs": [],
   "source": []
  },
  {
   "cell_type": "code",
   "execution_count": null,
   "id": "e4c5924c-ec5d-47f9-872c-7ce449af58ea",
   "metadata": {},
   "outputs": [],
   "source": []
  },
  {
   "cell_type": "code",
   "execution_count": null,
   "id": "67be9d6f-34c3-4101-9aa8-6e2ecde070e6",
   "metadata": {},
   "outputs": [],
   "source": []
  },
  {
   "cell_type": "markdown",
   "id": "57db4558-60b8-40d2-851a-3d471a9e7cfb",
   "metadata": {},
   "source": [
    "[back to TOC](#toc)"
   ]
  },
  {
   "cell_type": "markdown",
   "id": "df089f3a-d7f7-40bf-b458-ac91ec11f367",
   "metadata": {},
   "source": [
    "<a id='asa-2'></a>"
   ]
  },
  {
   "cell_type": "markdown",
   "id": "d790413d-aa9d-4d60-9f6e-ed48fe2be922",
   "metadata": {},
   "source": [
    "## 4.2. Logistic regression for ??"
   ]
  },
  {
   "cell_type": "code",
   "execution_count": null,
   "id": "30eccb16-78ad-4eda-a6e1-dc85e907fccd",
   "metadata": {
    "jupyter": {
     "source_hidden": true
    }
   },
   "outputs": [],
   "source": []
  },
  {
   "cell_type": "code",
   "execution_count": null,
   "id": "14ae3d23-7cfa-46c0-bb23-7399caf44629",
   "metadata": {},
   "outputs": [],
   "source": []
  },
  {
   "cell_type": "code",
   "execution_count": null,
   "id": "06d510bf-ec8c-44a4-b463-89ed0e24af2e",
   "metadata": {},
   "outputs": [],
   "source": []
  },
  {
   "cell_type": "markdown",
   "id": "81c238ba-3367-4516-8c98-22dbb9506454",
   "metadata": {},
   "source": [
    "[back to TOC](#toc)"
   ]
  },
  {
   "cell_type": "markdown",
   "id": "76d85d78-b250-49cf-af67-03517b80dfd4",
   "metadata": {},
   "source": [
    "<a id='concl'></a>"
   ]
  },
  {
   "cell_type": "markdown",
   "id": "a114706e-74be-43f3-aaaf-2fd0be8659b4",
   "metadata": {
    "tags": []
   },
   "source": [
    "# Conclusion"
   ]
  },
  {
   "cell_type": "markdown",
   "id": "b8b6586a-a70b-4d2a-843d-35f146aab0b6",
   "metadata": {},
   "source": [
    "In summary, describing the relationship between mosquito species and WNV prevalence involves data analysis and visualization among other techniques. The following insights aim to show that the mosquito species are a significant vector for the virus and contribute to informed decision-making in public health and mosquito control efforts in the City of Chicago:\n",
    "* The mosquito 'Culex Pipiens' require deeper analysis, since it is the most frequent specie with WNV positive.\n",
    "* It is not recommended to continue using OVI traps in the study, since is has a low trapping rate. Give priority to Sentinel and CDC traps, the ones with the highest trap efficacy. \n",
    "* Implement additional safety measures during august to decrease mosquito population, such as:\n",
    "    * Eliminate or regularly empty containers that can collect water, such as buckets, flower pots, and clogged gutters.\n",
    "    * Apply mosquito repellent on exposed skin when spending time outdoors.\n",
    "    * Wear long sleeves and pants when outside.\n",
    "    * Set up more mosquito traps.\n",
    "    * Introduce natural mosquito predators like birds, bats, or dragonflies to your area, if possible.\n",
    "    * Plant mosquito-repelling herbs and flowers in your garden, such as citronella, lavender, and marigolds.on"
   ]
  },
  {
   "cell_type": "markdown",
   "id": "c1c27832-91e9-4e05-b15f-d0296de1bc3a",
   "metadata": {},
   "source": [
    "[back to TOC](#toc)"
   ]
  }
 ],
 "metadata": {
  "kernelspec": {
   "display_name": "Python 3 (ipykernel)",
   "language": "python",
   "name": "python3"
  },
  "language_info": {
   "codemirror_mode": {
    "name": "ipython",
    "version": 3
   },
   "file_extension": ".py",
   "mimetype": "text/x-python",
   "name": "python",
   "nbconvert_exporter": "python",
   "pygments_lexer": "ipython3",
   "version": "3.11.5"
  }
 },
 "nbformat": 4,
 "nbformat_minor": 5
}
